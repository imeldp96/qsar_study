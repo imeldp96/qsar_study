{
  "nbformat": 4,
  "nbformat_minor": 0,
  "metadata": {
    "colab": {
      "provenance": [],
      "toc_visible": true,
      "include_colab_link": true
    },
    "kernelspec": {
      "name": "python3",
      "display_name": "Python 3"
    },
    "language_info": {
      "name": "python"
    }
  },
  "cells": [
    {
      "cell_type": "markdown",
      "metadata": {
        "id": "view-in-github",
        "colab_type": "text"
      },
      "source": [
        "<a href=\"https://colab.research.google.com/github/imeldp96/qsar_study/blob/main/Support_Vector_Regression_Ismail_Dwi_Putra.ipynb\" target=\"_parent\"><img src=\"https://colab.research.google.com/assets/colab-badge.svg\" alt=\"Open In Colab\"/></a>"
      ]
    },
    {
      "cell_type": "markdown",
      "source": [
        "# Data Input and Modul Loading"
      ],
      "metadata": {
        "id": "-8jIZxh4wQq2"
      }
    },
    {
      "cell_type": "code",
      "source": [
        "!pip install kennard_stone"
      ],
      "metadata": {
        "id": "Bpp2bBgZ1736",
        "colab": {
          "base_uri": "https://localhost:8080/"
        },
        "outputId": "b38b3bf2-b263-4508-bf1e-1e0046f8e16d"
      },
      "execution_count": 1,
      "outputs": [
        {
          "output_type": "stream",
          "name": "stdout",
          "text": [
            "Collecting kennard_stone\n",
            "  Downloading kennard_stone-2.2.1-py3-none-any.whl (14 kB)\n",
            "Requirement already satisfied: numpy>=1.20.0 in /usr/local/lib/python3.10/dist-packages (from kennard_stone) (1.25.2)\n",
            "Requirement already satisfied: scikit-learn in /usr/local/lib/python3.10/dist-packages (from kennard_stone) (1.2.2)\n",
            "Requirement already satisfied: scipy>=1.3.2 in /usr/local/lib/python3.10/dist-packages (from scikit-learn->kennard_stone) (1.11.4)\n",
            "Requirement already satisfied: joblib>=1.1.1 in /usr/local/lib/python3.10/dist-packages (from scikit-learn->kennard_stone) (1.3.2)\n",
            "Requirement already satisfied: threadpoolctl>=2.0.0 in /usr/local/lib/python3.10/dist-packages (from scikit-learn->kennard_stone) (3.3.0)\n",
            "Installing collected packages: kennard_stone\n",
            "Successfully installed kennard_stone-2.2.1\n"
          ]
        }
      ]
    },
    {
      "cell_type": "code",
      "execution_count": 2,
      "metadata": {
        "colab": {
          "base_uri": "https://localhost:8080/"
        },
        "id": "e219Yj_G1ps7",
        "outputId": "cd4e7645-7998-4009-89fd-6141c248cc82"
      },
      "outputs": [
        {
          "output_type": "stream",
          "name": "stdout",
          "text": [
            "Mounted at /content/drive/\n"
          ]
        }
      ],
      "source": [
        "from google.colab import drive\n",
        "drive.mount('/content/drive/', force_remount=True)"
      ]
    },
    {
      "cell_type": "code",
      "source": [
        "import pandas as pd\n",
        "import numpy as np\n",
        "from pandas import DataFrame as df\n",
        "from sklearn.metrics import mean_absolute_error, mean_squared_error, explained_variance_score, r2_score, mean_absolute_percentage_error\n",
        "from sklearn import svm\n",
        "import kennard_stone as ks\n",
        "\n",
        "random = 5032024 #random number for consistent results, can be changed to anything"
      ],
      "metadata": {
        "id": "HWcVyPzVux25"
      },
      "execution_count": 223,
      "outputs": []
    },
    {
      "cell_type": "code",
      "source": [
        "data = pd.read_csv('/content/drive/MyDrive/data/data_ay.csv', index_col=[0], header=[0]) #change accordingly with the location of your csv file\n"
      ],
      "metadata": {
        "id": "vHP5CYn51sSm"
      },
      "execution_count": 4,
      "outputs": []
    },
    {
      "cell_type": "code",
      "source": [
        "#X= data.drop('LogKow', axis=1) #Select the descriptor's columns\n",
        "X=data[['X12', 'X25', 'X22']]\n",
        "y = data['LogKow']  # Setting y as the target variable.\n",
        "print(X)"
      ],
      "metadata": {
        "colab": {
          "base_uri": "https://localhost:8080/"
        },
        "id": "UR7LkzkMSEYE",
        "outputId": "4bd498b0-a7d6-47ea-f894-33d6b296b74b"
      },
      "execution_count": 5,
      "outputs": [
        {
          "output_type": "stream",
          "name": "stdout",
          "text": [
            "            X12   X25   X22\n",
            "Structures                 \n",
            "DPA2        169   4.9   3.2\n",
            "DM-AD2      209   7.2   5.8\n",
            "IPDM-AD2    251   9.0   1.6\n",
            "DIP-DPA2    253  19.8  16.0\n",
            "DIPDM-AD2   293   9.2   3.8\n",
            "DPPD2       260  23.8   4.9\n",
            "PTPD2       274  23.1   5.7\n",
            "DTPD2       288  24.0   3.3\n",
            "TO-DPA2     281  13.2   4.3\n",
            "TOS-DPA2    385  16.2   3.3\n",
            "DTOS-DPA2   479  16.9   1.7\n",
            "IP-DPA2     211  10.2   4.9\n",
            "S-DPA2      273  10.8   2.0\n",
            "DTO-DPA2    293  12.7   9.2\n"
          ]
        }
      ]
    },
    {
      "cell_type": "code",
      "source": [
        "#Kennard-Stone Algorithm for training-test set division\n",
        "X_train, X_test, y_train, y_test = ks.train_test_split(X, y, test_size=0.2) #change test_size accordingly with the proportion of training-test set"
      ],
      "metadata": {
        "id": "-VKNtk542DUp",
        "colab": {
          "base_uri": "https://localhost:8080/"
        },
        "outputId": "3e5c5aad-b4fa-4973-f4e3-11bc194f7213"
      },
      "execution_count": 6,
      "outputs": [
        {
          "output_type": "stream",
          "name": "stdout",
          "text": [
            "Calculating pairwise distances using scikit-learn.\n",
            "Calculating pairwise distances using scikit-learn.\n"
          ]
        }
      ]
    },
    {
      "cell_type": "code",
      "source": [
        "#Dont run this if you run the KS set division\n",
        "#only run this if the training and test set has been divided into different rows (delete the \"\"\" before running)\n",
        "\n",
        "X_train = X.iloc[:11] #select rows for train set\n",
        "X_test = X.iloc[11:14] #select rows for test set\n",
        "\n",
        "y_train = y.iloc[:11]\n",
        "y_test = y.iloc[11:14]"
      ],
      "metadata": {
        "id": "49FI30a1SF9G"
      },
      "execution_count": 6,
      "outputs": []
    },
    {
      "cell_type": "code",
      "source": [
        "print(y_test)"
      ],
      "metadata": {
        "id": "OaPlbTb7pjo_",
        "colab": {
          "base_uri": "https://localhost:8080/"
        },
        "outputId": "d6a2539b-5874-4825-d2c7-1c1c134376e8"
      },
      "execution_count": 7,
      "outputs": [
        {
          "output_type": "stream",
          "name": "stdout",
          "text": [
            "Structures\n",
            "IP-DPA2      4.75\n",
            "S-DPA2       5.45\n",
            "DTO-DPA2    10.33\n",
            "Name: LogKow, dtype: float64\n"
          ]
        }
      ]
    },
    {
      "cell_type": "markdown",
      "source": [
        "#SUPPORT VECTOR MACHINE\n",
        "\n",
        "\n"
      ],
      "metadata": {
        "id": "XRSVvCKOBygo"
      }
    },
    {
      "cell_type": "code",
      "source": [
        "# fitting\n",
        "svr = svm.SVR(C=5000, epsilon=0.001, kernel='poly', degree=8)\n",
        "svr2 = svm.SVR(C=0.1, epsilon=0.001, kernel='linear') #hyperparameter need to be tuned first\n",
        "svr_fit = svr2.fit(X_train, y_train)"
      ],
      "metadata": {
        "id": "F9kQ_soSfLY4"
      },
      "execution_count": 243,
      "outputs": []
    },
    {
      "cell_type": "code",
      "source": [
        "#prediction on the training dataset\n",
        "ytrain_pred = svr_fit.predict(X_train)\n",
        "#training model evaluation\n",
        "#training r-sq\n",
        "print('The training r_sq is: %.3f'% svr_fit.score(X_train, y_train))\n",
        "#OOB training\n",
        "#print('The OOB score is: %.3f'% rf_base.oob_score_)\n",
        "#RMSE\n",
        "print('The RMSE is: %.3f'% np.sqrt(mean_squared_error(y_train, ytrain_pred)))\n",
        "#MAPE\n",
        "print('The MAPE is: %.3f'% mean_absolute_percentage_error(y_train, ytrain_pred))"
      ],
      "metadata": {
        "colab": {
          "base_uri": "https://localhost:8080/"
        },
        "id": "1mka7hMugXhx",
        "outputId": "8a285103-1377-4833-f492-be372f688ab4"
      },
      "execution_count": 244,
      "outputs": [
        {
          "output_type": "stream",
          "name": "stdout",
          "text": [
            "The training r_sq is: 0.972\n",
            "The RMSE is: 0.466\n",
            "The MAPE is: 0.061\n"
          ]
        }
      ]
    },
    {
      "cell_type": "code",
      "source": [
        "#prediction on the testing data\n",
        "ytest_pred = svr_fit.predict(X_test)\n",
        "\n",
        "#testing coef. of determination\n",
        "print('The testing r_sq is: %.3f'% r2_score(y_test, ytest_pred))\n",
        "#model evaluation metrics on test set\n",
        "#RMSE\n",
        "print('The RMSE is: %.3f'% np.sqrt(mean_squared_error(y_test, ytest_pred)))\n",
        "#MAPE\n",
        "print('The MAPE is: %.3f'% mean_absolute_percentage_error(y_test, ytest_pred))"
      ],
      "metadata": {
        "colab": {
          "base_uri": "https://localhost:8080/"
        },
        "id": "Vbzjv_amgnuO",
        "outputId": "512c3054-6e87-44fb-f50d-d6eb7d686693"
      },
      "execution_count": 245,
      "outputs": [
        {
          "output_type": "stream",
          "name": "stdout",
          "text": [
            "The testing r_sq is: 0.669\n",
            "The RMSE is: 1.427\n",
            "The MAPE is: 0.144\n"
          ]
        }
      ]
    },
    {
      "cell_type": "code",
      "source": [
        "#get the predicted targets\n",
        "df_ytrain = pd.DataFrame(y_train)\n",
        "df_ytrainpred = pd.DataFrame(ytrain_pred)\n",
        "df_ytest = pd.DataFrame(y_test)\n",
        "df_ytestpred = pd.DataFrame(ytest_pred)\n",
        "\n",
        "print(df_ytrainpred)\n",
        "print(df_ytestpred)"
      ],
      "metadata": {
        "colab": {
          "base_uri": "https://localhost:8080/"
        },
        "id": "kMlNRqbDgvUL",
        "outputId": "8c3af085-dbd7-4dd1-d004-238d617bfe80"
      },
      "execution_count": 246,
      "outputs": [
        {
          "output_type": "stream",
          "name": "stdout",
          "text": [
            "            0\n",
            "0    3.499544\n",
            "1    5.130491\n",
            "2    5.550397\n",
            "3    6.199130\n",
            "4    7.646137\n",
            "5    3.301271\n",
            "6    4.184089\n",
            "7    4.051090\n",
            "8    6.377920\n",
            "9    9.680519\n",
            "10  12.969291\n",
            "          0\n",
            "0  4.358043\n",
            "1  6.116004\n",
            "2  7.981603\n"
          ]
        }
      ]
    },
    {
      "cell_type": "code",
      "source": [],
      "metadata": {
        "id": "Qm_cw55Sp3Tn"
      },
      "execution_count": null,
      "outputs": []
    },
    {
      "cell_type": "markdown",
      "metadata": {
        "id": "4NHTvTwHp5fm"
      },
      "source": [
        "#SVR HYPERPARAMETERS TUNING"
      ]
    },
    {
      "cell_type": "code",
      "execution_count": 8,
      "metadata": {
        "id": "VHme3ByzDUU0"
      },
      "outputs": [],
      "source": [
        "#loading the dataset\n",
        "#import pandas library\n",
        "import pandas as pd\n",
        "import numpy as np\n",
        "from pandas import DataFrame as df\n",
        "from sklearn.metrics import mean_absolute_error, mean_squared_error, explained_variance_score, r2_score\n",
        "from sklearn import svm"
      ]
    },
    {
      "cell_type": "code",
      "execution_count": 9,
      "metadata": {
        "id": "SujWqyXiH43k"
      },
      "outputs": [],
      "source": [
        "# Instantiate svr on all feature\n",
        "svr = svm.SVR(C=0.5, epsilon=0.001, kernel='linear')\n",
        "svr_base = svr.fit(X_train, y_train)"
      ]
    },
    {
      "cell_type": "code",
      "execution_count": 10,
      "metadata": {
        "colab": {
          "base_uri": "https://localhost:8080/"
        },
        "id": "bPjVKaYyIfCl",
        "outputId": "13d2f313-a911-4d02-bbd2-33acd921bdca"
      },
      "outputs": [
        {
          "output_type": "stream",
          "name": "stdout",
          "text": [
            "The training r_sq is: 0.972\n",
            "The MSE is: 0.217\n",
            "The RMSE is: 0.466\n"
          ]
        }
      ],
      "source": [
        "#prediction on the training dataset\n",
        "ytrain_pred = svr_base.predict(X_train)\n",
        "#training model evaluation\n",
        "#training r-sq\n",
        "print('The training r_sq is: %.3f'% svr_base.score(X_train, y_train))\n",
        "#the MSE\n",
        "print('The MSE is: %.3f'% mean_squared_error(y_train, ytrain_pred))\n",
        "#RMSE\n",
        "print('The RMSE is: %.3f'% np.sqrt(mean_squared_error(y_train, ytrain_pred)))"
      ]
    },
    {
      "cell_type": "code",
      "execution_count": 11,
      "metadata": {
        "colab": {
          "base_uri": "https://localhost:8080/"
        },
        "id": "3GBVRxiRJxaU",
        "outputId": "04809fb3-b2c6-4002-915f-a24cbb48eef2"
      },
      "outputs": [
        {
          "output_type": "stream",
          "name": "stdout",
          "text": [
            "The testing r_sq is: 0.669\n",
            "The MSE is: 2.037\n",
            "The RMSE is: 1.427\n"
          ]
        }
      ],
      "source": [
        "#prediction on the testing data\n",
        "ytest_pred = svr_base.predict(X_test)\n",
        "\n",
        "#testing coef. of determination\n",
        "print('The testing r_sq is: %.3f'% r2_score(y_test, ytest_pred))\n",
        "#model evaluation metrics on test set\n",
        "#the MSE\n",
        "print('The MSE is: %.3f'% mean_squared_error(y_test, ytest_pred))\n",
        "#RMSE\n",
        "print('The RMSE is: %.3f'% np.sqrt(mean_squared_error(y_test, ytest_pred)))\n"
      ]
    },
    {
      "cell_type": "code",
      "execution_count": 12,
      "metadata": {
        "colab": {
          "base_uri": "https://localhost:8080/"
        },
        "id": "vz3he-QAJH4z",
        "outputId": "f6973848-695d-4e96-8d6d-f1b510686641"
      },
      "outputs": [
        {
          "output_type": "stream",
          "name": "stdout",
          "text": [
            "Parameters currently in use:\n",
            "\n",
            "{'C': 0.5,\n",
            " 'cache_size': 200,\n",
            " 'coef0': 0.0,\n",
            " 'degree': 3,\n",
            " 'epsilon': 0.001,\n",
            " 'gamma': 'scale',\n",
            " 'kernel': 'linear',\n",
            " 'max_iter': -1,\n",
            " 'shrinking': True,\n",
            " 'tol': 0.001,\n",
            " 'verbose': False}\n"
          ]
        }
      ],
      "source": [
        "from pprint import pprint\n",
        "# Look at parameters used by our current forest\n",
        "print('Parameters currently in use:\\n')\n",
        "pprint(svr_base.get_params())"
      ]
    },
    {
      "cell_type": "code",
      "execution_count": 13,
      "metadata": {
        "colab": {
          "base_uri": "https://localhost:8080/",
          "height": 466
        },
        "id": "HclDOPfTLlrB",
        "outputId": "ca00ce86-c767-42be-a5e9-3057fe451446"
      },
      "outputs": [
        {
          "output_type": "execute_result",
          "data": {
            "text/plain": [
              "Text(0.5, 0, 'Permutation Importance')"
            ]
          },
          "metadata": {},
          "execution_count": 13
        },
        {
          "output_type": "display_data",
          "data": {
            "text/plain": [
              "<Figure size 640x480 with 1 Axes>"
            ],
            "image/png": "[encoded data removed]"
          },
          "metadata": {}
        }
      ],
      "source": [
        "from sklearn.inspection import permutation_importance\n",
        "from sklearn.inspection import permutation_importance\n",
        "import numpy as np\n",
        "import matplotlib.pyplot as plt\n",
        "%matplotlib inline\n",
        "\n",
        "perm_importance = permutation_importance(svr, X_train, y_train)\n",
        "\n",
        "feature_names = X_train.columns\n",
        "features = np.array(feature_names)\n",
        "\n",
        "sorted_idx = perm_importance.importances_mean.argsort()\n",
        "plt.barh(features[sorted_idx], perm_importance.importances_mean[sorted_idx])\n",
        "plt.xlabel(\"Permutation Importance\")"
      ]
    },
    {
      "cell_type": "markdown",
      "metadata": {
        "id": "E7Pw2g3oc7uc"
      },
      "source": [
        "***RandomizedSearchCV***"
      ]
    },
    {
      "cell_type": "code",
      "execution_count": 14,
      "metadata": {
        "colab": {
          "base_uri": "https://localhost:8080/"
        },
        "id": "V6Nta550Nzcm",
        "outputId": "265ff0c9-d1f0-4f34-d1c1-2a1893fb3648"
      },
      "outputs": [
        {
          "output_type": "stream",
          "name": "stdout",
          "text": [
            "{'C': [0, 0, 0, 0, 1, 10, 100, 1000],\n",
            " 'epsilon': [0.0001,\n",
            "             0.0014677992676220704,\n",
            "             0.021544346900318846,\n",
            "             0.31622776601683794,\n",
            "             4.641588833612782,\n",
            "             68.12920690579622,\n",
            "             1000.0],\n",
            " 'gamma': [0.0001, 0.001, 0.01, 0.1, 1.0, 10.0, 100.0, 1000.0],\n",
            " 'kernel': ['linear', 'rbf']}\n"
          ]
        }
      ],
      "source": [
        "from sklearn.model_selection import RandomizedSearchCV\n",
        "# kernel\n",
        "kernel = ['linear', 'rbf']\n",
        "# C\n",
        "C = [int(x) for x in np.logspace(-4, 3, num = 8)]\n",
        "# epsilon\n",
        "epsilon = [float(x) for x in np.logspace(-4, 3, num = 7)]\n",
        "#gamma\n",
        "gamma = [float(x) for x in np.logspace(-4, 3, num=8)]\n",
        "# Create the random grid\n",
        "random_grid = {'kernel': kernel,\n",
        "               'C': C,\n",
        "               'epsilon': epsilon,\n",
        "               'gamma': gamma}\n",
        "pprint(random_grid)"
      ]
    },
    {
      "cell_type": "code",
      "execution_count": null,
      "metadata": {
        "id": "PiW3uNKmN6kI"
      },
      "outputs": [],
      "source": [
        "# Use the random grid to search for best hyperparameters\n",
        "# First create the base model to tune\n",
        "svr = svm.SVR()\n",
        "# Random search of parameters, using 4 fold cross validation,\n",
        "# search across 1500 different combinations, and use all available cores\n",
        "svr_random = RandomizedSearchCV(estimator = svr, param_distributions = random_grid, n_iter = 1500, cv = 3, verbose=2, scoring=['r2', 'neg_root_mean_squared_error'], refit = 'r2', n_jobs = -1)\n",
        "# Fit the random search model\n",
        "svr_random.fit(X_train, y_train)"
      ]
    },
    {
      "cell_type": "code",
      "execution_count": 16,
      "metadata": {
        "id": "yXpU7wH7OKsI",
        "colab": {
          "base_uri": "https://localhost:8080/"
        },
        "outputId": "b40a5fdf-d8d4-46d6-ded5-8f1807eff361"
      },
      "outputs": [
        {
          "output_type": "execute_result",
          "data": {
            "text/plain": [
              "{'kernel': 'linear', 'gamma': 0.0001, 'epsilon': 0.31622776601683794, 'C': 1}"
            ]
          },
          "metadata": {},
          "execution_count": 16
        }
      ],
      "source": [
        "# Access the randomized hyperparameters and their values\n",
        "random_params = svr_random.cv_results_\n",
        "\n",
        "# Convert the randomized hyperparameters to a DataFrame\n",
        "hyperparameters_rand_df = pd.DataFrame(random_params)\n",
        "\n",
        "# Save the DataFrame to a CSV file\n",
        "hyperparameters_rand_df.to_csv('random_hyperparameters.csv')\n",
        "\n",
        "svr_random.best_params_"
      ]
    },
    {
      "cell_type": "code",
      "execution_count": 17,
      "metadata": {
        "id": "1eXVnNhNOB2G",
        "colab": {
          "base_uri": "https://localhost:8080/"
        },
        "outputId": "b8b380e4-7fa7-49e1-ecf8-971da761013c"
      },
      "outputs": [
        {
          "output_type": "stream",
          "name": "stdout",
          "text": [
            "Model Performance\n",
            "Average Error: 1.4931.\n",
            "Accuracy = 83.37%.\n"
          ]
        }
      ],
      "source": [
        "def evaluate(model, test_features, test_labels):\n",
        "    predictions = model.predict(test_features)\n",
        "    errors = abs(predictions - test_labels)\n",
        "    mape = 100 * np.mean(errors / test_labels)\n",
        "    accuracy = 100 - mape\n",
        "    print('Model Performance')\n",
        "    print('Average Error: {:0.4f}.'.format(np.mean(errors)))\n",
        "    print('Accuracy = {:0.2f}%.'.format(accuracy))\n",
        "\n",
        "    return accuracy\n",
        "base_model = svm.SVR(C=2)\n",
        "base_model.fit(X_train, y_train)\n",
        "base_accuracy = evaluate(base_model, X_test, y_test)"
      ]
    },
    {
      "cell_type": "code",
      "execution_count": 18,
      "metadata": {
        "id": "Q1NlhiBcOY8_",
        "colab": {
          "base_uri": "https://localhost:8080/"
        },
        "outputId": "3623476b-d040-4d0c-d4fd-1106252ef625"
      },
      "outputs": [
        {
          "output_type": "stream",
          "name": "stdout",
          "text": [
            "Model Performance\n",
            "Average Error: 1.2790.\n",
            "Accuracy = 83.85%.\n",
            "Improvement of 0.58%.\n"
          ]
        }
      ],
      "source": [
        "best_random = svr_random.best_estimator_\n",
        "random_accuracy = evaluate(best_random, X_test, y_test)\n",
        "print('Improvement of {:0.2f}%.'.format( 100 * (random_accuracy - base_accuracy) / base_accuracy))"
      ]
    },
    {
      "cell_type": "markdown",
      "metadata": {
        "id": "JjdQZmGTc0-e"
      },
      "source": [
        "***GridSearchCV***"
      ]
    },
    {
      "cell_type": "code",
      "execution_count": 180,
      "metadata": {
        "id": "4KNxWSrQc0Ur"
      },
      "outputs": [],
      "source": [
        "from sklearn.model_selection import GridSearchCV\n",
        "# Create the parameter grid based on the results of random search\n",
        "\n",
        "param_grid = {\n",
        "               'kernel': ['linear', 'rbf'],\n",
        "               'epsilon': [0.001, 0.005, 0.01, 0.05, 0.1, 0.2, 0.3, 0.4, 0.5, 0.6, 0.7, 0.8, 0.9, 1.0],\n",
        "               'C': [0.001, 0.005, 0.01, 0.05, 0.1, 0.5, 1, 5, 10, 50, 100, 500, 1000, 5000]\n",
        "                }\n",
        "# Create a based model\n",
        "svr = svm.SVR()\n",
        "# Instantiate the grid search model\n",
        "grid_search = GridSearchCV(estimator = svr, param_grid = param_grid,\n",
        "                          cv = 2, n_jobs = -1, verbose = 2, scoring=['r2', 'neg_mean_squared_error'], refit = 'r2', error_score='raise')"
      ]
    },
    {
      "cell_type": "code",
      "execution_count": 181,
      "metadata": {
        "colab": {
          "base_uri": "https://localhost:8080/"
        },
        "id": "sBNUSJawdUk8",
        "outputId": "5630e079-f53f-44e9-f6ce-2ff2f3e82225"
      },
      "outputs": [
        {
          "output_type": "stream",
          "name": "stdout",
          "text": [
            "Fitting 2 folds for each of 392 candidates, totalling 784 fits\n"
          ]
        },
        {
          "output_type": "execute_result",
          "data": {
            "text/plain": [
              "{'C': 0.05, 'epsilon': 0.8, 'kernel': 'linear'}"
            ]
          },
          "metadata": {},
          "execution_count": 181
        }
      ],
      "source": [
        "# Fit the grid search to the data\n",
        "grid_search.fit(X_train, y_train)\n",
        "grid_search.best_params_"
      ]
    },
    {
      "cell_type": "code",
      "execution_count": 182,
      "metadata": {
        "colab": {
          "base_uri": "https://localhost:8080/"
        },
        "id": "g0B0zgAPdlJB",
        "outputId": "48f1abab-49bf-458d-e68d-d7dcdc716ea5"
      },
      "outputs": [
        {
          "output_type": "stream",
          "name": "stdout",
          "text": [
            "Model Performance\n",
            "Average Error: 1.4931.\n",
            "Accuracy = 83.37%.\n",
            "Model Performance\n",
            "Average Error: 1.4021.\n",
            "Accuracy = 83.06%.\n",
            "Improvement of -0.36%.\n"
          ]
        }
      ],
      "source": [
        "def evaluate(model, test_features, test_labels):\n",
        "    predictions = model.predict(test_features)\n",
        "    errors = abs(predictions - test_labels)\n",
        "    mape = 100 * np.mean(errors / test_labels)\n",
        "    accuracy = 100 - mape\n",
        "    print('Model Performance')\n",
        "    print('Average Error: {:0.4f}.'.format(np.mean(errors)))\n",
        "    print('Accuracy = {:0.2f}%.'.format(accuracy))\n",
        "\n",
        "    return accuracy\n",
        "base_model = svm.SVR(C=2)\n",
        "base_model.fit(X_train, y_train)\n",
        "base_accuracy = evaluate(base_model, X_test, y_test)\n",
        "\n",
        "best_grid = grid_search.best_estimator_\n",
        "grid_accuracy = evaluate(best_grid, X_test, y_test)\n",
        "\n",
        "\n",
        "print('Improvement of {:0.2f}%.'.format( 100 * (grid_accuracy - base_accuracy) / base_accuracy))\n",
        "results = grid_search.cv_results_"
      ]
    },
    {
      "cell_type": "code",
      "execution_count": 23,
      "metadata": {
        "id": "QGbq2Yk4drZm"
      },
      "outputs": [],
      "source": [
        "# Access the randomized hyperparameters and their values\n",
        "grids_params = grid_search.cv_results_\n",
        "\n",
        "# Convert the randomized hyperparameters to a DataFrame\n",
        "hyperparameters_df = pd.DataFrame(grids_params)\n",
        "\n",
        "# Save the DataFrame to a CSV file\n",
        "hyperparameters_df.to_csv('grids_hyperparameters.csv')"
      ]
    },
    {
      "cell_type": "markdown",
      "source": [
        "Parameter Grid"
      ],
      "metadata": {
        "id": "24HGae1bMlna"
      }
    },
    {
      "cell_type": "code",
      "source": [
        "from sklearn.model_selection import ParameterGrid\n",
        "# Initialize best_score with a low value\n",
        "best_error = float('inf')\n",
        "best_score = float('-inf')\n",
        "best_error_test = float('inf')\n",
        "\n",
        "param_grid = [\n",
        "               {'kernel': ['linear', 'rbf'],\n",
        "               'epsilon': [0.001, 0.005, 0.01, 0.05, 0.1, 0.2, 0.3, 0.4, 0.5, 0.6, 0.7, 0.8, 0.9, 1.0],\n",
        "               'C': [0.01, 0.05, 0.1, 0.5, 1, 5, 10, 50, 100, 500, 1000, 5000]},\n",
        "               {'kernel': ['poly'], 'epsilon': [0.001, 0.005, 0.01, 0.05, 0.1, 0.2, 0.3, 0.4, 0.5, 0.6, 0.7, 0.8, 0.9, 1.0],\n",
        "               'C': [0.001, 0.005, 0.01, 0.05, 0.1, 0.5, 1, 5, 10, 50, 100, 500, 1000, 5000],\n",
        "               'degree': [2,3,4,5,6,7,8,9,10]}\n",
        "                ]\n",
        "\n",
        "# Create a based model\n",
        "svr = svm.SVR()\n",
        "# Instantiate the grid search model\n",
        "for g in ParameterGrid(param_grid):\n",
        "  svr.set_params(**g)\n",
        "  svr.fit(X_train, y_train)\n",
        "  score = svr.score(X_train, y_train)\n",
        "  y_trainpred = svr.predict(X_train)\n",
        "  error = mean_absolute_percentage_error(y_train, y_trainpred)\n",
        "  y_testpred = svr.predict(X_test)\n",
        "  error_test = mean_absolute_percentage_error(y_test, y_testpred)\n",
        "  #save if best\n",
        "  if score > best_score and error < best_error and error_test < best_error_test:\n",
        "    best_score = score\n",
        "    best_error = error\n",
        "    best_error_test = error_test\n",
        "    best_grid = g\n",
        "\n",
        "print(\"score: %0.3f\" % best_score)\n",
        "print(\"error: %0.3f\" % best_error)\n",
        "print(\"error: %0.3f\" % best_error_test)\n",
        "print(\"Grid:\", best_grid)"
      ],
      "metadata": {
        "colab": {
          "base_uri": "https://localhost:8080/"
        },
        "id": "-CLO43ShMlG8",
        "outputId": "1dd70bfd-7390-4812-ec6a-9fed51137882"
      },
      "execution_count": 228,
      "outputs": [
        {
          "output_type": "stream",
          "name": "stdout",
          "text": [
            "score: 0.972\n",
            "error: 0.061\n",
            "error: 0.144\n",
            "Grid: {'C': 0.1, 'epsilon': 0.001, 'kernel': 'linear'}\n"
          ]
        }
      ]
    }
  ]
}