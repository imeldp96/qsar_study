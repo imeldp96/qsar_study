{
  "cells": [
    {
      "cell_type": "markdown",
      "metadata": {
        "id": "view-in-github",
        "colab_type": "text"
      },
      "source": [
        "<a href=\"https://colab.research.google.com/github/imeldp96/qsar_study/blob/main/Feature_engineering_and_Hyperparameter_Tuning.ipynb\" target=\"_parent\"><img src=\"https://colab.research.google.com/assets/colab-badge.svg\" alt=\"Open In Colab\"/></a>"
      ]
    },
    {
      "cell_type": "markdown",
      "metadata": {
        "id": "mKcrIRdGV47F"
      },
      "source": [
        "# LOAD DATA"
      ]
    },
    {
      "cell_type": "code",
      "execution_count": null,
      "metadata": {
        "id": "UKNkJzKqJA0G"
      },
      "outputs": [],
      "source": [
        "import io\n",
        "import os\n",
        "\n",
        "import numpy as np\n",
        "import pandas as pd\n",
        "\n",
        "import matplotlib.pyplot as plt\n",
        "import seaborn as sns\n",
        "\n",
        "import warnings\n",
        "warnings.filterwarnings('ignore')\n",
        "\n",
        "# Statistical packages\n",
        "import statsmodels.api as sm\n",
        "from statsmodels.formula.api import ols   # ordinary least squares model\n",
        "from statsmodels.stats.outliers_influence import variance_inflation_factor\n",
        "\n",
        "from sklearn.metrics import mean_absolute_error, mean_squared_error, explained_variance_score, r2_score\n",
        "random = 30139"
      ]
    },
    {
      "cell_type": "code",
      "execution_count": null,
      "metadata": {
        "colab": {
          "base_uri": "https://localhost:8080/"
        },
        "id": "eSB8XCNoJE2n",
        "outputId": "e5366cb8-cf0f-4c97-c3e2-618d5ebd4d43"
      },
      "outputs": [
        {
          "output_type": "stream",
          "name": "stdout",
          "text": [
            "Mounted at /content/drive/\n"
          ]
        }
      ],
      "source": [
        "from google.colab import drive\n",
        "drive.mount('/content/drive/', force_remount=True)"
      ]
    },
    {
      "cell_type": "code",
      "execution_count": null,
      "metadata": {
        "id": "VeIKe59mJJer"
      },
      "outputs": [],
      "source": [
        "data = pd.read_csv('/content/drive/MyDrive/data/desc-set.csv', index_col=[0])\n",
        "#data = pd.read_csv('/content/drive/MyDrive/data/pred_ml.csv', index_col=[0])\n",
        "#QC = df.iloc[:, 0:26]\n",
        "#MS = df.iloc[:, [0] + list(range(26, df.shape[1]))]\n",
        "#columns_to_drop = ['Ethermal', 'Eelect', 'qC7', 'qR2', 'qR1', 'LUMO']  # Add the names of columns you want to drop\n",
        "#df = df.drop(columns_to_drop, axis=1)"
      ]
    },
    {
      "cell_type": "code",
      "execution_count": null,
      "metadata": {
        "id": "SUhTiHNUCcHK"
      },
      "outputs": [],
      "source": [
        "print(data.head)"
      ]
    },
    {
      "cell_type": "code",
      "execution_count": null,
      "metadata": {
        "colab": {
          "base_uri": "https://localhost:8080/"
        },
        "id": "0dF5pR_Ujtwp",
        "outputId": "fbb7e99e-5002-46ce-c765-a50f51092c83"
      },
      "outputs": [
        {
          "output_type": "stream",
          "name": "stdout",
          "text": [
            "           qC2  dEL-H\n",
            "senyawa              \n",
            "DH_7    -0.045  4.921\n",
            "DH_8    -0.152  4.946\n",
            "DH_9    -0.153  2.304\n",
            "DH_10   -0.157  4.928\n",
            "DH_12   -0.131  2.843\n"
          ]
        }
      ],
      "source": [
        "X_vi_ms = data[['FNSA3 (Jurs Descriptors)', 'Chi (3): cluster (valence modified) (Fast Descriptors)', 'Molecular density (Spatial Descriptors)']] # Dropping the 'pIC50' column from X.\n",
        "X_ga_ms = data[['Chi (3): cluster (Fast Descriptors)', 'Principal moment of inertia Y (Spatial Descriptors)', 'Shadow area: ZX plane (Spatial Descriptors)']]\n",
        "X_vi_qc = data[['qN3', 'dEL-H', 'r(N3-C13)']]\n",
        "X_ga_qc = data[['qC2', 'dEL-H']]\n",
        "\n",
        "y = data['pIC50']  # Setting y as the target variable.\n",
        "print(X_ga_qc.iloc[:5, :5])"
      ]
    },
    {
      "cell_type": "code",
      "execution_count": null,
      "metadata": {
        "id": "xYzTZmFUj0t0"
      },
      "outputs": [],
      "source": [
        "X_train1 = X_vi_ms.iloc[:16]\n",
        "X_test1 = X_vi_ms.iloc[16:20]\n",
        "\n",
        "X_train2 = X_ga_ms.iloc[:16]\n",
        "X_test2 = X_ga_ms.iloc[16:20]\n",
        "\n",
        "X_traina = X_vi_qc.iloc[:16]\n",
        "X_testa = X_vi_qc.iloc[16:20]\n",
        "\n",
        "X_trainb = X_ga_qc.iloc[:16]\n",
        "X_testb = X_ga_qc.iloc[16:20]\n",
        "\n",
        "y_train = y.iloc[:16]\n",
        "y_test = y.iloc[16:20]"
      ]
    },
    {
      "cell_type": "markdown",
      "metadata": {
        "id": "kVYT0XnhV_Gp"
      },
      "source": [
        "# CORRELATION AND VIF"
      ]
    },
    {
      "cell_type": "code",
      "execution_count": null,
      "metadata": {
        "id": "LoQpyIZhJPsX"
      },
      "outputs": [],
      "source": [
        "df_cor = data.corr()"
      ]
    },
    {
      "cell_type": "code",
      "execution_count": null,
      "metadata": {
        "id": "1ALONyOLJX1c"
      },
      "outputs": [],
      "source": [
        "train_top = df_cor.iloc[df_cor['pIC50'].abs().argsort()[::1]]"
      ]
    },
    {
      "cell_type": "code",
      "execution_count": null,
      "metadata": {
        "colab": {
          "base_uri": "https://localhost:8080/",
          "height": 861
        },
        "id": "oqE-UlywTV3w",
        "outputId": "e9a84551-978a-46ef-ef2a-76dd7dd7cdab"
      },
      "outputs": [
        {
          "output_type": "display_data",
          "data": {
            "text/plain": [
              "<Figure size 1600x800 with 2 Axes>"
            ],
            "image/png": "[encoded data removed]"
          },
          "metadata": {}
        }
      ],
      "source": [
        "import seaborn as sns\n",
        "import matplotlib.pyplot as plt\n",
        "\n",
        "# Generate a heatmap\n",
        "sns.set(font_scale=0.6)  # Set the font size for labels\n",
        "plt.figure(figsize=(16, 8))  # Adjust the figure size as needed\n",
        "\n",
        "# Create the heatmap\n",
        "sns.heatmap(train_top, cmap='coolwarm', annot=True, linewidths=0.5)\n",
        "\n",
        "# Show the plot\n",
        "plt.show()"
      ]
    },
    {
      "cell_type": "code",
      "execution_count": null,
      "metadata": {
        "id": "-s7TkLKdLPzx"
      },
      "outputs": [],
      "source": [
        "df_cor.to_csv('df_cor.csv')"
      ]
    },
    {
      "cell_type": "code",
      "execution_count": null,
      "metadata": {
        "colab": {
          "base_uri": "https://localhost:8080/"
        },
        "id": "vfPiE9GULtXb",
        "outputId": "c97a4926-e81c-4e29-ccb9-ab9841bac204"
      },
      "outputs": [
        {
          "output_type": "stream",
          "name": "stdout",
          "text": [
            "                      index       VIF\n",
            "0                       qC2  1.816326\n",
            "1  FNSA3 (Jurs Descriptors)  1.816326\n"
          ]
        }
      ],
      "source": [
        "# Input all features\n",
        "#columns_to_drop = ['qR1', 'qR2', 'qC7', 'r(C7-R2)', 'r(C10-R1)', 'LUMO', 'qC10', 'qC8', 'Ethermal', 'qC6', 'qC13', 'qC5']  # Add the names of columns you want to drop\n",
        "#T = train.drop(columns_to_drop, axis=1)\n",
        "\n",
        "#trained = train_qc[['qC2', 'Polarizability', 'r(N3-C13)', 'softness', 'Dipole moment (debye)', 'qN3', 'qC1', 'r(C13-R3)']]\n",
        "#trained = train_qc[['qC2', 'qN3', 'r(N3-C13)']]\n",
        "\n",
        "T = data.iloc[:,:]\n",
        "T['intercept'] = 1\n",
        "\n",
        "def calculate_vif(T):\n",
        "    vif = pd.DataFrame()\n",
        "    vif['index'] = T.columns\n",
        "    vif['VIF'] = [variance_inflation_factor(T.values,i) for i in range(T.shape[1])]\n",
        "    return vif\n",
        "\n",
        "vif = calculate_vif(T.iloc[:,:])\n",
        "while (vif['VIF'] > 10).any():\n",
        "    remove = vif.sort_values(by='VIF',ascending=False)['index'][:1].values[0]\n",
        "    T.drop(remove,axis=1,inplace=True)\n",
        "    vif = calculate_vif(T)\n",
        "\n",
        "print(vif)\n",
        "df_vif = pd.DataFrame(vif)"
      ]
    },
    {
      "cell_type": "code",
      "execution_count": null,
      "metadata": {
        "id": "nncXvHDy-mty"
      },
      "outputs": [],
      "source": [
        "print(T)"
      ]
    },
    {
      "cell_type": "markdown",
      "metadata": {
        "id": "ebfIMVSfVr0o"
      },
      "source": [
        "# RF HYPERPARAMETER TUNING"
      ]
    },
    {
      "cell_type": "code",
      "execution_count": null,
      "metadata": {
        "id": "Ju91wNnvV6o6"
      },
      "outputs": [],
      "source": [
        "#loading the dataset\n",
        "#import pandas library\n",
        "import pandas as pd\n",
        "import numpy as np\n",
        "from pandas import DataFrame as df\n",
        "from sklearn.ensemble import RandomForestRegressor\n",
        "import xgboost as xg\n",
        "#reading the dataset\n",
        "from google.colab import drive"
      ]
    },
    {
      "cell_type": "code",
      "execution_count": null,
      "metadata": {
        "id": "vrsM5Te2WFQb"
      },
      "outputs": [],
      "source": [
        "# Instantiate random forest and train on new features\n",
        "rf = RandomForestRegressor(random_state = random)\n",
        "rf_base = rf.fit(X_train2, y_train)"
      ]
    },
    {
      "cell_type": "code",
      "execution_count": null,
      "metadata": {
        "colab": {
          "base_uri": "https://localhost:8080/"
        },
        "id": "xk1S2hQuWJlM",
        "outputId": "09c333ec-073f-4654-bcdc-55d65eb9c5f7"
      },
      "outputs": [
        {
          "output_type": "stream",
          "name": "stdout",
          "text": [
            "The training r_sq is: 0.760\n",
            "The MSE is: 0.317\n",
            "The RMSE is: 0.563\n"
          ]
        }
      ],
      "source": [
        "#prediction on the training dataset\n",
        "ytrain_pred = rf_base.predict(X_train2)\n",
        "#training model evaluation\n",
        "#training r-sq\n",
        "print('The training r_sq is: %.3f'% rf_base.score(X_train2, y_train))\n",
        "#OOB training\n",
        "#print('The OOB score is: %.3f'% rf_base.oob_score_)\n",
        "#the MSE\n",
        "print('The MSE is: %.3f'% mean_squared_error(y_train, ytrain_pred))\n",
        "#RMSE\n",
        "import numpy as np\n",
        "print('The RMSE is: %.3f'% np.sqrt(mean_squared_error(y_train, ytrain_pred)))"
      ]
    },
    {
      "cell_type": "code",
      "execution_count": null,
      "metadata": {
        "colab": {
          "base_uri": "https://localhost:8080/"
        },
        "id": "suwzO4ZSWKQQ",
        "outputId": "d668cf5d-88bc-4599-c96e-0bd5aa02a253"
      },
      "outputs": [
        {
          "output_type": "stream",
          "name": "stdout",
          "text": [
            "The testing r_sq is: 0.482\n",
            "The MSE is: 1.682\n",
            "The RMSE is: 1.297\n"
          ]
        }
      ],
      "source": [
        "#prediction on the testing data\n",
        "ytest_pred = rf_base.predict(X_test2)\n",
        "\n",
        "#testing coef. of determination\n",
        "print('The testing r_sq is: %.3f'% r2_score(y_test, ytest_pred))\n",
        "#model evaluation metrics on test set\n",
        "\n",
        "#the MSE\n",
        "print('The MSE is: %.3f'% mean_squared_error(y_test, ytest_pred))\n",
        "\n",
        "#RMSE\n",
        "print('The RMSE is: %.3f'% np.sqrt(mean_squared_error(y_test, ytest_pred)))"
      ]
    },
    {
      "cell_type": "code",
      "execution_count": null,
      "metadata": {
        "colab": {
          "base_uri": "https://localhost:8080/",
          "height": 368
        },
        "id": "7G72T2fUWMha",
        "outputId": "0852feb3-c3af-4071-dace-080885efb8e0"
      },
      "outputs": [
        {
          "output_type": "display_data",
          "data": {
            "text/plain": [
              "<Figure size 800x400 with 1 Axes>"
            ],
            "image/png": "[encoded data removed]"
          },
          "metadata": {}
        }
      ],
      "source": [
        "from numpy.core.fromnumeric import size\n",
        "model_ranks=pd.Series(rf_base.feature_importances_,index=X_train1.columns,name=\"Importance\").sort_values(ascending=True,inplace=False)\n",
        "ax=model_ranks.plot(kind='barh', fontsize = 10, figsize = (8,4))"
      ]
    },
    {
      "cell_type": "code",
      "execution_count": null,
      "metadata": {
        "colab": {
          "base_uri": "https://localhost:8080/"
        },
        "id": "KAR-wb_AWO0Y",
        "outputId": "2dd6fd53-f3f0-4659-9a3b-16bf022cbbe1"
      },
      "outputs": [
        {
          "output_type": "stream",
          "name": "stdout",
          "text": [
            "Parameters currently in use:\n",
            "\n",
            "{'bootstrap': True,\n",
            " 'ccp_alpha': 0.0,\n",
            " 'criterion': 'squared_error',\n",
            " 'max_depth': None,\n",
            " 'max_features': 1.0,\n",
            " 'max_leaf_nodes': None,\n",
            " 'max_samples': None,\n",
            " 'min_impurity_decrease': 0.0,\n",
            " 'min_samples_leaf': 1,\n",
            " 'min_samples_split': 2,\n",
            " 'min_weight_fraction_leaf': 0.0,\n",
            " 'n_estimators': 100,\n",
            " 'n_jobs': None,\n",
            " 'oob_score': False,\n",
            " 'random_state': 30139,\n",
            " 'verbose': 0,\n",
            " 'warm_start': False}\n"
          ]
        }
      ],
      "source": [
        "from pprint import pprint\n",
        "# Look at parameters used by our current forest\n",
        "print('Parameters currently in use:\\n')\n",
        "pprint(rf_base.get_params())"
      ]
    },
    {
      "cell_type": "code",
      "execution_count": null,
      "metadata": {
        "id": "YPGAngHeWSvs",
        "colab": {
          "base_uri": "https://localhost:8080/"
        },
        "outputId": "94bf023b-57c7-4771-fc49-1dd1cccf5977"
      },
      "outputs": [
        {
          "output_type": "stream",
          "name": "stdout",
          "text": [
            "{'bootstrap': [True, False],\n",
            " 'max_depth': [1, 2, 3, 4, 5, 6, 7, 8, 9, 10, 11, 12, 13, 14, 15, 16, None],\n",
            " 'max_features': [1, 2, 3],\n",
            " 'min_samples_leaf': [1, 2, 3, 4],\n",
            " 'min_samples_split': [2, 3, 4, 5],\n",
            " 'n_estimators': [1,\n",
            "                  2,\n",
            "                  3,\n",
            "                  4,\n",
            "                  5,\n",
            "                  6,\n",
            "                  7,\n",
            "                  8,\n",
            "                  9,\n",
            "                  10,\n",
            "                  11,\n",
            "                  12,\n",
            "                  13,\n",
            "                  14,\n",
            "                  15,\n",
            "                  16,\n",
            "                  17,\n",
            "                  18,\n",
            "                  19,\n",
            "                  20,\n",
            "                  21,\n",
            "                  22,\n",
            "                  23,\n",
            "                  24,\n",
            "                  25,\n",
            "                  26,\n",
            "                  27,\n",
            "                  28,\n",
            "                  29,\n",
            "                  30,\n",
            "                  31,\n",
            "                  32,\n",
            "                  33,\n",
            "                  34,\n",
            "                  35,\n",
            "                  36,\n",
            "                  37,\n",
            "                  38,\n",
            "                  39,\n",
            "                  40,\n",
            "                  41,\n",
            "                  42,\n",
            "                  43,\n",
            "                  44,\n",
            "                  45,\n",
            "                  46,\n",
            "                  47,\n",
            "                  48,\n",
            "                  49,\n",
            "                  50,\n",
            "                  51,\n",
            "                  52,\n",
            "                  53,\n",
            "                  54,\n",
            "                  55,\n",
            "                  56,\n",
            "                  57,\n",
            "                  58,\n",
            "                  59,\n",
            "                  60,\n",
            "                  61,\n",
            "                  62,\n",
            "                  63,\n",
            "                  64,\n",
            "                  65,\n",
            "                  66,\n",
            "                  67,\n",
            "                  68,\n",
            "                  69,\n",
            "                  70,\n",
            "                  71,\n",
            "                  72,\n",
            "                  73,\n",
            "                  74,\n",
            "                  75,\n",
            "                  76,\n",
            "                  77,\n",
            "                  78,\n",
            "                  79,\n",
            "                  80,\n",
            "                  81,\n",
            "                  82,\n",
            "                  83,\n",
            "                  84,\n",
            "                  85,\n",
            "                  86,\n",
            "                  87,\n",
            "                  88,\n",
            "                  89,\n",
            "                  90,\n",
            "                  91,\n",
            "                  92,\n",
            "                  93,\n",
            "                  94,\n",
            "                  95,\n",
            "                  96,\n",
            "                  97,\n",
            "                  98,\n",
            "                  99,\n",
            "                  100,\n",
            "                  101,\n",
            "                  102,\n",
            "                  103,\n",
            "                  104,\n",
            "                  105,\n",
            "                  106,\n",
            "                  107,\n",
            "                  108,\n",
            "                  109,\n",
            "                  110,\n",
            "                  111,\n",
            "                  112,\n",
            "                  113,\n",
            "                  114,\n",
            "                  115,\n",
            "                  116,\n",
            "                  117,\n",
            "                  118,\n",
            "                  119,\n",
            "                  120,\n",
            "                  121,\n",
            "                  122,\n",
            "                  123,\n",
            "                  124,\n",
            "                  125,\n",
            "                  126,\n",
            "                  127,\n",
            "                  128,\n",
            "                  129,\n",
            "                  130,\n",
            "                  131,\n",
            "                  132,\n",
            "                  133,\n",
            "                  134,\n",
            "                  135,\n",
            "                  136,\n",
            "                  137,\n",
            "                  138,\n",
            "                  139,\n",
            "                  140,\n",
            "                  141,\n",
            "                  142,\n",
            "                  143,\n",
            "                  144,\n",
            "                  145,\n",
            "                  146,\n",
            "                  147,\n",
            "                  148,\n",
            "                  149,\n",
            "                  150,\n",
            "                  151,\n",
            "                  152,\n",
            "                  153,\n",
            "                  154,\n",
            "                  155,\n",
            "                  156,\n",
            "                  157,\n",
            "                  158,\n",
            "                  159,\n",
            "                  160,\n",
            "                  161,\n",
            "                  162,\n",
            "                  163,\n",
            "                  164,\n",
            "                  165,\n",
            "                  166,\n",
            "                  167,\n",
            "                  168,\n",
            "                  169,\n",
            "                  170,\n",
            "                  171,\n",
            "                  172,\n",
            "                  173,\n",
            "                  174,\n",
            "                  175,\n",
            "                  176,\n",
            "                  177,\n",
            "                  178,\n",
            "                  179,\n",
            "                  180,\n",
            "                  181,\n",
            "                  182,\n",
            "                  183,\n",
            "                  184,\n",
            "                  185,\n",
            "                  186,\n",
            "                  187,\n",
            "                  188,\n",
            "                  189,\n",
            "                  190,\n",
            "                  191,\n",
            "                  192,\n",
            "                  193,\n",
            "                  194,\n",
            "                  195,\n",
            "                  196,\n",
            "                  197,\n",
            "                  198,\n",
            "                  199,\n",
            "                  200,\n",
            "                  201,\n",
            "                  202,\n",
            "                  203,\n",
            "                  204,\n",
            "                  205,\n",
            "                  206,\n",
            "                  207,\n",
            "                  208,\n",
            "                  209,\n",
            "                  210,\n",
            "                  211,\n",
            "                  212,\n",
            "                  213,\n",
            "                  214,\n",
            "                  215,\n",
            "                  216,\n",
            "                  217,\n",
            "                  218,\n",
            "                  219,\n",
            "                  220,\n",
            "                  221,\n",
            "                  222,\n",
            "                  223,\n",
            "                  224,\n",
            "                  225]}\n"
          ]
        }
      ],
      "source": [
        "from sklearn.model_selection import RandomizedSearchCV\n",
        "# Number of trees in random forest\n",
        "n_estimators = [int(x) for x in np.linspace(start = 1, stop = 225, num = 225)]\n",
        "# Number of features to consider at every split\n",
        "max_features = [1, 2, 3]\n",
        "# Maximum number of levels in tree\n",
        "max_depth = [int(x) for x in np.linspace(1, 16, num =16)]\n",
        "max_depth.append(None)\n",
        "# Minimum number of samples required to split a node\n",
        "min_samples_split = [2, 3, 4, 5]\n",
        "# Minimum number of samples required at each leaf node\n",
        "min_samples_leaf = [1, 2, 3, 4]\n",
        "# Method of selecting samples for training each tree\n",
        "bootstrap = [True, False]\n",
        "# Create the random grid\n",
        "random_grid = {'n_estimators': n_estimators,\n",
        "               'max_features': max_features,\n",
        "               'max_depth': max_depth,\n",
        "               'min_samples_split': min_samples_split,\n",
        "               'min_samples_leaf': min_samples_leaf,\n",
        "               'bootstrap': bootstrap}\n",
        "pprint(random_grid)"
      ]
    },
    {
      "cell_type": "code",
      "execution_count": null,
      "metadata": {
        "colab": {
          "base_uri": "https://localhost:8080/",
          "height": 133
        },
        "id": "noG3_qSZWZJV",
        "outputId": "43cc20a6-2308-4839-bf15-3241bdf230a2"
      },
      "outputs": [
        {
          "output_type": "stream",
          "name": "stdout",
          "text": [
            "Fitting 3 folds for each of 1500 candidates, totalling 4500 fits\n"
          ]
        },
        {
          "output_type": "execute_result",
          "data": {
            "text/plain": [
              "RandomizedSearchCV(cv=3, estimator=RandomForestRegressor(), n_iter=1500,\n",
              "                   n_jobs=-1,\n",
              "                   param_distributions={'bootstrap': [True, False],\n",
              "                                        'max_depth': [1, 2, 3, 4, 5, 6, 7, 8, 9,\n",
              "                                                      10, 11, 12, 13, 14, 15,\n",
              "                                                      16, None],\n",
              "                                        'max_features': [1, 2, 3],\n",
              "                                        'min_samples_leaf': [1, 2, 3, 4],\n",
              "                                        'min_samples_split': [2, 3, 4, 5],\n",
              "                                        'n_estimators': [1, 2, 3, 4, 5, 6, 7, 8,\n",
              "                                                         9, 10, 11, 12, 13, 14,\n",
              "                                                         15, 16, 17, 18, 19, 20,\n",
              "                                                         21, 22, 23, 24, 25, 26,\n",
              "                                                         27, 28, 29, 30, ...]},\n",
              "                   random_state=30139, refit='r2',\n",
              "                   scoring=['r2', 'neg_root_mean_squared_error'], verbose=2)"
            ],
            "text/html": [
              "<style>#sk-container-id-1 {color: black;background-color: white;}#sk-container-id-1 pre{padding: 0;}#sk-container-id-1 div.sk-toggleable {background-color: white;}#sk-container-id-1 label.sk-toggleable__label {cursor: pointer;display: block;width: 100%;margin-bottom: 0;padding: 0.3em;box-sizing: border-box;text-align: center;}#sk-container-id-1 label.sk-toggleable__label-arrow:before {content: \"▸\";float: left;margin-right: 0.25em;color: #696969;}#sk-container-id-1 label.sk-toggleable__label-arrow:hover:before {color: black;}#sk-container-id-1 div.sk-estimator:hover label.sk-toggleable__label-arrow:before {color: black;}#sk-container-id-1 div.sk-toggleable__content {max-height: 0;max-width: 0;overflow: hidden;text-align: left;background-color: #f0f8ff;}#sk-container-id-1 div.sk-toggleable__content pre {margin: 0.2em;color: black;border-radius: 0.25em;background-color: #f0f8ff;}#sk-container-id-1 input.sk-toggleable__control:checked~div.sk-toggleable__content {max-height: 200px;max-width: 100%;overflow: auto;}#sk-container-id-1 input.sk-toggleable__control:checked~label.sk-toggleable__label-arrow:before {content: \"▾\";}#sk-container-id-1 div.sk-estimator input.sk-toggleable__control:checked~label.sk-toggleable__label {background-color: #d4ebff;}#sk-container-id-1 div.sk-label input.sk-toggleable__control:checked~label.sk-toggleable__label {background-color: #d4ebff;}#sk-container-id-1 input.sk-hidden--visually {border: 0;clip: rect(1px 1px 1px 1px);clip: rect(1px, 1px, 1px, 1px);height: 1px;margin: -1px;overflow: hidden;padding: 0;position: absolute;width: 1px;}#sk-container-id-1 div.sk-estimator {font-family: monospace;background-color: #f0f8ff;border: 1px dotted black;border-radius: 0.25em;box-sizing: border-box;margin-bottom: 0.5em;}#sk-container-id-1 div.sk-estimator:hover {background-color: #d4ebff;}#sk-container-id-1 div.sk-parallel-item::after {content: \"\";width: 100%;border-bottom: 1px solid gray;flex-grow: 1;}#sk-container-id-1 div.sk-label:hover label.sk-toggleable__label {background-color: #d4ebff;}#sk-container-id-1 div.sk-serial::before {content: \"\";position: absolute;border-left: 1px solid gray;box-sizing: border-box;top: 0;bottom: 0;left: 50%;z-index: 0;}#sk-container-id-1 div.sk-serial {display: flex;flex-direction: column;align-items: center;background-color: white;padding-right: 0.2em;padding-left: 0.2em;position: relative;}#sk-container-id-1 div.sk-item {position: relative;z-index: 1;}#sk-container-id-1 div.sk-parallel {display: flex;align-items: stretch;justify-content: center;background-color: white;position: relative;}#sk-container-id-1 div.sk-item::before, #sk-container-id-1 div.sk-parallel-item::before {content: \"\";position: absolute;border-left: 1px solid gray;box-sizing: border-box;top: 0;bottom: 0;left: 50%;z-index: -1;}#sk-container-id-1 div.sk-parallel-item {display: flex;flex-direction: column;z-index: 1;position: relative;background-color: white;}#sk-container-id-1 div.sk-parallel-item:first-child::after {align-self: flex-end;width: 50%;}#sk-container-id-1 div.sk-parallel-item:last-child::after {align-self: flex-start;width: 50%;}#sk-container-id-1 div.sk-parallel-item:only-child::after {width: 0;}#sk-container-id-1 div.sk-dashed-wrapped {border: 1px dashed gray;margin: 0 0.4em 0.5em 0.4em;box-sizing: border-box;padding-bottom: 0.4em;background-color: white;}#sk-container-id-1 div.sk-label label {font-family: monospace;font-weight: bold;display: inline-block;line-height: 1.2em;}#sk-container-id-1 div.sk-label-container {text-align: center;}#sk-container-id-1 div.sk-container {/* jupyter's `normalize.less` sets `[hidden] { display: none; }` but bootstrap.min.css set `[hidden] { display: none !important; }` so we also need the `!important` here to be able to override the default hidden behavior on the sphinx rendered scikit-learn.org. See: https://github.com/scikit-learn/scikit-learn/issues/21755 */display: inline-block !important;position: relative;}#sk-container-id-1 div.sk-text-repr-fallback {display: none;}</style><div id=\"sk-container-id-1\" class=\"sk-top-container\"><div class=\"sk-text-repr-fallback\"><pre>RandomizedSearchCV(cv=3, estimator=RandomForestRegressor(), n_iter=1500,\n",
              "                   n_jobs=-1,\n",
              "                   param_distributions={&#x27;bootstrap&#x27;: [True, False],\n",
              "                                        &#x27;max_depth&#x27;: [1, 2, 3, 4, 5, 6, 7, 8, 9,\n",
              "                                                      10, 11, 12, 13, 14, 15,\n",
              "                                                      16, None],\n",
              "                                        &#x27;max_features&#x27;: [1, 2, 3],\n",
              "                                        &#x27;min_samples_leaf&#x27;: [1, 2, 3, 4],\n",
              "                                        &#x27;min_samples_split&#x27;: [2, 3, 4, 5],\n",
              "                                        &#x27;n_estimators&#x27;: [1, 2, 3, 4, 5, 6, 7, 8,\n",
              "                                                         9, 10, 11, 12, 13, 14,\n",
              "                                                         15, 16, 17, 18, 19, 20,\n",
              "                                                         21, 22, 23, 24, 25, 26,\n",
              "                                                         27, 28, 29, 30, ...]},\n",
              "                   random_state=30139, refit=&#x27;r2&#x27;,\n",
              "                   scoring=[&#x27;r2&#x27;, &#x27;neg_root_mean_squared_error&#x27;], verbose=2)</pre><b>In a Jupyter environment, please rerun this cell to show the HTML representation or trust the notebook. <br />On GitHub, the HTML representation is unable to render, please try loading this page with nbviewer.org.</b></div><div class=\"sk-container\" hidden><div class=\"sk-item sk-dashed-wrapped\"><div class=\"sk-label-container\"><div class=\"sk-label sk-toggleable\"><input class=\"sk-toggleable__control sk-hidden--visually\" id=\"sk-estimator-id-1\" type=\"checkbox\" ><label for=\"sk-estimator-id-1\" class=\"sk-toggleable__label sk-toggleable__label-arrow\">RandomizedSearchCV</label><div class=\"sk-toggleable__content\"><pre>RandomizedSearchCV(cv=3, estimator=RandomForestRegressor(), n_iter=1500,\n",
              "                   n_jobs=-1,\n",
              "                   param_distributions={&#x27;bootstrap&#x27;: [True, False],\n",
              "                                        &#x27;max_depth&#x27;: [1, 2, 3, 4, 5, 6, 7, 8, 9,\n",
              "                                                      10, 11, 12, 13, 14, 15,\n",
              "                                                      16, None],\n",
              "                                        &#x27;max_features&#x27;: [1, 2, 3],\n",
              "                                        &#x27;min_samples_leaf&#x27;: [1, 2, 3, 4],\n",
              "                                        &#x27;min_samples_split&#x27;: [2, 3, 4, 5],\n",
              "                                        &#x27;n_estimators&#x27;: [1, 2, 3, 4, 5, 6, 7, 8,\n",
              "                                                         9, 10, 11, 12, 13, 14,\n",
              "                                                         15, 16, 17, 18, 19, 20,\n",
              "                                                         21, 22, 23, 24, 25, 26,\n",
              "                                                         27, 28, 29, 30, ...]},\n",
              "                   random_state=30139, refit=&#x27;r2&#x27;,\n",
              "                   scoring=[&#x27;r2&#x27;, &#x27;neg_root_mean_squared_error&#x27;], verbose=2)</pre></div></div></div><div class=\"sk-parallel\"><div class=\"sk-parallel-item\"><div class=\"sk-item\"><div class=\"sk-label-container\"><div class=\"sk-label sk-toggleable\"><input class=\"sk-toggleable__control sk-hidden--visually\" id=\"sk-estimator-id-2\" type=\"checkbox\" ><label for=\"sk-estimator-id-2\" class=\"sk-toggleable__label sk-toggleable__label-arrow\">estimator: RandomForestRegressor</label><div class=\"sk-toggleable__content\"><pre>RandomForestRegressor()</pre></div></div></div><div class=\"sk-serial\"><div class=\"sk-item\"><div class=\"sk-estimator sk-toggleable\"><input class=\"sk-toggleable__control sk-hidden--visually\" id=\"sk-estimator-id-3\" type=\"checkbox\" ><label for=\"sk-estimator-id-3\" class=\"sk-toggleable__label sk-toggleable__label-arrow\">RandomForestRegressor</label><div class=\"sk-toggleable__content\"><pre>RandomForestRegressor()</pre></div></div></div></div></div></div></div></div></div></div>"
            ]
          },
          "metadata": {},
          "execution_count": 13
        }
      ],
      "source": [
        "# Use the random grid to search for best hyperparameters\n",
        "# First create the base model to tune\n",
        "rf = RandomForestRegressor()\n",
        "# Random search of parameters, using 3 fold cross validation,\n",
        "# search across 100 different combinations, and use all available cores\n",
        "rf_random = RandomizedSearchCV(estimator = rf, param_distributions = random_grid, n_iter = 1500, cv = 3, verbose=2, scoring=['r2', 'neg_root_mean_squared_error'], refit = 'r2' , random_state=random, n_jobs = -1)\n",
        "# Fit the random search model\n",
        "rf_random.fit(X_train2, y_train)"
      ]
    },
    {
      "cell_type": "code",
      "execution_count": null,
      "metadata": {
        "colab": {
          "base_uri": "https://localhost:8080/"
        },
        "id": "cJ5QoUbvWdVp",
        "outputId": "05c8e3a3-86ce-47f4-b51e-ec1839b492a2"
      },
      "outputs": [
        {
          "output_type": "execute_result",
          "data": {
            "text/plain": [
              "{'n_estimators': 7,\n",
              " 'min_samples_split': 2,\n",
              " 'min_samples_leaf': 2,\n",
              " 'max_features': 2,\n",
              " 'max_depth': 12,\n",
              " 'bootstrap': True}"
            ]
          },
          "metadata": {},
          "execution_count": 14
        }
      ],
      "source": [
        "# Access the randomized hyperparameters and their values\n",
        "random_params = rf_random.cv_results_\n",
        "\n",
        "# Convert the randomized hyperparameters to a DataFrame\n",
        "hyperparameters_rand_df = pd.DataFrame(random_params)\n",
        "\n",
        "# Save the DataFrame to a CSV file\n",
        "hyperparameters_rand_df.to_csv('random_hyperparameters.csv')\n",
        "\n",
        "rf_random.best_params_"
      ]
    },
    {
      "cell_type": "code",
      "execution_count": null,
      "metadata": {
        "colab": {
          "base_uri": "https://localhost:8080/"
        },
        "id": "66cv5Y-3WhEH",
        "outputId": "c89e64a5-d8b8-41d2-80c8-ea9f44c091ef"
      },
      "outputs": [
        {
          "output_type": "stream",
          "name": "stdout",
          "text": [
            "Model Performance\n",
            "Average Error: 0.9936.\n",
            "Accuracy = 84.62%.\n"
          ]
        }
      ],
      "source": [
        "def evaluate(model, test_features, test_labels):\n",
        "    predictions = model.predict(test_features)\n",
        "    errors = abs(predictions - test_labels)\n",
        "    mape = 100 * np.mean(errors / test_labels)\n",
        "    accuracy = 100 - mape\n",
        "    print('Model Performance')\n",
        "    print('Average Error: {:0.4f}.'.format(np.mean(errors)))\n",
        "    print('Accuracy = {:0.2f}%.'.format(accuracy))\n",
        "\n",
        "    return accuracy\n",
        "base_model = RandomForestRegressor(n_estimators = 100, random_state = random)\n",
        "base_model.fit(X_train2, y_train)\n",
        "base_accuracy = evaluate(base_model, X_test2, y_test)"
      ]
    },
    {
      "cell_type": "code",
      "execution_count": null,
      "metadata": {
        "colab": {
          "base_uri": "https://localhost:8080/"
        },
        "id": "gIDEYEZ6WkXb",
        "outputId": "25cee3c0-7546-4544-bb68-81e5c7b7fdda"
      },
      "outputs": [
        {
          "output_type": "stream",
          "name": "stdout",
          "text": [
            "Model Performance\n",
            "Average Error: 1.3534.\n",
            "Accuracy = 77.38%.\n",
            "Improvement of -8.55%.\n"
          ]
        }
      ],
      "source": [
        "best_random = rf_random.best_estimator_\n",
        "random_accuracy = evaluate(best_random, X_test2, y_test)\n",
        "print('Improvement of {:0.2f}%.'.format( 100 * (random_accuracy - base_accuracy) / base_accuracy))"
      ]
    },
    {
      "cell_type": "markdown",
      "metadata": {
        "id": "gm-GiWGyWouM"
      },
      "source": [
        "GridSearch CV"
      ]
    },
    {
      "cell_type": "code",
      "execution_count": null,
      "metadata": {
        "id": "v38ZAlyKWrqj"
      },
      "outputs": [],
      "source": [
        "from pandas.core.generic import RandomState\n",
        "from sklearn.model_selection import GridSearchCV\n",
        "# Create the parameter grid based on the results of random search\n",
        "param_grid = {\n",
        "    'n_estimators': [50, 55, 60, 65, 70],\n",
        "    'min_samples_split': [2, 3, 4, 5],\n",
        "    'min_samples_leaf': [1, 2, 3],\n",
        "    'max_features': [1, 2, 3],\n",
        "    'max_depth': [3, 5, 7, 10, 15],\n",
        "    'bootstrap': [True, False],\n",
        "\n",
        "}\n",
        "# Create a based model\n",
        "rf = RandomForestRegressor(random_state= random)\n",
        "# Instantiate the grid search model\n",
        "grid_search = GridSearchCV(estimator = rf, param_grid = param_grid,\n",
        "                          cv = 3, n_jobs = -1, verbose = 2, scoring=['r2', 'neg_root_mean_squared_error'], refit = 'r2')"
      ]
    },
    {
      "cell_type": "code",
      "execution_count": null,
      "metadata": {
        "colab": {
          "base_uri": "https://localhost:8080/"
        },
        "id": "lftPbrMpWsh9",
        "outputId": "c42afa65-8cc1-4a93-c4ec-81f24f36dd21"
      },
      "outputs": [
        {
          "output_type": "stream",
          "name": "stdout",
          "text": [
            "Fitting 3 folds for each of 1800 candidates, totalling 5400 fits\n"
          ]
        },
        {
          "output_type": "execute_result",
          "data": {
            "text/plain": [
              "{'bootstrap': False,\n",
              " 'max_depth': 7,\n",
              " 'max_features': 1,\n",
              " 'min_samples_leaf': 1,\n",
              " 'min_samples_split': 3,\n",
              " 'n_estimators': 60}"
            ]
          },
          "metadata": {},
          "execution_count": 21
        }
      ],
      "source": [
        "# Fit the grid search to the data\n",
        "grid_search.fit(X_train1, y_train)\n",
        "grid_search.best_params_"
      ]
    },
    {
      "cell_type": "code",
      "execution_count": null,
      "metadata": {
        "colab": {
          "base_uri": "https://localhost:8080/"
        },
        "id": "VdEJa4NtWwWi",
        "outputId": "8580aba4-dabb-4530-bae2-b848870a8559"
      },
      "outputs": [
        {
          "output_type": "stream",
          "name": "stdout",
          "text": [
            "Model Performance\n",
            "Average Error: 0.5260.\n",
            "Accuracy = 92.63%.\n",
            "Model Performance\n",
            "Average Error: 0.4116.\n",
            "Accuracy = 94.01%.\n",
            "Improvement of 1.48%.\n"
          ]
        }
      ],
      "source": [
        "def evaluate(model, test_features, test_labels):\n",
        "    predictions = model.predict(test_features)\n",
        "    errors = abs(predictions - test_labels)\n",
        "    mape = 100 * np.mean(errors / test_labels)\n",
        "    accuracy = 100 - mape\n",
        "    print('Model Performance')\n",
        "    print('Average Error: {:0.4f}.'.format(np.mean(errors)))\n",
        "    print('Accuracy = {:0.2f}%.'.format(accuracy))\n",
        "\n",
        "    return accuracy\n",
        "base_model = RandomForestRegressor(n_estimators = 100, random_state = random)\n",
        "base_model.fit(X_train1, y_train)\n",
        "base_accuracy = evaluate(base_model, X_test1, y_test)\n",
        "\n",
        "best_grid = grid_search.best_estimator_\n",
        "grid_accuracy = evaluate(best_grid, X_test1, y_test)\n",
        "\n",
        "\n",
        "print('Improvement of {:0.2f}%.'.format( 100 * (grid_accuracy - base_accuracy) / base_accuracy))\n",
        "results = grid_search.cv_results_"
      ]
    },
    {
      "cell_type": "code",
      "execution_count": null,
      "metadata": {
        "id": "I2tMzwE4W1Gj"
      },
      "outputs": [],
      "source": [
        "# Access the randomized hyperparameters and their values\n",
        "grids_params = grid_search.cv_results_\n",
        "\n",
        "# Convert the randomized hyperparameters to a DataFrame\n",
        "hyperparameters_df = pd.DataFrame(grids_params)\n",
        "\n",
        "# Save the DataFrame to a CSV file\n",
        "hyperparameters_df.to_csv('grids_hyperparameters.csv')"
      ]
    },
    {
      "cell_type": "markdown",
      "metadata": {
        "id": "sZx6ogdKNUgm"
      },
      "source": [
        "# RF BAYESIAN OPTIMIZATION"
      ]
    },
    {
      "cell_type": "markdown",
      "metadata": {
        "id": "LztXL3IWKHRJ"
      },
      "source": [
        "from: https://drlee.io/step-by-step-guide-bayesian-optimization-with-random-forest-fdc6f329db9c"
      ]
    },
    {
      "cell_type": "code",
      "execution_count": null,
      "metadata": {
        "colab": {
          "base_uri": "https://localhost:8080/"
        },
        "id": "rY_vYBddNbYJ",
        "outputId": "94024cbd-2904-4c17-dac1-289649361ce3"
      },
      "outputs": [
        {
          "output_type": "stream",
          "name": "stdout",
          "text": [
            "Collecting bayesian-optimization\n",
            "  Downloading bayesian_optimization-1.4.3-py3-none-any.whl (18 kB)\n",
            "Requirement already satisfied: scikit-learn in /usr/local/lib/python3.10/dist-packages (1.2.2)\n",
            "Requirement already satisfied: pandas in /usr/local/lib/python3.10/dist-packages (1.5.3)\n",
            "Requirement already satisfied: numpy>=1.9.0 in /usr/local/lib/python3.10/dist-packages (from bayesian-optimization) (1.23.5)\n",
            "Requirement already satisfied: scipy>=1.0.0 in /usr/local/lib/python3.10/dist-packages (from bayesian-optimization) (1.11.3)\n",
            "Collecting colorama>=0.4.6 (from bayesian-optimization)\n",
            "  Downloading colorama-0.4.6-py2.py3-none-any.whl (25 kB)\n",
            "Requirement already satisfied: joblib>=1.1.1 in /usr/local/lib/python3.10/dist-packages (from scikit-learn) (1.3.2)\n",
            "Requirement already satisfied: threadpoolctl>=2.0.0 in /usr/local/lib/python3.10/dist-packages (from scikit-learn) (3.2.0)\n",
            "Requirement already satisfied: python-dateutil>=2.8.1 in /usr/local/lib/python3.10/dist-packages (from pandas) (2.8.2)\n",
            "Requirement already satisfied: pytz>=2020.1 in /usr/local/lib/python3.10/dist-packages (from pandas) (2023.3.post1)\n",
            "Requirement already satisfied: six>=1.5 in /usr/local/lib/python3.10/dist-packages (from python-dateutil>=2.8.1->pandas) (1.16.0)\n",
            "Installing collected packages: colorama, bayesian-optimization\n",
            "Successfully installed bayesian-optimization-1.4.3 colorama-0.4.6\n"
          ]
        }
      ],
      "source": [
        "!pip install bayesian-optimization scikit-learn pandas"
      ]
    },
    {
      "cell_type": "code",
      "execution_count": null,
      "metadata": {
        "id": "O7mD81ZeNhA_"
      },
      "outputs": [],
      "source": [
        "from sklearn.ensemble import RandomForestRegressor\n",
        "from sklearn.model_selection import cross_val_score\n",
        "from bayes_opt import BayesianOptimization"
      ]
    },
    {
      "cell_type": "code",
      "execution_count": null,
      "metadata": {
        "id": "8YJp72xDX_eC"
      },
      "outputs": [],
      "source": [
        "def objective(n_estimators, max_depth, min_samples_split, max_features):\n",
        "    model = RandomForestRegressor(n_estimators=int(n_estimators),\n",
        "                                  max_depth=int(max_depth),\n",
        "                                  min_samples_split=int(min_samples_split),\n",
        "                                  max_features=min(max_features, 0.999),  # Fraction, must be <= 1.0\n",
        "                                  random_state=random)\n",
        "\n",
        "    return -1.0 * cross_val_score(model, X_train, y_train, cv=4, scoring=\"neg_mean_squared_error\").mean()"
      ]
    },
    {
      "cell_type": "code",
      "execution_count": null,
      "metadata": {
        "id": "aTfnamxpKLxH",
        "colab": {
          "base_uri": "https://localhost:8080/"
        },
        "outputId": "3c2c826c-74f2-4e52-a5b4-e51f05641bcd"
      },
      "outputs": [
        {
          "output_type": "stream",
          "name": "stdout",
          "text": [
            "|   iter    |  target   | max_depth | max_fe... | min_sa... | n_esti... |\n",
            "-------------------------------------------------------------------------\n",
            "| \u001b[0m1        \u001b[0m | \u001b[0m1.251    \u001b[0m | \u001b[0m2.925    \u001b[0m | \u001b[0m0.8763   \u001b[0m | \u001b[0m3.848    \u001b[0m | \u001b[0m223.2    \u001b[0m |\n",
            "| \u001b[95m2        \u001b[0m | \u001b[95m1.852    \u001b[0m | \u001b[95m6.491    \u001b[0m | \u001b[95m0.9446   \u001b[0m | \u001b[95m10.03    \u001b[0m | \u001b[95m209.7    \u001b[0m |\n",
            "| \u001b[0m3        \u001b[0m | \u001b[0m1.195    \u001b[0m | \u001b[0m12.24    \u001b[0m | \u001b[0m0.5216   \u001b[0m | \u001b[0m4.65     \u001b[0m | \u001b[0m48.6     \u001b[0m |\n",
            "| \u001b[95m4        \u001b[0m | \u001b[95m1.853    \u001b[0m | \u001b[95m6.857    \u001b[0m | \u001b[95m0.3387   \u001b[0m | \u001b[95m10.98    \u001b[0m | \u001b[95m230.7    \u001b[0m |\n",
            "| \u001b[95m5        \u001b[0m | \u001b[95m1.915    \u001b[0m | \u001b[95m1.012    \u001b[0m | \u001b[95m0.9615   \u001b[0m | \u001b[95m11.6     \u001b[0m | \u001b[95m136.2    \u001b[0m |\n",
            "| \u001b[95m6        \u001b[0m | \u001b[95m1.953    \u001b[0m | \u001b[95m10.04    \u001b[0m | \u001b[95m0.6085   \u001b[0m | \u001b[95m12.45    \u001b[0m | \u001b[95m75.64    \u001b[0m |\n",
            "| \u001b[0m7        \u001b[0m | \u001b[0m1.235    \u001b[0m | \u001b[0m6.812    \u001b[0m | \u001b[0m0.7088   \u001b[0m | \u001b[0m6.612    \u001b[0m | \u001b[0m219.6    \u001b[0m |\n",
            "| \u001b[0m8        \u001b[0m | \u001b[0m1.513    \u001b[0m | \u001b[0m10.29    \u001b[0m | \u001b[0m0.2695   \u001b[0m | \u001b[0m9.184    \u001b[0m | \u001b[0m80.96    \u001b[0m |\n",
            "| \u001b[95m9        \u001b[0m | \u001b[95m1.959    \u001b[0m | \u001b[95m9.859    \u001b[0m | \u001b[95m0.8533   \u001b[0m | \u001b[95m14.81    \u001b[0m | \u001b[95m71.83    \u001b[0m |\n",
            "| \u001b[0m10       \u001b[0m | \u001b[0m1.81     \u001b[0m | \u001b[0m15.0     \u001b[0m | \u001b[0m0.999    \u001b[0m | \u001b[0m10.02    \u001b[0m | \u001b[0m70.62    \u001b[0m |\n",
            "| \u001b[0m11       \u001b[0m | \u001b[0m1.552    \u001b[0m | \u001b[0m3.987    \u001b[0m | \u001b[0m0.999    \u001b[0m | \u001b[0m9.993    \u001b[0m | \u001b[0m70.9     \u001b[0m |\n",
            "| \u001b[0m12       \u001b[0m | \u001b[0m1.953    \u001b[0m | \u001b[0m15.0     \u001b[0m | \u001b[0m0.999    \u001b[0m | \u001b[0m15.0     \u001b[0m | \u001b[0m75.33    \u001b[0m |\n",
            "| \u001b[0m13       \u001b[0m | \u001b[0m1.949    \u001b[0m | \u001b[0m6.954    \u001b[0m | \u001b[0m0.5855   \u001b[0m | \u001b[0m14.48    \u001b[0m | \u001b[0m238.9    \u001b[0m |\n",
            "| \u001b[0m14       \u001b[0m | \u001b[0m1.859    \u001b[0m | \u001b[0m15.0     \u001b[0m | \u001b[0m0.1      \u001b[0m | \u001b[0m10.99    \u001b[0m | \u001b[0m237.2    \u001b[0m |\n",
            "| \u001b[0m15       \u001b[0m | \u001b[0m1.141    \u001b[0m | \u001b[0m5.109    \u001b[0m | \u001b[0m0.2423   \u001b[0m | \u001b[0m5.698    \u001b[0m | \u001b[0m241.7    \u001b[0m |\n",
            "| \u001b[0m16       \u001b[0m | \u001b[0m1.944    \u001b[0m | \u001b[0m14.88    \u001b[0m | \u001b[0m0.1651   \u001b[0m | \u001b[0m13.9     \u001b[0m | \u001b[0m230.8    \u001b[0m |\n",
            "| \u001b[0m17       \u001b[0m | \u001b[0m1.946    \u001b[0m | \u001b[0m6.846    \u001b[0m | \u001b[0m0.999    \u001b[0m | \u001b[0m13.72    \u001b[0m | \u001b[0m200.7    \u001b[0m |\n",
            "| \u001b[0m18       \u001b[0m | \u001b[0m1.29     \u001b[0m | \u001b[0m7.795    \u001b[0m | \u001b[0m0.999    \u001b[0m | \u001b[0m4.104    \u001b[0m | \u001b[0m200.1    \u001b[0m |\n",
            "| \u001b[0m19       \u001b[0m | \u001b[0m1.95     \u001b[0m | \u001b[0m12.23    \u001b[0m | \u001b[0m0.1      \u001b[0m | \u001b[0m15.0     \u001b[0m | \u001b[0m206.2    \u001b[0m |\n",
            "| \u001b[0m20       \u001b[0m | \u001b[0m1.95     \u001b[0m | \u001b[0m1.0      \u001b[0m | \u001b[0m0.1      \u001b[0m | \u001b[0m15.0     \u001b[0m | \u001b[0m206.0    \u001b[0m |\n",
            "| \u001b[0m21       \u001b[0m | \u001b[0m1.263    \u001b[0m | \u001b[0m8.341    \u001b[0m | \u001b[0m0.9426   \u001b[0m | \u001b[0m3.761    \u001b[0m | \u001b[0m136.0    \u001b[0m |\n",
            "| \u001b[0m22       \u001b[0m | \u001b[0m1.938    \u001b[0m | \u001b[0m1.0      \u001b[0m | \u001b[0m0.999    \u001b[0m | \u001b[0m15.0     \u001b[0m | \u001b[0m144.7    \u001b[0m |\n",
            "| \u001b[0m23       \u001b[0m | \u001b[0m1.943    \u001b[0m | \u001b[0m1.0      \u001b[0m | \u001b[0m0.1      \u001b[0m | \u001b[0m15.0     \u001b[0m | \u001b[0m155.6    \u001b[0m |\n",
            "| \u001b[0m24       \u001b[0m | \u001b[0m1.946    \u001b[0m | \u001b[0m10.29    \u001b[0m | \u001b[0m0.4056   \u001b[0m | \u001b[0m13.86    \u001b[0m | \u001b[0m153.7    \u001b[0m |\n",
            "| \u001b[0m25       \u001b[0m | \u001b[0m1.942    \u001b[0m | \u001b[0m8.113    \u001b[0m | \u001b[0m0.999    \u001b[0m | \u001b[0m15.0     \u001b[0m | \u001b[0m163.9    \u001b[0m |\n",
            "| \u001b[0m26       \u001b[0m | \u001b[0m1.279    \u001b[0m | \u001b[0m5.384    \u001b[0m | \u001b[0m0.999    \u001b[0m | \u001b[0m5.693    \u001b[0m | \u001b[0m159.3    \u001b[0m |\n",
            "| \u001b[0m27       \u001b[0m | \u001b[0m1.942    \u001b[0m | \u001b[0m15.0     \u001b[0m | \u001b[0m0.1      \u001b[0m | \u001b[0m15.0     \u001b[0m | \u001b[0m170.1    \u001b[0m |\n",
            "| \u001b[0m28       \u001b[0m | \u001b[0m1.938    \u001b[0m | \u001b[0m6.186    \u001b[0m | \u001b[0m0.1      \u001b[0m | \u001b[0m15.0     \u001b[0m | \u001b[0m174.3    \u001b[0m |\n",
            "| \u001b[0m29       \u001b[0m | \u001b[0m1.939    \u001b[0m | \u001b[0m14.45    \u001b[0m | \u001b[0m0.999    \u001b[0m | \u001b[0m15.0     \u001b[0m | \u001b[0m180.8    \u001b[0m |\n",
            "| \u001b[0m30       \u001b[0m | \u001b[0m1.94     \u001b[0m | \u001b[0m4.528    \u001b[0m | \u001b[0m0.1      \u001b[0m | \u001b[0m15.0     \u001b[0m | \u001b[0m185.7    \u001b[0m |\n",
            "| \u001b[0m31       \u001b[0m | \u001b[0m1.116    \u001b[0m | \u001b[0m9.86     \u001b[0m | \u001b[0m0.1      \u001b[0m | \u001b[0m6.299    \u001b[0m | \u001b[0m179.2    \u001b[0m |\n",
            "| \u001b[0m32       \u001b[0m | \u001b[0m1.944    \u001b[0m | \u001b[0m1.0      \u001b[0m | \u001b[0m0.1      \u001b[0m | \u001b[0m15.0     \u001b[0m | \u001b[0m194.3    \u001b[0m |\n",
            "| \u001b[0m33       \u001b[0m | \u001b[0m1.942    \u001b[0m | \u001b[0m10.71    \u001b[0m | \u001b[0m0.2998   \u001b[0m | \u001b[0m14.94    \u001b[0m | \u001b[0m191.9    \u001b[0m |\n",
            "| \u001b[0m34       \u001b[0m | \u001b[0m1.928    \u001b[0m | \u001b[0m1.0      \u001b[0m | \u001b[0m0.999    \u001b[0m | \u001b[0m15.0     \u001b[0m | \u001b[0m125.4    \u001b[0m |\n",
            "| \u001b[0m35       \u001b[0m | \u001b[0m1.938    \u001b[0m | \u001b[0m1.0      \u001b[0m | \u001b[0m0.5931   \u001b[0m | \u001b[0m15.0     \u001b[0m | \u001b[0m113.5    \u001b[0m |\n",
            "| \u001b[0m36       \u001b[0m | \u001b[0m1.933    \u001b[0m | \u001b[0m11.14    \u001b[0m | \u001b[0m0.999    \u001b[0m | \u001b[0m15.0     \u001b[0m | \u001b[0m117.1    \u001b[0m |\n",
            "| \u001b[0m37       \u001b[0m | \u001b[0m1.139    \u001b[0m | \u001b[0m6.568    \u001b[0m | \u001b[0m0.2943   \u001b[0m | \u001b[0m5.399    \u001b[0m | \u001b[0m112.3    \u001b[0m |\n",
            "| \u001b[0m38       \u001b[0m | \u001b[0m1.947    \u001b[0m | \u001b[0m15.0     \u001b[0m | \u001b[0m0.1      \u001b[0m | \u001b[0m15.0     \u001b[0m | \u001b[0m160.2    \u001b[0m |\n",
            "| \u001b[0m39       \u001b[0m | \u001b[0m1.928    \u001b[0m | \u001b[0m15.0     \u001b[0m | \u001b[0m0.1      \u001b[0m | \u001b[0m15.0     \u001b[0m | \u001b[0m125.9    \u001b[0m |\n",
            "| \u001b[95m40       \u001b[0m | \u001b[95m2.025    \u001b[0m | \u001b[95m1.166    \u001b[0m | \u001b[95m0.3638   \u001b[0m | \u001b[95m11.42    \u001b[0m | \u001b[95m10.13    \u001b[0m |\n",
            "| \u001b[0m41       \u001b[0m | \u001b[0m0.8986   \u001b[0m | \u001b[0m4.818    \u001b[0m | \u001b[0m0.5565   \u001b[0m | \u001b[0m2.467    \u001b[0m | \u001b[0m10.24    \u001b[0m |\n",
            "| \u001b[95m42       \u001b[0m | \u001b[95m2.087    \u001b[0m | \u001b[95m1.627    \u001b[0m | \u001b[95m0.6471   \u001b[0m | \u001b[95m14.59    \u001b[0m | \u001b[95m14.29    \u001b[0m |\n",
            "| \u001b[0m43       \u001b[0m | \u001b[0m2.028    \u001b[0m | \u001b[0m1.0      \u001b[0m | \u001b[0m0.1      \u001b[0m | \u001b[0m15.0     \u001b[0m | \u001b[0m23.99    \u001b[0m |\n",
            "| \u001b[0m44       \u001b[0m | \u001b[0m2.027    \u001b[0m | \u001b[0m10.79    \u001b[0m | \u001b[0m0.9613   \u001b[0m | \u001b[0m14.98    \u001b[0m | \u001b[0m25.1     \u001b[0m |\n",
            "| \u001b[0m45       \u001b[0m | \u001b[0m1.984    \u001b[0m | \u001b[0m5.033    \u001b[0m | \u001b[0m0.1      \u001b[0m | \u001b[0m15.0     \u001b[0m | \u001b[0m32.57    \u001b[0m |\n",
            "| \u001b[0m46       \u001b[0m | \u001b[0m1.218    \u001b[0m | \u001b[0m5.409    \u001b[0m | \u001b[0m0.999    \u001b[0m | \u001b[0m7.127    \u001b[0m | \u001b[0m28.1     \u001b[0m |\n",
            "| \u001b[0m47       \u001b[0m | \u001b[0m2.031    \u001b[0m | \u001b[0m9.716    \u001b[0m | \u001b[0m0.1      \u001b[0m | \u001b[0m15.0     \u001b[0m | \u001b[0m16.6     \u001b[0m |\n",
            "| \u001b[0m48       \u001b[0m | \u001b[0m1.938    \u001b[0m | \u001b[0m14.51    \u001b[0m | \u001b[0m0.6303   \u001b[0m | \u001b[0m14.62    \u001b[0m | \u001b[0m144.1    \u001b[0m |\n",
            "| \u001b[0m49       \u001b[0m | \u001b[0m2.025    \u001b[0m | \u001b[0m6.949    \u001b[0m | \u001b[0m0.5567   \u001b[0m | \u001b[0m15.0     \u001b[0m | \u001b[0m10.38    \u001b[0m |\n",
            "| \u001b[0m50       \u001b[0m | \u001b[0m1.935    \u001b[0m | \u001b[0m1.0      \u001b[0m | \u001b[0m0.999    \u001b[0m | \u001b[0m15.0     \u001b[0m | \u001b[0m98.42    \u001b[0m |\n",
            "| \u001b[0m51       \u001b[0m | \u001b[0m1.968    \u001b[0m | \u001b[0m15.0     \u001b[0m | \u001b[0m0.1      \u001b[0m | \u001b[0m15.0     \u001b[0m | \u001b[0m33.44    \u001b[0m |\n",
            "| \u001b[0m52       \u001b[0m | \u001b[0m1.931    \u001b[0m | \u001b[0m15.0     \u001b[0m | \u001b[0m0.999    \u001b[0m | \u001b[0m15.0     \u001b[0m | \u001b[0m99.2     \u001b[0m |\n",
            "| \u001b[0m53       \u001b[0m | \u001b[0m1.942    \u001b[0m | \u001b[0m1.0      \u001b[0m | \u001b[0m0.1      \u001b[0m | \u001b[0m15.0     \u001b[0m | \u001b[0m41.44    \u001b[0m |\n",
            "| \u001b[0m54       \u001b[0m | \u001b[0m1.184    \u001b[0m | \u001b[0m1.0      \u001b[0m | \u001b[0m0.999    \u001b[0m | \u001b[0m2.0      \u001b[0m | \u001b[0m94.18    \u001b[0m |\n",
            "| \u001b[0m55       \u001b[0m | \u001b[0m1.945    \u001b[0m | \u001b[0m14.13    \u001b[0m | \u001b[0m0.5533   \u001b[0m | \u001b[0m14.28    \u001b[0m | \u001b[0m249.4    \u001b[0m |\n",
            "| \u001b[0m56       \u001b[0m | \u001b[0m2.015    \u001b[0m | \u001b[0m15.0     \u001b[0m | \u001b[0m0.1      \u001b[0m | \u001b[0m15.0     \u001b[0m | \u001b[0m20.34    \u001b[0m |\n",
            "| \u001b[0m57       \u001b[0m | \u001b[0m1.955    \u001b[0m | \u001b[0m1.0      \u001b[0m | \u001b[0m0.1      \u001b[0m | \u001b[0m15.0     \u001b[0m | \u001b[0m54.08    \u001b[0m |\n",
            "| \u001b[0m58       \u001b[0m | \u001b[0m1.947    \u001b[0m | \u001b[0m1.0      \u001b[0m | \u001b[0m0.1      \u001b[0m | \u001b[0m15.0     \u001b[0m | \u001b[0m232.5    \u001b[0m |\n",
            "| \u001b[0m59       \u001b[0m | \u001b[0m2.025    \u001b[0m | \u001b[0m15.0     \u001b[0m | \u001b[0m0.1      \u001b[0m | \u001b[0m15.0     \u001b[0m | \u001b[0m10.0     \u001b[0m |\n",
            "| \u001b[0m60       \u001b[0m | \u001b[0m1.945    \u001b[0m | \u001b[0m15.0     \u001b[0m | \u001b[0m0.8799   \u001b[0m | \u001b[0m14.92    \u001b[0m | \u001b[0m217.5    \u001b[0m |\n",
            "| \u001b[0m61       \u001b[0m | \u001b[0m1.941    \u001b[0m | \u001b[0m1.0      \u001b[0m | \u001b[0m0.999    \u001b[0m | \u001b[0m15.0     \u001b[0m | \u001b[0m168.3    \u001b[0m |\n",
            "| \u001b[0m62       \u001b[0m | \u001b[0m1.93     \u001b[0m | \u001b[0m7.802    \u001b[0m | \u001b[0m0.1      \u001b[0m | \u001b[0m15.0     \u001b[0m | \u001b[0m104.9    \u001b[0m |\n",
            "| \u001b[0m63       \u001b[0m | \u001b[0m1.93     \u001b[0m | \u001b[0m14.69    \u001b[0m | \u001b[0m0.2461   \u001b[0m | \u001b[0m14.98    \u001b[0m | \u001b[0m109.8    \u001b[0m |\n",
            "| \u001b[0m64       \u001b[0m | \u001b[0m1.931    \u001b[0m | \u001b[0m8.198    \u001b[0m | \u001b[0m0.1      \u001b[0m | \u001b[0m15.0     \u001b[0m | \u001b[0m134.4    \u001b[0m |\n",
            "| \u001b[0m65       \u001b[0m | \u001b[0m1.945    \u001b[0m | \u001b[0m3.645    \u001b[0m | \u001b[0m0.7352   \u001b[0m | \u001b[0m14.68    \u001b[0m | \u001b[0m249.7    \u001b[0m |\n",
            "| \u001b[0m66       \u001b[0m | \u001b[0m1.943    \u001b[0m | \u001b[0m15.0     \u001b[0m | \u001b[0m0.1      \u001b[0m | \u001b[0m15.0     \u001b[0m | \u001b[0m59.53    \u001b[0m |\n",
            "| \u001b[0m67       \u001b[0m | \u001b[0m1.943    \u001b[0m | \u001b[0m7.281    \u001b[0m | \u001b[0m0.935    \u001b[0m | \u001b[0m14.93    \u001b[0m | \u001b[0m59.73    \u001b[0m |\n",
            "| \u001b[0m68       \u001b[0m | \u001b[0m1.942    \u001b[0m | \u001b[0m10.31    \u001b[0m | \u001b[0m0.1      \u001b[0m | \u001b[0m15.0     \u001b[0m | \u001b[0m41.7     \u001b[0m |\n",
            "| \u001b[0m69       \u001b[0m | \u001b[0m1.947    \u001b[0m | \u001b[0m1.0      \u001b[0m | \u001b[0m0.999    \u001b[0m | \u001b[0m15.0     \u001b[0m | \u001b[0m215.3    \u001b[0m |\n",
            "| \u001b[0m70       \u001b[0m | \u001b[0m1.956    \u001b[0m | \u001b[0m1.0      \u001b[0m | \u001b[0m0.1      \u001b[0m | \u001b[0m15.0     \u001b[0m | \u001b[0m83.51    \u001b[0m |\n",
            "| \u001b[0m71       \u001b[0m | \u001b[0m1.952    \u001b[0m | \u001b[0m7.768    \u001b[0m | \u001b[0m0.1      \u001b[0m | \u001b[0m15.0     \u001b[0m | \u001b[0m92.33    \u001b[0m |\n",
            "| \u001b[0m72       \u001b[0m | \u001b[0m1.958    \u001b[0m | \u001b[0m15.0     \u001b[0m | \u001b[0m0.999    \u001b[0m | \u001b[0m15.0     \u001b[0m | \u001b[0m89.27    \u001b[0m |\n",
            "| \u001b[0m73       \u001b[0m | \u001b[0m1.95     \u001b[0m | \u001b[0m15.0     \u001b[0m | \u001b[0m0.1      \u001b[0m | \u001b[0m15.0     \u001b[0m | \u001b[0m198.2    \u001b[0m |\n",
            "| \u001b[0m74       \u001b[0m | \u001b[0m1.948    \u001b[0m | \u001b[0m7.511    \u001b[0m | \u001b[0m0.1      \u001b[0m | \u001b[0m15.0     \u001b[0m | \u001b[0m212.1    \u001b[0m |\n",
            "| \u001b[0m75       \u001b[0m | \u001b[0m1.947    \u001b[0m | \u001b[0m8.942    \u001b[0m | \u001b[0m0.999    \u001b[0m | \u001b[0m15.0     \u001b[0m | \u001b[0m232.7    \u001b[0m |\n",
            "| \u001b[0m76       \u001b[0m | \u001b[0m1.958    \u001b[0m | \u001b[0m15.0     \u001b[0m | \u001b[0m0.999    \u001b[0m | \u001b[0m15.0     \u001b[0m | \u001b[0m50.67    \u001b[0m |\n",
            "| \u001b[0m77       \u001b[0m | \u001b[0m1.959    \u001b[0m | \u001b[0m7.191    \u001b[0m | \u001b[0m0.1326   \u001b[0m | \u001b[0m14.97    \u001b[0m | \u001b[0m49.07    \u001b[0m |\n",
            "| \u001b[0m78       \u001b[0m | \u001b[0m2.072    \u001b[0m | \u001b[0m1.189    \u001b[0m | \u001b[0m0.584    \u001b[0m | \u001b[0m14.92    \u001b[0m | \u001b[0m11.56    \u001b[0m |\n",
            "| \u001b[0m79       \u001b[0m | \u001b[0m1.12     \u001b[0m | \u001b[0m15.0     \u001b[0m | \u001b[0m0.1      \u001b[0m | \u001b[0m2.0      \u001b[0m | \u001b[0m250.0    \u001b[0m |\n",
            "| \u001b[0m80       \u001b[0m | \u001b[0m1.943    \u001b[0m | \u001b[0m13.59    \u001b[0m | \u001b[0m0.135    \u001b[0m | \u001b[0m14.96    \u001b[0m | \u001b[0m243.6    \u001b[0m |\n",
            "| \u001b[0m81       \u001b[0m | \u001b[0m1.954    \u001b[0m | \u001b[0m7.201    \u001b[0m | \u001b[0m0.8776   \u001b[0m | \u001b[0m14.94    \u001b[0m | \u001b[0m79.26    \u001b[0m |\n",
            "| \u001b[0m82       \u001b[0m | \u001b[0m1.945    \u001b[0m | \u001b[0m15.0     \u001b[0m | \u001b[0m0.1      \u001b[0m | \u001b[0m15.0     \u001b[0m | \u001b[0m151.3    \u001b[0m |\n",
            "| \u001b[0m83       \u001b[0m | \u001b[0m1.939    \u001b[0m | \u001b[0m1.211    \u001b[0m | \u001b[0m0.3271   \u001b[0m | \u001b[0m14.95    \u001b[0m | \u001b[0m180.4    \u001b[0m |\n",
            "| \u001b[0m84       \u001b[0m | \u001b[0m1.94     \u001b[0m | \u001b[0m1.0      \u001b[0m | \u001b[0m0.1      \u001b[0m | \u001b[0m15.0     \u001b[0m | \u001b[0m224.7    \u001b[0m |\n",
            "| \u001b[0m85       \u001b[0m | \u001b[0m1.932    \u001b[0m | \u001b[0m1.0      \u001b[0m | \u001b[0m0.1      \u001b[0m | \u001b[0m15.0     \u001b[0m | \u001b[0m133.2    \u001b[0m |\n",
            "| \u001b[0m86       \u001b[0m | \u001b[0m1.938    \u001b[0m | \u001b[0m7.89     \u001b[0m | \u001b[0m0.1      \u001b[0m | \u001b[0m15.0     \u001b[0m | \u001b[0m146.4    \u001b[0m |\n",
            "| \u001b[0m87       \u001b[0m | \u001b[0m2.015    \u001b[0m | \u001b[0m5.569    \u001b[0m | \u001b[0m0.1906   \u001b[0m | \u001b[0m14.65    \u001b[0m | \u001b[0m20.38    \u001b[0m |\n",
            "| \u001b[0m88       \u001b[0m | \u001b[0m1.943    \u001b[0m | \u001b[0m1.0      \u001b[0m | \u001b[0m0.1      \u001b[0m | \u001b[0m15.0     \u001b[0m | \u001b[0m242.9    \u001b[0m |\n",
            "| \u001b[0m89       \u001b[0m | \u001b[0m1.928    \u001b[0m | \u001b[0m7.888    \u001b[0m | \u001b[0m0.1      \u001b[0m | \u001b[0m15.0     \u001b[0m | \u001b[0m124.6    \u001b[0m |\n",
            "| \u001b[0m90       \u001b[0m | \u001b[0m1.933    \u001b[0m | \u001b[0m14.54    \u001b[0m | \u001b[0m0.9176   \u001b[0m | \u001b[0m14.99    \u001b[0m | \u001b[0m135.3    \u001b[0m |\n",
            "| \u001b[0m91       \u001b[0m | \u001b[0m1.958    \u001b[0m | \u001b[0m1.504    \u001b[0m | \u001b[0m0.5665   \u001b[0m | \u001b[0m14.93    \u001b[0m | \u001b[0m89.76    \u001b[0m |\n",
            "| \u001b[0m92       \u001b[0m | \u001b[0m2.087    \u001b[0m | \u001b[0m15.0     \u001b[0m | \u001b[0m0.999    \u001b[0m | \u001b[0m15.0     \u001b[0m | \u001b[0m14.7     \u001b[0m |\n",
            "| \u001b[0m93       \u001b[0m | \u001b[0m1.93     \u001b[0m | \u001b[0m1.0      \u001b[0m | \u001b[0m0.999    \u001b[0m | \u001b[0m15.0     \u001b[0m | \u001b[0m106.2    \u001b[0m |\n",
            "| \u001b[0m94       \u001b[0m | \u001b[0m1.94     \u001b[0m | \u001b[0m15.0     \u001b[0m | \u001b[0m0.999    \u001b[0m | \u001b[0m15.0     \u001b[0m | \u001b[0m224.2    \u001b[0m |\n",
            "| \u001b[0m95       \u001b[0m | \u001b[0m2.033    \u001b[0m | \u001b[0m1.0      \u001b[0m | \u001b[0m0.999    \u001b[0m | \u001b[0m15.0     \u001b[0m | \u001b[0m18.75    \u001b[0m |\n",
            "| \u001b[0m96       \u001b[0m | \u001b[0m1.943    \u001b[0m | \u001b[0m15.0     \u001b[0m | \u001b[0m0.999    \u001b[0m | \u001b[0m15.0     \u001b[0m | \u001b[0m188.2    \u001b[0m |\n",
            "| \u001b[0m97       \u001b[0m | \u001b[0m1.974    \u001b[0m | \u001b[0m1.0      \u001b[0m | \u001b[0m0.1      \u001b[0m | \u001b[0m15.0     \u001b[0m | \u001b[0m31.4     \u001b[0m |\n",
            "| \u001b[0m98       \u001b[0m | \u001b[0m2.008    \u001b[0m | \u001b[0m15.0     \u001b[0m | \u001b[0m0.999    \u001b[0m | \u001b[0m15.0     \u001b[0m | \u001b[0m27.28    \u001b[0m |\n",
            "| \u001b[0m99       \u001b[0m | \u001b[0m1.955    \u001b[0m | \u001b[0m10.14    \u001b[0m | \u001b[0m0.1      \u001b[0m | \u001b[0m15.0     \u001b[0m | \u001b[0m54.8     \u001b[0m |\n",
            "| \u001b[0m100      \u001b[0m | \u001b[0m1.945    \u001b[0m | \u001b[0m9.301    \u001b[0m | \u001b[0m0.1187   \u001b[0m | \u001b[0m14.75    \u001b[0m | \u001b[0m250.0    \u001b[0m |\n",
            "| \u001b[0m101      \u001b[0m | \u001b[0m2.007    \u001b[0m | \u001b[0m5.217    \u001b[0m | \u001b[0m0.999    \u001b[0m | \u001b[0m15.0     \u001b[0m | \u001b[0m26.61    \u001b[0m |\n",
            "| \u001b[0m102      \u001b[0m | \u001b[0m2.068    \u001b[0m | \u001b[0m4.025    \u001b[0m | \u001b[0m0.295    \u001b[0m | \u001b[0m14.79    \u001b[0m | \u001b[0m15.27    \u001b[0m |\n",
            "| \u001b[0m103      \u001b[0m | \u001b[0m1.95     \u001b[0m | \u001b[0m7.395    \u001b[0m | \u001b[0m0.2444   \u001b[0m | \u001b[0m14.99    \u001b[0m | \u001b[0m206.5    \u001b[0m |\n",
            "| \u001b[0m104      \u001b[0m | \u001b[0m1.965    \u001b[0m | \u001b[0m1.0      \u001b[0m | \u001b[0m0.999    \u001b[0m | \u001b[0m15.0     \u001b[0m | \u001b[0m48.04    \u001b[0m |\n",
            "| \u001b[0m105      \u001b[0m | \u001b[0m1.937    \u001b[0m | \u001b[0m2.881    \u001b[0m | \u001b[0m0.1108   \u001b[0m | \u001b[0m14.95    \u001b[0m | \u001b[0m140.2    \u001b[0m |\n",
            "=========================================================================\n"
          ]
        }
      ],
      "source": [
        "# Bounds for hyperparameters\n",
        "param_bounds = {\n",
        "    'n_estimators': (10, 250),\n",
        "    'max_depth': (1, 15),\n",
        "    'min_samples_split': (2, 15),\n",
        "    'max_features': (0.1, 0.999),\n",
        "}\n",
        "\n",
        "optimizer = BayesianOptimization(f=objective, pbounds=param_bounds, random_state=random)\n",
        "optimizer.maximize(init_points=5, n_iter=100)"
      ]
    },
    {
      "cell_type": "code",
      "execution_count": null,
      "metadata": {
        "id": "SzYtt_H3LKi9"
      },
      "outputs": [],
      "source": [
        "best_params = optimizer.max['params']"
      ]
    },
    {
      "cell_type": "code",
      "execution_count": null,
      "metadata": {
        "id": "kDke17xWMYxw"
      },
      "outputs": [],
      "source": [
        "best_params_formatted = {\n",
        "    'n_estimators': int(best_params['n_estimators']),\n",
        "    'max_depth': int(best_params['max_depth']),\n",
        "    'min_samples_split': int(best_params['min_samples_split']),\n",
        "    'max_features': best_params['max_features']\n",
        "}"
      ]
    },
    {
      "cell_type": "code",
      "execution_count": null,
      "metadata": {
        "colab": {
          "base_uri": "https://localhost:8080/",
          "height": 109
        },
        "id": "_qLZ7H5vMr1k",
        "outputId": "94e7e36c-e841-4e1a-8d65-bb4d564dac86"
      },
      "outputs": [
        {
          "output_type": "execute_result",
          "data": {
            "text/plain": [
              "RandomForestRegressor(max_depth=1, max_features=0.6470628908881765,\n",
              "                      min_samples_split=14, n_estimators=14,\n",
              "                      random_state=30139)"
            ],
            "text/html": [
              "<style>#sk-container-id-2 {color: black;background-color: white;}#sk-container-id-2 pre{padding: 0;}#sk-container-id-2 div.sk-toggleable {background-color: white;}#sk-container-id-2 label.sk-toggleable__label {cursor: pointer;display: block;width: 100%;margin-bottom: 0;padding: 0.3em;box-sizing: border-box;text-align: center;}#sk-container-id-2 label.sk-toggleable__label-arrow:before {content: \"▸\";float: left;margin-right: 0.25em;color: #696969;}#sk-container-id-2 label.sk-toggleable__label-arrow:hover:before {color: black;}#sk-container-id-2 div.sk-estimator:hover label.sk-toggleable__label-arrow:before {color: black;}#sk-container-id-2 div.sk-toggleable__content {max-height: 0;max-width: 0;overflow: hidden;text-align: left;background-color: #f0f8ff;}#sk-container-id-2 div.sk-toggleable__content pre {margin: 0.2em;color: black;border-radius: 0.25em;background-color: #f0f8ff;}#sk-container-id-2 input.sk-toggleable__control:checked~div.sk-toggleable__content {max-height: 200px;max-width: 100%;overflow: auto;}#sk-container-id-2 input.sk-toggleable__control:checked~label.sk-toggleable__label-arrow:before {content: \"▾\";}#sk-container-id-2 div.sk-estimator input.sk-toggleable__control:checked~label.sk-toggleable__label {background-color: #d4ebff;}#sk-container-id-2 div.sk-label input.sk-toggleable__control:checked~label.sk-toggleable__label {background-color: #d4ebff;}#sk-container-id-2 input.sk-hidden--visually {border: 0;clip: rect(1px 1px 1px 1px);clip: rect(1px, 1px, 1px, 1px);height: 1px;margin: -1px;overflow: hidden;padding: 0;position: absolute;width: 1px;}#sk-container-id-2 div.sk-estimator {font-family: monospace;background-color: #f0f8ff;border: 1px dotted black;border-radius: 0.25em;box-sizing: border-box;margin-bottom: 0.5em;}#sk-container-id-2 div.sk-estimator:hover {background-color: #d4ebff;}#sk-container-id-2 div.sk-parallel-item::after {content: \"\";width: 100%;border-bottom: 1px solid gray;flex-grow: 1;}#sk-container-id-2 div.sk-label:hover label.sk-toggleable__label {background-color: #d4ebff;}#sk-container-id-2 div.sk-serial::before {content: \"\";position: absolute;border-left: 1px solid gray;box-sizing: border-box;top: 0;bottom: 0;left: 50%;z-index: 0;}#sk-container-id-2 div.sk-serial {display: flex;flex-direction: column;align-items: center;background-color: white;padding-right: 0.2em;padding-left: 0.2em;position: relative;}#sk-container-id-2 div.sk-item {position: relative;z-index: 1;}#sk-container-id-2 div.sk-parallel {display: flex;align-items: stretch;justify-content: center;background-color: white;position: relative;}#sk-container-id-2 div.sk-item::before, #sk-container-id-2 div.sk-parallel-item::before {content: \"\";position: absolute;border-left: 1px solid gray;box-sizing: border-box;top: 0;bottom: 0;left: 50%;z-index: -1;}#sk-container-id-2 div.sk-parallel-item {display: flex;flex-direction: column;z-index: 1;position: relative;background-color: white;}#sk-container-id-2 div.sk-parallel-item:first-child::after {align-self: flex-end;width: 50%;}#sk-container-id-2 div.sk-parallel-item:last-child::after {align-self: flex-start;width: 50%;}#sk-container-id-2 div.sk-parallel-item:only-child::after {width: 0;}#sk-container-id-2 div.sk-dashed-wrapped {border: 1px dashed gray;margin: 0 0.4em 0.5em 0.4em;box-sizing: border-box;padding-bottom: 0.4em;background-color: white;}#sk-container-id-2 div.sk-label label {font-family: monospace;font-weight: bold;display: inline-block;line-height: 1.2em;}#sk-container-id-2 div.sk-label-container {text-align: center;}#sk-container-id-2 div.sk-container {/* jupyter's `normalize.less` sets `[hidden] { display: none; }` but bootstrap.min.css set `[hidden] { display: none !important; }` so we also need the `!important` here to be able to override the default hidden behavior on the sphinx rendered scikit-learn.org. See: https://github.com/scikit-learn/scikit-learn/issues/21755 */display: inline-block !important;position: relative;}#sk-container-id-2 div.sk-text-repr-fallback {display: none;}</style><div id=\"sk-container-id-2\" class=\"sk-top-container\"><div class=\"sk-text-repr-fallback\"><pre>RandomForestRegressor(max_depth=1, max_features=0.6470628908881765,\n",
              "                      min_samples_split=14, n_estimators=14,\n",
              "                      random_state=30139)</pre><b>In a Jupyter environment, please rerun this cell to show the HTML representation or trust the notebook. <br />On GitHub, the HTML representation is unable to render, please try loading this page with nbviewer.org.</b></div><div class=\"sk-container\" hidden><div class=\"sk-item\"><div class=\"sk-estimator sk-toggleable\"><input class=\"sk-toggleable__control sk-hidden--visually\" id=\"sk-estimator-id-4\" type=\"checkbox\" checked><label for=\"sk-estimator-id-4\" class=\"sk-toggleable__label sk-toggleable__label-arrow\">RandomForestRegressor</label><div class=\"sk-toggleable__content\"><pre>RandomForestRegressor(max_depth=1, max_features=0.6470628908881765,\n",
              "                      min_samples_split=14, n_estimators=14,\n",
              "                      random_state=30139)</pre></div></div></div></div></div>"
            ]
          },
          "metadata": {},
          "execution_count": 33
        }
      ],
      "source": [
        "optimized_rf = RandomForestRegressor(**best_params_formatted, random_state=random)\n",
        "optimized_rf.fit(X_train, y_train)"
      ]
    },
    {
      "cell_type": "code",
      "execution_count": null,
      "metadata": {
        "colab": {
          "base_uri": "https://localhost:8080/"
        },
        "id": "EUjk5cJ_Mv7e",
        "outputId": "7dd749d4-f8cc-4fa9-e192-7d7663c67941"
      },
      "outputs": [
        {
          "output_type": "stream",
          "name": "stdout",
          "text": [
            "Model Performance\n",
            "Average Error: 0.5279.\n",
            "Accuracy = 92.57%.\n",
            "Model Performance\n",
            "Average Error: 1.3621.\n",
            "Accuracy = 80.12%.\n",
            "Improvement of -13.45%.\n"
          ]
        }
      ],
      "source": [
        "def evaluate(model, test_features, test_labels):\n",
        "    predictions = model.predict(test_features)\n",
        "    errors = abs(predictions - test_labels)\n",
        "    mape = 100 * np.mean(errors / test_labels)\n",
        "    accuracy = 100 - mape\n",
        "    print('Model Performance')\n",
        "    print('Average Error: {:0.4f}.'.format(np.mean(errors)))\n",
        "    print('Accuracy = {:0.2f}%.'.format(accuracy))\n",
        "\n",
        "    return accuracy\n",
        "base_model = RandomForestRegressor(n_estimators = 100, random_state = random)\n",
        "base_model.fit(X_train, y_train)\n",
        "base_accuracy = evaluate(base_model, X_test, y_test)\n",
        "bayesian_accuracy = evaluate(optimized_rf, X_test, y_test)\n",
        "\n",
        "\n",
        "print('Improvement of {:0.2f}%.'.format( 100 * (bayesian_accuracy - base_accuracy) / base_accuracy))"
      ]
    },
    {
      "cell_type": "code",
      "execution_count": null,
      "metadata": {
        "colab": {
          "base_uri": "https://localhost:8080/"
        },
        "id": "47UuSkqKSqXQ",
        "outputId": "dacc6ac0-cdac-469e-d1e9-c0b491308501"
      },
      "outputs": [
        {
          "output_type": "execute_result",
          "data": {
            "text/plain": [
              "{'bootstrap': True,\n",
              " 'ccp_alpha': 0.0,\n",
              " 'criterion': 'squared_error',\n",
              " 'max_depth': 1,\n",
              " 'max_features': 0.6470628908881765,\n",
              " 'max_leaf_nodes': None,\n",
              " 'max_samples': None,\n",
              " 'min_impurity_decrease': 0.0,\n",
              " 'min_samples_leaf': 1,\n",
              " 'min_samples_split': 14,\n",
              " 'min_weight_fraction_leaf': 0.0,\n",
              " 'n_estimators': 14,\n",
              " 'n_jobs': None,\n",
              " 'oob_score': False,\n",
              " 'random_state': 30139,\n",
              " 'verbose': 0,\n",
              " 'warm_start': False}"
            ]
          },
          "metadata": {},
          "execution_count": 35
        }
      ],
      "source": [
        "optimized_rf.get_params()"
      ]
    },
    {
      "cell_type": "markdown",
      "metadata": {
        "id": "jHQnf8X5DMXn"
      },
      "source": [
        "#SVR HYPERPARAMETERS TUNING"
      ]
    },
    {
      "cell_type": "code",
      "execution_count": null,
      "metadata": {
        "id": "VHme3ByzDUU0"
      },
      "outputs": [],
      "source": [
        "#loading the dataset\n",
        "#import pandas library\n",
        "import pandas as pd\n",
        "import numpy as np\n",
        "from pandas import DataFrame as df\n",
        "from sklearn.metrics import mean_absolute_error, mean_squared_error, explained_variance_score, r2_score\n",
        "from sklearn import svm"
      ]
    },
    {
      "cell_type": "code",
      "execution_count": null,
      "metadata": {
        "id": "SujWqyXiH43k"
      },
      "outputs": [],
      "source": [
        "# Instantiate svr on all feature\n",
        "svr = svm.SVR(C=2)\n",
        "svr_base = svr.fit(X_train2, y_train)"
      ]
    },
    {
      "cell_type": "code",
      "execution_count": null,
      "metadata": {
        "colab": {
          "base_uri": "https://localhost:8080/"
        },
        "id": "bPjVKaYyIfCl",
        "outputId": "8429aa04-fb20-4362-f7f6-0d9e14b84c35"
      },
      "outputs": [
        {
          "output_type": "stream",
          "name": "stdout",
          "text": [
            "The training r_sq is: -0.063\n",
            "The MSE is: 1.406\n",
            "The RMSE is: 1.186\n"
          ]
        }
      ],
      "source": [
        "#prediction on the training dataset\n",
        "ytrain_pred = svr_base.predict(X_train2)\n",
        "#training model evaluation\n",
        "#training r-sq\n",
        "print('The training r_sq is: %.3f'% svr_base.score(X_train2, y_train))\n",
        "#the MSE\n",
        "print('The MSE is: %.3f'% mean_squared_error(y_train, ytrain_pred))\n",
        "#RMSE\n",
        "print('The RMSE is: %.3f'% np.sqrt(mean_squared_error(y_train, ytrain_pred)))"
      ]
    },
    {
      "cell_type": "code",
      "execution_count": null,
      "metadata": {
        "colab": {
          "base_uri": "https://localhost:8080/"
        },
        "id": "3GBVRxiRJxaU",
        "outputId": "43a715ee-1bc8-4c57-ad52-d54d48c3c2ef"
      },
      "outputs": [
        {
          "output_type": "stream",
          "name": "stdout",
          "text": [
            "The testing r_sq is: -0.092\n",
            "The MSE is: 3.542\n",
            "The RMSE is: 1.882\n"
          ]
        }
      ],
      "source": [
        "#prediction on the testing data\n",
        "ytest_pred = svr_base.predict(X_test2)\n",
        "\n",
        "#testing coef. of determination\n",
        "print('The testing r_sq is: %.3f'% r2_score(y_test, ytest_pred))\n",
        "#model evaluation metrics on test set\n",
        "#the MSE\n",
        "print('The MSE is: %.3f'% mean_squared_error(y_test, ytest_pred))\n",
        "#RMSE\n",
        "print('The RMSE is: %.3f'% np.sqrt(mean_squared_error(y_test, ytest_pred)))\n"
      ]
    },
    {
      "cell_type": "code",
      "execution_count": null,
      "metadata": {
        "colab": {
          "base_uri": "https://localhost:8080/"
        },
        "id": "vz3he-QAJH4z",
        "outputId": "0a497c67-81bd-47ae-a14c-6f541f0032a2"
      },
      "outputs": [
        {
          "output_type": "stream",
          "name": "stdout",
          "text": [
            "Parameters currently in use:\n",
            "\n",
            "{'C': 2,\n",
            " 'cache_size': 200,\n",
            " 'coef0': 0.0,\n",
            " 'degree': 3,\n",
            " 'epsilon': 0.1,\n",
            " 'gamma': 'scale',\n",
            " 'kernel': 'rbf',\n",
            " 'max_iter': -1,\n",
            " 'shrinking': True,\n",
            " 'tol': 0.001,\n",
            " 'verbose': False}\n"
          ]
        }
      ],
      "source": [
        "from pprint import pprint\n",
        "# Look at parameters used by our current forest\n",
        "print('Parameters currently in use:\\n')\n",
        "pprint(svr_base.get_params())"
      ]
    },
    {
      "cell_type": "code",
      "execution_count": null,
      "metadata": {
        "colab": {
          "base_uri": "https://localhost:8080/",
          "height": 466
        },
        "id": "HclDOPfTLlrB",
        "outputId": "09c8689f-07fd-46a2-9536-8f099c846204"
      },
      "outputs": [
        {
          "output_type": "execute_result",
          "data": {
            "text/plain": [
              "Text(0.5, 0, 'Permutation Importance')"
            ]
          },
          "metadata": {},
          "execution_count": 29
        },
        {
          "output_type": "display_data",
          "data": {
            "text/plain": [
              "<Figure size 640x480 with 1 Axes>"
            ],
            "image/png": "[encoded data removed]"
          },
          "metadata": {}
        }
      ],
      "source": [
        "from sklearn.inspection import permutation_importance\n",
        "from sklearn.inspection import permutation_importance\n",
        "import numpy as np\n",
        "import matplotlib.pyplot as plt\n",
        "%matplotlib inline\n",
        "\n",
        "perm_importance = permutation_importance(svr, X_train2, y_train)\n",
        "\n",
        "feature_names = X_train2.columns\n",
        "features = np.array(feature_names)\n",
        "\n",
        "sorted_idx = perm_importance.importances_mean.argsort()\n",
        "plt.barh(features[sorted_idx], perm_importance.importances_mean[sorted_idx])\n",
        "plt.xlabel(\"Permutation Importance\")"
      ]
    },
    {
      "cell_type": "markdown",
      "metadata": {
        "id": "E7Pw2g3oc7uc"
      },
      "source": [
        "***RandomizedSearchCV***"
      ]
    },
    {
      "cell_type": "code",
      "execution_count": null,
      "metadata": {
        "colab": {
          "base_uri": "https://localhost:8080/"
        },
        "id": "V6Nta550Nzcm",
        "outputId": "25bf465b-4eb0-440f-8f3e-c4947a54f1bc"
      },
      "outputs": [
        {
          "output_type": "stream",
          "name": "stdout",
          "text": [
            "{'C': [0, 0, 0, 0, 1, 10, 100],\n",
            " 'epsilon': [0.0001, 0.001, 0.01, 0.1, 1.0, 10.0],\n",
            " 'gamma': [0.0001, 0.001, 0.01, 0.1, 1.0, 10.0, 100.0],\n",
            " 'kernel': ['linear', 'rbf']}\n"
          ]
        }
      ],
      "source": [
        "from sklearn.model_selection import RandomizedSearchCV\n",
        "# kernel\n",
        "kernel = ['linear', 'rbf']\n",
        "# C\n",
        "C = [int(x) for x in np.logspace(-4, 2, num = 7)]\n",
        "# epsilon\n",
        "epsilon = [float(x) for x in np.logspace(-4, 1, num = 6)]\n",
        "#gamma\n",
        "gamma = [float(x) for x in np.logspace(-4, 2, num=7)]\n",
        "# Create the random grid\n",
        "random_grid = {'kernel': kernel,\n",
        "               'C': C,\n",
        "               'epsilon': epsilon,\n",
        "               'gamma': gamma}\n",
        "pprint(random_grid)"
      ]
    },
    {
      "cell_type": "code",
      "execution_count": null,
      "metadata": {
        "id": "PiW3uNKmN6kI",
        "colab": {
          "base_uri": "https://localhost:8080/",
          "height": 133
        },
        "outputId": "53059b39-6f4f-45e0-8cca-0d6d1dfbbff6"
      },
      "outputs": [
        {
          "output_type": "stream",
          "name": "stdout",
          "text": [
            "Fitting 3 folds for each of 588 candidates, totalling 1764 fits\n"
          ]
        },
        {
          "output_type": "execute_result",
          "data": {
            "text/plain": [
              "RandomizedSearchCV(cv=3, estimator=SVR(), n_iter=1500, n_jobs=-1,\n",
              "                   param_distributions={'C': [0, 0, 0, 0, 1, 10, 100],\n",
              "                                        'epsilon': [0.0001, 0.001, 0.01, 0.1,\n",
              "                                                    1.0, 10.0],\n",
              "                                        'gamma': [0.0001, 0.001, 0.01, 0.1, 1.0,\n",
              "                                                  10.0, 100.0],\n",
              "                                        'kernel': ['linear', 'rbf']},\n",
              "                   refit='r2', scoring=['r2', 'neg_root_mean_squared_error'],\n",
              "                   verbose=2)"
            ],
            "text/html": [
              "<style>#sk-container-id-2 {color: black;background-color: white;}#sk-container-id-2 pre{padding: 0;}#sk-container-id-2 div.sk-toggleable {background-color: white;}#sk-container-id-2 label.sk-toggleable__label {cursor: pointer;display: block;width: 100%;margin-bottom: 0;padding: 0.3em;box-sizing: border-box;text-align: center;}#sk-container-id-2 label.sk-toggleable__label-arrow:before {content: \"▸\";float: left;margin-right: 0.25em;color: #696969;}#sk-container-id-2 label.sk-toggleable__label-arrow:hover:before {color: black;}#sk-container-id-2 div.sk-estimator:hover label.sk-toggleable__label-arrow:before {color: black;}#sk-container-id-2 div.sk-toggleable__content {max-height: 0;max-width: 0;overflow: hidden;text-align: left;background-color: #f0f8ff;}#sk-container-id-2 div.sk-toggleable__content pre {margin: 0.2em;color: black;border-radius: 0.25em;background-color: #f0f8ff;}#sk-container-id-2 input.sk-toggleable__control:checked~div.sk-toggleable__content {max-height: 200px;max-width: 100%;overflow: auto;}#sk-container-id-2 input.sk-toggleable__control:checked~label.sk-toggleable__label-arrow:before {content: \"▾\";}#sk-container-id-2 div.sk-estimator input.sk-toggleable__control:checked~label.sk-toggleable__label {background-color: #d4ebff;}#sk-container-id-2 div.sk-label input.sk-toggleable__control:checked~label.sk-toggleable__label {background-color: #d4ebff;}#sk-container-id-2 input.sk-hidden--visually {border: 0;clip: rect(1px 1px 1px 1px);clip: rect(1px, 1px, 1px, 1px);height: 1px;margin: -1px;overflow: hidden;padding: 0;position: absolute;width: 1px;}#sk-container-id-2 div.sk-estimator {font-family: monospace;background-color: #f0f8ff;border: 1px dotted black;border-radius: 0.25em;box-sizing: border-box;margin-bottom: 0.5em;}#sk-container-id-2 div.sk-estimator:hover {background-color: #d4ebff;}#sk-container-id-2 div.sk-parallel-item::after {content: \"\";width: 100%;border-bottom: 1px solid gray;flex-grow: 1;}#sk-container-id-2 div.sk-label:hover label.sk-toggleable__label {background-color: #d4ebff;}#sk-container-id-2 div.sk-serial::before {content: \"\";position: absolute;border-left: 1px solid gray;box-sizing: border-box;top: 0;bottom: 0;left: 50%;z-index: 0;}#sk-container-id-2 div.sk-serial {display: flex;flex-direction: column;align-items: center;background-color: white;padding-right: 0.2em;padding-left: 0.2em;position: relative;}#sk-container-id-2 div.sk-item {position: relative;z-index: 1;}#sk-container-id-2 div.sk-parallel {display: flex;align-items: stretch;justify-content: center;background-color: white;position: relative;}#sk-container-id-2 div.sk-item::before, #sk-container-id-2 div.sk-parallel-item::before {content: \"\";position: absolute;border-left: 1px solid gray;box-sizing: border-box;top: 0;bottom: 0;left: 50%;z-index: -1;}#sk-container-id-2 div.sk-parallel-item {display: flex;flex-direction: column;z-index: 1;position: relative;background-color: white;}#sk-container-id-2 div.sk-parallel-item:first-child::after {align-self: flex-end;width: 50%;}#sk-container-id-2 div.sk-parallel-item:last-child::after {align-self: flex-start;width: 50%;}#sk-container-id-2 div.sk-parallel-item:only-child::after {width: 0;}#sk-container-id-2 div.sk-dashed-wrapped {border: 1px dashed gray;margin: 0 0.4em 0.5em 0.4em;box-sizing: border-box;padding-bottom: 0.4em;background-color: white;}#sk-container-id-2 div.sk-label label {font-family: monospace;font-weight: bold;display: inline-block;line-height: 1.2em;}#sk-container-id-2 div.sk-label-container {text-align: center;}#sk-container-id-2 div.sk-container {/* jupyter's `normalize.less` sets `[hidden] { display: none; }` but bootstrap.min.css set `[hidden] { display: none !important; }` so we also need the `!important` here to be able to override the default hidden behavior on the sphinx rendered scikit-learn.org. See: https://github.com/scikit-learn/scikit-learn/issues/21755 */display: inline-block !important;position: relative;}#sk-container-id-2 div.sk-text-repr-fallback {display: none;}</style><div id=\"sk-container-id-2\" class=\"sk-top-container\"><div class=\"sk-text-repr-fallback\"><pre>RandomizedSearchCV(cv=3, estimator=SVR(), n_iter=1500, n_jobs=-1,\n",
              "                   param_distributions={&#x27;C&#x27;: [0, 0, 0, 0, 1, 10, 100],\n",
              "                                        &#x27;epsilon&#x27;: [0.0001, 0.001, 0.01, 0.1,\n",
              "                                                    1.0, 10.0],\n",
              "                                        &#x27;gamma&#x27;: [0.0001, 0.001, 0.01, 0.1, 1.0,\n",
              "                                                  10.0, 100.0],\n",
              "                                        &#x27;kernel&#x27;: [&#x27;linear&#x27;, &#x27;rbf&#x27;]},\n",
              "                   refit=&#x27;r2&#x27;, scoring=[&#x27;r2&#x27;, &#x27;neg_root_mean_squared_error&#x27;],\n",
              "                   verbose=2)</pre><b>In a Jupyter environment, please rerun this cell to show the HTML representation or trust the notebook. <br />On GitHub, the HTML representation is unable to render, please try loading this page with nbviewer.org.</b></div><div class=\"sk-container\" hidden><div class=\"sk-item sk-dashed-wrapped\"><div class=\"sk-label-container\"><div class=\"sk-label sk-toggleable\"><input class=\"sk-toggleable__control sk-hidden--visually\" id=\"sk-estimator-id-4\" type=\"checkbox\" ><label for=\"sk-estimator-id-4\" class=\"sk-toggleable__label sk-toggleable__label-arrow\">RandomizedSearchCV</label><div class=\"sk-toggleable__content\"><pre>RandomizedSearchCV(cv=3, estimator=SVR(), n_iter=1500, n_jobs=-1,\n",
              "                   param_distributions={&#x27;C&#x27;: [0, 0, 0, 0, 1, 10, 100],\n",
              "                                        &#x27;epsilon&#x27;: [0.0001, 0.001, 0.01, 0.1,\n",
              "                                                    1.0, 10.0],\n",
              "                                        &#x27;gamma&#x27;: [0.0001, 0.001, 0.01, 0.1, 1.0,\n",
              "                                                  10.0, 100.0],\n",
              "                                        &#x27;kernel&#x27;: [&#x27;linear&#x27;, &#x27;rbf&#x27;]},\n",
              "                   refit=&#x27;r2&#x27;, scoring=[&#x27;r2&#x27;, &#x27;neg_root_mean_squared_error&#x27;],\n",
              "                   verbose=2)</pre></div></div></div><div class=\"sk-parallel\"><div class=\"sk-parallel-item\"><div class=\"sk-item\"><div class=\"sk-label-container\"><div class=\"sk-label sk-toggleable\"><input class=\"sk-toggleable__control sk-hidden--visually\" id=\"sk-estimator-id-5\" type=\"checkbox\" ><label for=\"sk-estimator-id-5\" class=\"sk-toggleable__label sk-toggleable__label-arrow\">estimator: SVR</label><div class=\"sk-toggleable__content\"><pre>SVR()</pre></div></div></div><div class=\"sk-serial\"><div class=\"sk-item\"><div class=\"sk-estimator sk-toggleable\"><input class=\"sk-toggleable__control sk-hidden--visually\" id=\"sk-estimator-id-6\" type=\"checkbox\" ><label for=\"sk-estimator-id-6\" class=\"sk-toggleable__label sk-toggleable__label-arrow\">SVR</label><div class=\"sk-toggleable__content\"><pre>SVR()</pre></div></div></div></div></div></div></div></div></div></div>"
            ]
          },
          "metadata": {},
          "execution_count": 31
        }
      ],
      "source": [
        "# Use the random grid to search for best hyperparameters\n",
        "# First create the base model to tune\n",
        "svr = svm.SVR()\n",
        "# Random search of parameters, using 4 fold cross validation,\n",
        "# search across 1500 different combinations, and use all available cores\n",
        "svr_random = RandomizedSearchCV(estimator = svr, param_distributions = random_grid, n_iter = 1500, cv = 3, verbose=2, scoring=['r2', 'neg_root_mean_squared_error'], refit = 'r2', n_jobs = -1)\n",
        "# Fit the random search model\n",
        "svr_random.fit(X_train2, y_train)"
      ]
    },
    {
      "cell_type": "code",
      "execution_count": null,
      "metadata": {
        "id": "yXpU7wH7OKsI",
        "colab": {
          "base_uri": "https://localhost:8080/"
        },
        "outputId": "7ca9de30-0c9b-46d0-ec15-f6e9242b9da7"
      },
      "outputs": [
        {
          "output_type": "execute_result",
          "data": {
            "text/plain": [
              "{'kernel': 'rbf', 'gamma': 1.0, 'epsilon': 0.0001, 'C': 1}"
            ]
          },
          "metadata": {},
          "execution_count": 32
        }
      ],
      "source": [
        "# Access the randomized hyperparameters and their values\n",
        "random_params = svr_random.cv_results_\n",
        "\n",
        "# Convert the randomized hyperparameters to a DataFrame\n",
        "hyperparameters_rand_df = pd.DataFrame(random_params)\n",
        "\n",
        "# Save the DataFrame to a CSV file\n",
        "hyperparameters_rand_df.to_csv('random_hyperparameters.csv')\n",
        "\n",
        "svr_random.best_params_"
      ]
    },
    {
      "cell_type": "code",
      "execution_count": null,
      "metadata": {
        "id": "1eXVnNhNOB2G",
        "colab": {
          "base_uri": "https://localhost:8080/"
        },
        "outputId": "25ebfef7-b108-447b-efa4-d327c51f9408"
      },
      "outputs": [
        {
          "output_type": "stream",
          "name": "stdout",
          "text": [
            "Model Performance\n",
            "Average Error: 1.2213.\n",
            "Accuracy = 83.50%.\n"
          ]
        }
      ],
      "source": [
        "def evaluate(model, test_features, test_labels):\n",
        "    predictions = model.predict(test_features)\n",
        "    errors = abs(predictions - test_labels)\n",
        "    mape = 100 * np.mean(errors / test_labels)\n",
        "    accuracy = 100 - mape\n",
        "    print('Model Performance')\n",
        "    print('Average Error: {:0.4f}.'.format(np.mean(errors)))\n",
        "    print('Accuracy = {:0.2f}%.'.format(accuracy))\n",
        "\n",
        "    return accuracy\n",
        "base_model = svm.SVR(C=2)\n",
        "base_model.fit(X_train2, y_train)\n",
        "base_accuracy = evaluate(base_model, X_test2, y_test)"
      ]
    },
    {
      "cell_type": "code",
      "execution_count": null,
      "metadata": {
        "id": "Q1NlhiBcOY8_",
        "colab": {
          "base_uri": "https://localhost:8080/"
        },
        "outputId": "2b970de8-a916-4c80-c82c-263dce84d05c"
      },
      "outputs": [
        {
          "output_type": "stream",
          "name": "stdout",
          "text": [
            "Model Performance\n",
            "Average Error: 1.2895.\n",
            "Accuracy = 81.98%.\n",
            "Improvement of -1.82%.\n"
          ]
        }
      ],
      "source": [
        "best_random = svr_random.best_estimator_\n",
        "random_accuracy = evaluate(best_random, X_test2, y_test)\n",
        "print('Improvement of {:0.2f}%.'.format( 100 * (random_accuracy - base_accuracy) / base_accuracy))"
      ]
    },
    {
      "cell_type": "markdown",
      "metadata": {
        "id": "JjdQZmGTc0-e"
      },
      "source": [
        "***GridSearchCV***"
      ]
    },
    {
      "cell_type": "code",
      "execution_count": null,
      "metadata": {
        "id": "4KNxWSrQc0Ur"
      },
      "outputs": [],
      "source": [
        "from sklearn.model_selection import GridSearchCV\n",
        "# Create the parameter grid based on the results of random search\n",
        "# param_grid = {'kernel': ['rbf'],\n",
        "               #'C': [80, 81, 82, 83, 84, 85, 86, 87, 88, 89, 90, 91, 92, 93, 94, 95, 96, 97, 98, 99, 100],\n",
        "               #'epsilon': [0.001, 0.005, 0.01, 0.05, 0.1, 0.5]}\n",
        "param_grid = [\n",
        "               {'C': [1, 2, 3, 4, 5, 10, 50, 100, 150, 175, 200], 'kernel': ['linear'], 'epsilon': [0.001, 0.005, 0.01, 0.05, 0.1, 0.2, 0.3, 0.4, 0.5, 'scale']},\n",
        "               {'C': [1, 2, 3, 4, 5, 10, 50, 100, 150, 175, 200], 'gamma': [0.001, 0.005, 0.01, 0.05, 0.1, 0.5, 'scale'], 'kernel': ['rbf'], 'epsilon': [0.001, 0.005, 0.01, 0.05, 0.1, 0.2, 0.3, 0.4, 0.5]}\n",
        "                ]\n",
        "# Create a based model\n",
        "svr = svm.SVR()\n",
        "# Instantiate the grid search model\n",
        "grid_search = GridSearchCV(estimator = svr, param_grid = param_grid,\n",
        "                          cv = None, n_jobs = -1, verbose = 2, scoring=['r2', 'neg_mean_squared_error'], refit = 'neg_mean_squared_error')"
      ]
    },
    {
      "cell_type": "code",
      "execution_count": null,
      "metadata": {
        "colab": {
          "base_uri": "https://localhost:8080/"
        },
        "id": "sBNUSJawdUk8",
        "outputId": "e42efc71-baf0-4a8c-d029-02d5d2f27bd3"
      },
      "outputs": [
        {
          "output_type": "stream",
          "name": "stdout",
          "text": [
            "Fitting 5 folds for each of 803 candidates, totalling 4015 fits\n"
          ]
        },
        {
          "output_type": "execute_result",
          "data": {
            "text/plain": [
              "{'C': 1, 'epsilon': 0.001, 'gamma': 'scale', 'kernel': 'rbf'}"
            ]
          },
          "metadata": {},
          "execution_count": 58
        }
      ],
      "source": [
        "# Fit the grid search to the data\n",
        "grid_search.fit(X_train2, y_train)\n",
        "grid_search.best_params_"
      ]
    },
    {
      "cell_type": "code",
      "execution_count": null,
      "metadata": {
        "colab": {
          "base_uri": "https://localhost:8080/"
        },
        "id": "g0B0zgAPdlJB",
        "outputId": "a3833527-dc0d-4238-c5f8-3a490e8efb34"
      },
      "outputs": [
        {
          "output_type": "stream",
          "name": "stdout",
          "text": [
            "Model Performance\n",
            "Average Error: 1.2213.\n",
            "Accuracy = 83.50%.\n",
            "Model Performance\n",
            "Average Error: 1.1499.\n",
            "Accuracy = 85.20%.\n",
            "Improvement of 2.04%.\n"
          ]
        }
      ],
      "source": [
        "def evaluate(model, test_features, test_labels):\n",
        "    predictions = model.predict(test_features)\n",
        "    errors = abs(predictions - test_labels)\n",
        "    mape = 100 * np.mean(errors / test_labels)\n",
        "    accuracy = 100 - mape\n",
        "    print('Model Performance')\n",
        "    print('Average Error: {:0.4f}.'.format(np.mean(errors)))\n",
        "    print('Accuracy = {:0.2f}%.'.format(accuracy))\n",
        "\n",
        "    return accuracy\n",
        "base_model = svm.SVR(C=2)\n",
        "base_model.fit(X_train2, y_train)\n",
        "base_accuracy = evaluate(base_model, X_test2, y_test)\n",
        "\n",
        "best_grid = grid_search.best_estimator_\n",
        "grid_accuracy = evaluate(best_grid, X_test2, y_test)\n",
        "\n",
        "\n",
        "print('Improvement of {:0.2f}%.'.format( 100 * (grid_accuracy - base_accuracy) / base_accuracy))\n",
        "results = grid_search.cv_results_"
      ]
    },
    {
      "cell_type": "code",
      "execution_count": null,
      "metadata": {
        "id": "QGbq2Yk4drZm"
      },
      "outputs": [],
      "source": [
        "# Access the randomized hyperparameters and their values\n",
        "grids_params = grid_search.cv_results_\n",
        "\n",
        "# Convert the randomized hyperparameters to a DataFrame\n",
        "hyperparameters_df = pd.DataFrame(grids_params)\n",
        "\n",
        "# Save the DataFrame to a CSV file\n",
        "hyperparameters_df.to_csv('grids_hyperparameters.csv')"
      ]
    },
    {
      "cell_type": "markdown",
      "metadata": {
        "id": "IDgV6A2UTfFt"
      },
      "source": [
        "#XGBOOST GRIDSEARCH-CV TUNING"
      ]
    },
    {
      "cell_type": "code",
      "execution_count": null,
      "metadata": {
        "id": "Zrgb2n5FTmmn"
      },
      "outputs": [],
      "source": [
        "# Importing core libraries\n",
        "import numpy as np\n",
        "import pandas as pd\n",
        "from time import time\n",
        "import pprint\n",
        "import joblib\n",
        "from functools import partial\n",
        "\n",
        "# Suppressing warnings because of skopt verbosity\n",
        "import warnings\n",
        "warnings.filterwarnings(\"ignore\")\n",
        "\n",
        "# Classifier/Regressor\n",
        "import xgboost\n",
        "from xgboost import XGBRegressor\n",
        "\n",
        "# Model selection\n",
        "from sklearn.model_selection import KFold, StratifiedKFold\n",
        "\n",
        "# Metrics\n",
        "from sklearn.metrics import mean_squared_error\n",
        "from sklearn.metrics import make_scorer"
      ]
    },
    {
      "cell_type": "code",
      "execution_count": null,
      "metadata": {
        "id": "mHS_zqK7OQoe"
      },
      "outputs": [],
      "source": [
        "from sklearn.model_selection import GridSearchCV\n",
        "# Create the parameter grid based on the results of random search\n",
        "# param_grid = {'kernel': ['rbf'],\n",
        "               #'C': [80, 81, 82, 83, 84, 85, 86, 87, 88, 89, 90, 91, 92, 93, 94, 95, 96, 97, 98, 99, 100],\n",
        "               #'epsilon': [0.001, 0.005, 0.01, 0.05, 0.1, 0.5]}\n",
        "param_grid = {'colsample_bytree':[0.7],\n",
        "    'learning_rate': [0.4],\n",
        "    'max_depth': [40],\n",
        "    'min_child_weight':[3],\n",
        "    'subsample':[0.4],\n",
        "    'reg_alpha':[0.6],\n",
        "    'reg_lambda': [0.1],\n",
        "    'n_estimators': [80],\n",
        "    'gamma' : [0.4]\n",
        "              }\n",
        "# Create a based model\n",
        "xgb = XGBRegressor(booster='gbtree', objective='reg:squarederror', verbosity=2, seed=random, tree_method='auto')\n",
        "# Instantiate the grid search model\n",
        "grid_search = GridSearchCV(estimator = xgb, param_grid = param_grid,\n",
        "                          cv = 3, n_jobs = -1, verbose = 2, scoring=['r2', 'neg_mean_squared_error'], refit = 'neg_mean_squared_error')"
      ]
    },
    {
      "cell_type": "code",
      "execution_count": null,
      "metadata": {
        "colab": {
          "base_uri": "https://localhost:8080/"
        },
        "id": "zWVcagBjOWiv",
        "outputId": "c39fa60d-bc20-4e18-bc61-42c8386973c6"
      },
      "outputs": [
        {
          "output_type": "stream",
          "name": "stdout",
          "text": [
            "Fitting 3 folds for each of 1 candidates, totalling 3 fits\n"
          ]
        },
        {
          "output_type": "execute_result",
          "data": {
            "text/plain": [
              "{'colsample_bytree': 0.7,\n",
              " 'gamma': 0.4,\n",
              " 'learning_rate': 0.4,\n",
              " 'max_depth': 40,\n",
              " 'min_child_weight': 3,\n",
              " 'n_estimators': 80,\n",
              " 'reg_alpha': 0.6,\n",
              " 'reg_lambda': 0.1,\n",
              " 'subsample': 0.4}"
            ]
          },
          "metadata": {},
          "execution_count": 60
        }
      ],
      "source": [
        "# Fit the grid search to the data\n",
        "grid_search.fit(X_train2, y_train)\n",
        "grid_search.best_params_"
      ]
    },
    {
      "cell_type": "code",
      "execution_count": null,
      "metadata": {
        "colab": {
          "base_uri": "https://localhost:8080/"
        },
        "id": "gBgdnaiJOe3L",
        "outputId": "54458b99-7d45-4485-c1e1-6650f0fc2f48"
      },
      "outputs": [
        {
          "output_type": "stream",
          "name": "stdout",
          "text": [
            "Model Performance\n",
            "Average Error: 1.2801.\n",
            "Accuracy = 82.40%.\n",
            "Model Performance\n",
            "Average Error: 0.9358.\n",
            "Accuracy = 87.10%.\n",
            "Improvement of 5.70%.\n"
          ]
        }
      ],
      "source": [
        "def evaluate(model, test_features, test_labels):\n",
        "    predictions = model.predict(test_features)\n",
        "    errors = abs(predictions - test_labels)\n",
        "    mape = 100 * np.mean(errors / test_labels)\n",
        "    accuracy = 100 - mape\n",
        "    print('Model Performance')\n",
        "    print('Average Error: {:0.4f}.'.format(np.mean(errors)))\n",
        "    print('Accuracy = {:0.2f}%.'.format(accuracy))\n",
        "\n",
        "    return accuracy\n",
        "base_model = XGBRegressor(booster='gbtree', device='gpu', objective='reg:squarederror', verbosity=2, num_boosting_rounds=100)\n",
        "base_model.fit(X_train2, y_train)\n",
        "base_accuracy = evaluate(base_model, X_test2, y_test)\n",
        "\n",
        "best_grid = grid_search.best_estimator_\n",
        "grid_accuracy = evaluate(best_grid, X_test2, y_test)\n",
        "\n",
        "\n",
        "print('Improvement of {:0.2f}%.'.format( 100 * (grid_accuracy - base_accuracy) / base_accuracy))\n",
        "results = grid_search.cv_results_"
      ]
    },
    {
      "cell_type": "code",
      "execution_count": null,
      "metadata": {
        "colab": {
          "base_uri": "https://localhost:8080/"
        },
        "id": "ZUqIY3PfYlMx",
        "outputId": "01efde05-4411-4cb3-f407-679cb3ebc178"
      },
      "outputs": [
        {
          "output_type": "execute_result",
          "data": {
            "text/plain": [
              "{'objective': 'reg:squarederror',\n",
              " 'base_score': None,\n",
              " 'booster': 'gbtree',\n",
              " 'callbacks': None,\n",
              " 'colsample_bylevel': None,\n",
              " 'colsample_bynode': None,\n",
              " 'colsample_bytree': 0.7,\n",
              " 'device': None,\n",
              " 'early_stopping_rounds': None,\n",
              " 'enable_categorical': False,\n",
              " 'eval_metric': None,\n",
              " 'feature_types': None,\n",
              " 'gamma': 0,\n",
              " 'grow_policy': None,\n",
              " 'importance_type': None,\n",
              " 'interaction_constraints': None,\n",
              " 'learning_rate': 0.4,\n",
              " 'max_bin': None,\n",
              " 'max_cat_threshold': None,\n",
              " 'max_cat_to_onehot': None,\n",
              " 'max_delta_step': None,\n",
              " 'max_depth': 4,\n",
              " 'max_leaves': None,\n",
              " 'min_child_weight': 0,\n",
              " 'missing': nan,\n",
              " 'monotone_constraints': None,\n",
              " 'multi_strategy': None,\n",
              " 'n_estimators': 10,\n",
              " 'n_jobs': None,\n",
              " 'num_parallel_tree': None,\n",
              " 'random_state': None,\n",
              " 'reg_alpha': 0,\n",
              " 'reg_lambda': 1,\n",
              " 'sampling_method': None,\n",
              " 'scale_pos_weight': None,\n",
              " 'subsample': 0.8,\n",
              " 'tree_method': 'auto',\n",
              " 'validate_parameters': None,\n",
              " 'verbosity': 2,\n",
              " 'seed': 30139}"
            ]
          },
          "metadata": {},
          "execution_count": 23
        }
      ],
      "source": [
        "best_grid.get_params()"
      ]
    },
    {
      "cell_type": "code",
      "execution_count": null,
      "metadata": {
        "id": "vpHLufwmOhLr",
        "colab": {
          "base_uri": "https://localhost:8080/",
          "height": 246
        },
        "outputId": "12ba0c65-a004-43cf-eeef-4b1788756abb"
      },
      "outputs": [
        {
          "output_type": "error",
          "ename": "NameError",
          "evalue": "name 'grid_search' is not defined",
          "traceback": [
            "\u001b[0;31m---------------------------------------------------------------------------\u001b[0m",
            "\u001b[0;31mNameError\u001b[0m                                 Traceback (most recent call last)",
            "\u001b[0;32m<ipython-input-1-48dc90a71f93>\u001b[0m in \u001b[0;36m<cell line: 2>\u001b[0;34m()\u001b[0m\n\u001b[1;32m      1\u001b[0m \u001b[0;31m# Access the randomized hyperparameters and their values\u001b[0m\u001b[0;34m\u001b[0m\u001b[0;34m\u001b[0m\u001b[0m\n\u001b[0;32m----> 2\u001b[0;31m \u001b[0mgrids_params\u001b[0m \u001b[0;34m=\u001b[0m \u001b[0mgrid_search\u001b[0m\u001b[0;34m.\u001b[0m\u001b[0mcv_results_\u001b[0m\u001b[0;34m\u001b[0m\u001b[0;34m\u001b[0m\u001b[0m\n\u001b[0m\u001b[1;32m      3\u001b[0m \u001b[0;34m\u001b[0m\u001b[0m\n\u001b[1;32m      4\u001b[0m \u001b[0;31m# Convert the randomized hyperparameters to a DataFrame\u001b[0m\u001b[0;34m\u001b[0m\u001b[0;34m\u001b[0m\u001b[0m\n\u001b[1;32m      5\u001b[0m \u001b[0mhyperparameters_df\u001b[0m \u001b[0;34m=\u001b[0m \u001b[0mpd\u001b[0m\u001b[0;34m.\u001b[0m\u001b[0mDataFrame\u001b[0m\u001b[0;34m(\u001b[0m\u001b[0mgrids_params\u001b[0m\u001b[0;34m)\u001b[0m\u001b[0;34m\u001b[0m\u001b[0;34m\u001b[0m\u001b[0m\n",
            "\u001b[0;31mNameError\u001b[0m: name 'grid_search' is not defined"
          ]
        }
      ],
      "source": [
        "# Access the randomized hyperparameters and their values\n",
        "grids_params = grid_search.cv_results_\n",
        "\n",
        "# Convert the randomized hyperparameters to a DataFrame\n",
        "hyperparameters_df = pd.DataFrame(grids_params)\n",
        "\n",
        "# Save the DataFrame to a CSV file\n",
        "hyperparameters_df.to_csv('grids_hyperparameters.csv')"
      ]
    },
    {
      "cell_type": "markdown",
      "metadata": {
        "id": "wTJhknOp4bRs"
      },
      "source": [
        "#XGBOOST BAYESIAN OPTIMIZATION"
      ]
    },
    {
      "cell_type": "code",
      "execution_count": null,
      "metadata": {
        "colab": {
          "base_uri": "https://localhost:8080/"
        },
        "id": "ng4CbuXd4iy_",
        "outputId": "019218e8-4fc3-4367-9a9e-2b62cf90f6db"
      },
      "outputs": [
        {
          "output_type": "stream",
          "name": "stdout",
          "text": [
            "Collecting bayesian-optimization\n",
            "  Downloading bayesian_optimization-1.4.3-py3-none-any.whl (18 kB)\n",
            "Requirement already satisfied: scikit-learn in /usr/local/lib/python3.10/dist-packages (1.2.2)\n",
            "Requirement already satisfied: pandas in /usr/local/lib/python3.10/dist-packages (1.5.3)\n",
            "Requirement already satisfied: numpy>=1.9.0 in /usr/local/lib/python3.10/dist-packages (from bayesian-optimization) (1.23.5)\n",
            "Requirement already satisfied: scipy>=1.0.0 in /usr/local/lib/python3.10/dist-packages (from bayesian-optimization) (1.11.4)\n",
            "Collecting colorama>=0.4.6 (from bayesian-optimization)\n",
            "  Downloading colorama-0.4.6-py2.py3-none-any.whl (25 kB)\n",
            "Requirement already satisfied: joblib>=1.1.1 in /usr/local/lib/python3.10/dist-packages (from scikit-learn) (1.3.2)\n",
            "Requirement already satisfied: threadpoolctl>=2.0.0 in /usr/local/lib/python3.10/dist-packages (from scikit-learn) (3.2.0)\n",
            "Requirement already satisfied: python-dateutil>=2.8.1 in /usr/local/lib/python3.10/dist-packages (from pandas) (2.8.2)\n",
            "Requirement already satisfied: pytz>=2020.1 in /usr/local/lib/python3.10/dist-packages (from pandas) (2023.3.post1)\n",
            "Requirement already satisfied: six>=1.5 in /usr/local/lib/python3.10/dist-packages (from python-dateutil>=2.8.1->pandas) (1.16.0)\n",
            "Installing collected packages: colorama, bayesian-optimization\n",
            "Successfully installed bayesian-optimization-1.4.3 colorama-0.4.6\n"
          ]
        }
      ],
      "source": [
        "!pip install bayesian-optimization scikit-learn pandas"
      ]
    },
    {
      "cell_type": "code",
      "execution_count": null,
      "metadata": {
        "id": "sowzbKLU4kat"
      },
      "outputs": [],
      "source": [
        "import xgboost\n",
        "from xgboost import XGBRegressor\n",
        "from sklearn.model_selection import cross_val_score\n",
        "from bayes_opt import BayesianOptimization"
      ]
    },
    {
      "cell_type": "code",
      "execution_count": null,
      "metadata": {
        "id": "-QW95hb_4oXr"
      },
      "outputs": [],
      "source": [
        "def objective(colsample_bytree, learning_rate, max_depth, min_child_weight, subsample, reg_alpha, reg_lambda, n_estimators, gamma):\n",
        "    model = XGBRegressor(booster='gbtree', objective='reg:squarederror', verbosity=2, tree_method = 'auto',\n",
        "                         colsample_bytree = float(colsample_bytree),\n",
        "                         learning_rate=float(learning_rate) ,\n",
        "                         max_depth=int(max_depth),\n",
        "                         min_child_weight=float(min_child_weight),\n",
        "                         subsample= float(subsample),\n",
        "                         reg_alpha=float(reg_alpha),\n",
        "                         reg_lambda=float(reg_lambda),\n",
        "                         n_estimators=int(n_estimators),\n",
        "                         gamma=float(gamma))\n",
        "\n",
        "    return -1.0 * cross_val_score(model, X_train2, y_train, cv=3, scoring=\"neg_mean_squared_error\").mean()"
      ]
    },
    {
      "cell_type": "code",
      "execution_count": null,
      "metadata": {
        "id": "n1ZhVssE4t_L",
        "colab": {
          "base_uri": "https://localhost:8080/"
        },
        "outputId": "f87282b7-56b0-440d-edba-2c8a08773a38"
      },
      "outputs": [
        {
          "output_type": "stream",
          "name": "stdout",
          "text": [
            "|   iter    |  target   | colsam... |   gamma   | learni... | max_depth | min_ch... | n_esti... | reg_alpha | reg_la... | subsample |\n",
            "-------------------------------------------------------------------------------------------------------------------------------------\n",
            "| \u001b[0m1        \u001b[0m | \u001b[0m1.78     \u001b[0m | \u001b[0m0.5687   \u001b[0m | \u001b[0m8.636    \u001b[0m | \u001b[0m0.1422   \u001b[0m | \u001b[0m44.52    \u001b[0m | \u001b[0m39.22    \u001b[0m | \u001b[0m94.25    \u001b[0m | \u001b[0m6.176    \u001b[0m | \u001b[0m8.322    \u001b[0m | \u001b[0m0.9014   \u001b[0m |\n",
            "| \u001b[0m2        \u001b[0m | \u001b[0m1.78     \u001b[0m | \u001b[0m0.7345   \u001b[0m | \u001b[0m2.039    \u001b[0m | \u001b[0m0.1609   \u001b[0m | \u001b[0m21.5     \u001b[0m | \u001b[0m26.55    \u001b[0m | \u001b[0m70.63    \u001b[0m | \u001b[0m9.194    \u001b[0m | \u001b[0m0.008288 \u001b[0m | \u001b[0m0.9792   \u001b[0m |\n",
            "| \u001b[0m3        \u001b[0m | \u001b[0m1.78     \u001b[0m | \u001b[0m0.8691   \u001b[0m | \u001b[0m5.258    \u001b[0m | \u001b[0m0.9026   \u001b[0m | \u001b[0m4.426    \u001b[0m | \u001b[0m16.99    \u001b[0m | \u001b[0m60.8     \u001b[0m | \u001b[0m7.401    \u001b[0m | \u001b[0m5.057    \u001b[0m | \u001b[0m0.7625   \u001b[0m |\n",
            "| \u001b[0m4        \u001b[0m | \u001b[0m1.78     \u001b[0m | \u001b[0m0.8809   \u001b[0m | \u001b[0m7.761    \u001b[0m | \u001b[0m0.03145  \u001b[0m | \u001b[0m33.05    \u001b[0m | \u001b[0m64.65    \u001b[0m | \u001b[0m13.52    \u001b[0m | \u001b[0m1.281    \u001b[0m | \u001b[0m4.983    \u001b[0m | \u001b[0m0.5952   \u001b[0m |\n",
            "| \u001b[0m5        \u001b[0m | \u001b[0m1.78     \u001b[0m | \u001b[0m0.9365   \u001b[0m | \u001b[0m9.299    \u001b[0m | \u001b[0m0.744    \u001b[0m | \u001b[0m40.01    \u001b[0m | \u001b[0m67.16    \u001b[0m | \u001b[0m24.22    \u001b[0m | \u001b[0m6.641    \u001b[0m | \u001b[0m3.329    \u001b[0m | \u001b[0m0.5096   \u001b[0m |\n",
            "| \u001b[0m6        \u001b[0m | \u001b[0m1.78     \u001b[0m | \u001b[0m0.8645   \u001b[0m | \u001b[0m1.176    \u001b[0m | \u001b[0m0.7192   \u001b[0m | \u001b[0m15.37    \u001b[0m | \u001b[0m87.7     \u001b[0m | \u001b[0m95.21    \u001b[0m | \u001b[0m3.812    \u001b[0m | \u001b[0m6.705    \u001b[0m | \u001b[0m0.8737   \u001b[0m |\n",
            "| \u001b[0m7        \u001b[0m | \u001b[0m1.78     \u001b[0m | \u001b[0m0.7039   \u001b[0m | \u001b[0m1.187    \u001b[0m | \u001b[0m0.3179   \u001b[0m | \u001b[0m42.49    \u001b[0m | \u001b[0m19.57    \u001b[0m | \u001b[0m39.02    \u001b[0m | \u001b[0m5.321    \u001b[0m | \u001b[0m8.143    \u001b[0m | \u001b[0m0.6753   \u001b[0m |\n",
            "| \u001b[0m8        \u001b[0m | \u001b[0m1.78     \u001b[0m | \u001b[0m0.7484   \u001b[0m | \u001b[0m9.532    \u001b[0m | \u001b[0m0.06845  \u001b[0m | \u001b[0m11.39    \u001b[0m | \u001b[0m9.123    \u001b[0m | \u001b[0m21.8     \u001b[0m | \u001b[0m9.402    \u001b[0m | \u001b[0m0.6876   \u001b[0m | \u001b[0m0.5109   \u001b[0m |\n",
            "| \u001b[0m9        \u001b[0m | \u001b[0m1.78     \u001b[0m | \u001b[0m0.7249   \u001b[0m | \u001b[0m3.995    \u001b[0m | \u001b[0m0.6199   \u001b[0m | \u001b[0m2.942    \u001b[0m | \u001b[0m98.26    \u001b[0m | \u001b[0m7.108    \u001b[0m | \u001b[0m7.463    \u001b[0m | \u001b[0m0.6234   \u001b[0m | \u001b[0m0.5366   \u001b[0m |\n",
            "| \u001b[0m10       \u001b[0m | \u001b[0m1.78     \u001b[0m | \u001b[0m0.6108   \u001b[0m | \u001b[0m9.308    \u001b[0m | \u001b[0m0.3559   \u001b[0m | \u001b[0m1.03     \u001b[0m | \u001b[0m97.24    \u001b[0m | \u001b[0m99.79    \u001b[0m | \u001b[0m6.431    \u001b[0m | \u001b[0m8.016    \u001b[0m | \u001b[0m0.802    \u001b[0m |\n",
            "| \u001b[0m11       \u001b[0m | \u001b[0m1.78     \u001b[0m | \u001b[0m0.6871   \u001b[0m | \u001b[0m8.618    \u001b[0m | \u001b[0m0.5631   \u001b[0m | \u001b[0m40.2     \u001b[0m | \u001b[0m24.1     \u001b[0m | \u001b[0m55.44    \u001b[0m | \u001b[0m0.2762   \u001b[0m | \u001b[0m0.5579   \u001b[0m | \u001b[0m0.7876   \u001b[0m |\n",
            "| \u001b[0m12       \u001b[0m | \u001b[0m1.78     \u001b[0m | \u001b[0m0.5024   \u001b[0m | \u001b[0m8.467    \u001b[0m | \u001b[0m0.0415   \u001b[0m | \u001b[0m17.99    \u001b[0m | \u001b[0m23.18    \u001b[0m | \u001b[0m55.19    \u001b[0m | \u001b[0m1.556    \u001b[0m | \u001b[0m2.698    \u001b[0m | \u001b[0m0.5414   \u001b[0m |\n",
            "| \u001b[0m13       \u001b[0m | \u001b[0m1.78     \u001b[0m | \u001b[0m0.9235   \u001b[0m | \u001b[0m2.064    \u001b[0m | \u001b[0m0.9755   \u001b[0m | \u001b[0m40.77    \u001b[0m | \u001b[0m49.11    \u001b[0m | \u001b[0m39.22    \u001b[0m | \u001b[0m8.753    \u001b[0m | \u001b[0m8.425    \u001b[0m | \u001b[0m0.9581   \u001b[0m |\n",
            "| \u001b[0m14       \u001b[0m | \u001b[0m1.78     \u001b[0m | \u001b[0m0.5238   \u001b[0m | \u001b[0m1.451    \u001b[0m | \u001b[0m0.004977 \u001b[0m | \u001b[0m39.29    \u001b[0m | \u001b[0m32.97    \u001b[0m | \u001b[0m32.75    \u001b[0m | \u001b[0m7.717    \u001b[0m | \u001b[0m9.392    \u001b[0m | \u001b[0m0.9116   \u001b[0m |\n",
            "| \u001b[0m15       \u001b[0m | \u001b[0m1.78     \u001b[0m | \u001b[0m0.5062   \u001b[0m | \u001b[0m2.024    \u001b[0m | \u001b[0m0.5653   \u001b[0m | \u001b[0m43.48    \u001b[0m | \u001b[0m54.93    \u001b[0m | \u001b[0m93.11    \u001b[0m | \u001b[0m0.8994   \u001b[0m | \u001b[0m6.087    \u001b[0m | \u001b[0m0.6807   \u001b[0m |\n",
            "| \u001b[0m16       \u001b[0m | \u001b[0m1.78     \u001b[0m | \u001b[0m0.5284   \u001b[0m | \u001b[0m0.3648   \u001b[0m | \u001b[0m0.7484   \u001b[0m | \u001b[0m7.629    \u001b[0m | \u001b[0m31.71    \u001b[0m | \u001b[0m99.6     \u001b[0m | \u001b[0m9.057    \u001b[0m | \u001b[0m0.5337   \u001b[0m | \u001b[0m0.9243   \u001b[0m |\n",
            "| \u001b[0m17       \u001b[0m | \u001b[0m1.78     \u001b[0m | \u001b[0m0.9947   \u001b[0m | \u001b[0m5.68     \u001b[0m | \u001b[0m0.968    \u001b[0m | \u001b[0m46.4     \u001b[0m | \u001b[0m99.87    \u001b[0m | \u001b[0m5.62     \u001b[0m | \u001b[0m1.141    \u001b[0m | \u001b[0m9.445    \u001b[0m | \u001b[0m0.9062   \u001b[0m |\n",
            "| \u001b[0m18       \u001b[0m | \u001b[0m1.78     \u001b[0m | \u001b[0m0.7256   \u001b[0m | \u001b[0m2.882    \u001b[0m | \u001b[0m0.08951  \u001b[0m | \u001b[0m7.627    \u001b[0m | \u001b[0m0.6757   \u001b[0m | \u001b[0m7.111    \u001b[0m | \u001b[0m9.173    \u001b[0m | \u001b[0m4.461    \u001b[0m | \u001b[0m0.5389   \u001b[0m |\n",
            "| \u001b[0m19       \u001b[0m | \u001b[0m1.78     \u001b[0m | \u001b[0m0.9913   \u001b[0m | \u001b[0m4.673    \u001b[0m | \u001b[0m0.7838   \u001b[0m | \u001b[0m4.215    \u001b[0m | \u001b[0m98.13    \u001b[0m | \u001b[0m5.375    \u001b[0m | \u001b[0m5.77     \u001b[0m | \u001b[0m0.003713 \u001b[0m | \u001b[0m0.8049   \u001b[0m |\n",
            "| \u001b[0m20       \u001b[0m | \u001b[0m1.78     \u001b[0m | \u001b[0m0.772    \u001b[0m | \u001b[0m6.865    \u001b[0m | \u001b[0m0.8616   \u001b[0m | \u001b[0m47.63    \u001b[0m | \u001b[0m99.15    \u001b[0m | \u001b[0m97.79    \u001b[0m | \u001b[0m9.39     \u001b[0m | \u001b[0m0.01191  \u001b[0m | \u001b[0m0.5006   \u001b[0m |\n",
            "| \u001b[0m21       \u001b[0m | \u001b[0m1.78     \u001b[0m | \u001b[0m0.7865   \u001b[0m | \u001b[0m8.781    \u001b[0m | \u001b[0m0.4192   \u001b[0m | \u001b[0m45.8     \u001b[0m | \u001b[0m65.77    \u001b[0m | \u001b[0m39.33    \u001b[0m | \u001b[0m4.845    \u001b[0m | \u001b[0m5.367    \u001b[0m | \u001b[0m0.8329   \u001b[0m |\n",
            "| \u001b[0m22       \u001b[0m | \u001b[0m1.78     \u001b[0m | \u001b[0m0.7817   \u001b[0m | \u001b[0m9.208    \u001b[0m | \u001b[0m0.4186   \u001b[0m | \u001b[0m4.198    \u001b[0m | \u001b[0m15.48    \u001b[0m | \u001b[0m56.01    \u001b[0m | \u001b[0m3.385    \u001b[0m | \u001b[0m1.689    \u001b[0m | \u001b[0m0.7856   \u001b[0m |\n",
            "| \u001b[0m23       \u001b[0m | \u001b[0m1.78     \u001b[0m | \u001b[0m0.8334   \u001b[0m | \u001b[0m0.5463   \u001b[0m | \u001b[0m0.4733   \u001b[0m | \u001b[0m23.1     \u001b[0m | \u001b[0m42.94    \u001b[0m | \u001b[0m65.08    \u001b[0m | \u001b[0m7.336    \u001b[0m | \u001b[0m0.5662   \u001b[0m | \u001b[0m0.5404   \u001b[0m |\n",
            "| \u001b[0m24       \u001b[0m | \u001b[0m1.78     \u001b[0m | \u001b[0m0.8047   \u001b[0m | \u001b[0m7.148    \u001b[0m | \u001b[0m0.6588   \u001b[0m | \u001b[0m32.96    \u001b[0m | \u001b[0m1.315    \u001b[0m | \u001b[0m73.64    \u001b[0m | \u001b[0m5.278    \u001b[0m | \u001b[0m9.745    \u001b[0m | \u001b[0m0.9308   \u001b[0m |\n",
            "| \u001b[0m25       \u001b[0m | \u001b[0m1.78     \u001b[0m | \u001b[0m0.9437   \u001b[0m | \u001b[0m9.582    \u001b[0m | \u001b[0m0.4485   \u001b[0m | \u001b[0m2.015    \u001b[0m | \u001b[0m98.42    \u001b[0m | \u001b[0m98.94    \u001b[0m | \u001b[0m1.44     \u001b[0m | \u001b[0m6.546    \u001b[0m | \u001b[0m0.9422   \u001b[0m |\n",
            "| \u001b[0m26       \u001b[0m | \u001b[0m1.78     \u001b[0m | \u001b[0m0.6856   \u001b[0m | \u001b[0m0.4089   \u001b[0m | \u001b[0m0.1034   \u001b[0m | \u001b[0m1.422    \u001b[0m | \u001b[0m96.19    \u001b[0m | \u001b[0m5.358    \u001b[0m | \u001b[0m1.361    \u001b[0m | \u001b[0m1.014    \u001b[0m | \u001b[0m0.6469   \u001b[0m |\n",
            "| \u001b[0m27       \u001b[0m | \u001b[0m1.78     \u001b[0m | \u001b[0m0.8623   \u001b[0m | \u001b[0m2.096    \u001b[0m | \u001b[0m0.555    \u001b[0m | \u001b[0m36.7     \u001b[0m | \u001b[0m56.54    \u001b[0m | \u001b[0m32.14    \u001b[0m | \u001b[0m2.685    \u001b[0m | \u001b[0m6.628    \u001b[0m | \u001b[0m0.5668   \u001b[0m |\n",
            "| \u001b[0m28       \u001b[0m | \u001b[0m1.78     \u001b[0m | \u001b[0m0.653    \u001b[0m | \u001b[0m0.7216   \u001b[0m | \u001b[0m0.1765   \u001b[0m | \u001b[0m8.104    \u001b[0m | \u001b[0m50.52    \u001b[0m | \u001b[0m71.58    \u001b[0m | \u001b[0m8.774    \u001b[0m | \u001b[0m4.84     \u001b[0m | \u001b[0m0.5179   \u001b[0m |\n",
            "| \u001b[0m29       \u001b[0m | \u001b[0m1.78     \u001b[0m | \u001b[0m0.8425   \u001b[0m | \u001b[0m1.222    \u001b[0m | \u001b[0m0.5128   \u001b[0m | \u001b[0m42.27    \u001b[0m | \u001b[0m28.32    \u001b[0m | \u001b[0m94.01    \u001b[0m | \u001b[0m2.066    \u001b[0m | \u001b[0m1.565    \u001b[0m | \u001b[0m0.7837   \u001b[0m |\n",
            "| \u001b[0m30       \u001b[0m | \u001b[0m1.764    \u001b[0m | \u001b[0m0.788    \u001b[0m | \u001b[0m8.982    \u001b[0m | \u001b[0m0.8565   \u001b[0m | \u001b[0m25.11    \u001b[0m | \u001b[0m4.359    \u001b[0m | \u001b[0m99.39    \u001b[0m | \u001b[0m2.119    \u001b[0m | \u001b[0m4.069    \u001b[0m | \u001b[0m0.6378   \u001b[0m |\n",
            "| \u001b[0m31       \u001b[0m | \u001b[0m1.78     \u001b[0m | \u001b[0m1.0      \u001b[0m | \u001b[0m0.0      \u001b[0m | \u001b[0m1.0      \u001b[0m | \u001b[0m33.8     \u001b[0m | \u001b[0m0.0      \u001b[0m | \u001b[0m54.16    \u001b[0m | \u001b[0m10.0     \u001b[0m | \u001b[0m10.0     \u001b[0m | \u001b[0m1.0      \u001b[0m |\n",
            "| \u001b[0m32       \u001b[0m | \u001b[0m1.78     \u001b[0m | \u001b[0m0.8569   \u001b[0m | \u001b[0m8.848    \u001b[0m | \u001b[0m0.2518   \u001b[0m | \u001b[0m15.87    \u001b[0m | \u001b[0m99.6     \u001b[0m | \u001b[0m50.97    \u001b[0m | \u001b[0m5.992    \u001b[0m | \u001b[0m1.994    \u001b[0m | \u001b[0m0.8939   \u001b[0m |\n",
            "| \u001b[0m33       \u001b[0m | \u001b[0m1.78     \u001b[0m | \u001b[0m1.0      \u001b[0m | \u001b[0m10.0     \u001b[0m | \u001b[0m1.0      \u001b[0m | \u001b[0m1.0      \u001b[0m | \u001b[0m55.66    \u001b[0m | \u001b[0m100.0    \u001b[0m | \u001b[0m0.0      \u001b[0m | \u001b[0m10.0     \u001b[0m | \u001b[0m1.0      \u001b[0m |\n",
            "| \u001b[0m34       \u001b[0m | \u001b[0m1.78     \u001b[0m | \u001b[0m0.6391   \u001b[0m | \u001b[0m5.977    \u001b[0m | \u001b[0m0.3387   \u001b[0m | \u001b[0m2.201    \u001b[0m | \u001b[0m46.27    \u001b[0m | \u001b[0m6.354    \u001b[0m | \u001b[0m8.273    \u001b[0m | \u001b[0m5.682    \u001b[0m | \u001b[0m0.6423   \u001b[0m |\n",
            "| \u001b[0m35       \u001b[0m | \u001b[0m1.78     \u001b[0m | \u001b[0m0.9014   \u001b[0m | \u001b[0m7.756    \u001b[0m | \u001b[0m0.6167   \u001b[0m | \u001b[0m46.65    \u001b[0m | \u001b[0m3.487    \u001b[0m | \u001b[0m5.384    \u001b[0m | \u001b[0m5.318    \u001b[0m | \u001b[0m1.177    \u001b[0m | \u001b[0m0.8963   \u001b[0m |\n",
            "| \u001b[0m36       \u001b[0m | \u001b[0m1.78     \u001b[0m | \u001b[0m1.0      \u001b[0m | \u001b[0m10.0     \u001b[0m | \u001b[0m1.0      \u001b[0m | \u001b[0m1.0      \u001b[0m | \u001b[0m69.24    \u001b[0m | \u001b[0m36.22    \u001b[0m | \u001b[0m10.0     \u001b[0m | \u001b[0m0.0      \u001b[0m | \u001b[0m1.0      \u001b[0m |\n",
            "| \u001b[0m37       \u001b[0m | \u001b[0m1.78     \u001b[0m | \u001b[0m0.5      \u001b[0m | \u001b[0m0.0      \u001b[0m | \u001b[0m1.0      \u001b[0m | \u001b[0m50.0     \u001b[0m | \u001b[0m93.33    \u001b[0m | \u001b[0m60.01    \u001b[0m | \u001b[0m10.0     \u001b[0m | \u001b[0m0.0      \u001b[0m | \u001b[0m0.5      \u001b[0m |\n",
            "| \u001b[0m38       \u001b[0m | \u001b[0m1.78     \u001b[0m | \u001b[0m0.5      \u001b[0m | \u001b[0m0.0      \u001b[0m | \u001b[0m0.0001   \u001b[0m | \u001b[0m50.0     \u001b[0m | \u001b[0m35.01    \u001b[0m | \u001b[0m5.0      \u001b[0m | \u001b[0m0.0      \u001b[0m | \u001b[0m10.0     \u001b[0m | \u001b[0m0.5      \u001b[0m |\n",
            "| \u001b[0m39       \u001b[0m | \u001b[0m1.78     \u001b[0m | \u001b[0m1.0      \u001b[0m | \u001b[0m0.0      \u001b[0m | \u001b[0m0.0001   \u001b[0m | \u001b[0m50.0     \u001b[0m | \u001b[0m29.39    \u001b[0m | \u001b[0m73.06    \u001b[0m | \u001b[0m10.0     \u001b[0m | \u001b[0m10.0     \u001b[0m | \u001b[0m0.5      \u001b[0m |\n",
            "| \u001b[0m40       \u001b[0m | \u001b[0m1.78     \u001b[0m | \u001b[0m0.9896   \u001b[0m | \u001b[0m10.0     \u001b[0m | \u001b[0m0.9366   \u001b[0m | \u001b[0m50.0     \u001b[0m | \u001b[0m0.0      \u001b[0m | \u001b[0m64.54    \u001b[0m | \u001b[0m10.0     \u001b[0m | \u001b[0m10.0     \u001b[0m | \u001b[0m1.0      \u001b[0m |\n",
            "| \u001b[0m41       \u001b[0m | \u001b[0m1.78     \u001b[0m | \u001b[0m1.0      \u001b[0m | \u001b[0m10.0     \u001b[0m | \u001b[0m0.0001   \u001b[0m | \u001b[0m29.6     \u001b[0m | \u001b[0m78.32    \u001b[0m | \u001b[0m68.22    \u001b[0m | \u001b[0m0.0      \u001b[0m | \u001b[0m10.0     \u001b[0m | \u001b[0m0.5      \u001b[0m |\n",
            "| \u001b[0m42       \u001b[0m | \u001b[0m1.78     \u001b[0m | \u001b[0m0.5      \u001b[0m | \u001b[0m0.0      \u001b[0m | \u001b[0m0.0001   \u001b[0m | \u001b[0m40.74    \u001b[0m | \u001b[0m100.0    \u001b[0m | \u001b[0m35.54    \u001b[0m | \u001b[0m3.842    \u001b[0m | \u001b[0m10.0     \u001b[0m | \u001b[0m0.5      \u001b[0m |\n",
            "| \u001b[0m43       \u001b[0m | \u001b[0m1.78     \u001b[0m | \u001b[0m0.5      \u001b[0m | \u001b[0m0.0      \u001b[0m | \u001b[0m1.0      \u001b[0m | \u001b[0m1.0      \u001b[0m | \u001b[0m93.29    \u001b[0m | \u001b[0m70.91    \u001b[0m | \u001b[0m0.0      \u001b[0m | \u001b[0m0.3715   \u001b[0m | \u001b[0m1.0      \u001b[0m |\n",
            "| \u001b[0m44       \u001b[0m | \u001b[0m1.78     \u001b[0m | \u001b[0m0.5856   \u001b[0m | \u001b[0m1.84     \u001b[0m | \u001b[0m0.399    \u001b[0m | \u001b[0m2.469    \u001b[0m | \u001b[0m35.73    \u001b[0m | \u001b[0m35.93    \u001b[0m | \u001b[0m7.415    \u001b[0m | \u001b[0m9.042    \u001b[0m | \u001b[0m0.7605   \u001b[0m |\n",
            "| \u001b[95m45       \u001b[0m | \u001b[95m1.78     \u001b[0m | \u001b[95m0.8344   \u001b[0m | \u001b[95m0.0      \u001b[0m | \u001b[95m0.0001   \u001b[0m | \u001b[95m1.0      \u001b[0m | \u001b[95m0.0      \u001b[0m | \u001b[95m37.91    \u001b[0m | \u001b[95m0.0      \u001b[0m | \u001b[95m10.0     \u001b[0m | \u001b[95m1.0      \u001b[0m |\n",
            "| \u001b[0m46       \u001b[0m | \u001b[0m1.78     \u001b[0m | \u001b[0m1.0      \u001b[0m | \u001b[0m0.0      \u001b[0m | \u001b[0m1.0      \u001b[0m | \u001b[0m23.23    \u001b[0m | \u001b[0m28.85    \u001b[0m | \u001b[0m5.0      \u001b[0m | \u001b[0m7.401    \u001b[0m | \u001b[0m0.0      \u001b[0m | \u001b[0m1.0      \u001b[0m |\n",
            "| \u001b[0m47       \u001b[0m | \u001b[0m1.78     \u001b[0m | \u001b[0m0.7528   \u001b[0m | \u001b[0m3.447    \u001b[0m | \u001b[0m0.791    \u001b[0m | \u001b[0m19.44    \u001b[0m | \u001b[0m54.4     \u001b[0m | \u001b[0m97.39    \u001b[0m | \u001b[0m9.378    \u001b[0m | \u001b[0m2.376    \u001b[0m | \u001b[0m0.7509   \u001b[0m |\n",
            "| \u001b[0m48       \u001b[0m | \u001b[0m1.78     \u001b[0m | \u001b[0m0.5      \u001b[0m | \u001b[0m0.0      \u001b[0m | \u001b[0m0.0001   \u001b[0m | \u001b[0m15.71    \u001b[0m | \u001b[0m89.91    \u001b[0m | \u001b[0m24.9     \u001b[0m | \u001b[0m0.0      \u001b[0m | \u001b[0m10.0     \u001b[0m | \u001b[0m1.0      \u001b[0m |\n",
            "| \u001b[0m49       \u001b[0m | \u001b[0m1.78     \u001b[0m | \u001b[0m0.9034   \u001b[0m | \u001b[0m10.0     \u001b[0m | \u001b[0m0.0001   \u001b[0m | \u001b[0m50.0     \u001b[0m | \u001b[0m55.79    \u001b[0m | \u001b[0m68.78    \u001b[0m | \u001b[0m0.0      \u001b[0m | \u001b[0m0.0      \u001b[0m | \u001b[0m1.0      \u001b[0m |\n",
            "| \u001b[0m50       \u001b[0m | \u001b[0m1.78     \u001b[0m | \u001b[0m0.5      \u001b[0m | \u001b[0m4.259    \u001b[0m | \u001b[0m0.0001   \u001b[0m | \u001b[0m1.0      \u001b[0m | \u001b[0m70.68    \u001b[0m | \u001b[0m55.85    \u001b[0m | \u001b[0m0.0      \u001b[0m | \u001b[0m10.0     \u001b[0m | \u001b[0m1.0      \u001b[0m |\n",
            "| \u001b[0m51       \u001b[0m | \u001b[0m1.78     \u001b[0m | \u001b[0m0.5      \u001b[0m | \u001b[0m0.0      \u001b[0m | \u001b[0m0.0001   \u001b[0m | \u001b[0m50.0     \u001b[0m | \u001b[0m74.69    \u001b[0m | \u001b[0m5.0      \u001b[0m | \u001b[0m10.0     \u001b[0m | \u001b[0m10.0     \u001b[0m | \u001b[0m0.5      \u001b[0m |\n",
            "| \u001b[0m52       \u001b[0m | \u001b[0m1.78     \u001b[0m | \u001b[0m0.5838   \u001b[0m | \u001b[0m5.933    \u001b[0m | \u001b[0m0.8399   \u001b[0m | \u001b[0m2.647    \u001b[0m | \u001b[0m71.43    \u001b[0m | \u001b[0m8.184    \u001b[0m | \u001b[0m1.373    \u001b[0m | \u001b[0m9.752    \u001b[0m | \u001b[0m0.5303   \u001b[0m |\n",
            "| \u001b[0m53       \u001b[0m | \u001b[0m1.78     \u001b[0m | \u001b[0m1.0      \u001b[0m | \u001b[0m10.0     \u001b[0m | \u001b[0m1.0      \u001b[0m | \u001b[0m28.14    \u001b[0m | \u001b[0m100.0    \u001b[0m | \u001b[0m78.2     \u001b[0m | \u001b[0m10.0     \u001b[0m | \u001b[0m10.0     \u001b[0m | \u001b[0m1.0      \u001b[0m |\n",
            "| \u001b[0m54       \u001b[0m | \u001b[0m1.78     \u001b[0m | \u001b[0m1.0      \u001b[0m | \u001b[0m0.0      \u001b[0m | \u001b[0m0.0001   \u001b[0m | \u001b[0m31.84    \u001b[0m | \u001b[0m0.0      \u001b[0m | \u001b[0m22.88    \u001b[0m | \u001b[0m0.0      \u001b[0m | \u001b[0m10.0     \u001b[0m | \u001b[0m0.5      \u001b[0m |\n",
            "| \u001b[0m55       \u001b[0m | \u001b[0m1.78     \u001b[0m | \u001b[0m1.0      \u001b[0m | \u001b[0m10.0     \u001b[0m | \u001b[0m0.0001   \u001b[0m | \u001b[0m1.0      \u001b[0m | \u001b[0m100.0    \u001b[0m | \u001b[0m32.96    \u001b[0m | \u001b[0m0.0      \u001b[0m | \u001b[0m0.0      \u001b[0m | \u001b[0m0.5      \u001b[0m |\n",
            "| \u001b[0m56       \u001b[0m | \u001b[0m1.78     \u001b[0m | \u001b[0m0.5      \u001b[0m | \u001b[0m0.0      \u001b[0m | \u001b[0m0.0001   \u001b[0m | \u001b[0m50.0     \u001b[0m | \u001b[0m76.64    \u001b[0m | \u001b[0m100.0    \u001b[0m | \u001b[0m10.0     \u001b[0m | \u001b[0m10.0     \u001b[0m | \u001b[0m1.0      \u001b[0m |\n",
            "| \u001b[0m57       \u001b[0m | \u001b[0m1.78     \u001b[0m | \u001b[0m0.5      \u001b[0m | \u001b[0m10.0     \u001b[0m | \u001b[0m1.0      \u001b[0m | \u001b[0m29.06    \u001b[0m | \u001b[0m100.0    \u001b[0m | \u001b[0m18.63    \u001b[0m | \u001b[0m10.0     \u001b[0m | \u001b[0m0.0      \u001b[0m | \u001b[0m0.5      \u001b[0m |\n",
            "| \u001b[0m58       \u001b[0m | \u001b[0m1.78     \u001b[0m | \u001b[0m1.0      \u001b[0m | \u001b[0m0.0      \u001b[0m | \u001b[0m1.0      \u001b[0m | \u001b[0m23.69    \u001b[0m | \u001b[0m72.58    \u001b[0m | \u001b[0m49.76    \u001b[0m | \u001b[0m10.0     \u001b[0m | \u001b[0m0.0      \u001b[0m | \u001b[0m1.0      \u001b[0m |\n",
            "| \u001b[0m59       \u001b[0m | \u001b[0m1.78     \u001b[0m | \u001b[0m0.5      \u001b[0m | \u001b[0m0.0      \u001b[0m | \u001b[0m0.0001   \u001b[0m | \u001b[0m50.0     \u001b[0m | \u001b[0m100.0    \u001b[0m | \u001b[0m78.76    \u001b[0m | \u001b[0m0.0      \u001b[0m | \u001b[0m10.0     \u001b[0m | \u001b[0m0.5      \u001b[0m |\n",
            "| \u001b[0m60       \u001b[0m | \u001b[0m1.78     \u001b[0m | \u001b[0m1.0      \u001b[0m | \u001b[0m0.0      \u001b[0m | \u001b[0m0.0001   \u001b[0m | \u001b[0m1.0      \u001b[0m | \u001b[0m70.39    \u001b[0m | \u001b[0m85.97    \u001b[0m | \u001b[0m0.0      \u001b[0m | \u001b[0m0.0      \u001b[0m | \u001b[0m1.0      \u001b[0m |\n",
            "| \u001b[0m61       \u001b[0m | \u001b[0m1.78     \u001b[0m | \u001b[0m1.0      \u001b[0m | \u001b[0m10.0     \u001b[0m | \u001b[0m1.0      \u001b[0m | \u001b[0m50.0     \u001b[0m | \u001b[0m23.53    \u001b[0m | \u001b[0m21.46    \u001b[0m | \u001b[0m0.0      \u001b[0m | \u001b[0m0.0      \u001b[0m | \u001b[0m1.0      \u001b[0m |\n",
            "| \u001b[0m62       \u001b[0m | \u001b[0m1.78     \u001b[0m | \u001b[0m0.7177   \u001b[0m | \u001b[0m2.687    \u001b[0m | \u001b[0m0.8137   \u001b[0m | \u001b[0m1.892    \u001b[0m | \u001b[0m19.54    \u001b[0m | \u001b[0m6.087    \u001b[0m | \u001b[0m0.3926   \u001b[0m | \u001b[0m7.264    \u001b[0m | \u001b[0m0.9986   \u001b[0m |\n",
            "| \u001b[0m63       \u001b[0m | \u001b[0m1.78     \u001b[0m | \u001b[0m0.5      \u001b[0m | \u001b[0m0.0      \u001b[0m | \u001b[0m1.0      \u001b[0m | \u001b[0m50.0     \u001b[0m | \u001b[0m87.23    \u001b[0m | \u001b[0m22.81    \u001b[0m | \u001b[0m0.0      \u001b[0m | \u001b[0m0.0      \u001b[0m | \u001b[0m1.0      \u001b[0m |\n",
            "| \u001b[0m64       \u001b[0m | \u001b[0m1.78     \u001b[0m | \u001b[0m1.0      \u001b[0m | \u001b[0m0.0      \u001b[0m | \u001b[0m1.0      \u001b[0m | \u001b[0m50.0     \u001b[0m | \u001b[0m51.2     \u001b[0m | \u001b[0m9.148    \u001b[0m | \u001b[0m10.0     \u001b[0m | \u001b[0m0.0      \u001b[0m | \u001b[0m1.0      \u001b[0m |\n",
            "| \u001b[0m65       \u001b[0m | \u001b[0m1.78     \u001b[0m | \u001b[0m1.0      \u001b[0m | \u001b[0m10.0     \u001b[0m | \u001b[0m1.0      \u001b[0m | \u001b[0m1.0      \u001b[0m | \u001b[0m41.65    \u001b[0m | \u001b[0m87.23    \u001b[0m | \u001b[0m10.0     \u001b[0m | \u001b[0m0.0      \u001b[0m | \u001b[0m0.5      \u001b[0m |\n",
            "| \u001b[0m66       \u001b[0m | \u001b[0m1.78     \u001b[0m | \u001b[0m0.5      \u001b[0m | \u001b[0m0.0      \u001b[0m | \u001b[0m0.0001   \u001b[0m | \u001b[0m50.0     \u001b[0m | \u001b[0m8.032    \u001b[0m | \u001b[0m66.54    \u001b[0m | \u001b[0m0.0      \u001b[0m | \u001b[0m0.0      \u001b[0m | \u001b[0m1.0      \u001b[0m |\n",
            "| \u001b[0m67       \u001b[0m | \u001b[0m1.78     \u001b[0m | \u001b[0m0.7711   \u001b[0m | \u001b[0m10.0     \u001b[0m | \u001b[0m0.0001   \u001b[0m | \u001b[0m50.0     \u001b[0m | \u001b[0m0.0      \u001b[0m | \u001b[0m30.51    \u001b[0m | \u001b[0m10.0     \u001b[0m | \u001b[0m10.0     \u001b[0m | \u001b[0m0.5      \u001b[0m |\n",
            "| \u001b[0m68       \u001b[0m | \u001b[0m1.78     \u001b[0m | \u001b[0m1.0      \u001b[0m | \u001b[0m0.0      \u001b[0m | \u001b[0m0.0001   \u001b[0m | \u001b[0m50.0     \u001b[0m | \u001b[0m69.46    \u001b[0m | \u001b[0m64.63    \u001b[0m | \u001b[0m10.0     \u001b[0m | \u001b[0m10.0     \u001b[0m | \u001b[0m1.0      \u001b[0m |\n",
            "| \u001b[0m69       \u001b[0m | \u001b[0m1.78     \u001b[0m | \u001b[0m1.0      \u001b[0m | \u001b[0m10.0     \u001b[0m | \u001b[0m0.0001   \u001b[0m | \u001b[0m20.38    \u001b[0m | \u001b[0m0.0      \u001b[0m | \u001b[0m55.75    \u001b[0m | \u001b[0m0.0      \u001b[0m | \u001b[0m10.0     \u001b[0m | \u001b[0m0.5      \u001b[0m |\n",
            "| \u001b[0m70       \u001b[0m | \u001b[0m1.78     \u001b[0m | \u001b[0m0.7651   \u001b[0m | \u001b[0m9.781    \u001b[0m | \u001b[0m0.6565   \u001b[0m | \u001b[0m19.52    \u001b[0m | \u001b[0m41.56    \u001b[0m | \u001b[0m28.67    \u001b[0m | \u001b[0m9.864    \u001b[0m | \u001b[0m0.2581   \u001b[0m | \u001b[0m0.7392   \u001b[0m |\n",
            "| \u001b[0m71       \u001b[0m | \u001b[0m1.78     \u001b[0m | \u001b[0m1.0      \u001b[0m | \u001b[0m0.0      \u001b[0m | \u001b[0m0.0001   \u001b[0m | \u001b[0m1.0      \u001b[0m | \u001b[0m44.35    \u001b[0m | \u001b[0m100.0    \u001b[0m | \u001b[0m10.0     \u001b[0m | \u001b[0m10.0     \u001b[0m | \u001b[0m1.0      \u001b[0m |\n",
            "| \u001b[0m72       \u001b[0m | \u001b[0m1.78     \u001b[0m | \u001b[0m0.5      \u001b[0m | \u001b[0m0.0      \u001b[0m | \u001b[0m0.0001   \u001b[0m | \u001b[0m1.0      \u001b[0m | \u001b[0m54.48    \u001b[0m | \u001b[0m25.41    \u001b[0m | \u001b[0m0.0      \u001b[0m | \u001b[0m0.0      \u001b[0m | \u001b[0m1.0      \u001b[0m |\n",
            "| \u001b[0m73       \u001b[0m | \u001b[0m1.78     \u001b[0m | \u001b[0m1.0      \u001b[0m | \u001b[0m10.0     \u001b[0m | \u001b[0m0.0001   \u001b[0m | \u001b[0m21.5     \u001b[0m | \u001b[0m77.24    \u001b[0m | \u001b[0m5.0      \u001b[0m | \u001b[0m10.0     \u001b[0m | \u001b[0m0.0      \u001b[0m | \u001b[0m0.5      \u001b[0m |\n",
            "| \u001b[0m74       \u001b[0m | \u001b[0m1.78     \u001b[0m | \u001b[0m1.0      \u001b[0m | \u001b[0m10.0     \u001b[0m | \u001b[0m1.0      \u001b[0m | \u001b[0m1.0      \u001b[0m | \u001b[0m43.64    \u001b[0m | \u001b[0m54.79    \u001b[0m | \u001b[0m0.0      \u001b[0m | \u001b[0m10.0     \u001b[0m | \u001b[0m1.0      \u001b[0m |\n",
            "| \u001b[0m75       \u001b[0m | \u001b[0m1.78     \u001b[0m | \u001b[0m1.0      \u001b[0m | \u001b[0m0.0      \u001b[0m | \u001b[0m1.0      \u001b[0m | \u001b[0m1.0      \u001b[0m | \u001b[0m92.2     \u001b[0m | \u001b[0m44.92    \u001b[0m | \u001b[0m10.0     \u001b[0m | \u001b[0m10.0     \u001b[0m | \u001b[0m0.5      \u001b[0m |\n",
            "| \u001b[0m76       \u001b[0m | \u001b[0m1.78     \u001b[0m | \u001b[0m1.0      \u001b[0m | \u001b[0m0.0      \u001b[0m | \u001b[0m0.0001   \u001b[0m | \u001b[0m42.09    \u001b[0m | \u001b[0m39.19    \u001b[0m | \u001b[0m80.82    \u001b[0m | \u001b[0m0.0      \u001b[0m | \u001b[0m0.0      \u001b[0m | \u001b[0m1.0      \u001b[0m |\n",
            "| \u001b[0m77       \u001b[0m | \u001b[0m1.78     \u001b[0m | \u001b[0m1.0      \u001b[0m | \u001b[0m10.0     \u001b[0m | \u001b[0m1.0      \u001b[0m | \u001b[0m1.0      \u001b[0m | \u001b[0m76.27    \u001b[0m | \u001b[0m100.0    \u001b[0m | \u001b[0m10.0     \u001b[0m | \u001b[0m0.0      \u001b[0m | \u001b[0m0.5      \u001b[0m |\n",
            "| \u001b[0m78       \u001b[0m | \u001b[0m1.78     \u001b[0m | \u001b[0m1.0      \u001b[0m | \u001b[0m10.0     \u001b[0m | \u001b[0m1.0      \u001b[0m | \u001b[0m26.43    \u001b[0m | \u001b[0m48.49    \u001b[0m | \u001b[0m5.0      \u001b[0m | \u001b[0m10.0     \u001b[0m | \u001b[0m10.0     \u001b[0m | \u001b[0m1.0      \u001b[0m |\n",
            "| \u001b[0m79       \u001b[0m | \u001b[0m1.78     \u001b[0m | \u001b[0m0.7466   \u001b[0m | \u001b[0m9.867    \u001b[0m | \u001b[0m0.1895   \u001b[0m | \u001b[0m36.68    \u001b[0m | \u001b[0m75.14    \u001b[0m | \u001b[0m82.26    \u001b[0m | \u001b[0m9.706    \u001b[0m | \u001b[0m0.8657   \u001b[0m | \u001b[0m0.6054   \u001b[0m |\n",
            "| \u001b[0m80       \u001b[0m | \u001b[0m1.78     \u001b[0m | \u001b[0m0.5      \u001b[0m | \u001b[0m10.0     \u001b[0m | \u001b[0m0.0001   \u001b[0m | \u001b[0m5.092    \u001b[0m | \u001b[0m74.42    \u001b[0m | \u001b[0m69.37    \u001b[0m | \u001b[0m10.0     \u001b[0m | \u001b[0m0.0      \u001b[0m | \u001b[0m0.5      \u001b[0m |\n",
            "| \u001b[0m81       \u001b[0m | \u001b[0m1.78     \u001b[0m | \u001b[0m0.5      \u001b[0m | \u001b[0m10.0     \u001b[0m | \u001b[0m1.0      \u001b[0m | \u001b[0m30.4     \u001b[0m | \u001b[0m18.07    \u001b[0m | \u001b[0m13.69    \u001b[0m | \u001b[0m10.0     \u001b[0m | \u001b[0m10.0     \u001b[0m | \u001b[0m0.5      \u001b[0m |\n",
            "| \u001b[0m82       \u001b[0m | \u001b[0m1.78     \u001b[0m | \u001b[0m0.5      \u001b[0m | \u001b[0m0.0      \u001b[0m | \u001b[0m1.0      \u001b[0m | \u001b[0m24.02    \u001b[0m | \u001b[0m100.0    \u001b[0m | \u001b[0m5.0      \u001b[0m | \u001b[0m10.0     \u001b[0m | \u001b[0m10.0     \u001b[0m | \u001b[0m0.5      \u001b[0m |\n",
            "| \u001b[0m83       \u001b[0m | \u001b[0m1.78     \u001b[0m | \u001b[0m1.0      \u001b[0m | \u001b[0m0.0      \u001b[0m | \u001b[0m1.0      \u001b[0m | \u001b[0m1.0      \u001b[0m | \u001b[0m0.0      \u001b[0m | \u001b[0m50.48    \u001b[0m | \u001b[0m10.0     \u001b[0m | \u001b[0m0.0      \u001b[0m | \u001b[0m0.5      \u001b[0m |\n",
            "| \u001b[0m84       \u001b[0m | \u001b[0m1.78     \u001b[0m | \u001b[0m1.0      \u001b[0m | \u001b[0m0.0      \u001b[0m | \u001b[0m1.0      \u001b[0m | \u001b[0m50.0     \u001b[0m | \u001b[0m40.37    \u001b[0m | \u001b[0m100.0    \u001b[0m | \u001b[0m10.0     \u001b[0m | \u001b[0m0.0      \u001b[0m | \u001b[0m1.0      \u001b[0m |\n",
            "| \u001b[0m85       \u001b[0m | \u001b[0m1.78     \u001b[0m | \u001b[0m1.0      \u001b[0m | \u001b[0m10.0     \u001b[0m | \u001b[0m1.0      \u001b[0m | \u001b[0m27.72    \u001b[0m | \u001b[0m100.0    \u001b[0m | \u001b[0m100.0    \u001b[0m | \u001b[0m0.0      \u001b[0m | \u001b[0m0.0      \u001b[0m | \u001b[0m1.0      \u001b[0m |\n",
            "| \u001b[0m86       \u001b[0m | \u001b[0m1.78     \u001b[0m | \u001b[0m1.0      \u001b[0m | \u001b[0m0.0      \u001b[0m | \u001b[0m1.0      \u001b[0m | \u001b[0m34.89    \u001b[0m | \u001b[0m14.82    \u001b[0m | \u001b[0m65.35    \u001b[0m | \u001b[0m10.0     \u001b[0m | \u001b[0m10.0     \u001b[0m | \u001b[0m0.5      \u001b[0m |\n",
            "| \u001b[0m87       \u001b[0m | \u001b[0m1.78     \u001b[0m | \u001b[0m1.0      \u001b[0m | \u001b[0m10.0     \u001b[0m | \u001b[0m1.0      \u001b[0m | \u001b[0m1.0      \u001b[0m | \u001b[0m100.0    \u001b[0m | \u001b[0m72.31    \u001b[0m | \u001b[0m10.0     \u001b[0m | \u001b[0m10.0     \u001b[0m | \u001b[0m1.0      \u001b[0m |\n",
            "| \u001b[0m88       \u001b[0m | \u001b[0m1.78     \u001b[0m | \u001b[0m0.5      \u001b[0m | \u001b[0m10.0     \u001b[0m | \u001b[0m1.0      \u001b[0m | \u001b[0m23.92    \u001b[0m | \u001b[0m0.0      \u001b[0m | \u001b[0m5.0      \u001b[0m | \u001b[0m0.0      \u001b[0m | \u001b[0m10.0     \u001b[0m | \u001b[0m1.0      \u001b[0m |\n",
            "| \u001b[0m89       \u001b[0m | \u001b[0m1.78     \u001b[0m | \u001b[0m0.5      \u001b[0m | \u001b[0m0.0      \u001b[0m | \u001b[0m0.0001   \u001b[0m | \u001b[0m1.0      \u001b[0m | \u001b[0m33.13    \u001b[0m | \u001b[0m73.35    \u001b[0m | \u001b[0m0.0      \u001b[0m | \u001b[0m0.0      \u001b[0m | \u001b[0m0.5336   \u001b[0m |\n",
            "| \u001b[0m90       \u001b[0m | \u001b[0m1.78     \u001b[0m | \u001b[0m0.5      \u001b[0m | \u001b[0m10.0     \u001b[0m | \u001b[0m0.0001   \u001b[0m | \u001b[0m28.71    \u001b[0m | \u001b[0m54.26    \u001b[0m | \u001b[0m53.35    \u001b[0m | \u001b[0m0.0      \u001b[0m | \u001b[0m10.0     \u001b[0m | \u001b[0m0.5      \u001b[0m |\n",
            "| \u001b[0m91       \u001b[0m | \u001b[0m1.78     \u001b[0m | \u001b[0m0.5      \u001b[0m | \u001b[0m10.0     \u001b[0m | \u001b[0m0.8922   \u001b[0m | \u001b[0m44.35    \u001b[0m | \u001b[0m74.58    \u001b[0m | \u001b[0m100.0    \u001b[0m | \u001b[0m0.0      \u001b[0m | \u001b[0m0.0      \u001b[0m | \u001b[0m0.5      \u001b[0m |\n",
            "| \u001b[0m92       \u001b[0m | \u001b[0m1.78     \u001b[0m | \u001b[0m1.0      \u001b[0m | \u001b[0m10.0     \u001b[0m | \u001b[0m0.0001   \u001b[0m | \u001b[0m50.0     \u001b[0m | \u001b[0m93.35    \u001b[0m | \u001b[0m47.61    \u001b[0m | \u001b[0m0.0      \u001b[0m | \u001b[0m0.0      \u001b[0m | \u001b[0m1.0      \u001b[0m |\n",
            "| \u001b[0m93       \u001b[0m | \u001b[0m1.78     \u001b[0m | \u001b[0m0.5      \u001b[0m | \u001b[0m0.0      \u001b[0m | \u001b[0m1.0      \u001b[0m | \u001b[0m17.49    \u001b[0m | \u001b[0m63.54    \u001b[0m | \u001b[0m25.51    \u001b[0m | \u001b[0m10.0     \u001b[0m | \u001b[0m10.0     \u001b[0m | \u001b[0m0.5      \u001b[0m |\n",
            "| \u001b[0m94       \u001b[0m | \u001b[0m1.78     \u001b[0m | \u001b[0m1.0      \u001b[0m | \u001b[0m0.0      \u001b[0m | \u001b[0m1.0      \u001b[0m | \u001b[0m28.47    \u001b[0m | \u001b[0m100.0    \u001b[0m | \u001b[0m59.59    \u001b[0m | \u001b[0m0.0      \u001b[0m | \u001b[0m10.0     \u001b[0m | \u001b[0m0.5      \u001b[0m |\n",
            "| \u001b[0m95       \u001b[0m | \u001b[0m1.78     \u001b[0m | \u001b[0m0.5      \u001b[0m | \u001b[0m0.0      \u001b[0m | \u001b[0m1.0      \u001b[0m | \u001b[0m50.0     \u001b[0m | \u001b[0m41.91    \u001b[0m | \u001b[0m51.82    \u001b[0m | \u001b[0m0.0      \u001b[0m | \u001b[0m6.529    \u001b[0m | \u001b[0m1.0      \u001b[0m |\n",
            "| \u001b[0m96       \u001b[0m | \u001b[0m1.78     \u001b[0m | \u001b[0m1.0      \u001b[0m | \u001b[0m10.0     \u001b[0m | \u001b[0m1.0      \u001b[0m | \u001b[0m1.0      \u001b[0m | \u001b[0m17.76    \u001b[0m | \u001b[0m31.5     \u001b[0m | \u001b[0m0.0      \u001b[0m | \u001b[0m10.0     \u001b[0m | \u001b[0m1.0      \u001b[0m |\n",
            "| \u001b[0m97       \u001b[0m | \u001b[0m1.78     \u001b[0m | \u001b[0m0.638    \u001b[0m | \u001b[0m0.7738   \u001b[0m | \u001b[0m0.7193   \u001b[0m | \u001b[0m21.3     \u001b[0m | \u001b[0m24.13    \u001b[0m | \u001b[0m29.36    \u001b[0m | \u001b[0m0.9727   \u001b[0m | \u001b[0m0.1081   \u001b[0m | \u001b[0m0.7647   \u001b[0m |\n",
            "| \u001b[0m98       \u001b[0m | \u001b[0m1.78     \u001b[0m | \u001b[0m0.5      \u001b[0m | \u001b[0m0.0      \u001b[0m | \u001b[0m0.0001   \u001b[0m | \u001b[0m4.864    \u001b[0m | \u001b[0m45.67    \u001b[0m | \u001b[0m100.0    \u001b[0m | \u001b[0m0.0      \u001b[0m | \u001b[0m0.0      \u001b[0m | \u001b[0m0.5      \u001b[0m |\n",
            "| \u001b[0m99       \u001b[0m | \u001b[0m1.78     \u001b[0m | \u001b[0m0.5      \u001b[0m | \u001b[0m0.0      \u001b[0m | \u001b[0m1.0      \u001b[0m | \u001b[0m50.0     \u001b[0m | \u001b[0m20.48    \u001b[0m | \u001b[0m10.57    \u001b[0m | \u001b[0m10.0     \u001b[0m | \u001b[0m0.0      \u001b[0m | \u001b[0m1.0      \u001b[0m |\n",
            "| \u001b[0m100      \u001b[0m | \u001b[0m1.78     \u001b[0m | \u001b[0m1.0      \u001b[0m | \u001b[0m10.0     \u001b[0m | \u001b[0m1.0      \u001b[0m | \u001b[0m20.17    \u001b[0m | \u001b[0m74.81    \u001b[0m | \u001b[0m32.29    \u001b[0m | \u001b[0m0.0      \u001b[0m | \u001b[0m0.0      \u001b[0m | \u001b[0m0.9914   \u001b[0m |\n",
            "| \u001b[0m101      \u001b[0m | \u001b[0m1.78     \u001b[0m | \u001b[0m1.0      \u001b[0m | \u001b[0m0.0      \u001b[0m | \u001b[0m1.0      \u001b[0m | \u001b[0m17.02    \u001b[0m | \u001b[0m55.66    \u001b[0m | \u001b[0m5.0      \u001b[0m | \u001b[0m0.0      \u001b[0m | \u001b[0m10.0     \u001b[0m | \u001b[0m1.0      \u001b[0m |\n",
            "| \u001b[95m102      \u001b[0m | \u001b[95m2.052    \u001b[0m | \u001b[95m0.5      \u001b[0m | \u001b[95m0.0      \u001b[0m | \u001b[95m0.1903   \u001b[0m | \u001b[95m39.74    \u001b[0m | \u001b[95m0.0      \u001b[0m | \u001b[95m64.89    \u001b[0m | \u001b[95m0.0      \u001b[0m | \u001b[95m10.0     \u001b[0m | \u001b[95m1.0      \u001b[0m |\n",
            "| \u001b[0m103      \u001b[0m | \u001b[0m1.78     \u001b[0m | \u001b[0m0.952    \u001b[0m | \u001b[0m2.042    \u001b[0m | \u001b[0m0.142    \u001b[0m | \u001b[0m40.54    \u001b[0m | \u001b[0m4.887    \u001b[0m | \u001b[0m66.11    \u001b[0m | \u001b[0m6.466    \u001b[0m | \u001b[0m9.338    \u001b[0m | \u001b[0m0.92     \u001b[0m |\n",
            "| \u001b[0m104      \u001b[0m | \u001b[0m1.777    \u001b[0m | \u001b[0m0.5725   \u001b[0m | \u001b[0m1.185    \u001b[0m | \u001b[0m0.1453   \u001b[0m | \u001b[0m41.47    \u001b[0m | \u001b[0m2.15     \u001b[0m | \u001b[0m66.06    \u001b[0m | \u001b[0m4.327    \u001b[0m | \u001b[0m6.731    \u001b[0m | \u001b[0m0.7036   \u001b[0m |\n",
            "| \u001b[95m105      \u001b[0m | \u001b[95m2.337    \u001b[0m | \u001b[95m0.8631   \u001b[0m | \u001b[95m0.02029  \u001b[0m | \u001b[95m0.5545   \u001b[0m | \u001b[95m48.39    \u001b[0m | \u001b[95m2.754    \u001b[0m | \u001b[95m69.23    \u001b[0m | \u001b[95m0.2421   \u001b[0m | \u001b[95m8.276    \u001b[0m | \u001b[95m0.6691   \u001b[0m |\n",
            "| \u001b[0m106      \u001b[0m | \u001b[0m1.705    \u001b[0m | \u001b[0m0.6773   \u001b[0m | \u001b[0m1.739    \u001b[0m | \u001b[0m0.7833   \u001b[0m | \u001b[0m48.91    \u001b[0m | \u001b[0m3.431    \u001b[0m | \u001b[0m64.95    \u001b[0m | \u001b[0m2.18     \u001b[0m | \u001b[0m5.074    \u001b[0m | \u001b[0m0.6256   \u001b[0m |\n",
            "| \u001b[0m107      \u001b[0m | \u001b[0m1.743    \u001b[0m | \u001b[0m0.7061   \u001b[0m | \u001b[0m2.73     \u001b[0m | \u001b[0m0.7053   \u001b[0m | \u001b[0m48.59    \u001b[0m | \u001b[0m4.098    \u001b[0m | \u001b[0m66.57    \u001b[0m | \u001b[0m0.4474   \u001b[0m | \u001b[0m9.653    \u001b[0m | \u001b[0m0.5803   \u001b[0m |\n",
            "| \u001b[0m108      \u001b[0m | \u001b[0m1.78     \u001b[0m | \u001b[0m0.7873   \u001b[0m | \u001b[0m9.589    \u001b[0m | \u001b[0m0.2371   \u001b[0m | \u001b[0m18.78    \u001b[0m | \u001b[0m27.13    \u001b[0m | \u001b[0m26.9     \u001b[0m | \u001b[0m8.179    \u001b[0m | \u001b[0m1.425    \u001b[0m | \u001b[0m0.9508   \u001b[0m |\n",
            "| \u001b[0m109      \u001b[0m | \u001b[0m1.78     \u001b[0m | \u001b[0m0.5239   \u001b[0m | \u001b[0m8.965    \u001b[0m | \u001b[0m0.2894   \u001b[0m | \u001b[0m40.83    \u001b[0m | \u001b[0m2.324    \u001b[0m | \u001b[0m20.46    \u001b[0m | \u001b[0m5.113    \u001b[0m | \u001b[0m4.077    \u001b[0m | \u001b[0m0.865    \u001b[0m |\n",
            "| \u001b[0m110      \u001b[0m | \u001b[0m1.78     \u001b[0m | \u001b[0m0.6157   \u001b[0m | \u001b[0m1.288    \u001b[0m | \u001b[0m0.9754   \u001b[0m | \u001b[0m13.08    \u001b[0m | \u001b[0m94.2     \u001b[0m | \u001b[0m27.91    \u001b[0m | \u001b[0m7.614    \u001b[0m | \u001b[0m4.274    \u001b[0m | \u001b[0m0.7517   \u001b[0m |\n",
            "| \u001b[0m111      \u001b[0m | \u001b[0m1.78     \u001b[0m | \u001b[0m0.676    \u001b[0m | \u001b[0m9.39     \u001b[0m | \u001b[0m0.2244   \u001b[0m | \u001b[0m35.36    \u001b[0m | \u001b[0m61.62    \u001b[0m | \u001b[0m93.83    \u001b[0m | \u001b[0m0.8048   \u001b[0m | \u001b[0m8.019    \u001b[0m | \u001b[0m0.9352   \u001b[0m |\n",
            "| \u001b[0m112      \u001b[0m | \u001b[0m1.78     \u001b[0m | \u001b[0m0.9144   \u001b[0m | \u001b[0m4.446    \u001b[0m | \u001b[0m0.3543   \u001b[0m | \u001b[0m37.31    \u001b[0m | \u001b[0m43.5     \u001b[0m | \u001b[0m12.53    \u001b[0m | \u001b[0m8.839    \u001b[0m | \u001b[0m6.521    \u001b[0m | \u001b[0m0.5152   \u001b[0m |\n",
            "| \u001b[0m113      \u001b[0m | \u001b[0m1.78     \u001b[0m | \u001b[0m0.8977   \u001b[0m | \u001b[0m8.326    \u001b[0m | \u001b[0m0.3733   \u001b[0m | \u001b[0m9.656    \u001b[0m | \u001b[0m19.16    \u001b[0m | \u001b[0m70.28    \u001b[0m | \u001b[0m9.328    \u001b[0m | \u001b[0m9.948    \u001b[0m | \u001b[0m0.5431   \u001b[0m |\n",
            "| \u001b[0m114      \u001b[0m | \u001b[0m1.762    \u001b[0m | \u001b[0m0.7062   \u001b[0m | \u001b[0m3.328    \u001b[0m | \u001b[0m0.7897   \u001b[0m | \u001b[0m26.7     \u001b[0m | \u001b[0m9.783    \u001b[0m | \u001b[0m46.4     \u001b[0m | \u001b[0m1.85     \u001b[0m | \u001b[0m4.609    \u001b[0m | \u001b[0m0.9035   \u001b[0m |\n",
            "| \u001b[0m115      \u001b[0m | \u001b[0m1.78     \u001b[0m | \u001b[0m0.7964   \u001b[0m | \u001b[0m8.829    \u001b[0m | \u001b[0m0.9487   \u001b[0m | \u001b[0m7.884    \u001b[0m | \u001b[0m52.51    \u001b[0m | \u001b[0m93.67    \u001b[0m | \u001b[0m8.88     \u001b[0m | \u001b[0m3.594    \u001b[0m | \u001b[0m0.6523   \u001b[0m |\n",
            "| \u001b[0m116      \u001b[0m | \u001b[0m1.78     \u001b[0m | \u001b[0m0.6846   \u001b[0m | \u001b[0m8.145    \u001b[0m | \u001b[0m0.4844   \u001b[0m | \u001b[0m49.97    \u001b[0m | \u001b[0m80.96    \u001b[0m | \u001b[0m42.26    \u001b[0m | \u001b[0m2.67     \u001b[0m | \u001b[0m9.707    \u001b[0m | \u001b[0m0.8877   \u001b[0m |\n",
            "| \u001b[0m117      \u001b[0m | \u001b[0m1.791    \u001b[0m | \u001b[0m0.6929   \u001b[0m | \u001b[0m3.237    \u001b[0m | \u001b[0m0.2192   \u001b[0m | \u001b[0m44.8     \u001b[0m | \u001b[0m2.987    \u001b[0m | \u001b[0m68.88    \u001b[0m | \u001b[0m0.6599   \u001b[0m | \u001b[0m7.766    \u001b[0m | \u001b[0m0.8375   \u001b[0m |\n",
            "| \u001b[0m118      \u001b[0m | \u001b[0m1.78     \u001b[0m | \u001b[0m0.7373   \u001b[0m | \u001b[0m7.991    \u001b[0m | \u001b[0m0.5541   \u001b[0m | \u001b[0m21.17    \u001b[0m | \u001b[0m31.02    \u001b[0m | \u001b[0m19.69    \u001b[0m | \u001b[0m4.171    \u001b[0m | \u001b[0m9.594    \u001b[0m | \u001b[0m0.8761   \u001b[0m |\n",
            "| \u001b[0m119      \u001b[0m | \u001b[0m1.717    \u001b[0m | \u001b[0m0.7996   \u001b[0m | \u001b[0m0.2881   \u001b[0m | \u001b[0m0.1716   \u001b[0m | \u001b[0m41.28    \u001b[0m | \u001b[0m5.024    \u001b[0m | \u001b[0m71.46    \u001b[0m | \u001b[0m1.644    \u001b[0m | \u001b[0m6.963    \u001b[0m | \u001b[0m0.5675   \u001b[0m |\n",
            "| \u001b[0m120      \u001b[0m | \u001b[0m1.78     \u001b[0m | \u001b[0m0.8486   \u001b[0m | \u001b[0m5.598    \u001b[0m | \u001b[0m0.5223   \u001b[0m | \u001b[0m14.42    \u001b[0m | \u001b[0m44.35    \u001b[0m | \u001b[0m82.81    \u001b[0m | \u001b[0m9.382    \u001b[0m | \u001b[0m4.847    \u001b[0m | \u001b[0m0.8254   \u001b[0m |\n",
            "| \u001b[0m121      \u001b[0m | \u001b[0m1.78     \u001b[0m | \u001b[0m0.9089   \u001b[0m | \u001b[0m6.53     \u001b[0m | \u001b[0m0.9349   \u001b[0m | \u001b[0m19.09    \u001b[0m | \u001b[0m19.59    \u001b[0m | \u001b[0m82.73    \u001b[0m | \u001b[0m3.373    \u001b[0m | \u001b[0m5.728    \u001b[0m | \u001b[0m0.6194   \u001b[0m |\n",
            "| \u001b[0m122      \u001b[0m | \u001b[0m1.78     \u001b[0m | \u001b[0m0.9503   \u001b[0m | \u001b[0m4.52     \u001b[0m | \u001b[0m0.2122   \u001b[0m | \u001b[0m8.205    \u001b[0m | \u001b[0m40.85    \u001b[0m | \u001b[0m58.07    \u001b[0m | \u001b[0m1.088    \u001b[0m | \u001b[0m9.757    \u001b[0m | \u001b[0m0.9932   \u001b[0m |\n",
            "| \u001b[0m123      \u001b[0m | \u001b[0m1.78     \u001b[0m | \u001b[0m0.761    \u001b[0m | \u001b[0m1.496    \u001b[0m | \u001b[0m0.3785   \u001b[0m | \u001b[0m15.28    \u001b[0m | \u001b[0m86.29    \u001b[0m | \u001b[0m29.06    \u001b[0m | \u001b[0m7.166    \u001b[0m | \u001b[0m4.008    \u001b[0m | \u001b[0m0.7813   \u001b[0m |\n",
            "| \u001b[0m124      \u001b[0m | \u001b[0m1.78     \u001b[0m | \u001b[0m0.6198   \u001b[0m | \u001b[0m1.501    \u001b[0m | \u001b[0m0.713    \u001b[0m | \u001b[0m42.25    \u001b[0m | \u001b[0m19.93    \u001b[0m | \u001b[0m95.53    \u001b[0m | \u001b[0m6.133    \u001b[0m | \u001b[0m4.761    \u001b[0m | \u001b[0m0.5289   \u001b[0m |\n",
            "| \u001b[0m125      \u001b[0m | \u001b[0m1.78     \u001b[0m | \u001b[0m0.8063   \u001b[0m | \u001b[0m6.341    \u001b[0m | \u001b[0m0.1069   \u001b[0m | \u001b[0m11.76    \u001b[0m | \u001b[0m61.46    \u001b[0m | \u001b[0m53.41    \u001b[0m | \u001b[0m5.964    \u001b[0m | \u001b[0m5.609    \u001b[0m | \u001b[0m0.8892   \u001b[0m |\n",
            "| \u001b[0m126      \u001b[0m | \u001b[0m1.78     \u001b[0m | \u001b[0m0.821    \u001b[0m | \u001b[0m8.2      \u001b[0m | \u001b[0m0.3953   \u001b[0m | \u001b[0m23.25    \u001b[0m | \u001b[0m39.2     \u001b[0m | \u001b[0m62.01    \u001b[0m | \u001b[0m5.274    \u001b[0m | \u001b[0m1.974    \u001b[0m | \u001b[0m0.7527   \u001b[0m |\n",
            "| \u001b[0m127      \u001b[0m | \u001b[0m1.78     \u001b[0m | \u001b[0m0.8259   \u001b[0m | \u001b[0m2.892    \u001b[0m | \u001b[0m0.2079   \u001b[0m | \u001b[0m14.29    \u001b[0m | \u001b[0m7.651    \u001b[0m | \u001b[0m48.95    \u001b[0m | \u001b[0m9.028    \u001b[0m | \u001b[0m1.523    \u001b[0m | \u001b[0m0.6479   \u001b[0m |\n",
            "| \u001b[0m128      \u001b[0m | \u001b[0m1.741    \u001b[0m | \u001b[0m0.9326   \u001b[0m | \u001b[0m4.478    \u001b[0m | \u001b[0m0.02631  \u001b[0m | \u001b[0m40.63    \u001b[0m | \u001b[0m1.848    \u001b[0m | \u001b[0m67.52    \u001b[0m | \u001b[0m0.0002016\u001b[0m | \u001b[0m8.429    \u001b[0m | \u001b[0m0.6637   \u001b[0m |\n",
            "| \u001b[0m129      \u001b[0m | \u001b[0m1.78     \u001b[0m | \u001b[0m0.9141   \u001b[0m | \u001b[0m6.261    \u001b[0m | \u001b[0m0.5303   \u001b[0m | \u001b[0m46.37    \u001b[0m | \u001b[0m68.59    \u001b[0m | \u001b[0m72.23    \u001b[0m | \u001b[0m8.872    \u001b[0m | \u001b[0m2.79     \u001b[0m | \u001b[0m0.7569   \u001b[0m |\n",
            "| \u001b[0m130      \u001b[0m | \u001b[0m1.78     \u001b[0m | \u001b[0m0.787    \u001b[0m | \u001b[0m7.526    \u001b[0m | \u001b[0m0.0445   \u001b[0m | \u001b[0m48.92    \u001b[0m | \u001b[0m99.93    \u001b[0m | \u001b[0m26.81    \u001b[0m | \u001b[0m4.487    \u001b[0m | \u001b[0m7.226    \u001b[0m | \u001b[0m0.6254   \u001b[0m |\n",
            "| \u001b[0m131      \u001b[0m | \u001b[0m1.78     \u001b[0m | \u001b[0m0.5148   \u001b[0m | \u001b[0m8.044    \u001b[0m | \u001b[0m0.06238  \u001b[0m | \u001b[0m49.21    \u001b[0m | \u001b[0m3.921    \u001b[0m | \u001b[0m42.9     \u001b[0m | \u001b[0m9.61     \u001b[0m | \u001b[0m9.014    \u001b[0m | \u001b[0m0.5251   \u001b[0m |\n",
            "| \u001b[0m132      \u001b[0m | \u001b[0m1.78     \u001b[0m | \u001b[0m0.6724   \u001b[0m | \u001b[0m6.102    \u001b[0m | \u001b[0m0.2777   \u001b[0m | \u001b[0m26.19    \u001b[0m | \u001b[0m45.83    \u001b[0m | \u001b[0m97.87    \u001b[0m | \u001b[0m5.408    \u001b[0m | \u001b[0m0.3675   \u001b[0m | \u001b[0m0.884    \u001b[0m |\n",
            "| \u001b[0m133      \u001b[0m | \u001b[0m1.78     \u001b[0m | \u001b[0m0.704    \u001b[0m | \u001b[0m9.471    \u001b[0m | \u001b[0m0.3918   \u001b[0m | \u001b[0m42.54    \u001b[0m | \u001b[0m36.67    \u001b[0m | \u001b[0m36.34    \u001b[0m | \u001b[0m7.312    \u001b[0m | \u001b[0m0.1078   \u001b[0m | \u001b[0m0.7209   \u001b[0m |\n",
            "| \u001b[0m134      \u001b[0m | \u001b[0m1.78     \u001b[0m | \u001b[0m0.5493   \u001b[0m | \u001b[0m3.064    \u001b[0m | \u001b[0m0.9341   \u001b[0m | \u001b[0m7.267    \u001b[0m | \u001b[0m67.21    \u001b[0m | \u001b[0m71.01    \u001b[0m | \u001b[0m7.236    \u001b[0m | \u001b[0m6.496    \u001b[0m | \u001b[0m0.983    \u001b[0m |\n",
            "| \u001b[0m135      \u001b[0m | \u001b[0m1.78     \u001b[0m | \u001b[0m0.7391   \u001b[0m | \u001b[0m4.257    \u001b[0m | \u001b[0m0.4491   \u001b[0m | \u001b[0m12.52    \u001b[0m | \u001b[0m77.61    \u001b[0m | \u001b[0m72.58    \u001b[0m | \u001b[0m7.8      \u001b[0m | \u001b[0m7.109    \u001b[0m | \u001b[0m0.9725   \u001b[0m |\n",
            "| \u001b[0m136      \u001b[0m | \u001b[0m1.78     \u001b[0m | \u001b[0m0.7486   \u001b[0m | \u001b[0m0.05062  \u001b[0m | \u001b[0m0.4359   \u001b[0m | \u001b[0m39.37    \u001b[0m | \u001b[0m87.95    \u001b[0m | \u001b[0m80.91    \u001b[0m | \u001b[0m1.771    \u001b[0m | \u001b[0m4.168    \u001b[0m | \u001b[0m0.5216   \u001b[0m |\n",
            "| \u001b[0m137      \u001b[0m | \u001b[0m1.78     \u001b[0m | \u001b[0m0.5425   \u001b[0m | \u001b[0m2.908    \u001b[0m | \u001b[0m0.6869   \u001b[0m | \u001b[0m6.757    \u001b[0m | \u001b[0m72.75    \u001b[0m | \u001b[0m34.46    \u001b[0m | \u001b[0m1.605    \u001b[0m | \u001b[0m9.037    \u001b[0m | \u001b[0m0.5992   \u001b[0m |\n",
            "| \u001b[0m138      \u001b[0m | \u001b[0m1.78     \u001b[0m | \u001b[0m0.5204   \u001b[0m | \u001b[0m8.256    \u001b[0m | \u001b[0m0.6028   \u001b[0m | \u001b[0m18.94    \u001b[0m | \u001b[0m12.62    \u001b[0m | \u001b[0m79.01    \u001b[0m | \u001b[0m5.041    \u001b[0m | \u001b[0m3.809    \u001b[0m | \u001b[0m0.7252   \u001b[0m |\n",
            "| \u001b[0m139      \u001b[0m | \u001b[0m1.78     \u001b[0m | \u001b[0m0.825    \u001b[0m | \u001b[0m8.321    \u001b[0m | \u001b[0m0.3706   \u001b[0m | \u001b[0m29.29    \u001b[0m | \u001b[0m51.94    \u001b[0m | \u001b[0m55.64    \u001b[0m | \u001b[0m5.004    \u001b[0m | \u001b[0m6.952    \u001b[0m | \u001b[0m0.7299   \u001b[0m |\n",
            "| \u001b[0m140      \u001b[0m | \u001b[0m1.78     \u001b[0m | \u001b[0m0.8969   \u001b[0m | \u001b[0m4.793    \u001b[0m | \u001b[0m0.4314   \u001b[0m | \u001b[0m38.63    \u001b[0m | \u001b[0m48.31    \u001b[0m | \u001b[0m86.88    \u001b[0m | \u001b[0m8.085    \u001b[0m | \u001b[0m7.586    \u001b[0m | \u001b[0m0.9561   \u001b[0m |\n",
            "| \u001b[0m141      \u001b[0m | \u001b[0m1.78     \u001b[0m | \u001b[0m0.9841   \u001b[0m | \u001b[0m2.174    \u001b[0m | \u001b[0m0.9529   \u001b[0m | \u001b[0m48.86    \u001b[0m | \u001b[0m6.668    \u001b[0m | \u001b[0m68.51    \u001b[0m | \u001b[0m4.835    \u001b[0m | \u001b[0m0.8405   \u001b[0m | \u001b[0m0.8172   \u001b[0m |\n",
            "| \u001b[0m142      \u001b[0m | \u001b[0m1.78     \u001b[0m | \u001b[0m0.6047   \u001b[0m | \u001b[0m3.857    \u001b[0m | \u001b[0m0.7103   \u001b[0m | \u001b[0m47.9     \u001b[0m | \u001b[0m49.72    \u001b[0m | \u001b[0m79.24    \u001b[0m | \u001b[0m0.5164   \u001b[0m | \u001b[0m2.664    \u001b[0m | \u001b[0m0.7729   \u001b[0m |\n",
            "| \u001b[0m143      \u001b[0m | \u001b[0m1.78     \u001b[0m | \u001b[0m0.55     \u001b[0m | \u001b[0m9.489    \u001b[0m | \u001b[0m0.1241   \u001b[0m | \u001b[0m27.51    \u001b[0m | \u001b[0m36.87    \u001b[0m | \u001b[0m73.52    \u001b[0m | \u001b[0m4.274    \u001b[0m | \u001b[0m3.022    \u001b[0m | \u001b[0m0.9664   \u001b[0m |\n",
            "| \u001b[0m144      \u001b[0m | \u001b[0m1.824    \u001b[0m | \u001b[0m0.6382   \u001b[0m | \u001b[0m5.076    \u001b[0m | \u001b[0m0.8589   \u001b[0m | \u001b[0m20.52    \u001b[0m | \u001b[0m8.506    \u001b[0m | \u001b[0m62.91    \u001b[0m | \u001b[0m1.416    \u001b[0m | \u001b[0m9.064    \u001b[0m | \u001b[0m0.6093   \u001b[0m |\n",
            "| \u001b[0m145      \u001b[0m | \u001b[0m1.78     \u001b[0m | \u001b[0m0.9789   \u001b[0m | \u001b[0m7.734    \u001b[0m | \u001b[0m0.7149   \u001b[0m | \u001b[0m21.07    \u001b[0m | \u001b[0m10.62    \u001b[0m | \u001b[0m61.98    \u001b[0m | \u001b[0m3.388    \u001b[0m | \u001b[0m8.424    \u001b[0m | \u001b[0m0.589    \u001b[0m |\n",
            "| \u001b[0m146      \u001b[0m | \u001b[0m1.78     \u001b[0m | \u001b[0m0.8303   \u001b[0m | \u001b[0m2.058    \u001b[0m | \u001b[0m0.4211   \u001b[0m | \u001b[0m34.07    \u001b[0m | \u001b[0m8.694    \u001b[0m | \u001b[0m7.393    \u001b[0m | \u001b[0m7.956    \u001b[0m | \u001b[0m6.603    \u001b[0m | \u001b[0m0.7739   \u001b[0m |\n",
            "| \u001b[0m147      \u001b[0m | \u001b[0m1.78     \u001b[0m | \u001b[0m0.7087   \u001b[0m | \u001b[0m2.823    \u001b[0m | \u001b[0m0.6236   \u001b[0m | \u001b[0m13.95    \u001b[0m | \u001b[0m62.6     \u001b[0m | \u001b[0m12.79    \u001b[0m | \u001b[0m0.3099   \u001b[0m | \u001b[0m8.921    \u001b[0m | \u001b[0m0.7115   \u001b[0m |\n",
            "| \u001b[0m148      \u001b[0m | \u001b[0m1.729    \u001b[0m | \u001b[0m0.7989   \u001b[0m | \u001b[0m4.682    \u001b[0m | \u001b[0m0.2105   \u001b[0m | \u001b[0m46.09    \u001b[0m | \u001b[0m5.062    \u001b[0m | \u001b[0m68.72    \u001b[0m | \u001b[0m1.925    \u001b[0m | \u001b[0m8.209    \u001b[0m | \u001b[0m0.6698   \u001b[0m |\n",
            "| \u001b[0m149      \u001b[0m | \u001b[0m1.78     \u001b[0m | \u001b[0m0.7429   \u001b[0m | \u001b[0m1.246    \u001b[0m | \u001b[0m0.4157   \u001b[0m | \u001b[0m7.868    \u001b[0m | \u001b[0m99.89    \u001b[0m | \u001b[0m58.76    \u001b[0m | \u001b[0m6.608    \u001b[0m | \u001b[0m0.4477   \u001b[0m | \u001b[0m0.6273   \u001b[0m |\n",
            "| \u001b[0m150      \u001b[0m | \u001b[0m1.78     \u001b[0m | \u001b[0m0.7876   \u001b[0m | \u001b[0m1.337    \u001b[0m | \u001b[0m0.2938   \u001b[0m | \u001b[0m21.86    \u001b[0m | \u001b[0m54.07    \u001b[0m | \u001b[0m37.03    \u001b[0m | \u001b[0m1.521    \u001b[0m | \u001b[0m9.545    \u001b[0m | \u001b[0m0.663    \u001b[0m |\n",
            "| \u001b[0m151      \u001b[0m | \u001b[0m1.78     \u001b[0m | \u001b[0m0.5545   \u001b[0m | \u001b[0m0.1806   \u001b[0m | \u001b[0m0.4693   \u001b[0m | \u001b[0m39.85    \u001b[0m | \u001b[0m37.42    \u001b[0m | \u001b[0m33.85    \u001b[0m | \u001b[0m9.216    \u001b[0m | \u001b[0m6.875    \u001b[0m | \u001b[0m0.645    \u001b[0m |\n",
            "| \u001b[0m152      \u001b[0m | \u001b[0m1.78     \u001b[0m | \u001b[0m0.7151   \u001b[0m | \u001b[0m9.418    \u001b[0m | \u001b[0m0.3115   \u001b[0m | \u001b[0m18.19    \u001b[0m | \u001b[0m44.31    \u001b[0m | \u001b[0m99.05    \u001b[0m | \u001b[0m9.025    \u001b[0m | \u001b[0m6.294    \u001b[0m | \u001b[0m0.9275   \u001b[0m |\n",
            "| \u001b[0m153      \u001b[0m | \u001b[0m1.78     \u001b[0m | \u001b[0m0.6094   \u001b[0m | \u001b[0m7.269    \u001b[0m | \u001b[0m0.563    \u001b[0m | \u001b[0m20.95    \u001b[0m | \u001b[0m53.33    \u001b[0m | \u001b[0m81.5     \u001b[0m | \u001b[0m9.784    \u001b[0m | \u001b[0m4.86     \u001b[0m | \u001b[0m0.5741   \u001b[0m |\n",
            "| \u001b[0m154      \u001b[0m | \u001b[0m1.78     \u001b[0m | \u001b[0m0.6342   \u001b[0m | \u001b[0m1.798    \u001b[0m | \u001b[0m0.01295  \u001b[0m | \u001b[0m25.8     \u001b[0m | \u001b[0m74.14    \u001b[0m | \u001b[0m83.91    \u001b[0m | \u001b[0m9.149    \u001b[0m | \u001b[0m4.54     \u001b[0m | \u001b[0m0.9349   \u001b[0m |\n",
            "| \u001b[0m155      \u001b[0m | \u001b[0m1.78     \u001b[0m | \u001b[0m0.6483   \u001b[0m | \u001b[0m8.429    \u001b[0m | \u001b[0m0.1789   \u001b[0m | \u001b[0m6.56     \u001b[0m | \u001b[0m16.25    \u001b[0m | \u001b[0m85.06    \u001b[0m | \u001b[0m3.68     \u001b[0m | \u001b[0m2.659    \u001b[0m | \u001b[0m0.8737   \u001b[0m |\n",
            "| \u001b[0m156      \u001b[0m | \u001b[0m1.78     \u001b[0m | \u001b[0m0.8794   \u001b[0m | \u001b[0m2.495    \u001b[0m | \u001b[0m0.1255   \u001b[0m | \u001b[0m37.48    \u001b[0m | \u001b[0m31.0     \u001b[0m | \u001b[0m20.57    \u001b[0m | \u001b[0m2.348    \u001b[0m | \u001b[0m5.563    \u001b[0m | \u001b[0m0.9989   \u001b[0m |\n",
            "| \u001b[0m157      \u001b[0m | \u001b[0m1.78     \u001b[0m | \u001b[0m0.8754   \u001b[0m | \u001b[0m4.298    \u001b[0m | \u001b[0m0.8526   \u001b[0m | \u001b[0m18.55    \u001b[0m | \u001b[0m13.84    \u001b[0m | \u001b[0m92.33    \u001b[0m | \u001b[0m7.112    \u001b[0m | \u001b[0m6.866    \u001b[0m | \u001b[0m0.6843   \u001b[0m |\n",
            "| \u001b[0m158      \u001b[0m | \u001b[0m1.78     \u001b[0m | \u001b[0m0.7961   \u001b[0m | \u001b[0m7.317    \u001b[0m | \u001b[0m0.9094   \u001b[0m | \u001b[0m42.14    \u001b[0m | \u001b[0m6.825    \u001b[0m | \u001b[0m59.5     \u001b[0m | \u001b[0m6.763    \u001b[0m | \u001b[0m9.854    \u001b[0m | \u001b[0m0.8359   \u001b[0m |\n",
            "| \u001b[0m159      \u001b[0m | \u001b[0m1.78     \u001b[0m | \u001b[0m0.7865   \u001b[0m | \u001b[0m6.287    \u001b[0m | \u001b[0m0.9314   \u001b[0m | \u001b[0m11.3     \u001b[0m | \u001b[0m78.95    \u001b[0m | \u001b[0m60.27    \u001b[0m | \u001b[0m0.8049   \u001b[0m | \u001b[0m0.6097   \u001b[0m | \u001b[0m0.6493   \u001b[0m |\n",
            "| \u001b[0m160      \u001b[0m | \u001b[0m1.78     \u001b[0m | \u001b[0m0.8377   \u001b[0m | \u001b[0m7.122    \u001b[0m | \u001b[0m0.7986   \u001b[0m | \u001b[0m29.51    \u001b[0m | \u001b[0m98.75    \u001b[0m | \u001b[0m18.31    \u001b[0m | \u001b[0m4.617    \u001b[0m | \u001b[0m7.831    \u001b[0m | \u001b[0m0.7738   \u001b[0m |\n",
            "| \u001b[0m161      \u001b[0m | \u001b[0m1.78     \u001b[0m | \u001b[0m0.9273   \u001b[0m | \u001b[0m4.562    \u001b[0m | \u001b[0m0.4572   \u001b[0m | \u001b[0m36.92    \u001b[0m | \u001b[0m94.59    \u001b[0m | \u001b[0m67.72    \u001b[0m | \u001b[0m2.239    \u001b[0m | \u001b[0m5.009    \u001b[0m | \u001b[0m0.9884   \u001b[0m |\n",
            "| \u001b[0m162      \u001b[0m | \u001b[0m1.78     \u001b[0m | \u001b[0m0.6405   \u001b[0m | \u001b[0m4.89     \u001b[0m | \u001b[0m0.8773   \u001b[0m | \u001b[0m23.74    \u001b[0m | \u001b[0m65.66    \u001b[0m | \u001b[0m39.86    \u001b[0m | \u001b[0m3.365    \u001b[0m | \u001b[0m7.865    \u001b[0m | \u001b[0m0.9838   \u001b[0m |\n",
            "| \u001b[0m163      \u001b[0m | \u001b[0m1.78     \u001b[0m | \u001b[0m0.8512   \u001b[0m | \u001b[0m2.513    \u001b[0m | \u001b[0m0.6352   \u001b[0m | \u001b[0m16.46    \u001b[0m | \u001b[0m11.25    \u001b[0m | \u001b[0m34.8     \u001b[0m | \u001b[0m4.576    \u001b[0m | \u001b[0m6.627    \u001b[0m | \u001b[0m0.7996   \u001b[0m |\n",
            "| \u001b[0m164      \u001b[0m | \u001b[0m1.75     \u001b[0m | \u001b[0m0.8851   \u001b[0m | \u001b[0m9.765    \u001b[0m | \u001b[0m0.4635   \u001b[0m | \u001b[0m20.75    \u001b[0m | \u001b[0m6.397    \u001b[0m | \u001b[0m99.2     \u001b[0m | \u001b[0m2.547    \u001b[0m | \u001b[0m8.129    \u001b[0m | \u001b[0m0.6566   \u001b[0m |\n",
            "| \u001b[0m165      \u001b[0m | \u001b[0m1.78     \u001b[0m | \u001b[0m0.8999   \u001b[0m | \u001b[0m3.663    \u001b[0m | \u001b[0m0.8412   \u001b[0m | \u001b[0m16.91    \u001b[0m | \u001b[0m74.47    \u001b[0m | \u001b[0m62.25    \u001b[0m | \u001b[0m0.1734   \u001b[0m | \u001b[0m1.291    \u001b[0m | \u001b[0m0.7859   \u001b[0m |\n",
            "| \u001b[0m166      \u001b[0m | \u001b[0m1.78     \u001b[0m | \u001b[0m0.8307   \u001b[0m | \u001b[0m0.0343   \u001b[0m | \u001b[0m0.03282  \u001b[0m | \u001b[0m17.65    \u001b[0m | \u001b[0m8.961    \u001b[0m | \u001b[0m47.33    \u001b[0m | \u001b[0m2.945    \u001b[0m | \u001b[0m5.832    \u001b[0m | \u001b[0m0.9931   \u001b[0m |\n",
            "| \u001b[0m167      \u001b[0m | \u001b[0m1.78     \u001b[0m | \u001b[0m0.9842   \u001b[0m | \u001b[0m3.432    \u001b[0m | \u001b[0m0.02127  \u001b[0m | \u001b[0m28.52    \u001b[0m | \u001b[0m85.39    \u001b[0m | \u001b[0m72.42    \u001b[0m | \u001b[0m5.593    \u001b[0m | \u001b[0m1.183    \u001b[0m | \u001b[0m0.7961   \u001b[0m |\n",
            "| \u001b[0m168      \u001b[0m | \u001b[0m1.78     \u001b[0m | \u001b[0m0.734    \u001b[0m | \u001b[0m1.922    \u001b[0m | \u001b[0m0.9125   \u001b[0m | \u001b[0m45.03    \u001b[0m | \u001b[0m96.31    \u001b[0m | \u001b[0m56.35    \u001b[0m | \u001b[0m3.566    \u001b[0m | \u001b[0m3.357    \u001b[0m | \u001b[0m0.6216   \u001b[0m |\n",
            "| \u001b[0m169      \u001b[0m | \u001b[0m1.78     \u001b[0m | \u001b[0m0.6482   \u001b[0m | \u001b[0m2.426    \u001b[0m | \u001b[0m0.5879   \u001b[0m | \u001b[0m11.78    \u001b[0m | \u001b[0m78.0     \u001b[0m | \u001b[0m85.53    \u001b[0m | \u001b[0m4.249    \u001b[0m | \u001b[0m6.669    \u001b[0m | \u001b[0m0.8381   \u001b[0m |\n",
            "| \u001b[0m170      \u001b[0m | \u001b[0m1.78     \u001b[0m | \u001b[0m0.9051   \u001b[0m | \u001b[0m2.715    \u001b[0m | \u001b[0m0.6076   \u001b[0m | \u001b[0m19.05    \u001b[0m | \u001b[0m16.14    \u001b[0m | \u001b[0m58.81    \u001b[0m | \u001b[0m6.151    \u001b[0m | \u001b[0m9.812    \u001b[0m | \u001b[0m0.5399   \u001b[0m |\n",
            "| \u001b[0m171      \u001b[0m | \u001b[0m1.78     \u001b[0m | \u001b[0m0.6541   \u001b[0m | \u001b[0m0.26     \u001b[0m | \u001b[0m0.3287   \u001b[0m | \u001b[0m2.855    \u001b[0m | \u001b[0m37.37    \u001b[0m | \u001b[0m96.66    \u001b[0m | \u001b[0m4.846    \u001b[0m | \u001b[0m0.7996   \u001b[0m | \u001b[0m0.601    \u001b[0m |\n",
            "| \u001b[0m172      \u001b[0m | \u001b[0m1.78     \u001b[0m | \u001b[0m0.8046   \u001b[0m | \u001b[0m3.165    \u001b[0m | \u001b[0m0.00306  \u001b[0m | \u001b[0m13.93    \u001b[0m | \u001b[0m97.6     \u001b[0m | \u001b[0m32.72    \u001b[0m | \u001b[0m6.053    \u001b[0m | \u001b[0m5.261    \u001b[0m | \u001b[0m0.6935   \u001b[0m |\n",
            "| \u001b[0m173      \u001b[0m | \u001b[0m1.78     \u001b[0m | \u001b[0m0.7891   \u001b[0m | \u001b[0m0.3463   \u001b[0m | \u001b[0m0.9321   \u001b[0m | \u001b[0m37.14    \u001b[0m | \u001b[0m53.11    \u001b[0m | \u001b[0m78.25    \u001b[0m | \u001b[0m7.687    \u001b[0m | \u001b[0m2.969    \u001b[0m | \u001b[0m0.729    \u001b[0m |\n",
            "| \u001b[0m174      \u001b[0m | \u001b[0m1.78     \u001b[0m | \u001b[0m0.8908   \u001b[0m | \u001b[0m9.897    \u001b[0m | \u001b[0m0.7403   \u001b[0m | \u001b[0m8.308    \u001b[0m | \u001b[0m58.56    \u001b[0m | \u001b[0m22.53    \u001b[0m | \u001b[0m2.862    \u001b[0m | \u001b[0m3.641    \u001b[0m | \u001b[0m0.8511   \u001b[0m |\n",
            "| \u001b[0m175      \u001b[0m | \u001b[0m1.78     \u001b[0m | \u001b[0m0.8003   \u001b[0m | \u001b[0m0.8991   \u001b[0m | \u001b[0m0.5862   \u001b[0m | \u001b[0m10.82    \u001b[0m | \u001b[0m69.81    \u001b[0m | \u001b[0m37.44    \u001b[0m | \u001b[0m0.3015   \u001b[0m | \u001b[0m0.5011   \u001b[0m | \u001b[0m0.7533   \u001b[0m |\n",
            "| \u001b[0m176      \u001b[0m | \u001b[0m1.78     \u001b[0m | \u001b[0m0.6071   \u001b[0m | \u001b[0m0.8297   \u001b[0m | \u001b[0m0.8867   \u001b[0m | \u001b[0m17.86    \u001b[0m | \u001b[0m62.6     \u001b[0m | \u001b[0m74.42    \u001b[0m | \u001b[0m8.329    \u001b[0m | \u001b[0m2.26     \u001b[0m | \u001b[0m0.6941   \u001b[0m |\n",
            "| \u001b[0m177      \u001b[0m | \u001b[0m1.78     \u001b[0m | \u001b[0m0.6836   \u001b[0m | \u001b[0m1.743    \u001b[0m | \u001b[0m0.8177   \u001b[0m | \u001b[0m8.019    \u001b[0m | \u001b[0m60.48    \u001b[0m | \u001b[0m49.35    \u001b[0m | \u001b[0m7.165    \u001b[0m | \u001b[0m8.089    \u001b[0m | \u001b[0m0.6989   \u001b[0m |\n",
            "| \u001b[0m178      \u001b[0m | \u001b[0m1.78     \u001b[0m | \u001b[0m0.5633   \u001b[0m | \u001b[0m2.167    \u001b[0m | \u001b[0m0.601    \u001b[0m | \u001b[0m23.87    \u001b[0m | \u001b[0m83.78    \u001b[0m | \u001b[0m34.14    \u001b[0m | \u001b[0m4.194    \u001b[0m | \u001b[0m2.889    \u001b[0m | \u001b[0m0.6269   \u001b[0m |\n",
            "| \u001b[0m179      \u001b[0m | \u001b[0m1.78     \u001b[0m | \u001b[0m0.6436   \u001b[0m | \u001b[0m7.065    \u001b[0m | \u001b[0m0.5503   \u001b[0m | \u001b[0m22.55    \u001b[0m | \u001b[0m61.07    \u001b[0m | \u001b[0m54.23    \u001b[0m | \u001b[0m9.757    \u001b[0m | \u001b[0m8.406    \u001b[0m | \u001b[0m0.736    \u001b[0m |\n",
            "| \u001b[0m180      \u001b[0m | \u001b[0m1.78     \u001b[0m | \u001b[0m0.8548   \u001b[0m | \u001b[0m3.692    \u001b[0m | \u001b[0m0.7479   \u001b[0m | \u001b[0m17.66    \u001b[0m | \u001b[0m85.56    \u001b[0m | \u001b[0m48.48    \u001b[0m | \u001b[0m6.563    \u001b[0m | \u001b[0m4.855    \u001b[0m | \u001b[0m0.5291   \u001b[0m |\n",
            "| \u001b[0m181      \u001b[0m | \u001b[0m1.78     \u001b[0m | \u001b[0m0.8142   \u001b[0m | \u001b[0m5.953    \u001b[0m | \u001b[0m0.02352  \u001b[0m | \u001b[0m28.31    \u001b[0m | \u001b[0m49.21    \u001b[0m | \u001b[0m25.02    \u001b[0m | \u001b[0m4.212    \u001b[0m | \u001b[0m8.063    \u001b[0m | \u001b[0m0.5164   \u001b[0m |\n",
            "| \u001b[0m182      \u001b[0m | \u001b[0m1.78     \u001b[0m | \u001b[0m0.5164   \u001b[0m | \u001b[0m2.751    \u001b[0m | \u001b[0m0.3976   \u001b[0m | \u001b[0m5.53     \u001b[0m | \u001b[0m57.47    \u001b[0m | \u001b[0m60.7     \u001b[0m | \u001b[0m9.847    \u001b[0m | \u001b[0m7.173    \u001b[0m | \u001b[0m0.551    \u001b[0m |\n",
            "| \u001b[0m183      \u001b[0m | \u001b[0m1.78     \u001b[0m | \u001b[0m0.9212   \u001b[0m | \u001b[0m4.365    \u001b[0m | \u001b[0m0.2833   \u001b[0m | \u001b[0m36.62    \u001b[0m | \u001b[0m56.82    \u001b[0m | \u001b[0m52.4     \u001b[0m | \u001b[0m2.442    \u001b[0m | \u001b[0m9.915    \u001b[0m | \u001b[0m0.9226   \u001b[0m |\n",
            "| \u001b[0m184      \u001b[0m | \u001b[0m1.78     \u001b[0m | \u001b[0m0.919    \u001b[0m | \u001b[0m1.654    \u001b[0m | \u001b[0m0.7422   \u001b[0m | \u001b[0m24.88    \u001b[0m | \u001b[0m30.58    \u001b[0m | \u001b[0m60.8     \u001b[0m | \u001b[0m1.803    \u001b[0m | \u001b[0m9.38     \u001b[0m | \u001b[0m0.855    \u001b[0m |\n",
            "| \u001b[0m185      \u001b[0m | \u001b[0m1.78     \u001b[0m | \u001b[0m0.5983   \u001b[0m | \u001b[0m5.261    \u001b[0m | \u001b[0m0.5348   \u001b[0m | \u001b[0m42.54    \u001b[0m | \u001b[0m0.3021   \u001b[0m | \u001b[0m34.72    \u001b[0m | \u001b[0m7.096    \u001b[0m | \u001b[0m1.774    \u001b[0m | \u001b[0m0.8617   \u001b[0m |\n",
            "| \u001b[0m186      \u001b[0m | \u001b[0m1.78     \u001b[0m | \u001b[0m0.9101   \u001b[0m | \u001b[0m1.629    \u001b[0m | \u001b[0m0.6047   \u001b[0m | \u001b[0m33.26    \u001b[0m | \u001b[0m96.9     \u001b[0m | \u001b[0m67.66    \u001b[0m | \u001b[0m3.599    \u001b[0m | \u001b[0m0.353    \u001b[0m | \u001b[0m0.7443   \u001b[0m |\n",
            "| \u001b[0m187      \u001b[0m | \u001b[0m1.78     \u001b[0m | \u001b[0m0.6572   \u001b[0m | \u001b[0m6.314    \u001b[0m | \u001b[0m0.5587   \u001b[0m | \u001b[0m21.71    \u001b[0m | \u001b[0m26.8     \u001b[0m | \u001b[0m41.77    \u001b[0m | \u001b[0m9.72     \u001b[0m | \u001b[0m2.41     \u001b[0m | \u001b[0m0.6527   \u001b[0m |\n",
            "| \u001b[0m188      \u001b[0m | \u001b[0m1.78     \u001b[0m | \u001b[0m0.9012   \u001b[0m | \u001b[0m5.915    \u001b[0m | \u001b[0m0.6513   \u001b[0m | \u001b[0m33.47    \u001b[0m | \u001b[0m27.58    \u001b[0m | \u001b[0m18.64    \u001b[0m | \u001b[0m4.529    \u001b[0m | \u001b[0m9.731    \u001b[0m | \u001b[0m0.8875   \u001b[0m |\n",
            "| \u001b[0m189      \u001b[0m | \u001b[0m1.78     \u001b[0m | \u001b[0m0.6241   \u001b[0m | \u001b[0m2.965    \u001b[0m | \u001b[0m0.2298   \u001b[0m | \u001b[0m12.61    \u001b[0m | \u001b[0m76.96    \u001b[0m | \u001b[0m84.49    \u001b[0m | \u001b[0m8.648    \u001b[0m | \u001b[0m3.54     \u001b[0m | \u001b[0m0.7783   \u001b[0m |\n",
            "| \u001b[0m190      \u001b[0m | \u001b[0m1.78     \u001b[0m | \u001b[0m0.7964   \u001b[0m | \u001b[0m3.04     \u001b[0m | \u001b[0m0.3841   \u001b[0m | \u001b[0m6.229    \u001b[0m | \u001b[0m80.85    \u001b[0m | \u001b[0m56.36    \u001b[0m | \u001b[0m3.145    \u001b[0m | \u001b[0m4.752    \u001b[0m | \u001b[0m0.8842   \u001b[0m |\n",
            "| \u001b[0m191      \u001b[0m | \u001b[0m1.78     \u001b[0m | \u001b[0m0.8789   \u001b[0m | \u001b[0m5.28     \u001b[0m | \u001b[0m0.7123   \u001b[0m | \u001b[0m6.73     \u001b[0m | \u001b[0m12.78    \u001b[0m | \u001b[0m44.99    \u001b[0m | \u001b[0m7.469    \u001b[0m | \u001b[0m8.368    \u001b[0m | \u001b[0m0.9942   \u001b[0m |\n",
            "| \u001b[0m192      \u001b[0m | \u001b[0m1.78     \u001b[0m | \u001b[0m0.9656   \u001b[0m | \u001b[0m0.6995   \u001b[0m | \u001b[0m0.4929   \u001b[0m | \u001b[0m20.17    \u001b[0m | \u001b[0m21.22    \u001b[0m | \u001b[0m77.45    \u001b[0m | \u001b[0m0.5152   \u001b[0m | \u001b[0m9.791    \u001b[0m | \u001b[0m0.725    \u001b[0m |\n",
            "| \u001b[0m193      \u001b[0m | \u001b[0m1.78     \u001b[0m | \u001b[0m0.9455   \u001b[0m | \u001b[0m5.19     \u001b[0m | \u001b[0m0.04077  \u001b[0m | \u001b[0m1.582    \u001b[0m | \u001b[0m70.2     \u001b[0m | \u001b[0m68.96    \u001b[0m | \u001b[0m0.9412   \u001b[0m | \u001b[0m5.614    \u001b[0m | \u001b[0m0.5494   \u001b[0m |\n",
            "| \u001b[0m194      \u001b[0m | \u001b[0m1.78     \u001b[0m | \u001b[0m0.5841   \u001b[0m | \u001b[0m0.3887   \u001b[0m | \u001b[0m0.5076   \u001b[0m | \u001b[0m8.7      \u001b[0m | \u001b[0m61.93    \u001b[0m | \u001b[0m90.03    \u001b[0m | \u001b[0m0.1497   \u001b[0m | \u001b[0m9.009    \u001b[0m | \u001b[0m0.6801   \u001b[0m |\n",
            "| \u001b[0m195      \u001b[0m | \u001b[0m1.78     \u001b[0m | \u001b[0m0.772    \u001b[0m | \u001b[0m8.861    \u001b[0m | \u001b[0m0.8866   \u001b[0m | \u001b[0m19.55    \u001b[0m | \u001b[0m94.75    \u001b[0m | \u001b[0m41.26    \u001b[0m | \u001b[0m1.189    \u001b[0m | \u001b[0m8.708    \u001b[0m | \u001b[0m0.7054   \u001b[0m |\n",
            "| \u001b[0m196      \u001b[0m | \u001b[0m1.78     \u001b[0m | \u001b[0m0.8327   \u001b[0m | \u001b[0m3.786    \u001b[0m | \u001b[0m0.03923  \u001b[0m | \u001b[0m40.52    \u001b[0m | \u001b[0m13.19    \u001b[0m | \u001b[0m84.36    \u001b[0m | \u001b[0m8.988    \u001b[0m | \u001b[0m3.216    \u001b[0m | \u001b[0m0.6799   \u001b[0m |\n",
            "| \u001b[0m197      \u001b[0m | \u001b[0m1.78     \u001b[0m | \u001b[0m0.5389   \u001b[0m | \u001b[0m3.281    \u001b[0m | \u001b[0m0.8552   \u001b[0m | \u001b[0m40.18    \u001b[0m | \u001b[0m70.92    \u001b[0m | \u001b[0m78.8     \u001b[0m | \u001b[0m0.8207   \u001b[0m | \u001b[0m4.505    \u001b[0m | \u001b[0m0.9366   \u001b[0m |\n",
            "| \u001b[0m198      \u001b[0m | \u001b[0m1.78     \u001b[0m | \u001b[0m0.943    \u001b[0m | \u001b[0m1.327    \u001b[0m | \u001b[0m0.4727   \u001b[0m | \u001b[0m35.75    \u001b[0m | \u001b[0m59.58    \u001b[0m | \u001b[0m79.32    \u001b[0m | \u001b[0m0.7518   \u001b[0m | \u001b[0m7.501    \u001b[0m | \u001b[0m0.5713   \u001b[0m |\n",
            "| \u001b[0m199      \u001b[0m | \u001b[0m1.78     \u001b[0m | \u001b[0m0.8326   \u001b[0m | \u001b[0m7.916    \u001b[0m | \u001b[0m0.2823   \u001b[0m | \u001b[0m32.58    \u001b[0m | \u001b[0m9.376    \u001b[0m | \u001b[0m42.41    \u001b[0m | \u001b[0m9.395    \u001b[0m | \u001b[0m3.352    \u001b[0m | \u001b[0m0.6426   \u001b[0m |\n",
            "| \u001b[0m200      \u001b[0m | \u001b[0m1.78     \u001b[0m | \u001b[0m0.9558   \u001b[0m | \u001b[0m9.814    \u001b[0m | \u001b[0m0.5411   \u001b[0m | \u001b[0m1.959    \u001b[0m | \u001b[0m20.45    \u001b[0m | \u001b[0m76.52    \u001b[0m | \u001b[0m2.358    \u001b[0m | \u001b[0m0.9642   \u001b[0m | \u001b[0m0.9437   \u001b[0m |\n",
            "| \u001b[0m201      \u001b[0m | \u001b[0m1.78     \u001b[0m | \u001b[0m0.824    \u001b[0m | \u001b[0m5.257    \u001b[0m | \u001b[0m0.2286   \u001b[0m | \u001b[0m29.39    \u001b[0m | \u001b[0m48.2     \u001b[0m | \u001b[0m28.97    \u001b[0m | \u001b[0m8.282    \u001b[0m | \u001b[0m3.104    \u001b[0m | \u001b[0m0.6652   \u001b[0m |\n",
            "| \u001b[0m202      \u001b[0m | \u001b[0m1.78     \u001b[0m | \u001b[0m0.6511   \u001b[0m | \u001b[0m8.733    \u001b[0m | \u001b[0m0.8654   \u001b[0m | \u001b[0m11.93    \u001b[0m | \u001b[0m75.15    \u001b[0m | \u001b[0m43.75    \u001b[0m | \u001b[0m8.104    \u001b[0m | \u001b[0m9.02     \u001b[0m | \u001b[0m0.6337   \u001b[0m |\n",
            "| \u001b[0m203      \u001b[0m | \u001b[0m1.78     \u001b[0m | \u001b[0m0.8463   \u001b[0m | \u001b[0m8.033    \u001b[0m | \u001b[0m0.4996   \u001b[0m | \u001b[0m21.63    \u001b[0m | \u001b[0m47.04    \u001b[0m | \u001b[0m69.18    \u001b[0m | \u001b[0m6.789    \u001b[0m | \u001b[0m8.345    \u001b[0m | \u001b[0m0.9745   \u001b[0m |\n",
            "| \u001b[0m204      \u001b[0m | \u001b[0m1.78     \u001b[0m | \u001b[0m0.551    \u001b[0m | \u001b[0m3.938    \u001b[0m | \u001b[0m0.8374   \u001b[0m | \u001b[0m19.61    \u001b[0m | \u001b[0m16.47    \u001b[0m | \u001b[0m85.87    \u001b[0m | \u001b[0m0.5033   \u001b[0m | \u001b[0m6.225    \u001b[0m | \u001b[0m0.6335   \u001b[0m |\n",
            "| \u001b[0m205      \u001b[0m | \u001b[0m1.78     \u001b[0m | \u001b[0m0.8354   \u001b[0m | \u001b[0m6.692    \u001b[0m | \u001b[0m0.08283  \u001b[0m | \u001b[0m31.3     \u001b[0m | \u001b[0m44.67    \u001b[0m | \u001b[0m28.08    \u001b[0m | \u001b[0m0.02334  \u001b[0m | \u001b[0m8.992    \u001b[0m | \u001b[0m0.9386   \u001b[0m |\n",
            "| \u001b[0m206      \u001b[0m | \u001b[0m1.712    \u001b[0m | \u001b[0m0.8615   \u001b[0m | \u001b[0m4.393    \u001b[0m | \u001b[0m0.4244   \u001b[0m | \u001b[0m16.9     \u001b[0m | \u001b[0m0.857    \u001b[0m | \u001b[0m19.46    \u001b[0m | \u001b[0m1.74     \u001b[0m | \u001b[0m9.532    \u001b[0m | \u001b[0m0.8249   \u001b[0m |\n",
            "| \u001b[0m207      \u001b[0m | \u001b[0m1.78     \u001b[0m | \u001b[0m0.6037   \u001b[0m | \u001b[0m5.694    \u001b[0m | \u001b[0m0.5387   \u001b[0m | \u001b[0m22.34    \u001b[0m | \u001b[0m95.54    \u001b[0m | \u001b[0m31.58    \u001b[0m | \u001b[0m6.156    \u001b[0m | \u001b[0m6.909    \u001b[0m | \u001b[0m0.8399   \u001b[0m |\n",
            "| \u001b[0m208      \u001b[0m | \u001b[0m1.78     \u001b[0m | \u001b[0m0.9844   \u001b[0m | \u001b[0m6.389    \u001b[0m | \u001b[0m0.776    \u001b[0m | \u001b[0m38.45    \u001b[0m | \u001b[0m15.63    \u001b[0m | \u001b[0m28.9     \u001b[0m | \u001b[0m5.647    \u001b[0m | \u001b[0m6.629    \u001b[0m | \u001b[0m0.662    \u001b[0m |\n",
            "| \u001b[0m209      \u001b[0m | \u001b[0m1.78     \u001b[0m | \u001b[0m0.6541   \u001b[0m | \u001b[0m1.862    \u001b[0m | \u001b[0m0.4804   \u001b[0m | \u001b[0m31.97    \u001b[0m | \u001b[0m84.68    \u001b[0m | \u001b[0m93.23    \u001b[0m | \u001b[0m2.534    \u001b[0m | \u001b[0m5.996    \u001b[0m | \u001b[0m0.8159   \u001b[0m |\n",
            "| \u001b[0m210      \u001b[0m | \u001b[0m1.78     \u001b[0m | \u001b[0m0.8957   \u001b[0m | \u001b[0m2.14     \u001b[0m | \u001b[0m0.4326   \u001b[0m | \u001b[0m47.16    \u001b[0m | \u001b[0m18.97    \u001b[0m | \u001b[0m45.16    \u001b[0m | \u001b[0m2.719    \u001b[0m | \u001b[0m1.68     \u001b[0m | \u001b[0m0.5012   \u001b[0m |\n",
            "| \u001b[0m211      \u001b[0m | \u001b[0m1.78     \u001b[0m | \u001b[0m0.7012   \u001b[0m | \u001b[0m4.864    \u001b[0m | \u001b[0m0.6445   \u001b[0m | \u001b[0m8.054    \u001b[0m | \u001b[0m75.62    \u001b[0m | \u001b[0m52.47    \u001b[0m | \u001b[0m9.729    \u001b[0m | \u001b[0m0.1601   \u001b[0m | \u001b[0m0.6142   \u001b[0m |\n",
            "| \u001b[0m212      \u001b[0m | \u001b[0m1.78     \u001b[0m | \u001b[0m0.5638   \u001b[0m | \u001b[0m3.613    \u001b[0m | \u001b[0m0.4123   \u001b[0m | \u001b[0m2.916    \u001b[0m | \u001b[0m24.33    \u001b[0m | \u001b[0m71.06    \u001b[0m | \u001b[0m6.101    \u001b[0m | \u001b[0m6.214    \u001b[0m | \u001b[0m0.5299   \u001b[0m |\n",
            "| \u001b[0m213      \u001b[0m | \u001b[0m1.793    \u001b[0m | \u001b[0m0.5791   \u001b[0m | \u001b[0m8.436    \u001b[0m | \u001b[0m0.3311   \u001b[0m | \u001b[0m28.47    \u001b[0m | \u001b[0m6.058    \u001b[0m | \u001b[0m79.65    \u001b[0m | \u001b[0m0.9395   \u001b[0m | \u001b[0m9.889    \u001b[0m | \u001b[0m0.855    \u001b[0m |\n",
            "| \u001b[0m214      \u001b[0m | \u001b[0m1.78     \u001b[0m | \u001b[0m0.6803   \u001b[0m | \u001b[0m6.145    \u001b[0m | \u001b[0m0.438    \u001b[0m | \u001b[0m10.65    \u001b[0m | \u001b[0m30.14    \u001b[0m | \u001b[0m88.82    \u001b[0m | \u001b[0m6.311    \u001b[0m | \u001b[0m1.699    \u001b[0m | \u001b[0m0.8524   \u001b[0m |\n",
            "| \u001b[0m215      \u001b[0m | \u001b[0m1.78     \u001b[0m | \u001b[0m0.9625   \u001b[0m | \u001b[0m0.6964   \u001b[0m | \u001b[0m0.3902   \u001b[0m | \u001b[0m35.15    \u001b[0m | \u001b[0m16.37    \u001b[0m | \u001b[0m56.69    \u001b[0m | \u001b[0m1.244    \u001b[0m | \u001b[0m1.042    \u001b[0m | \u001b[0m0.5276   \u001b[0m |\n",
            "| \u001b[0m216      \u001b[0m | \u001b[0m1.78     \u001b[0m | \u001b[0m0.5853   \u001b[0m | \u001b[0m9.856    \u001b[0m | \u001b[0m0.6917   \u001b[0m | \u001b[0m23.55    \u001b[0m | \u001b[0m73.69    \u001b[0m | \u001b[0m91.28    \u001b[0m | \u001b[0m1.985    \u001b[0m | \u001b[0m6.337    \u001b[0m | \u001b[0m0.5762   \u001b[0m |\n",
            "| \u001b[0m217      \u001b[0m | \u001b[0m1.78     \u001b[0m | \u001b[0m0.9708   \u001b[0m | \u001b[0m8.194    \u001b[0m | \u001b[0m0.3197   \u001b[0m | \u001b[0m7.674    \u001b[0m | \u001b[0m55.68    \u001b[0m | \u001b[0m83.88    \u001b[0m | \u001b[0m4.845    \u001b[0m | \u001b[0m9.355    \u001b[0m | \u001b[0m0.8498   \u001b[0m |\n",
            "| \u001b[0m218      \u001b[0m | \u001b[0m1.78     \u001b[0m | \u001b[0m0.9076   \u001b[0m | \u001b[0m3.183    \u001b[0m | \u001b[0m0.9863   \u001b[0m | \u001b[0m9.478    \u001b[0m | \u001b[0m86.86    \u001b[0m | \u001b[0m77.69    \u001b[0m | \u001b[0m1.932    \u001b[0m | \u001b[0m6.325    \u001b[0m | \u001b[0m0.5724   \u001b[0m |\n",
            "| \u001b[0m219      \u001b[0m | \u001b[0m1.78     \u001b[0m | \u001b[0m0.967    \u001b[0m | \u001b[0m1.264    \u001b[0m | \u001b[0m0.4448   \u001b[0m | \u001b[0m20.35    \u001b[0m | \u001b[0m27.05    \u001b[0m | \u001b[0m39.87    \u001b[0m | \u001b[0m6.447    \u001b[0m | \u001b[0m3.715    \u001b[0m | \u001b[0m0.9863   \u001b[0m |\n",
            "| \u001b[0m220      \u001b[0m | \u001b[0m1.78     \u001b[0m | \u001b[0m0.9885   \u001b[0m | \u001b[0m6.622    \u001b[0m | \u001b[0m0.8672   \u001b[0m | \u001b[0m36.44    \u001b[0m | \u001b[0m59.02    \u001b[0m | \u001b[0m33.65    \u001b[0m | \u001b[0m7.543    \u001b[0m | \u001b[0m7.001    \u001b[0m | \u001b[0m0.9753   \u001b[0m |\n",
            "| \u001b[0m221      \u001b[0m | \u001b[0m1.78     \u001b[0m | \u001b[0m0.7747   \u001b[0m | \u001b[0m9.189    \u001b[0m | \u001b[0m0.1555   \u001b[0m | \u001b[0m14.48    \u001b[0m | \u001b[0m19.96    \u001b[0m | \u001b[0m30.79    \u001b[0m | \u001b[0m1.347    \u001b[0m | \u001b[0m9.4      \u001b[0m | \u001b[0m0.6166   \u001b[0m |\n",
            "| \u001b[0m222      \u001b[0m | \u001b[0m1.78     \u001b[0m | \u001b[0m0.6988   \u001b[0m | \u001b[0m4.415    \u001b[0m | \u001b[0m0.1015   \u001b[0m | \u001b[0m36.76    \u001b[0m | \u001b[0m96.72    \u001b[0m | \u001b[0m5.368    \u001b[0m | \u001b[0m5.558    \u001b[0m | \u001b[0m8.846    \u001b[0m | \u001b[0m0.5843   \u001b[0m |\n",
            "| \u001b[0m223      \u001b[0m | \u001b[0m1.78     \u001b[0m | \u001b[0m0.5496   \u001b[0m | \u001b[0m3.834    \u001b[0m | \u001b[0m0.9207   \u001b[0m | \u001b[0m13.1     \u001b[0m | \u001b[0m73.05    \u001b[0m | \u001b[0m36.72    \u001b[0m | \u001b[0m0.5985   \u001b[0m | \u001b[0m8.518    \u001b[0m | \u001b[0m0.7496   \u001b[0m |\n",
            "| \u001b[0m224      \u001b[0m | \u001b[0m1.863    \u001b[0m | \u001b[0m0.7769   \u001b[0m | \u001b[0m4.38     \u001b[0m | \u001b[0m0.7943   \u001b[0m | \u001b[0m33.82    \u001b[0m | \u001b[0m8.15     \u001b[0m | \u001b[0m30.49    \u001b[0m | \u001b[0m0.1953   \u001b[0m | \u001b[0m2.372    \u001b[0m | \u001b[0m0.755    \u001b[0m |\n",
            "| \u001b[0m225      \u001b[0m | \u001b[0m1.78     \u001b[0m | \u001b[0m0.6892   \u001b[0m | \u001b[0m5.584    \u001b[0m | \u001b[0m0.5627   \u001b[0m | \u001b[0m28.14    \u001b[0m | \u001b[0m76.21    \u001b[0m | \u001b[0m69.49    \u001b[0m | \u001b[0m5.995    \u001b[0m | \u001b[0m1.387    \u001b[0m | \u001b[0m0.981    \u001b[0m |\n",
            "| \u001b[0m226      \u001b[0m | \u001b[0m1.78     \u001b[0m | \u001b[0m0.5195   \u001b[0m | \u001b[0m9.156    \u001b[0m | \u001b[0m0.6387   \u001b[0m | \u001b[0m34.7     \u001b[0m | \u001b[0m50.5     \u001b[0m | \u001b[0m37.36    \u001b[0m | \u001b[0m3.784    \u001b[0m | \u001b[0m3.86     \u001b[0m | \u001b[0m0.6205   \u001b[0m |\n",
            "| \u001b[0m227      \u001b[0m | \u001b[0m1.78     \u001b[0m | \u001b[0m0.5418   \u001b[0m | \u001b[0m6.726    \u001b[0m | \u001b[0m0.4597   \u001b[0m | \u001b[0m19.71    \u001b[0m | \u001b[0m75.24    \u001b[0m | \u001b[0m7.219    \u001b[0m | \u001b[0m8.862    \u001b[0m | \u001b[0m4.551    \u001b[0m | \u001b[0m0.9967   \u001b[0m |\n",
            "| \u001b[0m228      \u001b[0m | \u001b[0m1.78     \u001b[0m | \u001b[0m0.8575   \u001b[0m | \u001b[0m8.434    \u001b[0m | \u001b[0m0.2623   \u001b[0m | \u001b[0m31.9     \u001b[0m | \u001b[0m47.19    \u001b[0m | \u001b[0m45.58    \u001b[0m | \u001b[0m9.333    \u001b[0m | \u001b[0m9.796    \u001b[0m | \u001b[0m0.7722   \u001b[0m |\n",
            "| \u001b[0m229      \u001b[0m | \u001b[0m1.78     \u001b[0m | \u001b[0m0.7257   \u001b[0m | \u001b[0m6.896    \u001b[0m | \u001b[0m0.1335   \u001b[0m | \u001b[0m1.324    \u001b[0m | \u001b[0m34.56    \u001b[0m | \u001b[0m59.39    \u001b[0m | \u001b[0m2.891    \u001b[0m | \u001b[0m5.865    \u001b[0m | \u001b[0m0.5606   \u001b[0m |\n",
            "| \u001b[0m230      \u001b[0m | \u001b[0m1.828    \u001b[0m | \u001b[0m0.5785   \u001b[0m | \u001b[0m5.238    \u001b[0m | \u001b[0m0.6079   \u001b[0m | \u001b[0m5.905    \u001b[0m | \u001b[0m7.691    \u001b[0m | \u001b[0m39.75    \u001b[0m | \u001b[0m0.3912   \u001b[0m | \u001b[0m7.254    \u001b[0m | \u001b[0m0.5386   \u001b[0m |\n",
            "| \u001b[0m231      \u001b[0m | \u001b[0m1.78     \u001b[0m | \u001b[0m0.823    \u001b[0m | \u001b[0m4.84     \u001b[0m | \u001b[0m0.1527   \u001b[0m | \u001b[0m22.4     \u001b[0m | \u001b[0m43.53    \u001b[0m | \u001b[0m89.28    \u001b[0m | \u001b[0m5.676    \u001b[0m | \u001b[0m8.198    \u001b[0m | \u001b[0m0.9059   \u001b[0m |\n",
            "| \u001b[0m232      \u001b[0m | \u001b[0m1.78     \u001b[0m | \u001b[0m0.977    \u001b[0m | \u001b[0m6.431    \u001b[0m | \u001b[0m0.164    \u001b[0m | \u001b[0m8.122    \u001b[0m | \u001b[0m42.32    \u001b[0m | \u001b[0m87.22    \u001b[0m | \u001b[0m6.337    \u001b[0m | \u001b[0m8.282    \u001b[0m | \u001b[0m0.9759   \u001b[0m |\n",
            "| \u001b[0m233      \u001b[0m | \u001b[0m1.78     \u001b[0m | \u001b[0m0.961    \u001b[0m | \u001b[0m8.583    \u001b[0m | \u001b[0m0.6397   \u001b[0m | \u001b[0m5.249    \u001b[0m | \u001b[0m70.31    \u001b[0m | \u001b[0m86.43    \u001b[0m | \u001b[0m7.062    \u001b[0m | \u001b[0m0.8217   \u001b[0m | \u001b[0m0.9893   \u001b[0m |\n",
            "| \u001b[0m234      \u001b[0m | \u001b[0m1.78     \u001b[0m | \u001b[0m0.794    \u001b[0m | \u001b[0m1.149    \u001b[0m | \u001b[0m0.926    \u001b[0m | \u001b[0m24.17    \u001b[0m | \u001b[0m56.2     \u001b[0m | \u001b[0m42.34    \u001b[0m | \u001b[0m1.503    \u001b[0m | \u001b[0m0.2168   \u001b[0m | \u001b[0m0.8203   \u001b[0m |\n",
            "| \u001b[0m235      \u001b[0m | \u001b[0m1.78     \u001b[0m | \u001b[0m0.6599   \u001b[0m | \u001b[0m4.869    \u001b[0m | \u001b[0m0.281    \u001b[0m | \u001b[0m11.16    \u001b[0m | \u001b[0m93.04    \u001b[0m | \u001b[0m74.92    \u001b[0m | \u001b[0m5.566    \u001b[0m | \u001b[0m1.781    \u001b[0m | \u001b[0m0.7548   \u001b[0m |\n",
            "| \u001b[0m236      \u001b[0m | \u001b[0m1.78     \u001b[0m | \u001b[0m0.9559   \u001b[0m | \u001b[0m2.163    \u001b[0m | \u001b[0m0.006607 \u001b[0m | \u001b[0m8.151    \u001b[0m | \u001b[0m49.38    \u001b[0m | \u001b[0m37.96    \u001b[0m | \u001b[0m8.238    \u001b[0m | \u001b[0m2.386    \u001b[0m | \u001b[0m0.7243   \u001b[0m |\n",
            "| \u001b[0m237      \u001b[0m | \u001b[0m1.78     \u001b[0m | \u001b[0m0.824    \u001b[0m | \u001b[0m5.024    \u001b[0m | \u001b[0m0.0328   \u001b[0m | \u001b[0m47.29    \u001b[0m | \u001b[0m45.4     \u001b[0m | \u001b[0m20.88    \u001b[0m | \u001b[0m4.629    \u001b[0m | \u001b[0m3.543    \u001b[0m | \u001b[0m0.9409   \u001b[0m |\n",
            "| \u001b[0m238      \u001b[0m | \u001b[0m1.78     \u001b[0m | \u001b[0m0.9582   \u001b[0m | \u001b[0m7.655    \u001b[0m | \u001b[0m0.3424   \u001b[0m | \u001b[0m1.207    \u001b[0m | \u001b[0m71.03    \u001b[0m | \u001b[0m99.11    \u001b[0m | \u001b[0m2.446    \u001b[0m | \u001b[0m0.3451   \u001b[0m | \u001b[0m0.972    \u001b[0m |\n",
            "| \u001b[0m239      \u001b[0m | \u001b[0m1.78     \u001b[0m | \u001b[0m0.848    \u001b[0m | \u001b[0m1.734    \u001b[0m | \u001b[0m0.9394   \u001b[0m | \u001b[0m9.527    \u001b[0m | \u001b[0m61.68    \u001b[0m | \u001b[0m28.68    \u001b[0m | \u001b[0m2.22     \u001b[0m | \u001b[0m1.653    \u001b[0m | \u001b[0m0.7535   \u001b[0m |\n",
            "| \u001b[0m240      \u001b[0m | \u001b[0m1.78     \u001b[0m | \u001b[0m0.9083   \u001b[0m | \u001b[0m9.427    \u001b[0m | \u001b[0m0.2122   \u001b[0m | \u001b[0m49.69    \u001b[0m | \u001b[0m12.69    \u001b[0m | \u001b[0m69.92    \u001b[0m | \u001b[0m5.513    \u001b[0m | \u001b[0m3.425    \u001b[0m | \u001b[0m0.6676   \u001b[0m |\n",
            "| \u001b[0m241      \u001b[0m | \u001b[0m1.78     \u001b[0m | \u001b[0m0.7123   \u001b[0m | \u001b[0m2.994    \u001b[0m | \u001b[0m0.1785   \u001b[0m | \u001b[0m9.014    \u001b[0m | \u001b[0m24.9     \u001b[0m | \u001b[0m70.02    \u001b[0m | \u001b[0m7.98     \u001b[0m | \u001b[0m1.55     \u001b[0m | \u001b[0m0.9823   \u001b[0m |\n",
            "| \u001b[0m242      \u001b[0m | \u001b[0m1.78     \u001b[0m | \u001b[0m0.7921   \u001b[0m | \u001b[0m7.927    \u001b[0m | \u001b[0m0.6807   \u001b[0m | \u001b[0m15.12    \u001b[0m | \u001b[0m27.63    \u001b[0m | \u001b[0m9.676    \u001b[0m | \u001b[0m0.8091   \u001b[0m | \u001b[0m6.921    \u001b[0m | \u001b[0m0.9089   \u001b[0m |\n",
            "| \u001b[0m243      \u001b[0m | \u001b[0m1.78     \u001b[0m | \u001b[0m0.6624   \u001b[0m | \u001b[0m4.941    \u001b[0m | \u001b[0m0.3211   \u001b[0m | \u001b[0m7.058    \u001b[0m | \u001b[0m63.37    \u001b[0m | \u001b[0m61.78    \u001b[0m | \u001b[0m2.56     \u001b[0m | \u001b[0m5.74     \u001b[0m | \u001b[0m0.8925   \u001b[0m |\n",
            "| \u001b[0m244      \u001b[0m | \u001b[0m1.78     \u001b[0m | \u001b[0m0.7401   \u001b[0m | \u001b[0m3.67     \u001b[0m | \u001b[0m0.2285   \u001b[0m | \u001b[0m15.47    \u001b[0m | \u001b[0m47.93    \u001b[0m | \u001b[0m59.21    \u001b[0m | \u001b[0m2.966    \u001b[0m | \u001b[0m7.59     \u001b[0m | \u001b[0m0.5141   \u001b[0m |\n",
            "| \u001b[0m245      \u001b[0m | \u001b[0m1.78     \u001b[0m | \u001b[0m0.774    \u001b[0m | \u001b[0m9.063    \u001b[0m | \u001b[0m0.8788   \u001b[0m | \u001b[0m36.2     \u001b[0m | \u001b[0m60.71    \u001b[0m | \u001b[0m90.37    \u001b[0m | \u001b[0m3.957    \u001b[0m | \u001b[0m7.75     \u001b[0m | \u001b[0m0.8722   \u001b[0m |\n",
            "| \u001b[0m246      \u001b[0m | \u001b[0m1.78     \u001b[0m | \u001b[0m0.8996   \u001b[0m | \u001b[0m5.506    \u001b[0m | \u001b[0m0.06958  \u001b[0m | \u001b[0m7.266    \u001b[0m | \u001b[0m1.526    \u001b[0m | \u001b[0m85.53    \u001b[0m | \u001b[0m4.809    \u001b[0m | \u001b[0m5.226    \u001b[0m | \u001b[0m0.7352   \u001b[0m |\n",
            "| \u001b[0m247      \u001b[0m | \u001b[0m1.78     \u001b[0m | \u001b[0m0.648    \u001b[0m | \u001b[0m3.975    \u001b[0m | \u001b[0m0.6249   \u001b[0m | \u001b[0m26.9     \u001b[0m | \u001b[0m37.0     \u001b[0m | \u001b[0m79.49    \u001b[0m | \u001b[0m8.312    \u001b[0m | \u001b[0m0.5888   \u001b[0m | \u001b[0m0.7839   \u001b[0m |\n",
            "| \u001b[0m248      \u001b[0m | \u001b[0m1.78     \u001b[0m | \u001b[0m0.9155   \u001b[0m | \u001b[0m7.099    \u001b[0m | \u001b[0m0.2802   \u001b[0m | \u001b[0m37.2     \u001b[0m | \u001b[0m2.23     \u001b[0m | \u001b[0m7.174    \u001b[0m | \u001b[0m8.136    \u001b[0m | \u001b[0m0.5393   \u001b[0m | \u001b[0m0.528    \u001b[0m |\n",
            "| \u001b[0m249      \u001b[0m | \u001b[0m1.78     \u001b[0m | \u001b[0m0.6111   \u001b[0m | \u001b[0m9.959    \u001b[0m | \u001b[0m0.7631   \u001b[0m | \u001b[0m42.96    \u001b[0m | \u001b[0m46.84    \u001b[0m | \u001b[0m92.72    \u001b[0m | \u001b[0m9.969    \u001b[0m | \u001b[0m7.055    \u001b[0m | \u001b[0m0.7789   \u001b[0m |\n",
            "| \u001b[0m250      \u001b[0m | \u001b[0m1.78     \u001b[0m | \u001b[0m0.8276   \u001b[0m | \u001b[0m8.412    \u001b[0m | \u001b[0m0.204    \u001b[0m | \u001b[0m16.18    \u001b[0m | \u001b[0m60.67    \u001b[0m | \u001b[0m72.25    \u001b[0m | \u001b[0m0.5239   \u001b[0m | \u001b[0m0.4879   \u001b[0m | \u001b[0m0.7498   \u001b[0m |\n",
            "| \u001b[0m251      \u001b[0m | \u001b[0m1.78     \u001b[0m | \u001b[0m0.6823   \u001b[0m | \u001b[0m6.056    \u001b[0m | \u001b[0m0.3892   \u001b[0m | \u001b[0m29.19    \u001b[0m | \u001b[0m90.71    \u001b[0m | \u001b[0m99.12    \u001b[0m | \u001b[0m5.147    \u001b[0m | \u001b[0m2.65     \u001b[0m | \u001b[0m0.7182   \u001b[0m |\n",
            "| \u001b[0m252      \u001b[0m | \u001b[0m1.78     \u001b[0m | \u001b[0m0.5951   \u001b[0m | \u001b[0m4.339    \u001b[0m | \u001b[0m0.9028   \u001b[0m | \u001b[0m41.25    \u001b[0m | \u001b[0m44.2     \u001b[0m | \u001b[0m29.76    \u001b[0m | \u001b[0m3.667    \u001b[0m | \u001b[0m1.655    \u001b[0m | \u001b[0m0.5812   \u001b[0m |\n",
            "| \u001b[0m253      \u001b[0m | \u001b[0m1.78     \u001b[0m | \u001b[0m0.6151   \u001b[0m | \u001b[0m2.254    \u001b[0m | \u001b[0m0.08077  \u001b[0m | \u001b[0m8.842    \u001b[0m | \u001b[0m29.29    \u001b[0m | \u001b[0m97.05    \u001b[0m | \u001b[0m4.808    \u001b[0m | \u001b[0m3.812    \u001b[0m | \u001b[0m0.601    \u001b[0m |\n",
            "| \u001b[0m254      \u001b[0m | \u001b[0m1.78     \u001b[0m | \u001b[0m0.6662   \u001b[0m | \u001b[0m7.988    \u001b[0m | \u001b[0m0.9484   \u001b[0m | \u001b[0m39.54    \u001b[0m | \u001b[0m99.29    \u001b[0m | \u001b[0m86.92    \u001b[0m | \u001b[0m4.679    \u001b[0m | \u001b[0m4.674    \u001b[0m | \u001b[0m0.939    \u001b[0m |\n",
            "| \u001b[0m255      \u001b[0m | \u001b[0m1.78     \u001b[0m | \u001b[0m0.8488   \u001b[0m | \u001b[0m0.6734   \u001b[0m | \u001b[0m0.5163   \u001b[0m | \u001b[0m44.94    \u001b[0m | \u001b[0m80.68    \u001b[0m | \u001b[0m91.53    \u001b[0m | \u001b[0m0.385    \u001b[0m | \u001b[0m2.525    \u001b[0m | \u001b[0m0.5009   \u001b[0m |\n",
            "| \u001b[0m256      \u001b[0m | \u001b[0m1.78     \u001b[0m | \u001b[0m0.6951   \u001b[0m | \u001b[0m5.778    \u001b[0m | \u001b[0m0.213    \u001b[0m | \u001b[0m36.6     \u001b[0m | \u001b[0m99.4     \u001b[0m | \u001b[0m61.78    \u001b[0m | \u001b[0m5.562    \u001b[0m | \u001b[0m8.506    \u001b[0m | \u001b[0m0.68     \u001b[0m |\n",
            "| \u001b[0m257      \u001b[0m | \u001b[0m1.78     \u001b[0m | \u001b[0m0.8874   \u001b[0m | \u001b[0m8.154    \u001b[0m | \u001b[0m0.557    \u001b[0m | \u001b[0m17.54    \u001b[0m | \u001b[0m37.18    \u001b[0m | \u001b[0m29.15    \u001b[0m | \u001b[0m7.642    \u001b[0m | \u001b[0m1.196    \u001b[0m | \u001b[0m0.7527   \u001b[0m |\n",
            "| \u001b[0m258      \u001b[0m | \u001b[0m1.78     \u001b[0m | \u001b[0m0.6067   \u001b[0m | \u001b[0m0.7561   \u001b[0m | \u001b[0m0.4544   \u001b[0m | \u001b[0m35.33    \u001b[0m | \u001b[0m90.0     \u001b[0m | \u001b[0m28.75    \u001b[0m | \u001b[0m5.9      \u001b[0m | \u001b[0m8.021    \u001b[0m | \u001b[0m0.5523   \u001b[0m |\n",
            "| \u001b[0m259      \u001b[0m | \u001b[0m1.78     \u001b[0m | \u001b[0m0.8433   \u001b[0m | \u001b[0m2.232    \u001b[0m | \u001b[0m0.5567   \u001b[0m | \u001b[0m34.97    \u001b[0m | \u001b[0m92.17    \u001b[0m | \u001b[0m36.5     \u001b[0m | \u001b[0m6.432    \u001b[0m | \u001b[0m3.637    \u001b[0m | \u001b[0m0.7157   \u001b[0m |\n",
            "| \u001b[0m260      \u001b[0m | \u001b[0m1.78     \u001b[0m | \u001b[0m0.7045   \u001b[0m | \u001b[0m9.355    \u001b[0m | \u001b[0m0.9986   \u001b[0m | \u001b[0m34.25    \u001b[0m | \u001b[0m70.66    \u001b[0m | \u001b[0m10.41    \u001b[0m | \u001b[0m5.271    \u001b[0m | \u001b[0m7.352    \u001b[0m | \u001b[0m0.6179   \u001b[0m |\n",
            "| \u001b[0m261      \u001b[0m | \u001b[0m1.78     \u001b[0m | \u001b[0m0.921    \u001b[0m | \u001b[0m1.899    \u001b[0m | \u001b[0m0.3655   \u001b[0m | \u001b[0m12.65    \u001b[0m | \u001b[0m25.76    \u001b[0m | \u001b[0m27.4     \u001b[0m | \u001b[0m2.787    \u001b[0m | \u001b[0m0.5768   \u001b[0m | \u001b[0m0.9742   \u001b[0m |\n",
            "| \u001b[0m262      \u001b[0m | \u001b[0m1.78     \u001b[0m | \u001b[0m0.5997   \u001b[0m | \u001b[0m1.578    \u001b[0m | \u001b[0m0.7148   \u001b[0m | \u001b[0m19.89    \u001b[0m | \u001b[0m82.45    \u001b[0m | \u001b[0m94.61    \u001b[0m | \u001b[0m9.953    \u001b[0m | \u001b[0m6.564    \u001b[0m | \u001b[0m0.5607   \u001b[0m |\n",
            "| \u001b[0m263      \u001b[0m | \u001b[0m1.78     \u001b[0m | \u001b[0m0.6395   \u001b[0m | \u001b[0m6.065    \u001b[0m | \u001b[0m0.1207   \u001b[0m | \u001b[0m47.96    \u001b[0m | \u001b[0m96.34    \u001b[0m | \u001b[0m62.31    \u001b[0m | \u001b[0m6.06     \u001b[0m | \u001b[0m7.509    \u001b[0m | \u001b[0m0.8312   \u001b[0m |\n",
            "| \u001b[0m264      \u001b[0m | \u001b[0m1.78     \u001b[0m | \u001b[0m0.9601   \u001b[0m | \u001b[0m6.384    \u001b[0m | \u001b[0m0.04739  \u001b[0m | \u001b[0m32.93    \u001b[0m | \u001b[0m86.47    \u001b[0m | \u001b[0m82.15    \u001b[0m | \u001b[0m2.798    \u001b[0m | \u001b[0m3.457    \u001b[0m | \u001b[0m0.844    \u001b[0m |\n",
            "| \u001b[0m265      \u001b[0m | \u001b[0m1.78     \u001b[0m | \u001b[0m0.66     \u001b[0m | \u001b[0m2.255    \u001b[0m | \u001b[0m0.5184   \u001b[0m | \u001b[0m29.34    \u001b[0m | \u001b[0m74.56    \u001b[0m | \u001b[0m19.05    \u001b[0m | \u001b[0m0.7938   \u001b[0m | \u001b[0m5.306    \u001b[0m | \u001b[0m0.5098   \u001b[0m |\n",
            "| \u001b[0m266      \u001b[0m | \u001b[0m1.78     \u001b[0m | \u001b[0m0.5413   \u001b[0m | \u001b[0m0.926    \u001b[0m | \u001b[0m0.8465   \u001b[0m | \u001b[0m22.73    \u001b[0m | \u001b[0m99.13    \u001b[0m | \u001b[0m35.83    \u001b[0m | \u001b[0m8.332    \u001b[0m | \u001b[0m5.631    \u001b[0m | \u001b[0m0.8564   \u001b[0m |\n",
            "| \u001b[0m267      \u001b[0m | \u001b[0m1.78     \u001b[0m | \u001b[0m0.872    \u001b[0m | \u001b[0m6.623    \u001b[0m | \u001b[0m0.6871   \u001b[0m | \u001b[0m11.27    \u001b[0m | \u001b[0m88.23    \u001b[0m | \u001b[0m95.83    \u001b[0m | \u001b[0m7.7      \u001b[0m | \u001b[0m4.674    \u001b[0m | \u001b[0m0.5751   \u001b[0m |\n",
            "| \u001b[0m268      \u001b[0m | \u001b[0m1.78     \u001b[0m | \u001b[0m0.7021   \u001b[0m | \u001b[0m6.001    \u001b[0m | \u001b[0m0.05571  \u001b[0m | \u001b[0m14.24    \u001b[0m | \u001b[0m6.305    \u001b[0m | \u001b[0m89.52    \u001b[0m | \u001b[0m8.046    \u001b[0m | \u001b[0m9.925    \u001b[0m | \u001b[0m0.6446   \u001b[0m |\n",
            "| \u001b[0m269      \u001b[0m | \u001b[0m1.78     \u001b[0m | \u001b[0m0.8699   \u001b[0m | \u001b[0m4.746    \u001b[0m | \u001b[0m0.418    \u001b[0m | \u001b[0m2.187    \u001b[0m | \u001b[0m58.96    \u001b[0m | \u001b[0m20.85    \u001b[0m | \u001b[0m7.204    \u001b[0m | \u001b[0m4.685    \u001b[0m | \u001b[0m0.6865   \u001b[0m |\n",
            "| \u001b[0m270      \u001b[0m | \u001b[0m1.78     \u001b[0m | \u001b[0m0.7074   \u001b[0m | \u001b[0m3.354    \u001b[0m | \u001b[0m0.9541   \u001b[0m | \u001b[0m4.144    \u001b[0m | \u001b[0m34.44    \u001b[0m | \u001b[0m89.63    \u001b[0m | \u001b[0m0.9943   \u001b[0m | \u001b[0m2.334    \u001b[0m | \u001b[0m0.6436   \u001b[0m |\n",
            "| \u001b[0m271      \u001b[0m | \u001b[0m1.78     \u001b[0m | \u001b[0m0.7966   \u001b[0m | \u001b[0m7.431    \u001b[0m | \u001b[0m0.5301   \u001b[0m | \u001b[0m33.56    \u001b[0m | \u001b[0m19.2     \u001b[0m | \u001b[0m59.44    \u001b[0m | \u001b[0m8.099    \u001b[0m | \u001b[0m9.542    \u001b[0m | \u001b[0m0.6012   \u001b[0m |\n",
            "| \u001b[0m272      \u001b[0m | \u001b[0m1.78     \u001b[0m | \u001b[0m0.7369   \u001b[0m | \u001b[0m0.2565   \u001b[0m | \u001b[0m0.6555   \u001b[0m | \u001b[0m29.85    \u001b[0m | \u001b[0m4.963    \u001b[0m | \u001b[0m72.61    \u001b[0m | \u001b[0m8.413    \u001b[0m | \u001b[0m6.77     \u001b[0m | \u001b[0m0.742    \u001b[0m |\n",
            "| \u001b[0m273      \u001b[0m | \u001b[0m1.78     \u001b[0m | \u001b[0m0.5552   \u001b[0m | \u001b[0m0.3334   \u001b[0m | \u001b[0m0.3213   \u001b[0m | \u001b[0m39.58    \u001b[0m | \u001b[0m64.0     \u001b[0m | \u001b[0m36.84    \u001b[0m | \u001b[0m0.8714   \u001b[0m | \u001b[0m7.639    \u001b[0m | \u001b[0m0.603    \u001b[0m |\n",
            "| \u001b[0m274      \u001b[0m | \u001b[0m1.78     \u001b[0m | \u001b[0m0.5137   \u001b[0m | \u001b[0m3.412    \u001b[0m | \u001b[0m0.1937   \u001b[0m | \u001b[0m29.23    \u001b[0m | \u001b[0m52.34    \u001b[0m | \u001b[0m52.44    \u001b[0m | \u001b[0m9.357    \u001b[0m | \u001b[0m4.798    \u001b[0m | \u001b[0m0.564    \u001b[0m |\n",
            "| \u001b[0m275      \u001b[0m | \u001b[0m1.78     \u001b[0m | \u001b[0m0.5749   \u001b[0m | \u001b[0m1.925    \u001b[0m | \u001b[0m0.6536   \u001b[0m | \u001b[0m8.455    \u001b[0m | \u001b[0m57.86    \u001b[0m | \u001b[0m33.17    \u001b[0m | \u001b[0m0.8986   \u001b[0m | \u001b[0m4.563    \u001b[0m | \u001b[0m0.6048   \u001b[0m |\n",
            "| \u001b[0m276      \u001b[0m | \u001b[0m1.78     \u001b[0m | \u001b[0m0.8667   \u001b[0m | \u001b[0m6.835    \u001b[0m | \u001b[0m0.3295   \u001b[0m | \u001b[0m32.23    \u001b[0m | \u001b[0m71.63    \u001b[0m | \u001b[0m25.94    \u001b[0m | \u001b[0m8.94     \u001b[0m | \u001b[0m3.567    \u001b[0m | \u001b[0m0.6991   \u001b[0m |\n",
            "| \u001b[0m277      \u001b[0m | \u001b[0m1.78     \u001b[0m | \u001b[0m0.7981   \u001b[0m | \u001b[0m4.555    \u001b[0m | \u001b[0m0.133    \u001b[0m | \u001b[0m47.93    \u001b[0m | \u001b[0m15.22    \u001b[0m | \u001b[0m61.79    \u001b[0m | \u001b[0m8.284    \u001b[0m | \u001b[0m7.579    \u001b[0m | \u001b[0m0.8211   \u001b[0m |\n",
            "| \u001b[0m278      \u001b[0m | \u001b[0m1.78     \u001b[0m | \u001b[0m0.5476   \u001b[0m | \u001b[0m6.867    \u001b[0m | \u001b[0m0.1094   \u001b[0m | \u001b[0m22.91    \u001b[0m | \u001b[0m86.85    \u001b[0m | \u001b[0m46.95    \u001b[0m | \u001b[0m6.36     \u001b[0m | \u001b[0m4.167    \u001b[0m | \u001b[0m0.9238   \u001b[0m |\n",
            "| \u001b[0m279      \u001b[0m | \u001b[0m1.78     \u001b[0m | \u001b[0m0.7699   \u001b[0m | \u001b[0m8.228    \u001b[0m | \u001b[0m0.6694   \u001b[0m | \u001b[0m27.24    \u001b[0m | \u001b[0m63.33    \u001b[0m | \u001b[0m46.3     \u001b[0m | \u001b[0m5.37     \u001b[0m | \u001b[0m4.907    \u001b[0m | \u001b[0m0.71     \u001b[0m |\n",
            "| \u001b[0m280      \u001b[0m | \u001b[0m1.78     \u001b[0m | \u001b[0m0.7239   \u001b[0m | \u001b[0m9.028    \u001b[0m | \u001b[0m0.5937   \u001b[0m | \u001b[0m1.245    \u001b[0m | \u001b[0m98.74    \u001b[0m | \u001b[0m50.51    \u001b[0m | \u001b[0m9.152    \u001b[0m | \u001b[0m6.685    \u001b[0m | \u001b[0m0.8555   \u001b[0m |\n",
            "| \u001b[0m281      \u001b[0m | \u001b[0m1.78     \u001b[0m | \u001b[0m0.7101   \u001b[0m | \u001b[0m8.213    \u001b[0m | \u001b[0m0.6135   \u001b[0m | \u001b[0m16.55    \u001b[0m | \u001b[0m16.36    \u001b[0m | \u001b[0m22.54    \u001b[0m | \u001b[0m4.248    \u001b[0m | \u001b[0m3.644    \u001b[0m | \u001b[0m0.8297   \u001b[0m |\n",
            "| \u001b[0m282      \u001b[0m | \u001b[0m1.78     \u001b[0m | \u001b[0m0.7025   \u001b[0m | \u001b[0m9.016    \u001b[0m | \u001b[0m0.02739  \u001b[0m | \u001b[0m29.04    \u001b[0m | \u001b[0m23.17    \u001b[0m | \u001b[0m76.16    \u001b[0m | \u001b[0m0.1743   \u001b[0m | \u001b[0m8.158    \u001b[0m | \u001b[0m0.8136   \u001b[0m |\n",
            "| \u001b[0m283      \u001b[0m | \u001b[0m1.78     \u001b[0m | \u001b[0m0.842    \u001b[0m | \u001b[0m9.537    \u001b[0m | \u001b[0m0.915    \u001b[0m | \u001b[0m37.66    \u001b[0m | \u001b[0m79.68    \u001b[0m | \u001b[0m20.19    \u001b[0m | \u001b[0m0.9996   \u001b[0m | \u001b[0m6.556    \u001b[0m | \u001b[0m0.8005   \u001b[0m |\n",
            "| \u001b[0m284      \u001b[0m | \u001b[0m1.78     \u001b[0m | \u001b[0m0.6523   \u001b[0m | \u001b[0m3.878    \u001b[0m | \u001b[0m0.562    \u001b[0m | \u001b[0m17.47    \u001b[0m | \u001b[0m51.69    \u001b[0m | \u001b[0m41.6     \u001b[0m | \u001b[0m5.518    \u001b[0m | \u001b[0m9.715    \u001b[0m | \u001b[0m0.6002   \u001b[0m |\n",
            "| \u001b[0m285      \u001b[0m | \u001b[0m1.78     \u001b[0m | \u001b[0m0.7561   \u001b[0m | \u001b[0m1.869    \u001b[0m | \u001b[0m0.4094   \u001b[0m | \u001b[0m43.18    \u001b[0m | \u001b[0m16.34    \u001b[0m | \u001b[0m63.24    \u001b[0m | \u001b[0m7.148    \u001b[0m | \u001b[0m7.978    \u001b[0m | \u001b[0m0.5215   \u001b[0m |\n",
            "| \u001b[0m286      \u001b[0m | \u001b[0m1.78     \u001b[0m | \u001b[0m0.9609   \u001b[0m | \u001b[0m8.635    \u001b[0m | \u001b[0m0.8963   \u001b[0m | \u001b[0m34.18    \u001b[0m | \u001b[0m22.09    \u001b[0m | \u001b[0m79.33    \u001b[0m | \u001b[0m5.801    \u001b[0m | \u001b[0m6.604    \u001b[0m | \u001b[0m0.6465   \u001b[0m |\n",
            "| \u001b[0m287      \u001b[0m | \u001b[0m1.78     \u001b[0m | \u001b[0m0.7121   \u001b[0m | \u001b[0m0.4531   \u001b[0m | \u001b[0m0.2437   \u001b[0m | \u001b[0m21.09    \u001b[0m | \u001b[0m65.07    \u001b[0m | \u001b[0m13.77    \u001b[0m | \u001b[0m2.992    \u001b[0m | \u001b[0m7.616    \u001b[0m | \u001b[0m0.766    \u001b[0m |\n",
            "| \u001b[0m288      \u001b[0m | \u001b[0m1.78     \u001b[0m | \u001b[0m0.7119   \u001b[0m | \u001b[0m9.86     \u001b[0m | \u001b[0m0.7246   \u001b[0m | \u001b[0m7.98     \u001b[0m | \u001b[0m29.43    \u001b[0m | \u001b[0m25.42    \u001b[0m | \u001b[0m4.879    \u001b[0m | \u001b[0m2.269    \u001b[0m | \u001b[0m0.8891   \u001b[0m |\n",
            "| \u001b[0m289      \u001b[0m | \u001b[0m1.78     \u001b[0m | \u001b[0m0.7081   \u001b[0m | \u001b[0m9.557    \u001b[0m | \u001b[0m0.7161   \u001b[0m | \u001b[0m42.93    \u001b[0m | \u001b[0m72.07    \u001b[0m | \u001b[0m61.55    \u001b[0m | \u001b[0m9.924    \u001b[0m | \u001b[0m6.601    \u001b[0m | \u001b[0m0.9747   \u001b[0m |\n",
            "| \u001b[0m290      \u001b[0m | \u001b[0m1.78     \u001b[0m | \u001b[0m0.8231   \u001b[0m | \u001b[0m6.831    \u001b[0m | \u001b[0m0.1149   \u001b[0m | \u001b[0m30.29    \u001b[0m | \u001b[0m37.96    \u001b[0m | \u001b[0m59.88    \u001b[0m | \u001b[0m8.843    \u001b[0m | \u001b[0m5.107    \u001b[0m | \u001b[0m0.7889   \u001b[0m |\n",
            "| \u001b[0m291      \u001b[0m | \u001b[0m1.78     \u001b[0m | \u001b[0m0.7387   \u001b[0m | \u001b[0m2.278    \u001b[0m | \u001b[0m0.2393   \u001b[0m | \u001b[0m16.42    \u001b[0m | \u001b[0m87.22    \u001b[0m | \u001b[0m22.96    \u001b[0m | \u001b[0m7.544    \u001b[0m | \u001b[0m5.176    \u001b[0m | \u001b[0m0.9309   \u001b[0m |\n",
            "| \u001b[0m292      \u001b[0m | \u001b[0m1.78     \u001b[0m | \u001b[0m0.8223   \u001b[0m | \u001b[0m6.268    \u001b[0m | \u001b[0m0.4904   \u001b[0m | \u001b[0m13.41    \u001b[0m | \u001b[0m41.22    \u001b[0m | \u001b[0m69.81    \u001b[0m | \u001b[0m5.261    \u001b[0m | \u001b[0m3.64     \u001b[0m | \u001b[0m0.9818   \u001b[0m |\n",
            "| \u001b[0m293      \u001b[0m | \u001b[0m1.78     \u001b[0m | \u001b[0m0.9729   \u001b[0m | \u001b[0m3.407    \u001b[0m | \u001b[0m0.1845   \u001b[0m | \u001b[0m15.45    \u001b[0m | \u001b[0m12.38    \u001b[0m | \u001b[0m76.69    \u001b[0m | \u001b[0m5.069    \u001b[0m | \u001b[0m5.631    \u001b[0m | \u001b[0m0.7641   \u001b[0m |\n",
            "| \u001b[0m294      \u001b[0m | \u001b[0m1.78     \u001b[0m | \u001b[0m0.8893   \u001b[0m | \u001b[0m7.408    \u001b[0m | \u001b[0m0.3037   \u001b[0m | \u001b[0m22.14    \u001b[0m | \u001b[0m19.27    \u001b[0m | \u001b[0m10.12    \u001b[0m | \u001b[0m4.059    \u001b[0m | \u001b[0m4.456    \u001b[0m | \u001b[0m0.9105   \u001b[0m |\n",
            "| \u001b[0m295      \u001b[0m | \u001b[0m1.78     \u001b[0m | \u001b[0m0.8068   \u001b[0m | \u001b[0m5.314    \u001b[0m | \u001b[0m0.9497   \u001b[0m | \u001b[0m46.75    \u001b[0m | \u001b[0m65.82    \u001b[0m | \u001b[0m96.72    \u001b[0m | \u001b[0m4.353    \u001b[0m | \u001b[0m5.274    \u001b[0m | \u001b[0m0.6047   \u001b[0m |\n",
            "| \u001b[0m296      \u001b[0m | \u001b[0m1.78     \u001b[0m | \u001b[0m0.8039   \u001b[0m | \u001b[0m5.037    \u001b[0m | \u001b[0m0.2361   \u001b[0m | \u001b[0m20.28    \u001b[0m | \u001b[0m62.0     \u001b[0m | \u001b[0m35.39    \u001b[0m | \u001b[0m3.446    \u001b[0m | \u001b[0m5.504    \u001b[0m | \u001b[0m0.9746   \u001b[0m |\n",
            "| \u001b[0m297      \u001b[0m | \u001b[0m1.78     \u001b[0m | \u001b[0m0.9267   \u001b[0m | \u001b[0m2.51     \u001b[0m | \u001b[0m0.9363   \u001b[0m | \u001b[0m30.62    \u001b[0m | \u001b[0m23.93    \u001b[0m | \u001b[0m39.61    \u001b[0m | \u001b[0m0.5796   \u001b[0m | \u001b[0m6.396    \u001b[0m | \u001b[0m0.9963   \u001b[0m |\n",
            "| \u001b[0m298      \u001b[0m | \u001b[0m1.78     \u001b[0m | \u001b[0m0.6657   \u001b[0m | \u001b[0m5.163    \u001b[0m | \u001b[0m0.0727   \u001b[0m | \u001b[0m5.866    \u001b[0m | \u001b[0m47.47    \u001b[0m | \u001b[0m47.4     \u001b[0m | \u001b[0m8.602    \u001b[0m | \u001b[0m3.408    \u001b[0m | \u001b[0m0.7889   \u001b[0m |\n",
            "| \u001b[0m299      \u001b[0m | \u001b[0m1.78     \u001b[0m | \u001b[0m0.7228   \u001b[0m | \u001b[0m7.107    \u001b[0m | \u001b[0m0.9586   \u001b[0m | \u001b[0m14.82    \u001b[0m | \u001b[0m45.6     \u001b[0m | \u001b[0m63.59    \u001b[0m | \u001b[0m0.5187   \u001b[0m | \u001b[0m1.055    \u001b[0m | \u001b[0m0.6396   \u001b[0m |\n",
            "| \u001b[0m300      \u001b[0m | \u001b[0m1.78     \u001b[0m | \u001b[0m0.5318   \u001b[0m | \u001b[0m4.541    \u001b[0m | \u001b[0m0.1983   \u001b[0m | \u001b[0m20.46    \u001b[0m | \u001b[0m51.83    \u001b[0m | \u001b[0m74.95    \u001b[0m | \u001b[0m6.745    \u001b[0m | \u001b[0m7.478    \u001b[0m | \u001b[0m0.9093   \u001b[0m |\n",
            "| \u001b[0m301      \u001b[0m | \u001b[0m1.78     \u001b[0m | \u001b[0m0.7619   \u001b[0m | \u001b[0m0.842    \u001b[0m | \u001b[0m0.8178   \u001b[0m | \u001b[0m36.81    \u001b[0m | \u001b[0m93.77    \u001b[0m | \u001b[0m32.24    \u001b[0m | \u001b[0m3.671    \u001b[0m | \u001b[0m7.65     \u001b[0m | \u001b[0m0.5664   \u001b[0m |\n",
            "| \u001b[0m302      \u001b[0m | \u001b[0m1.78     \u001b[0m | \u001b[0m0.6009   \u001b[0m | \u001b[0m4.215    \u001b[0m | \u001b[0m0.9628   \u001b[0m | \u001b[0m30.26    \u001b[0m | \u001b[0m37.97    \u001b[0m | \u001b[0m58.98    \u001b[0m | \u001b[0m7.771    \u001b[0m | \u001b[0m5.632    \u001b[0m | \u001b[0m0.8422   \u001b[0m |\n",
            "| \u001b[0m303      \u001b[0m | \u001b[0m1.78     \u001b[0m | \u001b[0m0.961    \u001b[0m | \u001b[0m7.379    \u001b[0m | \u001b[0m0.3645   \u001b[0m | \u001b[0m33.47    \u001b[0m | \u001b[0m49.7     \u001b[0m | \u001b[0m75.07    \u001b[0m | \u001b[0m5.852    \u001b[0m | \u001b[0m1.216    \u001b[0m | \u001b[0m0.7471   \u001b[0m |\n",
            "| \u001b[0m304      \u001b[0m | \u001b[0m1.78     \u001b[0m | \u001b[0m0.6912   \u001b[0m | \u001b[0m5.07     \u001b[0m | \u001b[0m0.493    \u001b[0m | \u001b[0m7.29     \u001b[0m | \u001b[0m52.86    \u001b[0m | \u001b[0m43.9     \u001b[0m | \u001b[0m3.831    \u001b[0m | \u001b[0m6.758    \u001b[0m | \u001b[0m0.8141   \u001b[0m |\n",
            "| \u001b[0m305      \u001b[0m | \u001b[0m1.78     \u001b[0m | \u001b[0m0.7334   \u001b[0m | \u001b[0m0.593    \u001b[0m | \u001b[0m0.1263   \u001b[0m | \u001b[0m39.39    \u001b[0m | \u001b[0m66.58    \u001b[0m | \u001b[0m61.4     \u001b[0m | \u001b[0m0.6898   \u001b[0m | \u001b[0m3.577    \u001b[0m | \u001b[0m0.6508   \u001b[0m |\n",
            "| \u001b[0m306      \u001b[0m | \u001b[0m1.78     \u001b[0m | \u001b[0m0.8675   \u001b[0m | \u001b[0m0.09446  \u001b[0m | \u001b[0m0.5197   \u001b[0m | \u001b[0m37.04    \u001b[0m | \u001b[0m53.7     \u001b[0m | \u001b[0m24.23    \u001b[0m | \u001b[0m4.193    \u001b[0m | \u001b[0m4.516    \u001b[0m | \u001b[0m0.9257   \u001b[0m |\n",
            "| \u001b[0m307      \u001b[0m | \u001b[0m1.78     \u001b[0m | \u001b[0m0.9002   \u001b[0m | \u001b[0m6.594    \u001b[0m | \u001b[0m0.2462   \u001b[0m | \u001b[0m14.34    \u001b[0m | \u001b[0m57.17    \u001b[0m | \u001b[0m50.81    \u001b[0m | \u001b[0m9.792    \u001b[0m | \u001b[0m0.7498   \u001b[0m | \u001b[0m0.7931   \u001b[0m |\n",
            "| \u001b[0m308      \u001b[0m | \u001b[0m1.78     \u001b[0m | \u001b[0m0.5917   \u001b[0m | \u001b[0m1.805    \u001b[0m | \u001b[0m0.9397   \u001b[0m | \u001b[0m49.61    \u001b[0m | \u001b[0m23.94    \u001b[0m | \u001b[0m9.559    \u001b[0m | \u001b[0m4.891    \u001b[0m | \u001b[0m5.991    \u001b[0m | \u001b[0m0.962    \u001b[0m |\n",
            "| \u001b[0m309      \u001b[0m | \u001b[0m1.78     \u001b[0m | \u001b[0m0.8698   \u001b[0m | \u001b[0m4.261    \u001b[0m | \u001b[0m0.8112   \u001b[0m | \u001b[0m36.37    \u001b[0m | \u001b[0m21.21    \u001b[0m | \u001b[0m59.39    \u001b[0m | \u001b[0m2.428    \u001b[0m | \u001b[0m6.588    \u001b[0m | \u001b[0m0.7953   \u001b[0m |\n",
            "| \u001b[0m310      \u001b[0m | \u001b[0m1.78     \u001b[0m | \u001b[0m0.9139   \u001b[0m | \u001b[0m5.841    \u001b[0m | \u001b[0m0.5393   \u001b[0m | \u001b[0m12.9     \u001b[0m | \u001b[0m85.97    \u001b[0m | \u001b[0m23.78    \u001b[0m | \u001b[0m6.78     \u001b[0m | \u001b[0m0.1823   \u001b[0m | \u001b[0m0.6257   \u001b[0m |\n",
            "| \u001b[0m311      \u001b[0m | \u001b[0m1.78     \u001b[0m | \u001b[0m0.7597   \u001b[0m | \u001b[0m0.5103   \u001b[0m | \u001b[0m0.5987   \u001b[0m | \u001b[0m27.46    \u001b[0m | \u001b[0m19.04    \u001b[0m | \u001b[0m99.59    \u001b[0m | \u001b[0m5.606    \u001b[0m | \u001b[0m0.2753   \u001b[0m | \u001b[0m0.5147   \u001b[0m |\n",
            "| \u001b[0m312      \u001b[0m | \u001b[0m1.78     \u001b[0m | \u001b[0m0.5177   \u001b[0m | \u001b[0m1.34     \u001b[0m | \u001b[0m0.7066   \u001b[0m | \u001b[0m7.405    \u001b[0m | \u001b[0m54.4     \u001b[0m | \u001b[0m85.17    \u001b[0m | \u001b[0m8.596    \u001b[0m | \u001b[0m2.398    \u001b[0m | \u001b[0m0.8222   \u001b[0m |\n",
            "| \u001b[0m313      \u001b[0m | \u001b[0m1.78     \u001b[0m | \u001b[0m0.5166   \u001b[0m | \u001b[0m7.672    \u001b[0m | \u001b[0m0.4536   \u001b[0m | \u001b[0m30.42    \u001b[0m | \u001b[0m78.51    \u001b[0m | \u001b[0m38.93    \u001b[0m | \u001b[0m4.437    \u001b[0m | \u001b[0m8.756    \u001b[0m | \u001b[0m0.6539   \u001b[0m |\n",
            "| \u001b[0m314      \u001b[0m | \u001b[0m1.78     \u001b[0m | \u001b[0m0.9297   \u001b[0m | \u001b[0m2.577    \u001b[0m | \u001b[0m0.4008   \u001b[0m | \u001b[0m44.07    \u001b[0m | \u001b[0m27.42    \u001b[0m | \u001b[0m84.66    \u001b[0m | \u001b[0m7.52     \u001b[0m | \u001b[0m7.201    \u001b[0m | \u001b[0m0.8818   \u001b[0m |\n",
            "| \u001b[0m315      \u001b[0m | \u001b[0m1.78     \u001b[0m | \u001b[0m0.5765   \u001b[0m | \u001b[0m0.5502   \u001b[0m | \u001b[0m0.5164   \u001b[0m | \u001b[0m5.389    \u001b[0m | \u001b[0m48.52    \u001b[0m | \u001b[0m41.99    \u001b[0m | \u001b[0m8.739    \u001b[0m | \u001b[0m4.611    \u001b[0m | \u001b[0m0.9773   \u001b[0m |\n",
            "| \u001b[0m316      \u001b[0m | \u001b[0m1.78     \u001b[0m | \u001b[0m0.6652   \u001b[0m | \u001b[0m1.332    \u001b[0m | \u001b[0m0.08536  \u001b[0m | \u001b[0m19.71    \u001b[0m | \u001b[0m11.44    \u001b[0m | \u001b[0m67.94    \u001b[0m | \u001b[0m1.166    \u001b[0m | \u001b[0m0.787    \u001b[0m | \u001b[0m0.8169   \u001b[0m |\n",
            "| \u001b[0m317      \u001b[0m | \u001b[0m1.78     \u001b[0m | \u001b[0m0.6868   \u001b[0m | \u001b[0m0.1531   \u001b[0m | \u001b[0m0.7574   \u001b[0m | \u001b[0m23.29    \u001b[0m | \u001b[0m89.65    \u001b[0m | \u001b[0m87.0     \u001b[0m | \u001b[0m6.608    \u001b[0m | \u001b[0m6.988    \u001b[0m | \u001b[0m0.5304   \u001b[0m |\n",
            "| \u001b[0m318      \u001b[0m | \u001b[0m1.809    \u001b[0m | \u001b[0m0.8162   \u001b[0m | \u001b[0m5.594    \u001b[0m | \u001b[0m0.3491   \u001b[0m | \u001b[0m9.207    \u001b[0m | \u001b[0m6.682    \u001b[0m | \u001b[0m94.34    \u001b[0m | \u001b[0m0.5171   \u001b[0m | \u001b[0m3.977    \u001b[0m | \u001b[0m0.7505   \u001b[0m |\n",
            "| \u001b[0m319      \u001b[0m | \u001b[0m1.78     \u001b[0m | \u001b[0m0.65     \u001b[0m | \u001b[0m2.589    \u001b[0m | \u001b[0m0.07652  \u001b[0m | \u001b[0m1.743    \u001b[0m | \u001b[0m22.98    \u001b[0m | \u001b[0m83.99    \u001b[0m | \u001b[0m8.765    \u001b[0m | \u001b[0m4.883    \u001b[0m | \u001b[0m0.9447   \u001b[0m |\n",
            "| \u001b[0m320      \u001b[0m | \u001b[0m1.78     \u001b[0m | \u001b[0m0.7236   \u001b[0m | \u001b[0m9.383    \u001b[0m | \u001b[0m0.3129   \u001b[0m | \u001b[0m20.17    \u001b[0m | \u001b[0m96.37    \u001b[0m | \u001b[0m34.77    \u001b[0m | \u001b[0m3.941    \u001b[0m | \u001b[0m5.723    \u001b[0m | \u001b[0m0.6499   \u001b[0m |\n",
            "| \u001b[0m321      \u001b[0m | \u001b[0m1.78     \u001b[0m | \u001b[0m0.9606   \u001b[0m | \u001b[0m1.825    \u001b[0m | \u001b[0m0.2365   \u001b[0m | \u001b[0m1.935    \u001b[0m | \u001b[0m42.43    \u001b[0m | \u001b[0m34.66    \u001b[0m | \u001b[0m6.931    \u001b[0m | \u001b[0m4.378    \u001b[0m | \u001b[0m0.5734   \u001b[0m |\n",
            "| \u001b[0m322      \u001b[0m | \u001b[0m1.78     \u001b[0m | \u001b[0m0.5836   \u001b[0m | \u001b[0m6.812    \u001b[0m | \u001b[0m0.4487   \u001b[0m | \u001b[0m22.4     \u001b[0m | \u001b[0m11.35    \u001b[0m | \u001b[0m56.13    \u001b[0m | \u001b[0m6.936    \u001b[0m | \u001b[0m2.457    \u001b[0m | \u001b[0m0.7657   \u001b[0m |\n",
            "| \u001b[0m323      \u001b[0m | \u001b[0m1.78     \u001b[0m | \u001b[0m0.9007   \u001b[0m | \u001b[0m9.476    \u001b[0m | \u001b[0m0.7446   \u001b[0m | \u001b[0m23.41    \u001b[0m | \u001b[0m96.18    \u001b[0m | \u001b[0m28.95    \u001b[0m | \u001b[0m6.11     \u001b[0m | \u001b[0m3.028    \u001b[0m | \u001b[0m0.9366   \u001b[0m |\n",
            "| \u001b[0m324      \u001b[0m | \u001b[0m1.78     \u001b[0m | \u001b[0m0.8294   \u001b[0m | \u001b[0m7.443    \u001b[0m | \u001b[0m0.4434   \u001b[0m | \u001b[0m27.32    \u001b[0m | \u001b[0m67.8     \u001b[0m | \u001b[0m96.81    \u001b[0m | \u001b[0m2.03     \u001b[0m | \u001b[0m1.837    \u001b[0m | \u001b[0m0.8549   \u001b[0m |\n",
            "| \u001b[0m325      \u001b[0m | \u001b[0m1.78     \u001b[0m | \u001b[0m0.6779   \u001b[0m | \u001b[0m5.632    \u001b[0m | \u001b[0m0.7599   \u001b[0m | \u001b[0m17.34    \u001b[0m | \u001b[0m6.274    \u001b[0m | \u001b[0m39.47    \u001b[0m | \u001b[0m5.288    \u001b[0m | \u001b[0m9.457    \u001b[0m | \u001b[0m0.5184   \u001b[0m |\n",
            "| \u001b[0m326      \u001b[0m | \u001b[0m1.78     \u001b[0m | \u001b[0m0.5836   \u001b[0m | \u001b[0m7.726    \u001b[0m | \u001b[0m0.5376   \u001b[0m | \u001b[0m8.291    \u001b[0m | \u001b[0m74.44    \u001b[0m | \u001b[0m85.44    \u001b[0m | \u001b[0m8.998    \u001b[0m | \u001b[0m0.08842  \u001b[0m | \u001b[0m0.8801   \u001b[0m |\n",
            "| \u001b[0m327      \u001b[0m | \u001b[0m1.78     \u001b[0m | \u001b[0m0.8305   \u001b[0m | \u001b[0m2.211    \u001b[0m | \u001b[0m0.4362   \u001b[0m | \u001b[0m41.41    \u001b[0m | \u001b[0m90.56    \u001b[0m | \u001b[0m95.07    \u001b[0m | \u001b[0m5.207    \u001b[0m | \u001b[0m1.938    \u001b[0m | \u001b[0m0.9872   \u001b[0m |\n",
            "| \u001b[0m328      \u001b[0m | \u001b[0m1.78     \u001b[0m | \u001b[0m0.7825   \u001b[0m | \u001b[0m4.934    \u001b[0m | \u001b[0m0.1634   \u001b[0m | \u001b[0m22.4     \u001b[0m | \u001b[0m97.09    \u001b[0m | \u001b[0m43.42    \u001b[0m | \u001b[0m0.7718   \u001b[0m | \u001b[0m1.276    \u001b[0m | \u001b[0m0.5193   \u001b[0m |\n",
            "| \u001b[0m329      \u001b[0m | \u001b[0m1.78     \u001b[0m | \u001b[0m0.7533   \u001b[0m | \u001b[0m8.623    \u001b[0m | \u001b[0m0.4653   \u001b[0m | \u001b[0m2.008    \u001b[0m | \u001b[0m50.28    \u001b[0m | \u001b[0m6.558    \u001b[0m | \u001b[0m3.183    \u001b[0m | \u001b[0m2.915    \u001b[0m | \u001b[0m0.9392   \u001b[0m |\n",
            "| \u001b[0m330      \u001b[0m | \u001b[0m1.78     \u001b[0m | \u001b[0m0.6891   \u001b[0m | \u001b[0m6.307    \u001b[0m | \u001b[0m0.8037   \u001b[0m | \u001b[0m29.47    \u001b[0m | \u001b[0m0.8438   \u001b[0m | \u001b[0m44.5     \u001b[0m | \u001b[0m5.939    \u001b[0m | \u001b[0m7.427    \u001b[0m | \u001b[0m0.7231   \u001b[0m |\n",
            "| \u001b[0m331      \u001b[0m | \u001b[0m1.78     \u001b[0m | \u001b[0m0.9636   \u001b[0m | \u001b[0m8.133    \u001b[0m | \u001b[0m0.5106   \u001b[0m | \u001b[0m29.69    \u001b[0m | \u001b[0m44.48    \u001b[0m | \u001b[0m65.9     \u001b[0m | \u001b[0m1.716    \u001b[0m | \u001b[0m0.5496   \u001b[0m | \u001b[0m0.6253   \u001b[0m |\n",
            "| \u001b[0m332      \u001b[0m | \u001b[0m1.78     \u001b[0m | \u001b[0m0.8876   \u001b[0m | \u001b[0m1.728    \u001b[0m | \u001b[0m0.3188   \u001b[0m | \u001b[0m6.416    \u001b[0m | \u001b[0m82.72    \u001b[0m | \u001b[0m42.91    \u001b[0m | \u001b[0m7.0      \u001b[0m | \u001b[0m7.935    \u001b[0m | \u001b[0m0.9124   \u001b[0m |\n",
            "| \u001b[0m333      \u001b[0m | \u001b[0m1.78     \u001b[0m | \u001b[0m0.69     \u001b[0m | \u001b[0m0.4157   \u001b[0m | \u001b[0m0.1541   \u001b[0m | \u001b[0m9.502    \u001b[0m | \u001b[0m79.43    \u001b[0m | \u001b[0m82.5     \u001b[0m | \u001b[0m2.808    \u001b[0m | \u001b[0m8.357    \u001b[0m | \u001b[0m0.7382   \u001b[0m |\n",
            "| \u001b[0m334      \u001b[0m | \u001b[0m1.78     \u001b[0m | \u001b[0m0.8122   \u001b[0m | \u001b[0m5.765    \u001b[0m | \u001b[0m0.5209   \u001b[0m | \u001b[0m35.49    \u001b[0m | \u001b[0m69.78    \u001b[0m | \u001b[0m41.69    \u001b[0m | \u001b[0m8.123    \u001b[0m | \u001b[0m2.142    \u001b[0m | \u001b[0m0.7635   \u001b[0m |\n",
            "| \u001b[0m335      \u001b[0m | \u001b[0m1.78     \u001b[0m | \u001b[0m0.5104   \u001b[0m | \u001b[0m3.675    \u001b[0m | \u001b[0m0.605    \u001b[0m | \u001b[0m16.23    \u001b[0m | \u001b[0m12.87    \u001b[0m | \u001b[0m12.7     \u001b[0m | \u001b[0m1.928    \u001b[0m | \u001b[0m6.111    \u001b[0m | \u001b[0m0.8581   \u001b[0m |\n",
            "| \u001b[0m336      \u001b[0m | \u001b[0m1.78     \u001b[0m | \u001b[0m0.6826   \u001b[0m | \u001b[0m1.434    \u001b[0m | \u001b[0m0.4192   \u001b[0m | \u001b[0m2.693    \u001b[0m | \u001b[0m2.892    \u001b[0m | \u001b[0m64.21    \u001b[0m | \u001b[0m5.627    \u001b[0m | \u001b[0m7.85     \u001b[0m | \u001b[0m0.7525   \u001b[0m |\n",
            "| \u001b[0m337      \u001b[0m | \u001b[0m1.78     \u001b[0m | \u001b[0m0.75     \u001b[0m | \u001b[0m7.344    \u001b[0m | \u001b[0m0.8752   \u001b[0m | \u001b[0m36.41    \u001b[0m | \u001b[0m25.28    \u001b[0m | \u001b[0m73.17    \u001b[0m | \u001b[0m9.413    \u001b[0m | \u001b[0m3.379    \u001b[0m | \u001b[0m0.6315   \u001b[0m |\n",
            "| \u001b[0m338      \u001b[0m | \u001b[0m1.78     \u001b[0m | \u001b[0m0.5344   \u001b[0m | \u001b[0m8.971    \u001b[0m | \u001b[0m0.5305   \u001b[0m | \u001b[0m9.667    \u001b[0m | \u001b[0m70.28    \u001b[0m | \u001b[0m46.43    \u001b[0m | \u001b[0m5.166    \u001b[0m | \u001b[0m5.697    \u001b[0m | \u001b[0m0.5059   \u001b[0m |\n",
            "| \u001b[0m339      \u001b[0m | \u001b[0m1.78     \u001b[0m | \u001b[0m0.6642   \u001b[0m | \u001b[0m9.446    \u001b[0m | \u001b[0m0.4284   \u001b[0m | \u001b[0m10.54    \u001b[0m | \u001b[0m57.84    \u001b[0m | \u001b[0m17.69    \u001b[0m | \u001b[0m7.116    \u001b[0m | \u001b[0m1.231    \u001b[0m | \u001b[0m0.5056   \u001b[0m |\n",
            "| \u001b[0m340      \u001b[0m | \u001b[0m1.78     \u001b[0m | \u001b[0m0.6431   \u001b[0m | \u001b[0m2.986    \u001b[0m | \u001b[0m0.07408  \u001b[0m | \u001b[0m46.77    \u001b[0m | \u001b[0m7.815    \u001b[0m | \u001b[0m79.29    \u001b[0m | \u001b[0m5.93     \u001b[0m | \u001b[0m5.078    \u001b[0m | \u001b[0m0.7515   \u001b[0m |\n",
            "| \u001b[0m341      \u001b[0m | \u001b[0m1.78     \u001b[0m | \u001b[0m0.8917   \u001b[0m | \u001b[0m0.2277   \u001b[0m | \u001b[0m0.9352   \u001b[0m | \u001b[0m35.99    \u001b[0m | \u001b[0m89.39    \u001b[0m | \u001b[0m86.23    \u001b[0m | \u001b[0m6.733    \u001b[0m | \u001b[0m8.18     \u001b[0m | \u001b[0m0.9612   \u001b[0m |\n",
            "| \u001b[0m342      \u001b[0m | \u001b[0m1.78     \u001b[0m | \u001b[0m0.7671   \u001b[0m | \u001b[0m1.327    \u001b[0m | \u001b[0m0.7266   \u001b[0m | \u001b[0m9.737    \u001b[0m | \u001b[0m97.75    \u001b[0m | \u001b[0m60.57    \u001b[0m | \u001b[0m6.312    \u001b[0m | \u001b[0m9.208    \u001b[0m | \u001b[0m0.97     \u001b[0m |\n",
            "| \u001b[0m343      \u001b[0m | \u001b[0m1.797    \u001b[0m | \u001b[0m0.9136   \u001b[0m | \u001b[0m5.656    \u001b[0m | \u001b[0m0.8537   \u001b[0m | \u001b[0m45.13    \u001b[0m | \u001b[0m1.039    \u001b[0m | \u001b[0m56.17    \u001b[0m | \u001b[0m2.428    \u001b[0m | \u001b[0m3.763    \u001b[0m | \u001b[0m0.5192   \u001b[0m |\n",
            "| \u001b[0m344      \u001b[0m | \u001b[0m1.78     \u001b[0m | \u001b[0m0.515    \u001b[0m | \u001b[0m3.824    \u001b[0m | \u001b[0m0.9941   \u001b[0m | \u001b[0m23.06    \u001b[0m | \u001b[0m76.74    \u001b[0m | \u001b[0m11.86    \u001b[0m | \u001b[0m3.949    \u001b[0m | \u001b[0m9.134    \u001b[0m | \u001b[0m0.6558   \u001b[0m |\n",
            "| \u001b[0m345      \u001b[0m | \u001b[0m1.78     \u001b[0m | \u001b[0m0.99     \u001b[0m | \u001b[0m4.311    \u001b[0m | \u001b[0m0.7234   \u001b[0m | \u001b[0m42.86    \u001b[0m | \u001b[0m9.183    \u001b[0m | \u001b[0m77.62    \u001b[0m | \u001b[0m3.953    \u001b[0m | \u001b[0m4.099    \u001b[0m | \u001b[0m0.8779   \u001b[0m |\n",
            "| \u001b[0m346      \u001b[0m | \u001b[0m1.78     \u001b[0m | \u001b[0m0.7832   \u001b[0m | \u001b[0m1.89     \u001b[0m | \u001b[0m0.01014  \u001b[0m | \u001b[0m23.06    \u001b[0m | \u001b[0m59.5     \u001b[0m | \u001b[0m30.08    \u001b[0m | \u001b[0m9.335    \u001b[0m | \u001b[0m4.064    \u001b[0m | \u001b[0m0.7345   \u001b[0m |\n",
            "| \u001b[0m347      \u001b[0m | \u001b[0m1.78     \u001b[0m | \u001b[0m0.6083   \u001b[0m | \u001b[0m4.599    \u001b[0m | \u001b[0m0.5881   \u001b[0m | \u001b[0m38.91    \u001b[0m | \u001b[0m41.76    \u001b[0m | \u001b[0m11.61    \u001b[0m | \u001b[0m0.1272   \u001b[0m | \u001b[0m0.3605   \u001b[0m | \u001b[0m0.7486   \u001b[0m |\n",
            "| \u001b[0m348      \u001b[0m | \u001b[0m1.78     \u001b[0m | \u001b[0m0.5396   \u001b[0m | \u001b[0m8.607    \u001b[0m | \u001b[0m0.3344   \u001b[0m | \u001b[0m19.81    \u001b[0m | \u001b[0m48.5     \u001b[0m | \u001b[0m41.69    \u001b[0m | \u001b[0m2.867    \u001b[0m | \u001b[0m9.269    \u001b[0m | \u001b[0m0.6908   \u001b[0m |\n",
            "| \u001b[0m349      \u001b[0m | \u001b[0m1.78     \u001b[0m | \u001b[0m0.9962   \u001b[0m | \u001b[0m3.273    \u001b[0m | \u001b[0m0.09142  \u001b[0m | \u001b[0m6.406    \u001b[0m | \u001b[0m12.85    \u001b[0m | \u001b[0m52.97    \u001b[0m | \u001b[0m0.7801   \u001b[0m | \u001b[0m9.53     \u001b[0m | \u001b[0m0.5758   \u001b[0m |\n",
            "| \u001b[0m350      \u001b[0m | \u001b[0m1.78     \u001b[0m | \u001b[0m0.9582   \u001b[0m | \u001b[0m7.453    \u001b[0m | \u001b[0m0.006286 \u001b[0m | \u001b[0m24.97    \u001b[0m | \u001b[0m34.07    \u001b[0m | \u001b[0m79.85    \u001b[0m | \u001b[0m9.508    \u001b[0m | \u001b[0m2.876    \u001b[0m | \u001b[0m0.5085   \u001b[0m |\n",
            "| \u001b[0m351      \u001b[0m | \u001b[0m1.78     \u001b[0m | \u001b[0m0.5007   \u001b[0m | \u001b[0m6.34     \u001b[0m | \u001b[0m0.4924   \u001b[0m | \u001b[0m14.24    \u001b[0m | \u001b[0m7.002    \u001b[0m | \u001b[0m41.62    \u001b[0m | \u001b[0m7.102    \u001b[0m | \u001b[0m4.953    \u001b[0m | \u001b[0m0.7747   \u001b[0m |\n",
            "| \u001b[0m352      \u001b[0m | \u001b[0m1.78     \u001b[0m | \u001b[0m0.7766   \u001b[0m | \u001b[0m2.672    \u001b[0m | \u001b[0m0.2183   \u001b[0m | \u001b[0m47.1     \u001b[0m | \u001b[0m60.77    \u001b[0m | \u001b[0m39.14    \u001b[0m | \u001b[0m3.568    \u001b[0m | \u001b[0m0.9377   \u001b[0m | \u001b[0m0.8325   \u001b[0m |\n",
            "| \u001b[0m353      \u001b[0m | \u001b[0m1.78     \u001b[0m | \u001b[0m0.6431   \u001b[0m | \u001b[0m2.549    \u001b[0m | \u001b[0m0.8815   \u001b[0m | \u001b[0m44.48    \u001b[0m | \u001b[0m97.52    \u001b[0m | \u001b[0m19.89    \u001b[0m | \u001b[0m3.296    \u001b[0m | \u001b[0m4.65     \u001b[0m | \u001b[0m0.6895   \u001b[0m |\n",
            "| \u001b[0m354      \u001b[0m | \u001b[0m1.78     \u001b[0m | \u001b[0m0.7343   \u001b[0m | \u001b[0m9.53     \u001b[0m | \u001b[0m0.1116   \u001b[0m | \u001b[0m18.16    \u001b[0m | \u001b[0m87.33    \u001b[0m | \u001b[0m85.82    \u001b[0m | \u001b[0m7.028    \u001b[0m | \u001b[0m4.991    \u001b[0m | \u001b[0m0.861    \u001b[0m |\n",
            "| \u001b[0m355      \u001b[0m | \u001b[0m1.78     \u001b[0m | \u001b[0m0.7499   \u001b[0m | \u001b[0m7.268    \u001b[0m | \u001b[0m0.3682   \u001b[0m | \u001b[0m17.49    \u001b[0m | \u001b[0m24.87    \u001b[0m | \u001b[0m19.76    \u001b[0m | \u001b[0m7.26     \u001b[0m | \u001b[0m8.682    \u001b[0m | \u001b[0m0.8884   \u001b[0m |\n",
            "| \u001b[0m356      \u001b[0m | \u001b[0m1.78     \u001b[0m | \u001b[0m0.5249   \u001b[0m | \u001b[0m1.724    \u001b[0m | \u001b[0m0.8951   \u001b[0m | \u001b[0m5.045    \u001b[0m | \u001b[0m63.03    \u001b[0m | \u001b[0m79.73    \u001b[0m | \u001b[0m7.387    \u001b[0m | \u001b[0m3.774    \u001b[0m | \u001b[0m0.6487   \u001b[0m |\n",
            "| \u001b[0m357      \u001b[0m | \u001b[0m1.78     \u001b[0m | \u001b[0m0.5886   \u001b[0m | \u001b[0m9.646    \u001b[0m | \u001b[0m0.8039   \u001b[0m | \u001b[0m27.72    \u001b[0m | \u001b[0m54.67    \u001b[0m | \u001b[0m56.19    \u001b[0m | \u001b[0m3.403    \u001b[0m | \u001b[0m0.5105   \u001b[0m | \u001b[0m0.7191   \u001b[0m |\n",
            "| \u001b[0m358      \u001b[0m | \u001b[0m1.78     \u001b[0m | \u001b[0m0.9465   \u001b[0m | \u001b[0m5.079    \u001b[0m | \u001b[0m0.6888   \u001b[0m | \u001b[0m6.929    \u001b[0m | \u001b[0m53.54    \u001b[0m | \u001b[0m54.29    \u001b[0m | \u001b[0m4.01     \u001b[0m | \u001b[0m6.651    \u001b[0m | \u001b[0m0.8975   \u001b[0m |\n",
            "| \u001b[0m359      \u001b[0m | \u001b[0m1.78     \u001b[0m | \u001b[0m0.7858   \u001b[0m | \u001b[0m0.9757   \u001b[0m | \u001b[0m0.2499   \u001b[0m | \u001b[0m39.31    \u001b[0m | \u001b[0m11.26    \u001b[0m | \u001b[0m81.38    \u001b[0m | \u001b[0m0.4002   \u001b[0m | \u001b[0m8.713    \u001b[0m | \u001b[0m0.6097   \u001b[0m |\n",
            "| \u001b[0m360      \u001b[0m | \u001b[0m1.78     \u001b[0m | \u001b[0m0.608    \u001b[0m | \u001b[0m0.4208   \u001b[0m | \u001b[0m0.49     \u001b[0m | \u001b[0m8.855    \u001b[0m | \u001b[0m23.55    \u001b[0m | \u001b[0m55.85    \u001b[0m | \u001b[0m8.77     \u001b[0m | \u001b[0m7.271    \u001b[0m | \u001b[0m0.8045   \u001b[0m |\n",
            "| \u001b[0m361      \u001b[0m | \u001b[0m1.78     \u001b[0m | \u001b[0m0.7092   \u001b[0m | \u001b[0m1.143    \u001b[0m | \u001b[0m0.09521  \u001b[0m | \u001b[0m11.3     \u001b[0m | \u001b[0m22.95    \u001b[0m | \u001b[0m97.74    \u001b[0m | \u001b[0m0.7791   \u001b[0m | \u001b[0m1.959    \u001b[0m | \u001b[0m0.9758   \u001b[0m |\n",
            "| \u001b[0m362      \u001b[0m | \u001b[0m1.78     \u001b[0m | \u001b[0m0.6244   \u001b[0m | \u001b[0m5.71     \u001b[0m | \u001b[0m0.6877   \u001b[0m | \u001b[0m16.09    \u001b[0m | \u001b[0m90.44    \u001b[0m | \u001b[0m14.6     \u001b[0m | \u001b[0m2.351    \u001b[0m | \u001b[0m8.344    \u001b[0m | \u001b[0m0.5005   \u001b[0m |\n",
            "| \u001b[0m363      \u001b[0m | \u001b[0m1.78     \u001b[0m | \u001b[0m0.5241   \u001b[0m | \u001b[0m5.565    \u001b[0m | \u001b[0m0.7321   \u001b[0m | \u001b[0m13.56    \u001b[0m | \u001b[0m32.64    \u001b[0m | \u001b[0m58.2     \u001b[0m | \u001b[0m9.757    \u001b[0m | \u001b[0m5.583    \u001b[0m | \u001b[0m0.6182   \u001b[0m |\n",
            "| \u001b[0m364      \u001b[0m | \u001b[0m1.78     \u001b[0m | \u001b[0m0.7534   \u001b[0m | \u001b[0m7.97     \u001b[0m | \u001b[0m0.4048   \u001b[0m | \u001b[0m25.11    \u001b[0m | \u001b[0m35.65    \u001b[0m | \u001b[0m91.05    \u001b[0m | \u001b[0m5.802    \u001b[0m | \u001b[0m0.704    \u001b[0m | \u001b[0m0.6003   \u001b[0m |\n",
            "| \u001b[0m365      \u001b[0m | \u001b[0m1.78     \u001b[0m | \u001b[0m0.9276   \u001b[0m | \u001b[0m0.5931   \u001b[0m | \u001b[0m0.0165   \u001b[0m | \u001b[0m18.91    \u001b[0m | \u001b[0m51.5     \u001b[0m | \u001b[0m92.56    \u001b[0m | \u001b[0m1.387    \u001b[0m | \u001b[0m5.923    \u001b[0m | \u001b[0m0.97     \u001b[0m |\n",
            "| \u001b[0m366      \u001b[0m | \u001b[0m1.78     \u001b[0m | \u001b[0m0.7616   \u001b[0m | \u001b[0m8.952    \u001b[0m | \u001b[0m0.31     \u001b[0m | \u001b[0m12.78    \u001b[0m | \u001b[0m45.23    \u001b[0m | \u001b[0m23.63    \u001b[0m | \u001b[0m5.51     \u001b[0m | \u001b[0m6.179    \u001b[0m | \u001b[0m0.9346   \u001b[0m |\n",
            "| \u001b[0m367      \u001b[0m | \u001b[0m1.78     \u001b[0m | \u001b[0m0.526    \u001b[0m | \u001b[0m0.2342   \u001b[0m | \u001b[0m0.8953   \u001b[0m | \u001b[0m31.93    \u001b[0m | \u001b[0m88.72    \u001b[0m | \u001b[0m7.87     \u001b[0m | \u001b[0m6.195    \u001b[0m | \u001b[0m1.143    \u001b[0m | \u001b[0m0.7457   \u001b[0m |\n",
            "| \u001b[0m368      \u001b[0m | \u001b[0m1.78     \u001b[0m | \u001b[0m0.9791   \u001b[0m | \u001b[0m2.941    \u001b[0m | \u001b[0m0.2581   \u001b[0m | \u001b[0m35.17    \u001b[0m | \u001b[0m6.085    \u001b[0m | \u001b[0m59.88    \u001b[0m | \u001b[0m5.171    \u001b[0m | \u001b[0m2.929    \u001b[0m | \u001b[0m0.6071   \u001b[0m |\n",
            "| \u001b[0m369      \u001b[0m | \u001b[0m1.78     \u001b[0m | \u001b[0m0.989    \u001b[0m | \u001b[0m3.446    \u001b[0m | \u001b[0m0.1776   \u001b[0m | \u001b[0m19.71    \u001b[0m | \u001b[0m56.03    \u001b[0m | \u001b[0m27.7     \u001b[0m | \u001b[0m0.5283   \u001b[0m | \u001b[0m6.211    \u001b[0m | \u001b[0m0.7669   \u001b[0m |\n",
            "| \u001b[0m370      \u001b[0m | \u001b[0m1.78     \u001b[0m | \u001b[0m0.731    \u001b[0m | \u001b[0m4.34     \u001b[0m | \u001b[0m0.9037   \u001b[0m | \u001b[0m38.86    \u001b[0m | \u001b[0m13.54    \u001b[0m | \u001b[0m17.15    \u001b[0m | \u001b[0m8.337    \u001b[0m | \u001b[0m5.952    \u001b[0m | \u001b[0m0.5829   \u001b[0m |\n",
            "| \u001b[0m371      \u001b[0m | \u001b[0m1.78     \u001b[0m | \u001b[0m0.7868   \u001b[0m | \u001b[0m1.057    \u001b[0m | \u001b[0m0.3542   \u001b[0m | \u001b[0m46.33    \u001b[0m | \u001b[0m66.89    \u001b[0m | \u001b[0m6.514    \u001b[0m | \u001b[0m4.138    \u001b[0m | \u001b[0m8.734    \u001b[0m | \u001b[0m0.7222   \u001b[0m |\n",
            "| \u001b[0m372      \u001b[0m | \u001b[0m1.78     \u001b[0m | \u001b[0m0.7643   \u001b[0m | \u001b[0m4.501    \u001b[0m | \u001b[0m0.5781   \u001b[0m | \u001b[0m26.13    \u001b[0m | \u001b[0m51.76    \u001b[0m | \u001b[0m27.86    \u001b[0m | \u001b[0m2.549    \u001b[0m | \u001b[0m5.814    \u001b[0m | \u001b[0m0.9973   \u001b[0m |\n",
            "| \u001b[0m373      \u001b[0m | \u001b[0m1.78     \u001b[0m | \u001b[0m0.5765   \u001b[0m | \u001b[0m5.199    \u001b[0m | \u001b[0m0.4739   \u001b[0m | \u001b[0m20.21    \u001b[0m | \u001b[0m23.89    \u001b[0m | \u001b[0m66.09    \u001b[0m | \u001b[0m7.275    \u001b[0m | \u001b[0m1.293    \u001b[0m | \u001b[0m0.643    \u001b[0m |\n",
            "| \u001b[0m374      \u001b[0m | \u001b[0m1.78     \u001b[0m | \u001b[0m0.5168   \u001b[0m | \u001b[0m6.884    \u001b[0m | \u001b[0m0.02689  \u001b[0m | \u001b[0m35.48    \u001b[0m | \u001b[0m39.86    \u001b[0m | \u001b[0m23.09    \u001b[0m | \u001b[0m9.889    \u001b[0m | \u001b[0m9.343    \u001b[0m | \u001b[0m0.849    \u001b[0m |\n",
            "| \u001b[0m375      \u001b[0m | \u001b[0m1.78     \u001b[0m | \u001b[0m0.8038   \u001b[0m | \u001b[0m7.607    \u001b[0m | \u001b[0m0.6872   \u001b[0m | \u001b[0m11.58    \u001b[0m | \u001b[0m49.61    \u001b[0m | \u001b[0m39.28    \u001b[0m | \u001b[0m9.634    \u001b[0m | \u001b[0m0.2842   \u001b[0m | \u001b[0m0.9473   \u001b[0m |\n",
            "| \u001b[0m376      \u001b[0m | \u001b[0m1.78     \u001b[0m | \u001b[0m0.7741   \u001b[0m | \u001b[0m9.881    \u001b[0m | \u001b[0m0.622    \u001b[0m | \u001b[0m42.67    \u001b[0m | \u001b[0m49.28    \u001b[0m | \u001b[0m16.84    \u001b[0m | \u001b[0m9.391    \u001b[0m | \u001b[0m7.677    \u001b[0m | \u001b[0m0.5386   \u001b[0m |\n",
            "| \u001b[0m377      \u001b[0m | \u001b[0m1.78     \u001b[0m | \u001b[0m0.6392   \u001b[0m | \u001b[0m9.083    \u001b[0m | \u001b[0m0.5625   \u001b[0m | \u001b[0m37.93    \u001b[0m | \u001b[0m51.03    \u001b[0m | \u001b[0m89.82    \u001b[0m | \u001b[0m5.48     \u001b[0m | \u001b[0m2.483    \u001b[0m | \u001b[0m0.573    \u001b[0m |\n",
            "| \u001b[0m378      \u001b[0m | \u001b[0m1.78     \u001b[0m | \u001b[0m0.9428   \u001b[0m | \u001b[0m6.043    \u001b[0m | \u001b[0m0.8348   \u001b[0m | \u001b[0m27.73    \u001b[0m | \u001b[0m55.41    \u001b[0m | \u001b[0m67.8     \u001b[0m | \u001b[0m2.792    \u001b[0m | \u001b[0m6.505    \u001b[0m | \u001b[0m0.9202   \u001b[0m |\n",
            "| \u001b[0m379      \u001b[0m | \u001b[0m1.78     \u001b[0m | \u001b[0m0.6698   \u001b[0m | \u001b[0m0.9575   \u001b[0m | \u001b[0m0.6337   \u001b[0m | \u001b[0m44.47    \u001b[0m | \u001b[0m88.76    \u001b[0m | \u001b[0m43.89    \u001b[0m | \u001b[0m0.8134   \u001b[0m | \u001b[0m6.228    \u001b[0m | \u001b[0m0.6057   \u001b[0m |\n",
            "| \u001b[0m380      \u001b[0m | \u001b[0m1.78     \u001b[0m | \u001b[0m0.9515   \u001b[0m | \u001b[0m1.31     \u001b[0m | \u001b[0m0.02271  \u001b[0m | \u001b[0m17.88    \u001b[0m | \u001b[0m25.46    \u001b[0m | \u001b[0m77.22    \u001b[0m | \u001b[0m7.236    \u001b[0m | \u001b[0m1.892    \u001b[0m | \u001b[0m0.9717   \u001b[0m |\n",
            "| \u001b[0m381      \u001b[0m | \u001b[0m1.78     \u001b[0m | \u001b[0m0.9096   \u001b[0m | \u001b[0m3.331    \u001b[0m | \u001b[0m0.04358  \u001b[0m | \u001b[0m7.5      \u001b[0m | \u001b[0m91.67    \u001b[0m | \u001b[0m48.44    \u001b[0m | \u001b[0m4.468    \u001b[0m | \u001b[0m5.96     \u001b[0m | \u001b[0m0.6484   \u001b[0m |\n",
            "| \u001b[0m382      \u001b[0m | \u001b[0m1.78     \u001b[0m | \u001b[0m0.9192   \u001b[0m | \u001b[0m5.094    \u001b[0m | \u001b[0m0.08284  \u001b[0m | \u001b[0m16.56    \u001b[0m | \u001b[0m24.64    \u001b[0m | \u001b[0m10.66    \u001b[0m | \u001b[0m0.1417   \u001b[0m | \u001b[0m0.4861   \u001b[0m | \u001b[0m0.7336   \u001b[0m |\n",
            "| \u001b[0m383      \u001b[0m | \u001b[0m1.78     \u001b[0m | \u001b[0m0.6719   \u001b[0m | \u001b[0m2.285    \u001b[0m | \u001b[0m0.608    \u001b[0m | \u001b[0m8.911    \u001b[0m | \u001b[0m38.69    \u001b[0m | \u001b[0m69.95    \u001b[0m | \u001b[0m4.627    \u001b[0m | \u001b[0m2.674    \u001b[0m | \u001b[0m0.7813   \u001b[0m |\n",
            "| \u001b[0m384      \u001b[0m | \u001b[0m1.78     \u001b[0m | \u001b[0m0.5352   \u001b[0m | \u001b[0m0.829    \u001b[0m | \u001b[0m0.1593   \u001b[0m | \u001b[0m20.03    \u001b[0m | \u001b[0m27.79    \u001b[0m | \u001b[0m79.42    \u001b[0m | \u001b[0m9.593    \u001b[0m | \u001b[0m4.234    \u001b[0m | \u001b[0m0.9181   \u001b[0m |\n",
            "| \u001b[0m385      \u001b[0m | \u001b[0m1.78     \u001b[0m | \u001b[0m0.8502   \u001b[0m | \u001b[0m0.8488   \u001b[0m | \u001b[0m0.9472   \u001b[0m | \u001b[0m10.83    \u001b[0m | \u001b[0m74.26    \u001b[0m | \u001b[0m41.66    \u001b[0m | \u001b[0m6.879    \u001b[0m | \u001b[0m9.983    \u001b[0m | \u001b[0m0.9053   \u001b[0m |\n",
            "| \u001b[0m386      \u001b[0m | \u001b[0m1.78     \u001b[0m | \u001b[0m0.9621   \u001b[0m | \u001b[0m5.016    \u001b[0m | \u001b[0m0.04916  \u001b[0m | \u001b[0m45.85    \u001b[0m | \u001b[0m14.47    \u001b[0m | \u001b[0m61.62    \u001b[0m | \u001b[0m6.638    \u001b[0m | \u001b[0m3.727    \u001b[0m | \u001b[0m0.7445   \u001b[0m |\n",
            "| \u001b[0m387      \u001b[0m | \u001b[0m1.78     \u001b[0m | \u001b[0m0.5238   \u001b[0m | \u001b[0m7.743    \u001b[0m | \u001b[0m0.9892   \u001b[0m | \u001b[0m22.45    \u001b[0m | \u001b[0m15.01    \u001b[0m | \u001b[0m56.36    \u001b[0m | \u001b[0m0.1581   \u001b[0m | \u001b[0m1.624    \u001b[0m | \u001b[0m0.6223   \u001b[0m |\n",
            "| \u001b[0m388      \u001b[0m | \u001b[0m1.786    \u001b[0m | \u001b[0m0.6192   \u001b[0m | \u001b[0m3.357    \u001b[0m | \u001b[0m0.5688   \u001b[0m | \u001b[0m34.45    \u001b[0m | \u001b[0m9.343    \u001b[0m | \u001b[0m31.73    \u001b[0m | \u001b[0m0.908    \u001b[0m | \u001b[0m2.309    \u001b[0m | \u001b[0m0.8115   \u001b[0m |\n",
            "| \u001b[0m389      \u001b[0m | \u001b[0m1.767    \u001b[0m | \u001b[0m0.5249   \u001b[0m | \u001b[0m4.303    \u001b[0m | \u001b[0m0.05997  \u001b[0m | \u001b[0m19.14    \u001b[0m | \u001b[0m6.257    \u001b[0m | \u001b[0m62.37    \u001b[0m | \u001b[0m2.044    \u001b[0m | \u001b[0m9.962    \u001b[0m | \u001b[0m0.8525   \u001b[0m |\n",
            "| \u001b[0m390      \u001b[0m | \u001b[0m1.751    \u001b[0m | \u001b[0m0.6534   \u001b[0m | \u001b[0m3.905    \u001b[0m | \u001b[0m0.1611   \u001b[0m | \u001b[0m46.82    \u001b[0m | \u001b[0m3.083    \u001b[0m | \u001b[0m58.06    \u001b[0m | \u001b[0m3.399    \u001b[0m | \u001b[0m4.768    \u001b[0m | \u001b[0m0.6801   \u001b[0m |\n",
            "| \u001b[0m391      \u001b[0m | \u001b[0m1.735    \u001b[0m | \u001b[0m0.5002   \u001b[0m | \u001b[0m1.65     \u001b[0m | \u001b[0m0.8534   \u001b[0m | \u001b[0m46.52    \u001b[0m | \u001b[0m1.864    \u001b[0m | \u001b[0m69.42    \u001b[0m | \u001b[0m3.186    \u001b[0m | \u001b[0m8.106    \u001b[0m | \u001b[0m0.6235   \u001b[0m |\n",
            "| \u001b[0m392      \u001b[0m | \u001b[0m1.726    \u001b[0m | \u001b[0m0.7984   \u001b[0m | \u001b[0m4.739    \u001b[0m | \u001b[0m0.428    \u001b[0m | \u001b[0m46.07    \u001b[0m | \u001b[0m0.7625   \u001b[0m | \u001b[0m70.16    \u001b[0m | \u001b[0m0.7107   \u001b[0m | \u001b[0m6.729    \u001b[0m | \u001b[0m0.7454   \u001b[0m |\n",
            "| \u001b[0m393      \u001b[0m | \u001b[0m1.785    \u001b[0m | \u001b[0m0.5051   \u001b[0m | \u001b[0m4.38     \u001b[0m | \u001b[0m0.5219   \u001b[0m | \u001b[0m35.01    \u001b[0m | \u001b[0m5.51     \u001b[0m | \u001b[0m32.43    \u001b[0m | \u001b[0m0.6563   \u001b[0m | \u001b[0m3.139    \u001b[0m | \u001b[0m0.8931   \u001b[0m |\n",
            "| \u001b[0m394      \u001b[0m | \u001b[0m1.76     \u001b[0m | \u001b[0m0.8599   \u001b[0m | \u001b[0m4.083    \u001b[0m | \u001b[0m0.5967   \u001b[0m | \u001b[0m43.77    \u001b[0m | \u001b[0m3.04     \u001b[0m | \u001b[0m54.94    \u001b[0m | \u001b[0m3.829    \u001b[0m | \u001b[0m3.889    \u001b[0m | \u001b[0m0.8049   \u001b[0m |\n",
            "| \u001b[0m395      \u001b[0m | \u001b[0m1.742    \u001b[0m | \u001b[0m0.8858   \u001b[0m | \u001b[0m7.171    \u001b[0m | \u001b[0m0.2537   \u001b[0m | \u001b[0m43.97    \u001b[0m | \u001b[0m0.4843   \u001b[0m | \u001b[0m55.04    \u001b[0m | \u001b[0m3.888    \u001b[0m | \u001b[0m5.714    \u001b[0m | \u001b[0m0.5623   \u001b[0m |\n",
            "| \u001b[0m396      \u001b[0m | \u001b[0m1.78     \u001b[0m | \u001b[0m0.9805   \u001b[0m | \u001b[0m6.36     \u001b[0m | \u001b[0m0.08093  \u001b[0m | \u001b[0m31.59    \u001b[0m | \u001b[0m10.06    \u001b[0m | \u001b[0m32.38    \u001b[0m | \u001b[0m1.113    \u001b[0m | \u001b[0m1.714    \u001b[0m | \u001b[0m0.9468   \u001b[0m |\n",
            "| \u001b[0m397      \u001b[0m | \u001b[0m1.796    \u001b[0m | \u001b[0m0.919    \u001b[0m | \u001b[0m7.564    \u001b[0m | \u001b[0m0.5311   \u001b[0m | \u001b[0m8.355    \u001b[0m | \u001b[0m5.803    \u001b[0m | \u001b[0m93.59    \u001b[0m | \u001b[0m0.4946   \u001b[0m | \u001b[0m5.163    \u001b[0m | \u001b[0m0.9224   \u001b[0m |\n",
            "| \u001b[0m398      \u001b[0m | \u001b[0m1.957    \u001b[0m | \u001b[0m0.6706   \u001b[0m | \u001b[0m7.256    \u001b[0m | \u001b[0m0.7043   \u001b[0m | \u001b[0m45.44    \u001b[0m | \u001b[0m1.513    \u001b[0m | \u001b[0m54.79    \u001b[0m | \u001b[0m0.2912   \u001b[0m | \u001b[0m4.746    \u001b[0m | \u001b[0m0.6203   \u001b[0m |\n",
            "| \u001b[0m399      \u001b[0m | \u001b[0m1.818    \u001b[0m | \u001b[0m0.6188   \u001b[0m | \u001b[0m5.583    \u001b[0m | \u001b[0m0.3799   \u001b[0m | \u001b[0m3.661    \u001b[0m | \u001b[0m8.194    \u001b[0m | \u001b[0m41.16    \u001b[0m | \u001b[0m0.8918   \u001b[0m | \u001b[0m8.038    \u001b[0m | \u001b[0m0.7543   \u001b[0m |\n",
            "| \u001b[0m400      \u001b[0m | \u001b[0m1.805    \u001b[0m | \u001b[0m0.8864   \u001b[0m | \u001b[0m6.294    \u001b[0m | \u001b[0m0.766    \u001b[0m | \u001b[0m5.216    \u001b[0m | \u001b[0m8.89     \u001b[0m | \u001b[0m40.01    \u001b[0m | \u001b[0m0.439    \u001b[0m | \u001b[0m7.149    \u001b[0m | \u001b[0m0.8041   \u001b[0m |\n",
            "| \u001b[0m401      \u001b[0m | \u001b[0m1.775    \u001b[0m | \u001b[0m0.9953   \u001b[0m | \u001b[0m6.094    \u001b[0m | \u001b[0m0.7433   \u001b[0m | \u001b[0m4.047    \u001b[0m | \u001b[0m6.876    \u001b[0m | \u001b[0m37.58    \u001b[0m | \u001b[0m2.543    \u001b[0m | \u001b[0m6.268    \u001b[0m | \u001b[0m0.9713   \u001b[0m |\n",
            "| \u001b[0m402      \u001b[0m | \u001b[0m1.839    \u001b[0m | \u001b[0m0.594    \u001b[0m | \u001b[0m9.619    \u001b[0m | \u001b[0m0.4519   \u001b[0m | \u001b[0m47.05    \u001b[0m | \u001b[0m0.7183   \u001b[0m | \u001b[0m53.65    \u001b[0m | \u001b[0m1.133    \u001b[0m | \u001b[0m1.462    \u001b[0m | \u001b[0m0.6478   \u001b[0m |\n",
            "| \u001b[0m403      \u001b[0m | \u001b[0m1.755    \u001b[0m | \u001b[0m0.6249   \u001b[0m | \u001b[0m3.774    \u001b[0m | \u001b[0m0.71     \u001b[0m | \u001b[0m33.8     \u001b[0m | \u001b[0m8.171    \u001b[0m | \u001b[0m29.7     \u001b[0m | \u001b[0m2.413    \u001b[0m | \u001b[0m0.2877   \u001b[0m | \u001b[0m0.8077   \u001b[0m |\n",
            "| \u001b[0m404      \u001b[0m | \u001b[0m1.78     \u001b[0m | \u001b[0m0.5069   \u001b[0m | \u001b[0m7.267    \u001b[0m | \u001b[0m0.7902   \u001b[0m | \u001b[0m34.18    \u001b[0m | \u001b[0m9.486    \u001b[0m | \u001b[0m31.51    \u001b[0m | \u001b[0m2.358    \u001b[0m | \u001b[0m3.272    \u001b[0m | \u001b[0m0.8258   \u001b[0m |\n",
            "| \u001b[0m405      \u001b[0m | \u001b[0m1.771    \u001b[0m | \u001b[0m0.8105   \u001b[0m | \u001b[0m9.608    \u001b[0m | \u001b[0m0.7113   \u001b[0m | \u001b[0m47.45    \u001b[0m | \u001b[0m0.0974   \u001b[0m | \u001b[0m52.67    \u001b[0m | \u001b[0m1.821    \u001b[0m | \u001b[0m2.498    \u001b[0m | \u001b[0m0.9228   \u001b[0m |\n",
            "| \u001b[0m406      \u001b[0m | \u001b[0m1.736    \u001b[0m | \u001b[0m0.5735   \u001b[0m | \u001b[0m6.738    \u001b[0m | \u001b[0m0.6195   \u001b[0m | \u001b[0m45.32    \u001b[0m | \u001b[0m4.782    \u001b[0m | \u001b[0m53.74    \u001b[0m | \u001b[0m2.083    \u001b[0m | \u001b[0m3.528    \u001b[0m | \u001b[0m0.8419   \u001b[0m |\n",
            "| \u001b[0m407      \u001b[0m | \u001b[0m1.875    \u001b[0m | \u001b[0m0.5788   \u001b[0m | \u001b[0m2.872    \u001b[0m | \u001b[0m0.9604   \u001b[0m | \u001b[0m38.08    \u001b[0m | \u001b[0m3.796    \u001b[0m | \u001b[0m31.65    \u001b[0m | \u001b[0m0.6651   \u001b[0m | \u001b[0m2.038    \u001b[0m | \u001b[0m0.8114   \u001b[0m |\n",
            "| \u001b[0m408      \u001b[0m | \u001b[0m1.732    \u001b[0m | \u001b[0m0.8948   \u001b[0m | \u001b[0m6.096    \u001b[0m | \u001b[0m0.8719   \u001b[0m | \u001b[0m46.49    \u001b[0m | \u001b[0m0.2128   \u001b[0m | \u001b[0m56.42    \u001b[0m | \u001b[0m1.339    \u001b[0m | \u001b[0m4.136    \u001b[0m | \u001b[0m0.5616   \u001b[0m |\n",
            "| \u001b[0m409      \u001b[0m | \u001b[0m1.78     \u001b[0m | \u001b[0m0.5707   \u001b[0m | \u001b[0m1.107    \u001b[0m | \u001b[0m0.1934   \u001b[0m | \u001b[0m40.25    \u001b[0m | \u001b[0m90.11    \u001b[0m | \u001b[0m45.44    \u001b[0m | \u001b[0m9.62     \u001b[0m | \u001b[0m4.16     \u001b[0m | \u001b[0m0.6098   \u001b[0m |\n",
            "| \u001b[0m410      \u001b[0m | \u001b[0m1.78     \u001b[0m | \u001b[0m0.8525   \u001b[0m | \u001b[0m4.075    \u001b[0m | \u001b[0m0.2975   \u001b[0m | \u001b[0m25.67    \u001b[0m | \u001b[0m44.31    \u001b[0m | \u001b[0m61.14    \u001b[0m | \u001b[0m8.336    \u001b[0m | \u001b[0m4.776    \u001b[0m | \u001b[0m0.6397   \u001b[0m |\n",
            "| \u001b[0m411      \u001b[0m | \u001b[0m1.755    \u001b[0m | \u001b[0m0.7913   \u001b[0m | \u001b[0m7.011    \u001b[0m | \u001b[0m0.8459   \u001b[0m | \u001b[0m10.24    \u001b[0m | \u001b[0m6.08     \u001b[0m | \u001b[0m94.39    \u001b[0m | \u001b[0m2.4      \u001b[0m | \u001b[0m3.787    \u001b[0m | \u001b[0m0.8089   \u001b[0m |\n",
            "| \u001b[0m412      \u001b[0m | \u001b[0m1.78     \u001b[0m | \u001b[0m0.97     \u001b[0m | \u001b[0m9.006    \u001b[0m | \u001b[0m0.05839  \u001b[0m | \u001b[0m28.51    \u001b[0m | \u001b[0m24.27    \u001b[0m | \u001b[0m11.12    \u001b[0m | \u001b[0m0.4536   \u001b[0m | \u001b[0m1.172    \u001b[0m | \u001b[0m0.9139   \u001b[0m |\n",
            "| \u001b[0m413      \u001b[0m | \u001b[0m1.766    \u001b[0m | \u001b[0m0.7771   \u001b[0m | \u001b[0m5.623    \u001b[0m | \u001b[0m0.3201   \u001b[0m | \u001b[0m16.84    \u001b[0m | \u001b[0m6.554    \u001b[0m | \u001b[0m64.53    \u001b[0m | \u001b[0m1.756    \u001b[0m | \u001b[0m8.183    \u001b[0m | \u001b[0m0.8569   \u001b[0m |\n",
            "| \u001b[0m414      \u001b[0m | \u001b[0m1.78     \u001b[0m | \u001b[0m0.5878   \u001b[0m | \u001b[0m6.841    \u001b[0m | \u001b[0m0.07021  \u001b[0m | \u001b[0m10.44    \u001b[0m | \u001b[0m45.25    \u001b[0m | \u001b[0m5.577    \u001b[0m | \u001b[0m1.225    \u001b[0m | \u001b[0m9.481    \u001b[0m | \u001b[0m0.597    \u001b[0m |\n",
            "| \u001b[0m415      \u001b[0m | \u001b[0m1.695    \u001b[0m | \u001b[0m0.7704   \u001b[0m | \u001b[0m1.519    \u001b[0m | \u001b[0m0.7401   \u001b[0m | \u001b[0m38.78    \u001b[0m | \u001b[0m3.465    \u001b[0m | \u001b[0m30.75    \u001b[0m | \u001b[0m1.691    \u001b[0m | \u001b[0m4.185    \u001b[0m | \u001b[0m0.6569   \u001b[0m |\n",
            "| \u001b[0m416      \u001b[0m | \u001b[0m1.788    \u001b[0m | \u001b[0m0.6905   \u001b[0m | \u001b[0m5.51     \u001b[0m | \u001b[0m0.2599   \u001b[0m | \u001b[0m7.003    \u001b[0m | \u001b[0m8.323    \u001b[0m | \u001b[0m96.73    \u001b[0m | \u001b[0m0.5735   \u001b[0m | \u001b[0m4.07     \u001b[0m | \u001b[0m0.8169   \u001b[0m |\n",
            "| \u001b[0m417      \u001b[0m | \u001b[0m1.875    \u001b[0m | \u001b[0m0.9287   \u001b[0m | \u001b[0m9.193    \u001b[0m | \u001b[0m0.8581   \u001b[0m | \u001b[0m46.73    \u001b[0m | \u001b[0m1.306    \u001b[0m | \u001b[0m53.69    \u001b[0m | \u001b[0m1.805    \u001b[0m | \u001b[0m2.32     \u001b[0m | \u001b[0m0.714    \u001b[0m |\n",
            "| \u001b[0m418      \u001b[0m | \u001b[0m1.62     \u001b[0m | \u001b[0m0.7242   \u001b[0m | \u001b[0m2.276    \u001b[0m | \u001b[0m0.1978   \u001b[0m | \u001b[0m36.49    \u001b[0m | \u001b[0m4.535    \u001b[0m | \u001b[0m31.72    \u001b[0m | \u001b[0m1.037    \u001b[0m | \u001b[0m2.574    \u001b[0m | \u001b[0m0.5972   \u001b[0m |\n",
            "| \u001b[0m419      \u001b[0m | \u001b[0m1.78     \u001b[0m | \u001b[0m0.7637   \u001b[0m | \u001b[0m6.906    \u001b[0m | \u001b[0m0.07456  \u001b[0m | \u001b[0m26.57    \u001b[0m | \u001b[0m65.69    \u001b[0m | \u001b[0m39.74    \u001b[0m | \u001b[0m3.415    \u001b[0m | \u001b[0m9.029    \u001b[0m | \u001b[0m0.5508   \u001b[0m |\n",
            "| \u001b[0m420      \u001b[0m | \u001b[0m1.78     \u001b[0m | \u001b[0m0.9443   \u001b[0m | \u001b[0m6.884    \u001b[0m | \u001b[0m0.2362   \u001b[0m | \u001b[0m4.166    \u001b[0m | \u001b[0m51.26    \u001b[0m | \u001b[0m24.52    \u001b[0m | \u001b[0m2.061    \u001b[0m | \u001b[0m2.12     \u001b[0m | \u001b[0m0.8282   \u001b[0m |\n",
            "| \u001b[0m421      \u001b[0m | \u001b[0m1.79     \u001b[0m | \u001b[0m0.8408   \u001b[0m | \u001b[0m4.257    \u001b[0m | \u001b[0m0.5331   \u001b[0m | \u001b[0m20.31    \u001b[0m | \u001b[0m7.437    \u001b[0m | \u001b[0m63.72    \u001b[0m | \u001b[0m0.8025   \u001b[0m | \u001b[0m8.968    \u001b[0m | \u001b[0m0.9713   \u001b[0m |\n",
            "| \u001b[0m422      \u001b[0m | \u001b[0m1.78     \u001b[0m | \u001b[0m0.8077   \u001b[0m | \u001b[0m7.71     \u001b[0m | \u001b[0m0.8902   \u001b[0m | \u001b[0m39.54    \u001b[0m | \u001b[0m87.13    \u001b[0m | \u001b[0m72.75    \u001b[0m | \u001b[0m5.183    \u001b[0m | \u001b[0m2.586    \u001b[0m | \u001b[0m0.9305   \u001b[0m |\n",
            "| \u001b[0m423      \u001b[0m | \u001b[0m1.8      \u001b[0m | \u001b[0m0.5444   \u001b[0m | \u001b[0m3.953    \u001b[0m | \u001b[0m0.368    \u001b[0m | \u001b[0m4.932    \u001b[0m | \u001b[0m8.361    \u001b[0m | \u001b[0m41.52    \u001b[0m | \u001b[0m0.06145  \u001b[0m | \u001b[0m8.411    \u001b[0m | \u001b[0m0.7547   \u001b[0m |\n",
            "| \u001b[0m424      \u001b[0m | \u001b[0m1.78     \u001b[0m | \u001b[0m0.9191   \u001b[0m | \u001b[0m0.6327   \u001b[0m | \u001b[0m0.8128   \u001b[0m | \u001b[0m43.13    \u001b[0m | \u001b[0m97.01    \u001b[0m | \u001b[0m14.82    \u001b[0m | \u001b[0m5.494    \u001b[0m | \u001b[0m1.081    \u001b[0m | \u001b[0m0.9671   \u001b[0m |\n",
            "| \u001b[0m425      \u001b[0m | \u001b[0m1.758    \u001b[0m | \u001b[0m0.6378   \u001b[0m | \u001b[0m4.842    \u001b[0m | \u001b[0m0.6431   \u001b[0m | \u001b[0m33.98    \u001b[0m | \u001b[0m6.679    \u001b[0m | \u001b[0m79.7     \u001b[0m | \u001b[0m3.993    \u001b[0m | \u001b[0m5.864    \u001b[0m | \u001b[0m0.7809   \u001b[0m |\n",
            "| \u001b[0m426      \u001b[0m | \u001b[0m1.78     \u001b[0m | \u001b[0m0.7833   \u001b[0m | \u001b[0m8.698    \u001b[0m | \u001b[0m0.3422   \u001b[0m | \u001b[0m38.49    \u001b[0m | \u001b[0m12.28    \u001b[0m | \u001b[0m18.65    \u001b[0m | \u001b[0m4.438    \u001b[0m | \u001b[0m9.305    \u001b[0m | \u001b[0m0.802    \u001b[0m |\n",
            "| \u001b[0m427      \u001b[0m | \u001b[0m1.78     \u001b[0m | \u001b[0m0.679    \u001b[0m | \u001b[0m2.889    \u001b[0m | \u001b[0m0.0942   \u001b[0m | \u001b[0m39.84    \u001b[0m | \u001b[0m65.4     \u001b[0m | \u001b[0m42.81    \u001b[0m | \u001b[0m0.6228   \u001b[0m | \u001b[0m3.022    \u001b[0m | \u001b[0m0.9564   \u001b[0m |\n",
            "| \u001b[0m428      \u001b[0m | \u001b[0m1.78     \u001b[0m | \u001b[0m0.8197   \u001b[0m | \u001b[0m6.325    \u001b[0m | \u001b[0m0.755    \u001b[0m | \u001b[0m21.14    \u001b[0m | \u001b[0m40.22    \u001b[0m | \u001b[0m98.47    \u001b[0m | \u001b[0m4.729    \u001b[0m | \u001b[0m7.395    \u001b[0m | \u001b[0m0.857    \u001b[0m |\n",
            "| \u001b[0m429      \u001b[0m | \u001b[0m1.78     \u001b[0m | \u001b[0m0.7024   \u001b[0m | \u001b[0m9.464    \u001b[0m | \u001b[0m0.9887   \u001b[0m | \u001b[0m30.41    \u001b[0m | \u001b[0m15.04    \u001b[0m | \u001b[0m48.78    \u001b[0m | \u001b[0m7.854    \u001b[0m | \u001b[0m2.929    \u001b[0m | \u001b[0m0.8734   \u001b[0m |\n",
            "| \u001b[0m430      \u001b[0m | \u001b[0m1.819    \u001b[0m | \u001b[0m0.562    \u001b[0m | \u001b[0m6.776    \u001b[0m | \u001b[0m0.8776   \u001b[0m | \u001b[0m6.177    \u001b[0m | \u001b[0m6.202    \u001b[0m | \u001b[0m95.82    \u001b[0m | \u001b[0m0.8111   \u001b[0m | \u001b[0m5.931    \u001b[0m | \u001b[0m0.741    \u001b[0m |\n",
            "| \u001b[0m431      \u001b[0m | \u001b[0m1.78     \u001b[0m | \u001b[0m0.8512   \u001b[0m | \u001b[0m5.871    \u001b[0m | \u001b[0m0.2232   \u001b[0m | \u001b[0m7.913    \u001b[0m | \u001b[0m30.99    \u001b[0m | \u001b[0m83.98    \u001b[0m | \u001b[0m5.987    \u001b[0m | \u001b[0m8.356    \u001b[0m | \u001b[0m0.5391   \u001b[0m |\n",
            "| \u001b[0m432      \u001b[0m | \u001b[0m1.78     \u001b[0m | \u001b[0m0.7098   \u001b[0m | \u001b[0m7.624    \u001b[0m | \u001b[0m0.3783   \u001b[0m | \u001b[0m9.735    \u001b[0m | \u001b[0m78.87    \u001b[0m | \u001b[0m39.49    \u001b[0m | \u001b[0m7.509    \u001b[0m | \u001b[0m3.57     \u001b[0m | \u001b[0m0.5781   \u001b[0m |\n",
            "| \u001b[0m433      \u001b[0m | \u001b[0m1.78     \u001b[0m | \u001b[0m0.7808   \u001b[0m | \u001b[0m1.836    \u001b[0m | \u001b[0m0.05028  \u001b[0m | \u001b[0m35.29    \u001b[0m | \u001b[0m8.637    \u001b[0m | \u001b[0m55.32    \u001b[0m | \u001b[0m4.383    \u001b[0m | \u001b[0m5.357    \u001b[0m | \u001b[0m0.5127   \u001b[0m |\n",
            "| \u001b[0m434      \u001b[0m | \u001b[0m1.78     \u001b[0m | \u001b[0m0.9601   \u001b[0m | \u001b[0m2.829    \u001b[0m | \u001b[0m0.2036   \u001b[0m | \u001b[0m47.37    \u001b[0m | \u001b[0m35.86    \u001b[0m | \u001b[0m32.93    \u001b[0m | \u001b[0m5.943    \u001b[0m | \u001b[0m5.981    \u001b[0m | \u001b[0m0.5621   \u001b[0m |\n",
            "| \u001b[0m435      \u001b[0m | \u001b[0m1.725    \u001b[0m | \u001b[0m0.7231   \u001b[0m | \u001b[0m3.155    \u001b[0m | \u001b[0m0.4395   \u001b[0m | \u001b[0m39.38    \u001b[0m | \u001b[0m0.9742   \u001b[0m | \u001b[0m98.47    \u001b[0m | \u001b[0m0.643    \u001b[0m | \u001b[0m5.961    \u001b[0m | \u001b[0m0.6536   \u001b[0m |\n",
            "| \u001b[0m436      \u001b[0m | \u001b[0m1.78     \u001b[0m | \u001b[0m0.9153   \u001b[0m | \u001b[0m5.353    \u001b[0m | \u001b[0m0.2112   \u001b[0m | \u001b[0m24.02    \u001b[0m | \u001b[0m0.3469   \u001b[0m | \u001b[0m84.56    \u001b[0m | \u001b[0m7.541    \u001b[0m | \u001b[0m7.872    \u001b[0m | \u001b[0m0.501    \u001b[0m |\n",
            "| \u001b[0m437      \u001b[0m | \u001b[0m1.78     \u001b[0m | \u001b[0m0.7051   \u001b[0m | \u001b[0m2.306    \u001b[0m | \u001b[0m0.8347   \u001b[0m | \u001b[0m40.87    \u001b[0m | \u001b[0m83.89    \u001b[0m | \u001b[0m8.252    \u001b[0m | \u001b[0m7.88     \u001b[0m | \u001b[0m0.9773   \u001b[0m | \u001b[0m0.6859   \u001b[0m |\n",
            "| \u001b[0m438      \u001b[0m | \u001b[0m1.706    \u001b[0m | \u001b[0m0.6946   \u001b[0m | \u001b[0m3.74     \u001b[0m | \u001b[0m0.1639   \u001b[0m | \u001b[0m37.56    \u001b[0m | \u001b[0m1.989    \u001b[0m | \u001b[0m29.23    \u001b[0m | \u001b[0m1.724    \u001b[0m | \u001b[0m2.432    \u001b[0m | \u001b[0m0.7238   \u001b[0m |\n",
            "| \u001b[0m439      \u001b[0m | \u001b[0m1.78     \u001b[0m | \u001b[0m0.6802   \u001b[0m | \u001b[0m8.689    \u001b[0m | \u001b[0m0.5479   \u001b[0m | \u001b[0m7.237    \u001b[0m | \u001b[0m0.9872   \u001b[0m | \u001b[0m44.18    \u001b[0m | \u001b[0m6.78     \u001b[0m | \u001b[0m6.354    \u001b[0m | \u001b[0m0.5966   \u001b[0m |\n",
            "| \u001b[0m440      \u001b[0m | \u001b[0m1.78     \u001b[0m | \u001b[0m0.5798   \u001b[0m | \u001b[0m5.888    \u001b[0m | \u001b[0m0.1685   \u001b[0m | \u001b[0m24.12    \u001b[0m | \u001b[0m51.97    \u001b[0m | \u001b[0m7.184    \u001b[0m | \u001b[0m4.379    \u001b[0m | \u001b[0m3.984    \u001b[0m | \u001b[0m0.8032   \u001b[0m |\n",
            "| \u001b[0m441      \u001b[0m | \u001b[0m1.805    \u001b[0m | \u001b[0m0.6125   \u001b[0m | \u001b[0m5.771    \u001b[0m | \u001b[0m0.1766   \u001b[0m | \u001b[0m8.205    \u001b[0m | \u001b[0m7.023    \u001b[0m | \u001b[0m94.03    \u001b[0m | \u001b[0m0.2467   \u001b[0m | \u001b[0m4.082    \u001b[0m | \u001b[0m0.8887   \u001b[0m |\n",
            "| \u001b[0m442      \u001b[0m | \u001b[0m1.834    \u001b[0m | \u001b[0m0.9114   \u001b[0m | \u001b[0m8.199    \u001b[0m | \u001b[0m0.9161   \u001b[0m | \u001b[0m19.69    \u001b[0m | \u001b[0m7.692    \u001b[0m | \u001b[0m61.76    \u001b[0m | \u001b[0m1.057    \u001b[0m | \u001b[0m8.176    \u001b[0m | \u001b[0m0.5217   \u001b[0m |\n",
            "| \u001b[0m443      \u001b[0m | \u001b[0m1.78     \u001b[0m | \u001b[0m0.8008   \u001b[0m | \u001b[0m1.279    \u001b[0m | \u001b[0m0.0846   \u001b[0m | \u001b[0m31.25    \u001b[0m | \u001b[0m73.64    \u001b[0m | \u001b[0m15.82    \u001b[0m | \u001b[0m6.187    \u001b[0m | \u001b[0m9.828    \u001b[0m | \u001b[0m0.8953   \u001b[0m |\n",
            "| \u001b[0m444      \u001b[0m | \u001b[0m1.78     \u001b[0m | \u001b[0m0.5701   \u001b[0m | \u001b[0m8.943    \u001b[0m | \u001b[0m0.07623  \u001b[0m | \u001b[0m49.5     \u001b[0m | \u001b[0m16.53    \u001b[0m | \u001b[0m47.12    \u001b[0m | \u001b[0m5.265    \u001b[0m | \u001b[0m8.955    \u001b[0m | \u001b[0m0.5891   \u001b[0m |\n",
            "| \u001b[0m445      \u001b[0m | \u001b[0m1.798    \u001b[0m | \u001b[0m0.5099   \u001b[0m | \u001b[0m6.662    \u001b[0m | \u001b[0m0.2724   \u001b[0m | \u001b[0m3.454    \u001b[0m | \u001b[0m7.4      \u001b[0m | \u001b[0m96.86    \u001b[0m | \u001b[0m0.434    \u001b[0m | \u001b[0m8.778    \u001b[0m | \u001b[0m0.927    \u001b[0m |\n",
            "| \u001b[0m446      \u001b[0m | \u001b[0m1.762    \u001b[0m | \u001b[0m0.8114   \u001b[0m | \u001b[0m6.0      \u001b[0m | \u001b[0m0.8176   \u001b[0m | \u001b[0m45.74    \u001b[0m | \u001b[0m2.707    \u001b[0m | \u001b[0m55.07    \u001b[0m | \u001b[0m2.676    \u001b[0m | \u001b[0m6.455    \u001b[0m | \u001b[0m0.5172   \u001b[0m |\n",
            "| \u001b[0m447      \u001b[0m | \u001b[0m1.78     \u001b[0m | \u001b[0m0.7442   \u001b[0m | \u001b[0m9.955    \u001b[0m | \u001b[0m0.7295   \u001b[0m | \u001b[0m2.241    \u001b[0m | \u001b[0m52.03    \u001b[0m | \u001b[0m20.18    \u001b[0m | \u001b[0m7.061    \u001b[0m | \u001b[0m7.681    \u001b[0m | \u001b[0m0.9261   \u001b[0m |\n",
            "| \u001b[0m448      \u001b[0m | \u001b[0m1.78     \u001b[0m | \u001b[0m0.7746   \u001b[0m | \u001b[0m0.5155   \u001b[0m | \u001b[0m0.122    \u001b[0m | \u001b[0m33.69    \u001b[0m | \u001b[0m96.79    \u001b[0m | \u001b[0m24.52    \u001b[0m | \u001b[0m6.539    \u001b[0m | \u001b[0m7.858    \u001b[0m | \u001b[0m0.5052   \u001b[0m |\n",
            "| \u001b[0m449      \u001b[0m | \u001b[0m1.78     \u001b[0m | \u001b[0m0.9757   \u001b[0m | \u001b[0m6.354    \u001b[0m | \u001b[0m0.7132   \u001b[0m | \u001b[0m40.19    \u001b[0m | \u001b[0m72.8     \u001b[0m | \u001b[0m53.6     \u001b[0m | \u001b[0m6.543    \u001b[0m | \u001b[0m1.203    \u001b[0m | \u001b[0m0.7082   \u001b[0m |\n",
            "| \u001b[0m450      \u001b[0m | \u001b[0m1.78     \u001b[0m | \u001b[0m0.7093   \u001b[0m | \u001b[0m4.646    \u001b[0m | \u001b[0m0.47     \u001b[0m | \u001b[0m4.273    \u001b[0m | \u001b[0m76.6     \u001b[0m | \u001b[0m25.99    \u001b[0m | \u001b[0m6.219    \u001b[0m | \u001b[0m6.888    \u001b[0m | \u001b[0m0.816    \u001b[0m |\n",
            "| \u001b[0m451      \u001b[0m | \u001b[0m1.78     \u001b[0m | \u001b[0m0.6172   \u001b[0m | \u001b[0m7.306    \u001b[0m | \u001b[0m0.3267   \u001b[0m | \u001b[0m49.82    \u001b[0m | \u001b[0m29.94    \u001b[0m | \u001b[0m18.57    \u001b[0m | \u001b[0m4.437    \u001b[0m | \u001b[0m2.567    \u001b[0m | \u001b[0m0.577    \u001b[0m |\n",
            "| \u001b[0m452      \u001b[0m | \u001b[0m1.78     \u001b[0m | \u001b[0m0.7264   \u001b[0m | \u001b[0m7.869    \u001b[0m | \u001b[0m0.4752   \u001b[0m | \u001b[0m22.06    \u001b[0m | \u001b[0m97.16    \u001b[0m | \u001b[0m28.88    \u001b[0m | \u001b[0m5.359    \u001b[0m | \u001b[0m5.464    \u001b[0m | \u001b[0m0.9511   \u001b[0m |\n",
            "| \u001b[0m453      \u001b[0m | \u001b[0m1.772    \u001b[0m | \u001b[0m0.831    \u001b[0m | \u001b[0m4.108    \u001b[0m | \u001b[0m0.7061   \u001b[0m | \u001b[0m3.728    \u001b[0m | \u001b[0m9.704    \u001b[0m | \u001b[0m41.99    \u001b[0m | \u001b[0m1.197    \u001b[0m | \u001b[0m8.626    \u001b[0m | \u001b[0m0.807    \u001b[0m |\n",
            "| \u001b[0m454      \u001b[0m | \u001b[0m1.78     \u001b[0m | \u001b[0m0.8984   \u001b[0m | \u001b[0m1.877    \u001b[0m | \u001b[0m0.4372   \u001b[0m | \u001b[0m46.84    \u001b[0m | \u001b[0m59.07    \u001b[0m | \u001b[0m64.75    \u001b[0m | \u001b[0m0.638    \u001b[0m | \u001b[0m8.643    \u001b[0m | \u001b[0m0.8654   \u001b[0m |\n",
            "| \u001b[0m455      \u001b[0m | \u001b[0m1.749    \u001b[0m | \u001b[0m0.779    \u001b[0m | \u001b[0m4.954    \u001b[0m | \u001b[0m0.1062   \u001b[0m | \u001b[0m8.099    \u001b[0m | \u001b[0m6.782    \u001b[0m | \u001b[0m94.2     \u001b[0m | \u001b[0m2.257    \u001b[0m | \u001b[0m5.504    \u001b[0m | \u001b[0m0.6514   \u001b[0m |\n",
            "| \u001b[0m456      \u001b[0m | \u001b[0m1.808    \u001b[0m | \u001b[0m0.6218   \u001b[0m | \u001b[0m5.087    \u001b[0m | \u001b[0m0.7862   \u001b[0m | \u001b[0m9.022    \u001b[0m | \u001b[0m6.661    \u001b[0m | \u001b[0m95.69    \u001b[0m | \u001b[0m1.247    \u001b[0m | \u001b[0m2.311    \u001b[0m | \u001b[0m0.6864   \u001b[0m |\n",
            "| \u001b[0m457      \u001b[0m | \u001b[0m1.777    \u001b[0m | \u001b[0m0.7833   \u001b[0m | \u001b[0m3.532    \u001b[0m | \u001b[0m0.2443   \u001b[0m | \u001b[0m37.59    \u001b[0m | \u001b[0m3.748    \u001b[0m | \u001b[0m35.71    \u001b[0m | \u001b[0m5.056    \u001b[0m | \u001b[0m6.029    \u001b[0m | \u001b[0m0.6616   \u001b[0m |\n",
            "| \u001b[0m458      \u001b[0m | \u001b[0m1.78     \u001b[0m | \u001b[0m0.7398   \u001b[0m | \u001b[0m2.642    \u001b[0m | \u001b[0m0.8724   \u001b[0m | \u001b[0m15.16    \u001b[0m | \u001b[0m28.05    \u001b[0m | \u001b[0m31.72    \u001b[0m | \u001b[0m6.234    \u001b[0m | \u001b[0m6.363    \u001b[0m | \u001b[0m0.8463   \u001b[0m |\n",
            "| \u001b[0m459      \u001b[0m | \u001b[0m1.78     \u001b[0m | \u001b[0m0.8258   \u001b[0m | \u001b[0m5.482    \u001b[0m | \u001b[0m0.3017   \u001b[0m | \u001b[0m48.02    \u001b[0m | \u001b[0m59.71    \u001b[0m | \u001b[0m83.21    \u001b[0m | \u001b[0m2.669    \u001b[0m | \u001b[0m6.649    \u001b[0m | \u001b[0m0.9213   \u001b[0m |\n",
            "| \u001b[0m460      \u001b[0m | \u001b[0m1.753    \u001b[0m | \u001b[0m0.6071   \u001b[0m | \u001b[0m0.1942   \u001b[0m | \u001b[0m0.3831   \u001b[0m | \u001b[0m47.26    \u001b[0m | \u001b[0m5.777    \u001b[0m | \u001b[0m71.57    \u001b[0m | \u001b[0m1.775    \u001b[0m | \u001b[0m1.811    \u001b[0m | \u001b[0m0.6867   \u001b[0m |\n",
            "| \u001b[0m461      \u001b[0m | \u001b[0m1.78     \u001b[0m | \u001b[0m0.7747   \u001b[0m | \u001b[0m9.704    \u001b[0m | \u001b[0m0.8501   \u001b[0m | \u001b[0m22.31    \u001b[0m | \u001b[0m1.881    \u001b[0m | \u001b[0m63.48    \u001b[0m | \u001b[0m6.467    \u001b[0m | \u001b[0m0.3444   \u001b[0m | \u001b[0m0.7036   \u001b[0m |\n",
            "| \u001b[0m462      \u001b[0m | \u001b[0m1.797    \u001b[0m | \u001b[0m0.9117   \u001b[0m | \u001b[0m5.388    \u001b[0m | \u001b[0m0.6005   \u001b[0m | \u001b[0m2.805    \u001b[0m | \u001b[0m5.669    \u001b[0m | \u001b[0m39.93    \u001b[0m | \u001b[0m0.9799   \u001b[0m | \u001b[0m6.927    \u001b[0m | \u001b[0m0.8953   \u001b[0m |\n",
            "| \u001b[0m463      \u001b[0m | \u001b[0m1.78     \u001b[0m | \u001b[0m0.7529   \u001b[0m | \u001b[0m1.557    \u001b[0m | \u001b[0m0.616    \u001b[0m | \u001b[0m35.29    \u001b[0m | \u001b[0m53.84    \u001b[0m | \u001b[0m39.68    \u001b[0m | \u001b[0m4.487    \u001b[0m | \u001b[0m9.523    \u001b[0m | \u001b[0m0.6314   \u001b[0m |\n",
            "| \u001b[0m464      \u001b[0m | \u001b[0m1.78     \u001b[0m | \u001b[0m0.6728   \u001b[0m | \u001b[0m0.8461   \u001b[0m | \u001b[0m0.343    \u001b[0m | \u001b[0m36.5     \u001b[0m | \u001b[0m63.29    \u001b[0m | \u001b[0m70.23    \u001b[0m | \u001b[0m9.807    \u001b[0m | \u001b[0m9.555    \u001b[0m | \u001b[0m0.8688   \u001b[0m |\n",
            "| \u001b[0m465      \u001b[0m | \u001b[0m1.78     \u001b[0m | \u001b[0m0.9671   \u001b[0m | \u001b[0m1.457    \u001b[0m | \u001b[0m0.8267   \u001b[0m | \u001b[0m31.83    \u001b[0m | \u001b[0m19.15    \u001b[0m | \u001b[0m95.4     \u001b[0m | \u001b[0m6.939    \u001b[0m | \u001b[0m4.429    \u001b[0m | \u001b[0m0.9096   \u001b[0m |\n",
            "| \u001b[0m466      \u001b[0m | \u001b[0m1.78     \u001b[0m | \u001b[0m0.7742   \u001b[0m | \u001b[0m5.217    \u001b[0m | \u001b[0m0.2635   \u001b[0m | \u001b[0m7.387    \u001b[0m | \u001b[0m45.98    \u001b[0m | \u001b[0m57.81    \u001b[0m | \u001b[0m7.876    \u001b[0m | \u001b[0m5.253    \u001b[0m | \u001b[0m0.5594   \u001b[0m |\n",
            "| \u001b[0m467      \u001b[0m | \u001b[0m1.78     \u001b[0m | \u001b[0m0.8604   \u001b[0m | \u001b[0m7.336    \u001b[0m | \u001b[0m0.1195   \u001b[0m | \u001b[0m42.99    \u001b[0m | \u001b[0m41.06    \u001b[0m | \u001b[0m86.08    \u001b[0m | \u001b[0m2.408    \u001b[0m | \u001b[0m7.477    \u001b[0m | \u001b[0m0.8943   \u001b[0m |\n",
            "| \u001b[0m468      \u001b[0m | \u001b[0m1.787    \u001b[0m | \u001b[0m0.6766   \u001b[0m | \u001b[0m5.566    \u001b[0m | \u001b[0m0.6903   \u001b[0m | \u001b[0m36.54    \u001b[0m | \u001b[0m9.013    \u001b[0m | \u001b[0m32.57    \u001b[0m | \u001b[0m0.08316  \u001b[0m | \u001b[0m2.809    \u001b[0m | \u001b[0m0.8303   \u001b[0m |\n",
            "| \u001b[0m469      \u001b[0m | \u001b[0m1.78     \u001b[0m | \u001b[0m0.9382   \u001b[0m | \u001b[0m6.265    \u001b[0m | \u001b[0m0.283    \u001b[0m | \u001b[0m49.31    \u001b[0m | \u001b[0m49.25    \u001b[0m | \u001b[0m69.84    \u001b[0m | \u001b[0m3.848    \u001b[0m | \u001b[0m5.337    \u001b[0m | \u001b[0m0.5047   \u001b[0m |\n",
            "| \u001b[0m470      \u001b[0m | \u001b[0m1.753    \u001b[0m | \u001b[0m0.5856   \u001b[0m | \u001b[0m4.804    \u001b[0m | \u001b[0m0.1683   \u001b[0m | \u001b[0m8.218    \u001b[0m | \u001b[0m6.729    \u001b[0m | \u001b[0m96.32    \u001b[0m | \u001b[0m1.7      \u001b[0m | \u001b[0m3.16     \u001b[0m | \u001b[0m0.6926   \u001b[0m |\n",
            "| \u001b[0m471      \u001b[0m | \u001b[0m1.78     \u001b[0m | \u001b[0m0.9348   \u001b[0m | \u001b[0m9.291    \u001b[0m | \u001b[0m0.8082   \u001b[0m | \u001b[0m23.11    \u001b[0m | \u001b[0m66.5     \u001b[0m | \u001b[0m69.04    \u001b[0m | \u001b[0m8.431    \u001b[0m | \u001b[0m8.823    \u001b[0m | \u001b[0m0.9318   \u001b[0m |\n",
            "| \u001b[0m472      \u001b[0m | \u001b[0m1.765    \u001b[0m | \u001b[0m0.6945   \u001b[0m | \u001b[0m7.307    \u001b[0m | \u001b[0m0.7665   \u001b[0m | \u001b[0m44.24    \u001b[0m | \u001b[0m0.7827   \u001b[0m | \u001b[0m55.2     \u001b[0m | \u001b[0m2.077    \u001b[0m | \u001b[0m5.092    \u001b[0m | \u001b[0m0.5335   \u001b[0m |\n",
            "| \u001b[0m473      \u001b[0m | \u001b[0m1.78     \u001b[0m | \u001b[0m0.6255   \u001b[0m | \u001b[0m2.345    \u001b[0m | \u001b[0m0.9654   \u001b[0m | \u001b[0m24.99    \u001b[0m | \u001b[0m23.28    \u001b[0m | \u001b[0m50.87    \u001b[0m | \u001b[0m7.64     \u001b[0m | \u001b[0m2.143    \u001b[0m | \u001b[0m0.5368   \u001b[0m |\n",
            "| \u001b[0m474      \u001b[0m | \u001b[0m1.78     \u001b[0m | \u001b[0m0.6429   \u001b[0m | \u001b[0m2.124    \u001b[0m | \u001b[0m0.2598   \u001b[0m | \u001b[0m46.54    \u001b[0m | \u001b[0m99.26    \u001b[0m | \u001b[0m32.89    \u001b[0m | \u001b[0m2.136    \u001b[0m | \u001b[0m1.507    \u001b[0m | \u001b[0m0.623    \u001b[0m |\n",
            "| \u001b[0m475      \u001b[0m | \u001b[0m1.78     \u001b[0m | \u001b[0m0.5166   \u001b[0m | \u001b[0m4.51     \u001b[0m | \u001b[0m0.8771   \u001b[0m | \u001b[0m40.77    \u001b[0m | \u001b[0m8.277    \u001b[0m | \u001b[0m19.02    \u001b[0m | \u001b[0m5.609    \u001b[0m | \u001b[0m2.151    \u001b[0m | \u001b[0m0.9702   \u001b[0m |\n",
            "| \u001b[0m476      \u001b[0m | \u001b[0m1.78     \u001b[0m | \u001b[0m0.8553   \u001b[0m | \u001b[0m5.364    \u001b[0m | \u001b[0m0.2377   \u001b[0m | \u001b[0m43.63    \u001b[0m | \u001b[0m64.5     \u001b[0m | \u001b[0m76.63    \u001b[0m | \u001b[0m9.88     \u001b[0m | \u001b[0m5.887    \u001b[0m | \u001b[0m0.9472   \u001b[0m |\n",
            "| \u001b[0m477      \u001b[0m | \u001b[0m1.78     \u001b[0m | \u001b[0m0.8519   \u001b[0m | \u001b[0m2.553    \u001b[0m | \u001b[0m0.9025   \u001b[0m | \u001b[0m26.11    \u001b[0m | \u001b[0m81.35    \u001b[0m | \u001b[0m91.07    \u001b[0m | \u001b[0m1.131    \u001b[0m | \u001b[0m4.18     \u001b[0m | \u001b[0m0.9959   \u001b[0m |\n",
            "| \u001b[0m478      \u001b[0m | \u001b[0m1.791    \u001b[0m | \u001b[0m0.7908   \u001b[0m | \u001b[0m7.661    \u001b[0m | \u001b[0m0.9633   \u001b[0m | \u001b[0m14.36    \u001b[0m | \u001b[0m5.23     \u001b[0m | \u001b[0m60.9     \u001b[0m | \u001b[0m1.974    \u001b[0m | \u001b[0m9.062    \u001b[0m | \u001b[0m0.9573   \u001b[0m |\n",
            "| \u001b[0m479      \u001b[0m | \u001b[0m1.78     \u001b[0m | \u001b[0m0.7236   \u001b[0m | \u001b[0m7.906    \u001b[0m | \u001b[0m0.3569   \u001b[0m | \u001b[0m47.07    \u001b[0m | \u001b[0m26.82    \u001b[0m | \u001b[0m47.74    \u001b[0m | \u001b[0m0.3743   \u001b[0m | \u001b[0m0.115    \u001b[0m | \u001b[0m0.6165   \u001b[0m |\n",
            "| \u001b[0m480      \u001b[0m | \u001b[0m1.78     \u001b[0m | \u001b[0m0.9575   \u001b[0m | \u001b[0m1.193    \u001b[0m | \u001b[0m0.6528   \u001b[0m | \u001b[0m20.88    \u001b[0m | \u001b[0m60.23    \u001b[0m | \u001b[0m68.04    \u001b[0m | \u001b[0m3.567    \u001b[0m | \u001b[0m8.35     \u001b[0m | \u001b[0m0.8636   \u001b[0m |\n",
            "| \u001b[0m481      \u001b[0m | \u001b[0m1.78     \u001b[0m | \u001b[0m0.6452   \u001b[0m | \u001b[0m4.233    \u001b[0m | \u001b[0m0.1825   \u001b[0m | \u001b[0m32.06    \u001b[0m | \u001b[0m95.89    \u001b[0m | \u001b[0m86.16    \u001b[0m | \u001b[0m5.491    \u001b[0m | \u001b[0m7.494    \u001b[0m | \u001b[0m0.6604   \u001b[0m |\n",
            "| \u001b[0m482      \u001b[0m | \u001b[0m1.78     \u001b[0m | \u001b[0m0.9241   \u001b[0m | \u001b[0m6.393    \u001b[0m | \u001b[0m0.9477   \u001b[0m | \u001b[0m32.47    \u001b[0m | \u001b[0m80.17    \u001b[0m | \u001b[0m53.09    \u001b[0m | \u001b[0m7.331    \u001b[0m | \u001b[0m5.519    \u001b[0m | \u001b[0m0.7624   \u001b[0m |\n",
            "| \u001b[0m483      \u001b[0m | \u001b[0m1.78     \u001b[0m | \u001b[0m0.6761   \u001b[0m | \u001b[0m1.475    \u001b[0m | \u001b[0m0.04316  \u001b[0m | \u001b[0m9.575    \u001b[0m | \u001b[0m25.2     \u001b[0m | \u001b[0m29.82    \u001b[0m | \u001b[0m1.45     \u001b[0m | \u001b[0m0.6091   \u001b[0m | \u001b[0m0.5638   \u001b[0m |\n",
            "| \u001b[0m484      \u001b[0m | \u001b[0m1.78     \u001b[0m | \u001b[0m0.5066   \u001b[0m | \u001b[0m5.65     \u001b[0m | \u001b[0m0.156    \u001b[0m | \u001b[0m12.48    \u001b[0m | \u001b[0m64.76    \u001b[0m | \u001b[0m93.04    \u001b[0m | \u001b[0m2.618    \u001b[0m | \u001b[0m2.431    \u001b[0m | \u001b[0m0.6914   \u001b[0m |\n",
            "| \u001b[0m485      \u001b[0m | \u001b[0m1.78     \u001b[0m | \u001b[0m0.9482   \u001b[0m | \u001b[0m8.872    \u001b[0m | \u001b[0m0.5986   \u001b[0m | \u001b[0m11.95    \u001b[0m | \u001b[0m18.19    \u001b[0m | \u001b[0m80.52    \u001b[0m | \u001b[0m8.231    \u001b[0m | \u001b[0m4.917    \u001b[0m | \u001b[0m0.634    \u001b[0m |\n",
            "| \u001b[0m486      \u001b[0m | \u001b[0m1.78     \u001b[0m | \u001b[0m0.7823   \u001b[0m | \u001b[0m3.499    \u001b[0m | \u001b[0m0.2562   \u001b[0m | \u001b[0m8.468    \u001b[0m | \u001b[0m30.32    \u001b[0m | \u001b[0m27.74    \u001b[0m | \u001b[0m3.603    \u001b[0m | \u001b[0m7.754    \u001b[0m | \u001b[0m0.5152   \u001b[0m |\n",
            "| \u001b[0m487      \u001b[0m | \u001b[0m1.78     \u001b[0m | \u001b[0m0.8322   \u001b[0m | \u001b[0m3.903    \u001b[0m | \u001b[0m0.7683   \u001b[0m | \u001b[0m23.78    \u001b[0m | \u001b[0m87.81    \u001b[0m | \u001b[0m82.95    \u001b[0m | \u001b[0m8.387    \u001b[0m | \u001b[0m1.765    \u001b[0m | \u001b[0m0.6575   \u001b[0m |\n",
            "| \u001b[0m488      \u001b[0m | \u001b[0m1.78     \u001b[0m | \u001b[0m0.7042   \u001b[0m | \u001b[0m6.313    \u001b[0m | \u001b[0m0.9453   \u001b[0m | \u001b[0m9.31     \u001b[0m | \u001b[0m95.98    \u001b[0m | \u001b[0m60.81    \u001b[0m | \u001b[0m3.31     \u001b[0m | \u001b[0m5.728    \u001b[0m | \u001b[0m0.7343   \u001b[0m |\n",
            "| \u001b[0m489      \u001b[0m | \u001b[0m1.78     \u001b[0m | \u001b[0m0.8476   \u001b[0m | \u001b[0m3.618    \u001b[0m | \u001b[0m0.1942   \u001b[0m | \u001b[0m10.4     \u001b[0m | \u001b[0m83.26    \u001b[0m | \u001b[0m72.83    \u001b[0m | \u001b[0m7.333    \u001b[0m | \u001b[0m9.943    \u001b[0m | \u001b[0m0.8405   \u001b[0m |\n",
            "| \u001b[0m490      \u001b[0m | \u001b[0m1.78     \u001b[0m | \u001b[0m0.9159   \u001b[0m | \u001b[0m6.743    \u001b[0m | \u001b[0m0.6778   \u001b[0m | \u001b[0m1.507    \u001b[0m | \u001b[0m43.48    \u001b[0m | \u001b[0m83.34    \u001b[0m | \u001b[0m9.94     \u001b[0m | \u001b[0m8.175    \u001b[0m | \u001b[0m0.8937   \u001b[0m |\n",
            "| \u001b[0m491      \u001b[0m | \u001b[0m1.78     \u001b[0m | \u001b[0m0.5939   \u001b[0m | \u001b[0m6.605    \u001b[0m | \u001b[0m0.7102   \u001b[0m | \u001b[0m39.96    \u001b[0m | \u001b[0m11.34    \u001b[0m | \u001b[0m40.48    \u001b[0m | \u001b[0m6.305    \u001b[0m | \u001b[0m0.8525   \u001b[0m | \u001b[0m0.6929   \u001b[0m |\n",
            "| \u001b[0m492      \u001b[0m | \u001b[0m1.78     \u001b[0m | \u001b[0m0.7878   \u001b[0m | \u001b[0m4.467    \u001b[0m | \u001b[0m0.8915   \u001b[0m | \u001b[0m12.39    \u001b[0m | \u001b[0m99.0     \u001b[0m | \u001b[0m56.62    \u001b[0m | \u001b[0m0.2213   \u001b[0m | \u001b[0m4.093    \u001b[0m | \u001b[0m0.9878   \u001b[0m |\n",
            "| \u001b[0m493      \u001b[0m | \u001b[0m1.78     \u001b[0m | \u001b[0m0.6687   \u001b[0m | \u001b[0m5.823    \u001b[0m | \u001b[0m0.7316   \u001b[0m | \u001b[0m10.19    \u001b[0m | \u001b[0m79.1     \u001b[0m | \u001b[0m54.31    \u001b[0m | \u001b[0m7.822    \u001b[0m | \u001b[0m9.3      \u001b[0m | \u001b[0m0.6899   \u001b[0m |\n",
            "| \u001b[0m494      \u001b[0m | \u001b[0m1.757    \u001b[0m | \u001b[0m0.7638   \u001b[0m | \u001b[0m5.463    \u001b[0m | \u001b[0m0.5324   \u001b[0m | \u001b[0m36.37    \u001b[0m | \u001b[0m3.804    \u001b[0m | \u001b[0m81.53    \u001b[0m | \u001b[0m3.181    \u001b[0m | \u001b[0m2.581    \u001b[0m | \u001b[0m0.6471   \u001b[0m |\n",
            "| \u001b[0m495      \u001b[0m | \u001b[0m1.693    \u001b[0m | \u001b[0m0.9734   \u001b[0m | \u001b[0m1.996    \u001b[0m | \u001b[0m0.5234   \u001b[0m | \u001b[0m48.39    \u001b[0m | \u001b[0m1.768    \u001b[0m | \u001b[0m67.56    \u001b[0m | \u001b[0m0.3014   \u001b[0m | \u001b[0m8.549    \u001b[0m | \u001b[0m0.5875   \u001b[0m |\n",
            "| \u001b[0m496      \u001b[0m | \u001b[0m1.801    \u001b[0m | \u001b[0m0.9127   \u001b[0m | \u001b[0m4.56     \u001b[0m | \u001b[0m0.5055   \u001b[0m | \u001b[0m7.883    \u001b[0m | \u001b[0m6.698    \u001b[0m | \u001b[0m93.89    \u001b[0m | \u001b[0m0.8045   \u001b[0m | \u001b[0m4.271    \u001b[0m | \u001b[0m0.7177   \u001b[0m |\n",
            "| \u001b[0m497      \u001b[0m | \u001b[0m1.78     \u001b[0m | \u001b[0m0.9899   \u001b[0m | \u001b[0m9.967    \u001b[0m | \u001b[0m0.7918   \u001b[0m | \u001b[0m33.37    \u001b[0m | \u001b[0m85.32    \u001b[0m | \u001b[0m27.09    \u001b[0m | \u001b[0m0.713    \u001b[0m | \u001b[0m3.811    \u001b[0m | \u001b[0m0.5773   \u001b[0m |\n",
            "| \u001b[0m498      \u001b[0m | \u001b[0m1.78     \u001b[0m | \u001b[0m0.5706   \u001b[0m | \u001b[0m4.415    \u001b[0m | \u001b[0m0.2974   \u001b[0m | \u001b[0m20.56    \u001b[0m | \u001b[0m77.61    \u001b[0m | \u001b[0m27.19    \u001b[0m | \u001b[0m3.559    \u001b[0m | \u001b[0m6.866    \u001b[0m | \u001b[0m0.6724   \u001b[0m |\n",
            "| \u001b[0m499      \u001b[0m | \u001b[0m1.78     \u001b[0m | \u001b[0m0.9238   \u001b[0m | \u001b[0m5.141    \u001b[0m | \u001b[0m0.9879   \u001b[0m | \u001b[0m13.25    \u001b[0m | \u001b[0m28.47    \u001b[0m | \u001b[0m40.47    \u001b[0m | \u001b[0m0.435    \u001b[0m | \u001b[0m3.243    \u001b[0m | \u001b[0m0.7317   \u001b[0m |\n",
            "| \u001b[0m500      \u001b[0m | \u001b[0m1.78     \u001b[0m | \u001b[0m0.6701   \u001b[0m | \u001b[0m3.492    \u001b[0m | \u001b[0m0.138    \u001b[0m | \u001b[0m1.368    \u001b[0m | \u001b[0m14.77    \u001b[0m | \u001b[0m42.21    \u001b[0m | \u001b[0m4.084    \u001b[0m | \u001b[0m8.384    \u001b[0m | \u001b[0m0.8286   \u001b[0m |\n",
            "| \u001b[0m501      \u001b[0m | \u001b[0m1.78     \u001b[0m | \u001b[0m0.7636   \u001b[0m | \u001b[0m8.324    \u001b[0m | \u001b[0m0.09779  \u001b[0m | \u001b[0m21.31    \u001b[0m | \u001b[0m84.24    \u001b[0m | \u001b[0m19.3     \u001b[0m | \u001b[0m7.838    \u001b[0m | \u001b[0m6.052    \u001b[0m | \u001b[0m0.9776   \u001b[0m |\n",
            "| \u001b[0m502      \u001b[0m | \u001b[0m1.78     \u001b[0m | \u001b[0m0.8896   \u001b[0m | \u001b[0m6.937    \u001b[0m | \u001b[0m0.2188   \u001b[0m | \u001b[0m1.047    \u001b[0m | \u001b[0m99.35    \u001b[0m | \u001b[0m59.91    \u001b[0m | \u001b[0m9.052    \u001b[0m | \u001b[0m6.628    \u001b[0m | \u001b[0m0.5581   \u001b[0m |\n",
            "| \u001b[0m503      \u001b[0m | \u001b[0m1.777    \u001b[0m | \u001b[0m0.709    \u001b[0m | \u001b[0m6.791    \u001b[0m | \u001b[0m0.539    \u001b[0m | \u001b[0m5.447    \u001b[0m | \u001b[0m5.952    \u001b[0m | \u001b[0m96.85    \u001b[0m | \u001b[0m2.982    \u001b[0m | \u001b[0m5.695    \u001b[0m | \u001b[0m0.9857   \u001b[0m |\n",
            "| \u001b[0m504      \u001b[0m | \u001b[0m1.78     \u001b[0m | \u001b[0m0.8263   \u001b[0m | \u001b[0m8.829    \u001b[0m | \u001b[0m0.6795   \u001b[0m | \u001b[0m16.79    \u001b[0m | \u001b[0m31.33    \u001b[0m | \u001b[0m43.94    \u001b[0m | \u001b[0m9.947    \u001b[0m | \u001b[0m0.8372   \u001b[0m | \u001b[0m0.6298   \u001b[0m |\n",
            "| \u001b[0m505      \u001b[0m | \u001b[0m1.78     \u001b[0m | \u001b[0m0.5425   \u001b[0m | \u001b[0m6.077    \u001b[0m | \u001b[0m0.1559   \u001b[0m | \u001b[0m25.13    \u001b[0m | \u001b[0m73.1     \u001b[0m | \u001b[0m8.678    \u001b[0m | \u001b[0m3.134    \u001b[0m | \u001b[0m3.614    \u001b[0m | \u001b[0m0.9461   \u001b[0m |\n",
            "| \u001b[0m506      \u001b[0m | \u001b[0m1.728    \u001b[0m | \u001b[0m0.5096   \u001b[0m | \u001b[0m5.318    \u001b[0m | \u001b[0m0.4      \u001b[0m | \u001b[0m2.599    \u001b[0m | \u001b[0m3.384    \u001b[0m | \u001b[0m41.55    \u001b[0m | \u001b[0m0.7995   \u001b[0m | \u001b[0m8.879    \u001b[0m | \u001b[0m0.7895   \u001b[0m |\n",
            "| \u001b[0m507      \u001b[0m | \u001b[0m1.78     \u001b[0m | \u001b[0m0.5382   \u001b[0m | \u001b[0m2.483    \u001b[0m | \u001b[0m0.8837   \u001b[0m | \u001b[0m3.632    \u001b[0m | \u001b[0m97.78    \u001b[0m | \u001b[0m55.38    \u001b[0m | \u001b[0m5.323    \u001b[0m | \u001b[0m4.459    \u001b[0m | \u001b[0m0.8532   \u001b[0m |\n",
            "| \u001b[0m508      \u001b[0m | \u001b[0m1.78     \u001b[0m | \u001b[0m0.67     \u001b[0m | \u001b[0m5.11     \u001b[0m | \u001b[0m0.1296   \u001b[0m | \u001b[0m37.08    \u001b[0m | \u001b[0m52.81    \u001b[0m | \u001b[0m57.91    \u001b[0m | \u001b[0m0.4958   \u001b[0m | \u001b[0m5.921    \u001b[0m | \u001b[0m0.7798   \u001b[0m |\n",
            "| \u001b[0m509      \u001b[0m | \u001b[0m1.733    \u001b[0m | \u001b[0m0.5103   \u001b[0m | \u001b[0m5.114    \u001b[0m | \u001b[0m0.2442   \u001b[0m | \u001b[0m44.79    \u001b[0m | \u001b[0m1.718    \u001b[0m | \u001b[0m55.93    \u001b[0m | \u001b[0m2.128    \u001b[0m | \u001b[0m4.824    \u001b[0m | \u001b[0m0.6019   \u001b[0m |\n",
            "| \u001b[0m510      \u001b[0m | \u001b[0m1.78     \u001b[0m | \u001b[0m0.9043   \u001b[0m | \u001b[0m7.258    \u001b[0m | \u001b[0m0.07084  \u001b[0m | \u001b[0m29.11    \u001b[0m | \u001b[0m3.776    \u001b[0m | \u001b[0m34.39    \u001b[0m | \u001b[0m9.93     \u001b[0m | \u001b[0m8.509    \u001b[0m | \u001b[0m0.7556   \u001b[0m |\n",
            "| \u001b[0m511      \u001b[0m | \u001b[0m1.78     \u001b[0m | \u001b[0m0.5291   \u001b[0m | \u001b[0m9.941    \u001b[0m | \u001b[0m0.5919   \u001b[0m | \u001b[0m32.23    \u001b[0m | \u001b[0m37.56    \u001b[0m | \u001b[0m31.3     \u001b[0m | \u001b[0m5.074    \u001b[0m | \u001b[0m3.64     \u001b[0m | \u001b[0m0.6437   \u001b[0m |\n",
            "| \u001b[0m512      \u001b[0m | \u001b[0m1.83     \u001b[0m | \u001b[0m0.568    \u001b[0m | \u001b[0m4.914    \u001b[0m | \u001b[0m0.6576   \u001b[0m | \u001b[0m34.94    \u001b[0m | \u001b[0m6.483    \u001b[0m | \u001b[0m29.06    \u001b[0m | \u001b[0m1.313    \u001b[0m | \u001b[0m2.111    \u001b[0m | \u001b[0m0.8621   \u001b[0m |\n",
            "| \u001b[0m513      \u001b[0m | \u001b[0m1.75     \u001b[0m | \u001b[0m0.8878   \u001b[0m | \u001b[0m3.77     \u001b[0m | \u001b[0m0.7513   \u001b[0m | \u001b[0m45.1     \u001b[0m | \u001b[0m0.2464   \u001b[0m | \u001b[0m56.71    \u001b[0m | \u001b[0m3.224    \u001b[0m | \u001b[0m2.618    \u001b[0m | \u001b[0m0.9035   \u001b[0m |\n",
            "| \u001b[0m514      \u001b[0m | \u001b[0m1.786    \u001b[0m | \u001b[0m0.5594   \u001b[0m | \u001b[0m3.947    \u001b[0m | \u001b[0m0.2507   \u001b[0m | \u001b[0m41.96    \u001b[0m | \u001b[0m9.282    \u001b[0m | \u001b[0m55.77    \u001b[0m | \u001b[0m1.274    \u001b[0m | \u001b[0m2.541    \u001b[0m | \u001b[0m0.9759   \u001b[0m |\n",
            "| \u001b[0m515      \u001b[0m | \u001b[0m1.762    \u001b[0m | \u001b[0m0.7545   \u001b[0m | \u001b[0m6.285    \u001b[0m | \u001b[0m0.5296   \u001b[0m | \u001b[0m45.06    \u001b[0m | \u001b[0m2.534    \u001b[0m | \u001b[0m53.76    \u001b[0m | \u001b[0m0.2716   \u001b[0m | \u001b[0m7.115    \u001b[0m | \u001b[0m0.9841   \u001b[0m |\n",
            "| \u001b[0m516      \u001b[0m | \u001b[0m1.78     \u001b[0m | \u001b[0m0.8343   \u001b[0m | \u001b[0m5.697    \u001b[0m | \u001b[0m0.03609  \u001b[0m | \u001b[0m22.6     \u001b[0m | \u001b[0m69.19    \u001b[0m | \u001b[0m68.4     \u001b[0m | \u001b[0m9.736    \u001b[0m | \u001b[0m3.0      \u001b[0m | \u001b[0m0.9898   \u001b[0m |\n",
            "| \u001b[0m517      \u001b[0m | \u001b[0m1.766    \u001b[0m | \u001b[0m0.8566   \u001b[0m | \u001b[0m5.946    \u001b[0m | \u001b[0m0.3006   \u001b[0m | \u001b[0m28.06    \u001b[0m | \u001b[0m5.414    \u001b[0m | \u001b[0m79.25    \u001b[0m | \u001b[0m0.4178   \u001b[0m | \u001b[0m9.573    \u001b[0m | \u001b[0m0.7356   \u001b[0m |\n",
            "| \u001b[0m518      \u001b[0m | \u001b[0m1.78     \u001b[0m | \u001b[0m0.8438   \u001b[0m | \u001b[0m5.672    \u001b[0m | \u001b[0m0.0652   \u001b[0m | \u001b[0m46.84    \u001b[0m | \u001b[0m44.13    \u001b[0m | \u001b[0m12.45    \u001b[0m | \u001b[0m9.996    \u001b[0m | \u001b[0m9.118    \u001b[0m | \u001b[0m0.8869   \u001b[0m |\n",
            "| \u001b[0m519      \u001b[0m | \u001b[0m1.779    \u001b[0m | \u001b[0m0.905    \u001b[0m | \u001b[0m4.832    \u001b[0m | \u001b[0m0.06496  \u001b[0m | \u001b[0m19.23    \u001b[0m | \u001b[0m8.074    \u001b[0m | \u001b[0m65.14    \u001b[0m | \u001b[0m2.145    \u001b[0m | \u001b[0m8.877    \u001b[0m | \u001b[0m0.6872   \u001b[0m |\n",
            "| \u001b[0m520      \u001b[0m | \u001b[0m1.78     \u001b[0m | \u001b[0m0.5659   \u001b[0m | \u001b[0m7.839    \u001b[0m | \u001b[0m0.6697   \u001b[0m | \u001b[0m1.717    \u001b[0m | \u001b[0m25.93    \u001b[0m | \u001b[0m24.1     \u001b[0m | \u001b[0m7.654    \u001b[0m | \u001b[0m8.551    \u001b[0m | \u001b[0m0.5696   \u001b[0m |\n",
            "| \u001b[0m521      \u001b[0m | \u001b[0m1.741    \u001b[0m | \u001b[0m0.9086   \u001b[0m | \u001b[0m7.815    \u001b[0m | \u001b[0m0.3082   \u001b[0m | \u001b[0m14.91    \u001b[0m | \u001b[0m4.995    \u001b[0m | \u001b[0m62.46    \u001b[0m | \u001b[0m0.2543   \u001b[0m | \u001b[0m8.934    \u001b[0m | \u001b[0m0.7556   \u001b[0m |\n",
            "| \u001b[0m522      \u001b[0m | \u001b[0m1.696    \u001b[0m | \u001b[0m0.8169   \u001b[0m | \u001b[0m6.743    \u001b[0m | \u001b[0m0.07323  \u001b[0m | \u001b[0m34.62    \u001b[0m | \u001b[0m5.464    \u001b[0m | \u001b[0m29.03    \u001b[0m | \u001b[0m1.255    \u001b[0m | \u001b[0m1.571    \u001b[0m | \u001b[0m0.5901   \u001b[0m |\n",
            "| \u001b[0m523      \u001b[0m | \u001b[0m1.78     \u001b[0m | \u001b[0m0.9113   \u001b[0m | \u001b[0m0.6154   \u001b[0m | \u001b[0m0.391    \u001b[0m | \u001b[0m22.86    \u001b[0m | \u001b[0m19.08    \u001b[0m | \u001b[0m87.41    \u001b[0m | \u001b[0m4.789    \u001b[0m | \u001b[0m2.15     \u001b[0m | \u001b[0m0.7654   \u001b[0m |\n",
            "| \u001b[0m524      \u001b[0m | \u001b[0m1.824    \u001b[0m | \u001b[0m0.8846   \u001b[0m | \u001b[0m8.877    \u001b[0m | \u001b[0m0.5511   \u001b[0m | \u001b[0m18.29    \u001b[0m | \u001b[0m6.496    \u001b[0m | \u001b[0m60.91    \u001b[0m | \u001b[0m0.2287   \u001b[0m | \u001b[0m6.837    \u001b[0m | \u001b[0m0.877    \u001b[0m |\n",
            "| \u001b[0m525      \u001b[0m | \u001b[0m1.78     \u001b[0m | \u001b[0m0.6545   \u001b[0m | \u001b[0m7.121    \u001b[0m | \u001b[0m0.02984  \u001b[0m | \u001b[0m21.4     \u001b[0m | \u001b[0m21.61    \u001b[0m | \u001b[0m64.64    \u001b[0m | \u001b[0m7.336    \u001b[0m | \u001b[0m8.662    \u001b[0m | \u001b[0m0.5635   \u001b[0m |\n",
            "| \u001b[0m526      \u001b[0m | \u001b[0m1.78     \u001b[0m | \u001b[0m0.6858   \u001b[0m | \u001b[0m7.901    \u001b[0m | \u001b[0m0.05241  \u001b[0m | \u001b[0m48.87    \u001b[0m | \u001b[0m90.55    \u001b[0m | \u001b[0m86.79    \u001b[0m | \u001b[0m6.253    \u001b[0m | \u001b[0m0.8259   \u001b[0m | \u001b[0m0.8812   \u001b[0m |\n",
            "| \u001b[0m527      \u001b[0m | \u001b[0m1.78     \u001b[0m | \u001b[0m0.528    \u001b[0m | \u001b[0m0.7312   \u001b[0m | \u001b[0m0.9625   \u001b[0m | \u001b[0m9.49     \u001b[0m | \u001b[0m64.3     \u001b[0m | \u001b[0m14.75    \u001b[0m | \u001b[0m1.257    \u001b[0m | \u001b[0m1.649    \u001b[0m | \u001b[0m0.531    \u001b[0m |\n",
            "| \u001b[0m528      \u001b[0m | \u001b[0m1.769    \u001b[0m | \u001b[0m0.5334   \u001b[0m | \u001b[0m1.074    \u001b[0m | \u001b[0m0.2692   \u001b[0m | \u001b[0m47.13    \u001b[0m | \u001b[0m3.918    \u001b[0m | \u001b[0m69.82    \u001b[0m | \u001b[0m1.025    \u001b[0m | \u001b[0m9.19     \u001b[0m | \u001b[0m0.6938   \u001b[0m |\n",
            "| \u001b[0m529      \u001b[0m | \u001b[0m1.769    \u001b[0m | \u001b[0m0.855    \u001b[0m | \u001b[0m6.279    \u001b[0m | \u001b[0m0.4178   \u001b[0m | \u001b[0m7.059    \u001b[0m | \u001b[0m4.631    \u001b[0m | \u001b[0m97.11    \u001b[0m | \u001b[0m0.08144  \u001b[0m | \u001b[0m6.7      \u001b[0m | \u001b[0m0.6534   \u001b[0m |\n",
            "| \u001b[0m530      \u001b[0m | \u001b[0m1.78     \u001b[0m | \u001b[0m0.6299   \u001b[0m | \u001b[0m9.629    \u001b[0m | \u001b[0m0.01572  \u001b[0m | \u001b[0m35.17    \u001b[0m | \u001b[0m37.03    \u001b[0m | \u001b[0m64.04    \u001b[0m | \u001b[0m1.896    \u001b[0m | \u001b[0m2.381    \u001b[0m | \u001b[0m0.6355   \u001b[0m |\n",
            "| \u001b[0m531      \u001b[0m | \u001b[0m1.776    \u001b[0m | \u001b[0m0.7506   \u001b[0m | \u001b[0m4.742    \u001b[0m | \u001b[0m0.07344  \u001b[0m | \u001b[0m18.83    \u001b[0m | \u001b[0m5.922    \u001b[0m | \u001b[0m64.25    \u001b[0m | \u001b[0m0.1917   \u001b[0m | \u001b[0m8.618    \u001b[0m | \u001b[0m0.9198   \u001b[0m |\n",
            "| \u001b[0m532      \u001b[0m | \u001b[0m1.78     \u001b[0m | \u001b[0m0.7993   \u001b[0m | \u001b[0m3.338    \u001b[0m | \u001b[0m0.2002   \u001b[0m | \u001b[0m4.662    \u001b[0m | \u001b[0m60.77    \u001b[0m | \u001b[0m11.94    \u001b[0m | \u001b[0m7.045    \u001b[0m | \u001b[0m8.943    \u001b[0m | \u001b[0m0.8929   \u001b[0m |\n",
            "| \u001b[0m533      \u001b[0m | \u001b[0m1.78     \u001b[0m | \u001b[0m0.7731   \u001b[0m | \u001b[0m9.074    \u001b[0m | \u001b[0m0.1328   \u001b[0m | \u001b[0m17.8     \u001b[0m | \u001b[0m43.13    \u001b[0m | \u001b[0m71.79    \u001b[0m | \u001b[0m1.418    \u001b[0m | \u001b[0m3.059    \u001b[0m | \u001b[0m0.8268   \u001b[0m |\n",
            "| \u001b[0m534      \u001b[0m | \u001b[0m1.746    \u001b[0m | \u001b[0m0.5404   \u001b[0m | \u001b[0m8.014    \u001b[0m | \u001b[0m0.9392   \u001b[0m | \u001b[0m3.147    \u001b[0m | \u001b[0m5.805    \u001b[0m | \u001b[0m96.29    \u001b[0m | \u001b[0m0.2016   \u001b[0m | \u001b[0m8.495    \u001b[0m | \u001b[0m0.6653   \u001b[0m |\n",
            "| \u001b[0m535      \u001b[0m | \u001b[0m1.789    \u001b[0m | \u001b[0m0.8791   \u001b[0m | \u001b[0m8.306    \u001b[0m | \u001b[0m0.1508   \u001b[0m | \u001b[0m24.09    \u001b[0m | \u001b[0m7.875    \u001b[0m | \u001b[0m61.8     \u001b[0m | \u001b[0m0.9269   \u001b[0m | \u001b[0m7.446    \u001b[0m | \u001b[0m0.7313   \u001b[0m |\n",
            "| \u001b[0m536      \u001b[0m | \u001b[0m1.78     \u001b[0m | \u001b[0m0.8325   \u001b[0m | \u001b[0m7.654    \u001b[0m | \u001b[0m0.1518   \u001b[0m | \u001b[0m31.81    \u001b[0m | \u001b[0m34.31    \u001b[0m | \u001b[0m54.83    \u001b[0m | \u001b[0m7.395    \u001b[0m | \u001b[0m4.036    \u001b[0m | \u001b[0m0.6513   \u001b[0m |\n",
            "| \u001b[0m537      \u001b[0m | \u001b[0m1.76     \u001b[0m | \u001b[0m0.7282   \u001b[0m | \u001b[0m5.377    \u001b[0m | \u001b[0m0.4148   \u001b[0m | \u001b[0m38.94    \u001b[0m | \u001b[0m4.412    \u001b[0m | \u001b[0m31.42    \u001b[0m | \u001b[0m1.966    \u001b[0m | \u001b[0m2.295    \u001b[0m | \u001b[0m0.9136   \u001b[0m |\n",
            "| \u001b[0m538      \u001b[0m | \u001b[0m1.78     \u001b[0m | \u001b[0m0.9187   \u001b[0m | \u001b[0m3.653    \u001b[0m | \u001b[0m0.4738   \u001b[0m | \u001b[0m19.02    \u001b[0m | \u001b[0m66.79    \u001b[0m | \u001b[0m13.41    \u001b[0m | \u001b[0m1.32     \u001b[0m | \u001b[0m3.216    \u001b[0m | \u001b[0m0.6261   \u001b[0m |\n",
            "| \u001b[0m539      \u001b[0m | \u001b[0m1.78     \u001b[0m | \u001b[0m0.6648   \u001b[0m | \u001b[0m9.836    \u001b[0m | \u001b[0m0.758    \u001b[0m | \u001b[0m15.98    \u001b[0m | \u001b[0m14.47    \u001b[0m | \u001b[0m58.24    \u001b[0m | \u001b[0m8.206    \u001b[0m | \u001b[0m6.914    \u001b[0m | \u001b[0m0.5338   \u001b[0m |\n",
            "| \u001b[0m540      \u001b[0m | \u001b[0m1.78     \u001b[0m | \u001b[0m0.5169   \u001b[0m | \u001b[0m3.808    \u001b[0m | \u001b[0m0.8666   \u001b[0m | \u001b[0m28.08    \u001b[0m | \u001b[0m39.17    \u001b[0m | \u001b[0m52.01    \u001b[0m | \u001b[0m2.45     \u001b[0m | \u001b[0m4.556    \u001b[0m | \u001b[0m0.7232   \u001b[0m |\n",
            "| \u001b[0m541      \u001b[0m | \u001b[0m1.78     \u001b[0m | \u001b[0m0.6676   \u001b[0m | \u001b[0m6.41     \u001b[0m | \u001b[0m0.2118   \u001b[0m | \u001b[0m7.451    \u001b[0m | \u001b[0m65.36    \u001b[0m | \u001b[0m76.86    \u001b[0m | \u001b[0m9.174    \u001b[0m | \u001b[0m0.8439   \u001b[0m | \u001b[0m0.6336   \u001b[0m |\n",
            "| \u001b[0m542      \u001b[0m | \u001b[0m1.78     \u001b[0m | \u001b[0m0.5392   \u001b[0m | \u001b[0m1.32     \u001b[0m | \u001b[0m0.01176  \u001b[0m | \u001b[0m20.17    \u001b[0m | \u001b[0m6.934    \u001b[0m | \u001b[0m82.65    \u001b[0m | \u001b[0m3.701    \u001b[0m | \u001b[0m8.108    \u001b[0m | \u001b[0m0.9518   \u001b[0m |\n",
            "| \u001b[0m543      \u001b[0m | \u001b[0m1.753    \u001b[0m | \u001b[0m0.8249   \u001b[0m | \u001b[0m7.527    \u001b[0m | \u001b[0m0.6456   \u001b[0m | \u001b[0m44.38    \u001b[0m | \u001b[0m1.277    \u001b[0m | \u001b[0m51.49    \u001b[0m | \u001b[0m1.896    \u001b[0m | \u001b[0m3.142    \u001b[0m | \u001b[0m0.8303   \u001b[0m |\n",
            "| \u001b[0m544      \u001b[0m | \u001b[0m1.78     \u001b[0m | \u001b[0m0.5969   \u001b[0m | \u001b[0m7.671    \u001b[0m | \u001b[0m0.1467   \u001b[0m | \u001b[0m39.85    \u001b[0m | \u001b[0m53.64    \u001b[0m | \u001b[0m62.7     \u001b[0m | \u001b[0m7.733    \u001b[0m | \u001b[0m7.268    \u001b[0m | \u001b[0m0.7433   \u001b[0m |\n",
            "| \u001b[0m545      \u001b[0m | \u001b[0m1.78     \u001b[0m | \u001b[0m0.5336   \u001b[0m | \u001b[0m3.545    \u001b[0m | \u001b[0m0.1441   \u001b[0m | \u001b[0m10.28    \u001b[0m | \u001b[0m80.16    \u001b[0m | \u001b[0m61.62    \u001b[0m | \u001b[0m9.909    \u001b[0m | \u001b[0m4.544    \u001b[0m | \u001b[0m0.8125   \u001b[0m |\n",
            "| \u001b[0m546      \u001b[0m | \u001b[0m1.78     \u001b[0m | \u001b[0m0.6083   \u001b[0m | \u001b[0m0.9104   \u001b[0m | \u001b[0m0.8456   \u001b[0m | \u001b[0m41.2     \u001b[0m | \u001b[0m14.72    \u001b[0m | \u001b[0m32.2     \u001b[0m | \u001b[0m4.722    \u001b[0m | \u001b[0m3.704    \u001b[0m | \u001b[0m0.738    \u001b[0m |\n",
            "| \u001b[0m547      \u001b[0m | \u001b[0m1.78     \u001b[0m | \u001b[0m0.6038   \u001b[0m | \u001b[0m9.469    \u001b[0m | \u001b[0m0.4332   \u001b[0m | \u001b[0m37.23    \u001b[0m | \u001b[0m57.9     \u001b[0m | \u001b[0m89.15    \u001b[0m | \u001b[0m7.579    \u001b[0m | \u001b[0m2.45     \u001b[0m | \u001b[0m0.7923   \u001b[0m |\n",
            "| \u001b[0m548      \u001b[0m | \u001b[0m1.78     \u001b[0m | \u001b[0m0.9922   \u001b[0m | \u001b[0m7.426    \u001b[0m | \u001b[0m0.2715   \u001b[0m | \u001b[0m35.43    \u001b[0m | \u001b[0m98.81    \u001b[0m | \u001b[0m10.93    \u001b[0m | \u001b[0m0.6563   \u001b[0m | \u001b[0m7.094    \u001b[0m | \u001b[0m0.9772   \u001b[0m |\n",
            "| \u001b[0m549      \u001b[0m | \u001b[0m1.79     \u001b[0m | \u001b[0m0.6593   \u001b[0m | \u001b[0m6.77     \u001b[0m | \u001b[0m0.346    \u001b[0m | \u001b[0m8.935    \u001b[0m | \u001b[0m5.563    \u001b[0m | \u001b[0m91.57    \u001b[0m | \u001b[0m0.7661   \u001b[0m | \u001b[0m5.167    \u001b[0m | \u001b[0m0.8045   \u001b[0m |\n",
            "| \u001b[0m550      \u001b[0m | \u001b[0m1.813    \u001b[0m | \u001b[0m0.6858   \u001b[0m | \u001b[0m6.754    \u001b[0m | \u001b[0m0.7105   \u001b[0m | \u001b[0m3.46     \u001b[0m | \u001b[0m7.73     \u001b[0m | \u001b[0m38.18    \u001b[0m | \u001b[0m1.288    \u001b[0m | \u001b[0m8.155    \u001b[0m | \u001b[0m0.9542   \u001b[0m |\n",
            "| \u001b[0m551      \u001b[0m | \u001b[0m1.78     \u001b[0m | \u001b[0m0.8683   \u001b[0m | \u001b[0m4.355    \u001b[0m | \u001b[0m0.8416   \u001b[0m | \u001b[0m3.57     \u001b[0m | \u001b[0m87.82    \u001b[0m | \u001b[0m34.99    \u001b[0m | \u001b[0m2.886    \u001b[0m | \u001b[0m3.051    \u001b[0m | \u001b[0m0.7422   \u001b[0m |\n",
            "| \u001b[0m552      \u001b[0m | \u001b[0m1.78     \u001b[0m | \u001b[0m0.6959   \u001b[0m | \u001b[0m5.275    \u001b[0m | \u001b[0m0.2383   \u001b[0m | \u001b[0m44.66    \u001b[0m | \u001b[0m68.26    \u001b[0m | \u001b[0m77.99    \u001b[0m | \u001b[0m2.809    \u001b[0m | \u001b[0m6.453    \u001b[0m | \u001b[0m0.7531   \u001b[0m |\n",
            "| \u001b[0m553      \u001b[0m | \u001b[0m1.682    \u001b[0m | \u001b[0m0.8      \u001b[0m | \u001b[0m6.324    \u001b[0m | \u001b[0m0.5433   \u001b[0m | \u001b[0m2.917    \u001b[0m | \u001b[0m5.131    \u001b[0m | \u001b[0m37.31    \u001b[0m | \u001b[0m3.0      \u001b[0m | \u001b[0m8.864    \u001b[0m | \u001b[0m0.5556   \u001b[0m |\n",
            "| \u001b[0m554      \u001b[0m | \u001b[0m1.78     \u001b[0m | \u001b[0m0.7948   \u001b[0m | \u001b[0m2.458    \u001b[0m | \u001b[0m0.377    \u001b[0m | \u001b[0m23.8     \u001b[0m | \u001b[0m53.08    \u001b[0m | \u001b[0m92.67    \u001b[0m | \u001b[0m4.99     \u001b[0m | \u001b[0m8.708    \u001b[0m | \u001b[0m0.9746   \u001b[0m |\n",
            "| \u001b[0m555      \u001b[0m | \u001b[0m1.78     \u001b[0m | \u001b[0m0.6722   \u001b[0m | \u001b[0m8.425    \u001b[0m | \u001b[0m0.9122   \u001b[0m | \u001b[0m21.49    \u001b[0m | \u001b[0m37.39    \u001b[0m | \u001b[0m63.7     \u001b[0m | \u001b[0m7.25     \u001b[0m | \u001b[0m5.057    \u001b[0m | \u001b[0m0.5989   \u001b[0m |\n",
            "| \u001b[0m556      \u001b[0m | \u001b[0m1.78     \u001b[0m | \u001b[0m0.8977   \u001b[0m | \u001b[0m5.498    \u001b[0m | \u001b[0m0.4303   \u001b[0m | \u001b[0m10.88    \u001b[0m | \u001b[0m21.44    \u001b[0m | \u001b[0m40.68    \u001b[0m | \u001b[0m0.2598   \u001b[0m | \u001b[0m7.378    \u001b[0m | \u001b[0m0.5176   \u001b[0m |\n",
            "| \u001b[0m557      \u001b[0m | \u001b[0m1.78     \u001b[0m | \u001b[0m0.6352   \u001b[0m | \u001b[0m7.306    \u001b[0m | \u001b[0m0.5252   \u001b[0m | \u001b[0m7.093    \u001b[0m | \u001b[0m83.52    \u001b[0m | \u001b[0m5.921    \u001b[0m | \u001b[0m3.229    \u001b[0m | \u001b[0m6.103    \u001b[0m | \u001b[0m0.707    \u001b[0m |\n",
            "| \u001b[0m558      \u001b[0m | \u001b[0m1.747    \u001b[0m | \u001b[0m0.9675   \u001b[0m | \u001b[0m8.212    \u001b[0m | \u001b[0m0.8214   \u001b[0m | \u001b[0m17.6     \u001b[0m | \u001b[0m3.769    \u001b[0m | \u001b[0m61.26    \u001b[0m | \u001b[0m1.184    \u001b[0m | \u001b[0m6.985    \u001b[0m | \u001b[0m0.7738   \u001b[0m |\n",
            "| \u001b[0m559      \u001b[0m | \u001b[0m1.78     \u001b[0m | \u001b[0m0.5232   \u001b[0m | \u001b[0m6.477    \u001b[0m | \u001b[0m0.7151   \u001b[0m | \u001b[0m37.69    \u001b[0m | \u001b[0m97.96    \u001b[0m | \u001b[0m23.15    \u001b[0m | \u001b[0m5.567    \u001b[0m | \u001b[0m1.566    \u001b[0m | \u001b[0m0.8392   \u001b[0m |\n",
            "| \u001b[0m560      \u001b[0m | \u001b[0m1.78     \u001b[0m | \u001b[0m0.9462   \u001b[0m | \u001b[0m9.017    \u001b[0m | \u001b[0m0.7172   \u001b[0m | \u001b[0m20.6     \u001b[0m | \u001b[0m39.19    \u001b[0m | \u001b[0m26.92    \u001b[0m | \u001b[0m8.661    \u001b[0m | \u001b[0m4.196    \u001b[0m | \u001b[0m0.8129   \u001b[0m |\n",
            "| \u001b[0m561      \u001b[0m | \u001b[0m1.785    \u001b[0m | \u001b[0m0.5872   \u001b[0m | \u001b[0m4.707    \u001b[0m | \u001b[0m0.9276   \u001b[0m | \u001b[0m7.268    \u001b[0m | \u001b[0m7.711    \u001b[0m | \u001b[0m39.79    \u001b[0m | \u001b[0m0.432    \u001b[0m | \u001b[0m5.151    \u001b[0m | \u001b[0m0.9085   \u001b[0m |\n",
            "| \u001b[0m562      \u001b[0m | \u001b[0m1.78     \u001b[0m | \u001b[0m0.7828   \u001b[0m | \u001b[0m5.914    \u001b[0m | \u001b[0m0.2061   \u001b[0m | \u001b[0m25.23    \u001b[0m | \u001b[0m99.3     \u001b[0m | \u001b[0m15.76    \u001b[0m | \u001b[0m7.029    \u001b[0m | \u001b[0m1.574    \u001b[0m | \u001b[0m0.8268   \u001b[0m |\n",
            "| \u001b[0m563      \u001b[0m | \u001b[0m1.78     \u001b[0m | \u001b[0m0.7371   \u001b[0m | \u001b[0m1.302    \u001b[0m | \u001b[0m0.9094   \u001b[0m | \u001b[0m3.21     \u001b[0m | \u001b[0m2.584    \u001b[0m | \u001b[0m47.54    \u001b[0m | \u001b[0m6.195    \u001b[0m | \u001b[0m9.564    \u001b[0m | \u001b[0m0.926    \u001b[0m |\n",
            "| \u001b[0m564      \u001b[0m | \u001b[0m1.78     \u001b[0m | \u001b[0m0.5929   \u001b[0m | \u001b[0m7.854    \u001b[0m | \u001b[0m0.9863   \u001b[0m | \u001b[0m35.9     \u001b[0m | \u001b[0m13.35    \u001b[0m | \u001b[0m51.43    \u001b[0m | \u001b[0m6.767    \u001b[0m | \u001b[0m4.492    \u001b[0m | \u001b[0m0.8256   \u001b[0m |\n",
            "| \u001b[0m565      \u001b[0m | \u001b[0m1.78     \u001b[0m | \u001b[0m0.9998   \u001b[0m | \u001b[0m7.221    \u001b[0m | \u001b[0m0.04818  \u001b[0m | \u001b[0m26.03    \u001b[0m | \u001b[0m23.06    \u001b[0m | \u001b[0m67.42    \u001b[0m | \u001b[0m8.75     \u001b[0m | \u001b[0m6.174    \u001b[0m | \u001b[0m0.7333   \u001b[0m |\n",
            "| \u001b[0m566      \u001b[0m | \u001b[0m1.84     \u001b[0m | \u001b[0m0.5694   \u001b[0m | \u001b[0m6.867    \u001b[0m | \u001b[0m0.729    \u001b[0m | \u001b[0m2.124    \u001b[0m | \u001b[0m7.869    \u001b[0m | \u001b[0m37.02    \u001b[0m | \u001b[0m1.082    \u001b[0m | \u001b[0m8.344    \u001b[0m | \u001b[0m0.681    \u001b[0m |\n",
            "| \u001b[0m567      \u001b[0m | \u001b[0m1.78     \u001b[0m | \u001b[0m0.5971   \u001b[0m | \u001b[0m1.327    \u001b[0m | \u001b[0m0.9684   \u001b[0m | \u001b[0m28.51    \u001b[0m | \u001b[0m42.44    \u001b[0m | \u001b[0m13.67    \u001b[0m | \u001b[0m5.665    \u001b[0m | \u001b[0m4.114    \u001b[0m | \u001b[0m0.7357   \u001b[0m |\n",
            "| \u001b[0m568      \u001b[0m | \u001b[0m1.78     \u001b[0m | \u001b[0m0.9616   \u001b[0m | \u001b[0m3.394    \u001b[0m | \u001b[0m0.6554   \u001b[0m | \u001b[0m42.88    \u001b[0m | \u001b[0m63.29    \u001b[0m | \u001b[0m25.1     \u001b[0m | \u001b[0m2.38     \u001b[0m | \u001b[0m0.8137   \u001b[0m | \u001b[0m0.5766   \u001b[0m |\n",
            "| \u001b[0m569      \u001b[0m | \u001b[0m1.78     \u001b[0m | \u001b[0m0.5142   \u001b[0m | \u001b[0m0.09947  \u001b[0m | \u001b[0m0.3404   \u001b[0m | \u001b[0m7.075    \u001b[0m | \u001b[0m86.37    \u001b[0m | \u001b[0m14.32    \u001b[0m | \u001b[0m2.71     \u001b[0m | \u001b[0m1.76     \u001b[0m | \u001b[0m0.8316   \u001b[0m |\n",
            "| \u001b[0m570      \u001b[0m | \u001b[0m1.78     \u001b[0m | \u001b[0m0.9776   \u001b[0m | \u001b[0m7.857    \u001b[0m | \u001b[0m0.8681   \u001b[0m | \u001b[0m2.672    \u001b[0m | \u001b[0m10.44    \u001b[0m | \u001b[0m39.09    \u001b[0m | \u001b[0m0.6655   \u001b[0m | \u001b[0m8.143    \u001b[0m | \u001b[0m0.93     \u001b[0m |\n",
            "| \u001b[0m571      \u001b[0m | \u001b[0m1.78     \u001b[0m | \u001b[0m0.725    \u001b[0m | \u001b[0m0.8981   \u001b[0m | \u001b[0m0.358    \u001b[0m | \u001b[0m41.99    \u001b[0m | \u001b[0m27.06    \u001b[0m | \u001b[0m44.23    \u001b[0m | \u001b[0m3.947    \u001b[0m | \u001b[0m3.341    \u001b[0m | \u001b[0m0.9902   \u001b[0m |\n",
            "| \u001b[0m572      \u001b[0m | \u001b[0m1.778    \u001b[0m | \u001b[0m0.8812   \u001b[0m | \u001b[0m3.919    \u001b[0m | \u001b[0m0.7295   \u001b[0m | \u001b[0m35.56    \u001b[0m | \u001b[0m6.442    \u001b[0m | \u001b[0m31.8     \u001b[0m | \u001b[0m0.5961   \u001b[0m | \u001b[0m3.52     \u001b[0m | \u001b[0m0.8269   \u001b[0m |\n",
            "| \u001b[0m573      \u001b[0m | \u001b[0m1.779    \u001b[0m | \u001b[0m0.571    \u001b[0m | \u001b[0m3.978    \u001b[0m | \u001b[0m0.2347   \u001b[0m | \u001b[0m19.67    \u001b[0m | \u001b[0m9.64     \u001b[0m | \u001b[0m63.71    \u001b[0m | \u001b[0m1.673    \u001b[0m | \u001b[0m9.947    \u001b[0m | \u001b[0m0.8163   \u001b[0m |\n",
            "| \u001b[0m574      \u001b[0m | \u001b[0m1.78     \u001b[0m | \u001b[0m0.6548   \u001b[0m | \u001b[0m9.635    \u001b[0m | \u001b[0m0.1987   \u001b[0m | \u001b[0m48.63    \u001b[0m | \u001b[0m30.85    \u001b[0m | \u001b[0m79.44    \u001b[0m | \u001b[0m9.146    \u001b[0m | \u001b[0m0.4115   \u001b[0m | \u001b[0m0.6933   \u001b[0m |\n",
            "| \u001b[0m575      \u001b[0m | \u001b[0m1.78     \u001b[0m | \u001b[0m0.8341   \u001b[0m | \u001b[0m9.042    \u001b[0m | \u001b[0m0.3874   \u001b[0m | \u001b[0m22.45    \u001b[0m | \u001b[0m96.72    \u001b[0m | \u001b[0m20.6     \u001b[0m | \u001b[0m4.316    \u001b[0m | \u001b[0m1.345    \u001b[0m | \u001b[0m0.9198   \u001b[0m |\n",
            "| \u001b[0m576      \u001b[0m | \u001b[0m1.78     \u001b[0m | \u001b[0m0.9527   \u001b[0m | \u001b[0m4.784    \u001b[0m | \u001b[0m0.7426   \u001b[0m | \u001b[0m26.28    \u001b[0m | \u001b[0m88.63    \u001b[0m | \u001b[0m67.97    \u001b[0m | \u001b[0m3.247    \u001b[0m | \u001b[0m9.347    \u001b[0m | \u001b[0m0.8479   \u001b[0m |\n",
            "| \u001b[0m577      \u001b[0m | \u001b[0m1.78     \u001b[0m | \u001b[0m0.9514   \u001b[0m | \u001b[0m8.78     \u001b[0m | \u001b[0m0.6192   \u001b[0m | \u001b[0m41.95    \u001b[0m | \u001b[0m3.521    \u001b[0m | \u001b[0m48.28    \u001b[0m | \u001b[0m7.87     \u001b[0m | \u001b[0m8.829    \u001b[0m | \u001b[0m0.7598   \u001b[0m |\n",
            "| \u001b[0m578      \u001b[0m | \u001b[0m1.782    \u001b[0m | \u001b[0m0.5199   \u001b[0m | \u001b[0m2.867    \u001b[0m | \u001b[0m0.3383   \u001b[0m | \u001b[0m35.14    \u001b[0m | \u001b[0m8.313    \u001b[0m | \u001b[0m28.92    \u001b[0m | \u001b[0m1.226    \u001b[0m | \u001b[0m2.871    \u001b[0m | \u001b[0m0.9631   \u001b[0m |\n",
            "| \u001b[0m579      \u001b[0m | \u001b[0m1.809    \u001b[0m | \u001b[0m0.795    \u001b[0m | \u001b[0m4.747    \u001b[0m | \u001b[0m0.718    \u001b[0m | \u001b[0m20.66    \u001b[0m | \u001b[0m9.002    \u001b[0m | \u001b[0m62.86    \u001b[0m | \u001b[0m0.4662   \u001b[0m | \u001b[0m9.817    \u001b[0m | \u001b[0m0.7585   \u001b[0m |\n",
            "| \u001b[0m580      \u001b[0m | \u001b[0m1.821    \u001b[0m | \u001b[0m0.7144   \u001b[0m | \u001b[0m7.98     \u001b[0m | \u001b[0m0.4799   \u001b[0m | \u001b[0m23.26    \u001b[0m | \u001b[0m9.387    \u001b[0m | \u001b[0m63.5     \u001b[0m | \u001b[0m0.3197   \u001b[0m | \u001b[0m6.611    \u001b[0m | \u001b[0m0.7797   \u001b[0m |\n",
            "| \u001b[0m581      \u001b[0m | \u001b[0m1.78     \u001b[0m | \u001b[0m0.5131   \u001b[0m | \u001b[0m9.791    \u001b[0m | \u001b[0m0.1204   \u001b[0m | \u001b[0m8.96     \u001b[0m | \u001b[0m34.38    \u001b[0m | \u001b[0m25.32    \u001b[0m | \u001b[0m2.488    \u001b[0m | \u001b[0m0.2274   \u001b[0m | \u001b[0m0.8853   \u001b[0m |\n",
            "| \u001b[0m582      \u001b[0m | \u001b[0m1.78     \u001b[0m | \u001b[0m0.9033   \u001b[0m | \u001b[0m2.508    \u001b[0m | \u001b[0m0.3047   \u001b[0m | \u001b[0m23.86    \u001b[0m | \u001b[0m65.32    \u001b[0m | \u001b[0m33.74    \u001b[0m | \u001b[0m9.715    \u001b[0m | \u001b[0m2.025    \u001b[0m | \u001b[0m0.5944   \u001b[0m |\n",
            "| \u001b[0m583      \u001b[0m | \u001b[0m1.78     \u001b[0m | \u001b[0m0.6089   \u001b[0m | \u001b[0m6.877    \u001b[0m | \u001b[0m0.9304   \u001b[0m | \u001b[0m20.03    \u001b[0m | \u001b[0m90.21    \u001b[0m | \u001b[0m15.2     \u001b[0m | \u001b[0m5.84     \u001b[0m | \u001b[0m0.7651   \u001b[0m | \u001b[0m0.6741   \u001b[0m |\n",
            "| \u001b[0m584      \u001b[0m | \u001b[0m1.78     \u001b[0m | \u001b[0m0.5763   \u001b[0m | \u001b[0m1.678    \u001b[0m | \u001b[0m0.292    \u001b[0m | \u001b[0m8.318    \u001b[0m | \u001b[0m98.08    \u001b[0m | \u001b[0m13.89    \u001b[0m | \u001b[0m0.7993   \u001b[0m | \u001b[0m6.011    \u001b[0m | \u001b[0m0.7145   \u001b[0m |\n",
            "| \u001b[0m585      \u001b[0m | \u001b[0m1.78     \u001b[0m | \u001b[0m0.5827   \u001b[0m | \u001b[0m5.787    \u001b[0m | \u001b[0m0.254    \u001b[0m | \u001b[0m1.052    \u001b[0m | \u001b[0m43.69    \u001b[0m | \u001b[0m80.79    \u001b[0m | \u001b[0m2.238    \u001b[0m | \u001b[0m9.982    \u001b[0m | \u001b[0m0.5949   \u001b[0m |\n",
            "| \u001b[0m586      \u001b[0m | \u001b[0m1.78     \u001b[0m | \u001b[0m0.9579   \u001b[0m | \u001b[0m2.409    \u001b[0m | \u001b[0m0.606    \u001b[0m | \u001b[0m49.69    \u001b[0m | \u001b[0m86.14    \u001b[0m | \u001b[0m97.17    \u001b[0m | \u001b[0m5.709    \u001b[0m | \u001b[0m1.246    \u001b[0m | \u001b[0m0.5555   \u001b[0m |\n",
            "| \u001b[0m587      \u001b[0m | \u001b[0m1.78     \u001b[0m | \u001b[0m0.6091   \u001b[0m | \u001b[0m0.2442   \u001b[0m | \u001b[0m0.129    \u001b[0m | \u001b[0m7.065    \u001b[0m | \u001b[0m12.54    \u001b[0m | \u001b[0m55.83    \u001b[0m | \u001b[0m6.917    \u001b[0m | \u001b[0m4.899    \u001b[0m | \u001b[0m0.7194   \u001b[0m |\n",
            "| \u001b[0m588      \u001b[0m | \u001b[0m1.78     \u001b[0m | \u001b[0m0.5624   \u001b[0m | \u001b[0m7.535    \u001b[0m | \u001b[0m0.05334  \u001b[0m | \u001b[0m46.41    \u001b[0m | \u001b[0m8.859    \u001b[0m | \u001b[0m36.79    \u001b[0m | \u001b[0m7.573    \u001b[0m | \u001b[0m9.637    \u001b[0m | \u001b[0m0.6993   \u001b[0m |\n",
            "| \u001b[0m589      \u001b[0m | \u001b[0m1.78     \u001b[0m | \u001b[0m0.551    \u001b[0m | \u001b[0m1.962    \u001b[0m | \u001b[0m0.5661   \u001b[0m | \u001b[0m25.64    \u001b[0m | \u001b[0m97.48    \u001b[0m | \u001b[0m60.38    \u001b[0m | \u001b[0m1.45     \u001b[0m | \u001b[0m6.085    \u001b[0m | \u001b[0m0.868    \u001b[0m |\n",
            "| \u001b[0m590      \u001b[0m | \u001b[0m1.78     \u001b[0m | \u001b[0m0.89     \u001b[0m | \u001b[0m5.176    \u001b[0m | \u001b[0m0.8202   \u001b[0m | \u001b[0m48.11    \u001b[0m | \u001b[0m94.89    \u001b[0m | \u001b[0m50.89    \u001b[0m | \u001b[0m9.672    \u001b[0m | \u001b[0m1.643    \u001b[0m | \u001b[0m0.839    \u001b[0m |\n",
            "| \u001b[0m591      \u001b[0m | \u001b[0m1.78     \u001b[0m | \u001b[0m0.9083   \u001b[0m | \u001b[0m8.348    \u001b[0m | \u001b[0m0.325    \u001b[0m | \u001b[0m49.65    \u001b[0m | \u001b[0m21.98    \u001b[0m | \u001b[0m65.81    \u001b[0m | \u001b[0m2.09     \u001b[0m | \u001b[0m2.745    \u001b[0m | \u001b[0m0.9393   \u001b[0m |\n",
            "| \u001b[0m592      \u001b[0m | \u001b[0m1.78     \u001b[0m | \u001b[0m0.6277   \u001b[0m | \u001b[0m0.8015   \u001b[0m | \u001b[0m0.2508   \u001b[0m | \u001b[0m33.96    \u001b[0m | \u001b[0m75.73    \u001b[0m | \u001b[0m38.14    \u001b[0m | \u001b[0m1.594    \u001b[0m | \u001b[0m6.294    \u001b[0m | \u001b[0m0.7985   \u001b[0m |\n",
            "| \u001b[0m593      \u001b[0m | \u001b[0m1.855    \u001b[0m | \u001b[0m0.6729   \u001b[0m | \u001b[0m9.493    \u001b[0m | \u001b[0m0.8184   \u001b[0m | \u001b[0m47.64    \u001b[0m | \u001b[0m3.324    \u001b[0m | \u001b[0m53.13    \u001b[0m | \u001b[0m2.549    \u001b[0m | \u001b[0m0.7245   \u001b[0m | \u001b[0m0.5658   \u001b[0m |\n",
            "| \u001b[0m594      \u001b[0m | \u001b[0m1.78     \u001b[0m | \u001b[0m0.6193   \u001b[0m | \u001b[0m1.3      \u001b[0m | \u001b[0m0.3873   \u001b[0m | \u001b[0m20.9     \u001b[0m | \u001b[0m7.719    \u001b[0m | \u001b[0m36.53    \u001b[0m | \u001b[0m6.51     \u001b[0m | \u001b[0m0.8682   \u001b[0m | \u001b[0m0.9493   \u001b[0m |\n",
            "| \u001b[0m595      \u001b[0m | \u001b[0m1.78     \u001b[0m | \u001b[0m0.9762   \u001b[0m | \u001b[0m9.603    \u001b[0m | \u001b[0m0.4092   \u001b[0m | \u001b[0m9.733    \u001b[0m | \u001b[0m85.41    \u001b[0m | \u001b[0m86.09    \u001b[0m | \u001b[0m4.771    \u001b[0m | \u001b[0m5.401    \u001b[0m | \u001b[0m0.7464   \u001b[0m |\n",
            "| \u001b[0m596      \u001b[0m | \u001b[0m1.78     \u001b[0m | \u001b[0m0.5034   \u001b[0m | \u001b[0m2.431    \u001b[0m | \u001b[0m0.5056   \u001b[0m | \u001b[0m1.712    \u001b[0m | \u001b[0m15.92    \u001b[0m | \u001b[0m31.2     \u001b[0m | \u001b[0m8.155    \u001b[0m | \u001b[0m8.276    \u001b[0m | \u001b[0m0.9034   \u001b[0m |\n",
            "| \u001b[0m597      \u001b[0m | \u001b[0m1.78     \u001b[0m | \u001b[0m0.5966   \u001b[0m | \u001b[0m5.568    \u001b[0m | \u001b[0m0.04734  \u001b[0m | \u001b[0m11.77    \u001b[0m | \u001b[0m24.15    \u001b[0m | \u001b[0m50.56    \u001b[0m | \u001b[0m5.08     \u001b[0m | \u001b[0m5.91     \u001b[0m | \u001b[0m0.9057   \u001b[0m |\n",
            "| \u001b[0m598      \u001b[0m | \u001b[0m1.795    \u001b[0m | \u001b[0m0.5397   \u001b[0m | \u001b[0m4.015    \u001b[0m | \u001b[0m0.7811   \u001b[0m | \u001b[0m5.334    \u001b[0m | \u001b[0m8.843    \u001b[0m | \u001b[0m38.25    \u001b[0m | \u001b[0m2.113    \u001b[0m | \u001b[0m8.819    \u001b[0m | \u001b[0m0.7256   \u001b[0m |\n",
            "| \u001b[0m599      \u001b[0m | \u001b[0m1.78     \u001b[0m | \u001b[0m0.9245   \u001b[0m | \u001b[0m0.1149   \u001b[0m | \u001b[0m0.2107   \u001b[0m | \u001b[0m7.601    \u001b[0m | \u001b[0m70.3     \u001b[0m | \u001b[0m95.23    \u001b[0m | \u001b[0m3.088    \u001b[0m | \u001b[0m2.795    \u001b[0m | \u001b[0m0.6403   \u001b[0m |\n",
            "| \u001b[0m600      \u001b[0m | \u001b[0m1.78     \u001b[0m | \u001b[0m0.8425   \u001b[0m | \u001b[0m1.461    \u001b[0m | \u001b[0m0.02563  \u001b[0m | \u001b[0m17.34    \u001b[0m | \u001b[0m1.442    \u001b[0m | \u001b[0m11.27    \u001b[0m | \u001b[0m9.973    \u001b[0m | \u001b[0m6.744    \u001b[0m | \u001b[0m0.7003   \u001b[0m |\n",
            "| \u001b[0m601      \u001b[0m | \u001b[0m1.783    \u001b[0m | \u001b[0m0.9279   \u001b[0m | \u001b[0m3.471    \u001b[0m | \u001b[0m0.3648   \u001b[0m | \u001b[0m37.4     \u001b[0m | \u001b[0m3.683    \u001b[0m | \u001b[0m31.32    \u001b[0m | \u001b[0m1.049    \u001b[0m | \u001b[0m2.024    \u001b[0m | \u001b[0m0.8701   \u001b[0m |\n",
            "| \u001b[0m602      \u001b[0m | \u001b[0m1.78     \u001b[0m | \u001b[0m0.9807   \u001b[0m | \u001b[0m8.659    \u001b[0m | \u001b[0m0.02609  \u001b[0m | \u001b[0m1.859    \u001b[0m | \u001b[0m61.36    \u001b[0m | \u001b[0m76.95    \u001b[0m | \u001b[0m8.38     \u001b[0m | \u001b[0m4.476    \u001b[0m | \u001b[0m0.5115   \u001b[0m |\n",
            "| \u001b[0m603      \u001b[0m | \u001b[0m1.78     \u001b[0m | \u001b[0m0.629    \u001b[0m | \u001b[0m3.799    \u001b[0m | \u001b[0m0.7059   \u001b[0m | \u001b[0m43.24    \u001b[0m | \u001b[0m71.74    \u001b[0m | \u001b[0m43.75    \u001b[0m | \u001b[0m1.316    \u001b[0m | \u001b[0m9.776    \u001b[0m | \u001b[0m0.6187   \u001b[0m |\n",
            "| \u001b[0m604      \u001b[0m | \u001b[0m1.78     \u001b[0m | \u001b[0m0.7794   \u001b[0m | \u001b[0m8.054    \u001b[0m | \u001b[0m0.6763   \u001b[0m | \u001b[0m23.74    \u001b[0m | \u001b[0m10.09    \u001b[0m | \u001b[0m62.88    \u001b[0m | \u001b[0m1.49     \u001b[0m | \u001b[0m5.199    \u001b[0m | \u001b[0m0.557    \u001b[0m |\n",
            "| \u001b[0m605      \u001b[0m | \u001b[0m1.774    \u001b[0m | \u001b[0m0.9025   \u001b[0m | \u001b[0m6.104    \u001b[0m | \u001b[0m0.6148   \u001b[0m | \u001b[0m6.212    \u001b[0m | \u001b[0m9.169    \u001b[0m | \u001b[0m41.42    \u001b[0m | \u001b[0m1.86     \u001b[0m | \u001b[0m7.618    \u001b[0m | \u001b[0m0.9334   \u001b[0m |\n",
            "| \u001b[0m606      \u001b[0m | \u001b[0m1.69     \u001b[0m | \u001b[0m0.9499   \u001b[0m | \u001b[0m4.616    \u001b[0m | \u001b[0m0.5637   \u001b[0m | \u001b[0m2.715    \u001b[0m | \u001b[0m4.52     \u001b[0m | \u001b[0m38.04    \u001b[0m | \u001b[0m0.6334   \u001b[0m | \u001b[0m7.474    \u001b[0m | \u001b[0m0.622    \u001b[0m |\n",
            "| \u001b[0m607      \u001b[0m | \u001b[0m1.78     \u001b[0m | \u001b[0m0.9328   \u001b[0m | \u001b[0m8.154    \u001b[0m | \u001b[0m0.03714  \u001b[0m | \u001b[0m28.52    \u001b[0m | \u001b[0m25.5     \u001b[0m | \u001b[0m71.36    \u001b[0m | \u001b[0m8.96     \u001b[0m | \u001b[0m8.971    \u001b[0m | \u001b[0m0.9253   \u001b[0m |\n",
            "| \u001b[0m608      \u001b[0m | \u001b[0m1.78     \u001b[0m | \u001b[0m0.674    \u001b[0m | \u001b[0m6.842    \u001b[0m | \u001b[0m0.3352   \u001b[0m | \u001b[0m25.68    \u001b[0m | \u001b[0m65.73    \u001b[0m | \u001b[0m13.84    \u001b[0m | \u001b[0m6.131    \u001b[0m | \u001b[0m9.017    \u001b[0m | \u001b[0m0.7549   \u001b[0m |\n",
            "| \u001b[0m609      \u001b[0m | \u001b[0m1.78     \u001b[0m | \u001b[0m0.7756   \u001b[0m | \u001b[0m1.104    \u001b[0m | \u001b[0m0.7496   \u001b[0m | \u001b[0m26.44    \u001b[0m | \u001b[0m42.63    \u001b[0m | \u001b[0m44.93    \u001b[0m | \u001b[0m2.009    \u001b[0m | \u001b[0m3.617    \u001b[0m | \u001b[0m0.6594   \u001b[0m |\n",
            "| \u001b[0m610      \u001b[0m | \u001b[0m1.78     \u001b[0m | \u001b[0m0.8566   \u001b[0m | \u001b[0m3.976    \u001b[0m | \u001b[0m0.5451   \u001b[0m | \u001b[0m22.18    \u001b[0m | \u001b[0m87.44    \u001b[0m | \u001b[0m38.07    \u001b[0m | \u001b[0m2.332    \u001b[0m | \u001b[0m1.244    \u001b[0m | \u001b[0m0.6333   \u001b[0m |\n",
            "| \u001b[0m611      \u001b[0m | \u001b[0m1.78     \u001b[0m | \u001b[0m0.8477   \u001b[0m | \u001b[0m3.665    \u001b[0m | \u001b[0m0.1994   \u001b[0m | \u001b[0m25.67    \u001b[0m | \u001b[0m20.38    \u001b[0m | \u001b[0m11.94    \u001b[0m | \u001b[0m5.764    \u001b[0m | \u001b[0m7.349    \u001b[0m | \u001b[0m0.5969   \u001b[0m |\n",
            "| \u001b[0m612      \u001b[0m | \u001b[0m1.78     \u001b[0m | \u001b[0m0.7985   \u001b[0m | \u001b[0m5.946    \u001b[0m | \u001b[0m0.7394   \u001b[0m | \u001b[0m21.85    \u001b[0m | \u001b[0m3.056    \u001b[0m | \u001b[0m18.52    \u001b[0m | \u001b[0m7.409    \u001b[0m | \u001b[0m7.95     \u001b[0m | \u001b[0m0.9744   \u001b[0m |\n",
            "| \u001b[0m613      \u001b[0m | \u001b[0m1.78     \u001b[0m | \u001b[0m0.839    \u001b[0m | \u001b[0m9.342    \u001b[0m | \u001b[0m0.09801  \u001b[0m | \u001b[0m39.29    \u001b[0m | \u001b[0m89.26    \u001b[0m | \u001b[0m56.36    \u001b[0m | \u001b[0m4.405    \u001b[0m | \u001b[0m6.491    \u001b[0m | \u001b[0m0.9291   \u001b[0m |\n",
            "| \u001b[0m614      \u001b[0m | \u001b[0m1.78     \u001b[0m | \u001b[0m0.7288   \u001b[0m | \u001b[0m7.873    \u001b[0m | \u001b[0m0.9302   \u001b[0m | \u001b[0m14.39    \u001b[0m | \u001b[0m15.71    \u001b[0m | \u001b[0m28.27    \u001b[0m | \u001b[0m8.145    \u001b[0m | \u001b[0m1.62     \u001b[0m | \u001b[0m0.7948   \u001b[0m |\n",
            "| \u001b[0m615      \u001b[0m | \u001b[0m1.78     \u001b[0m | \u001b[0m0.6302   \u001b[0m | \u001b[0m2.329    \u001b[0m | \u001b[0m0.23     \u001b[0m | \u001b[0m21.53    \u001b[0m | \u001b[0m19.12    \u001b[0m | \u001b[0m70.82    \u001b[0m | \u001b[0m7.189    \u001b[0m | \u001b[0m8.123    \u001b[0m | \u001b[0m0.5568   \u001b[0m |\n",
            "| \u001b[0m616      \u001b[0m | \u001b[0m1.78     \u001b[0m | \u001b[0m0.83     \u001b[0m | \u001b[0m7.061    \u001b[0m | \u001b[0m0.8524   \u001b[0m | \u001b[0m37.17    \u001b[0m | \u001b[0m94.98    \u001b[0m | \u001b[0m96.35    \u001b[0m | \u001b[0m1.633    \u001b[0m | \u001b[0m1.602    \u001b[0m | \u001b[0m0.739    \u001b[0m |\n",
            "| \u001b[0m617      \u001b[0m | \u001b[0m1.78     \u001b[0m | \u001b[0m0.7808   \u001b[0m | \u001b[0m4.449    \u001b[0m | \u001b[0m0.5737   \u001b[0m | \u001b[0m18.71    \u001b[0m | \u001b[0m95.8     \u001b[0m | \u001b[0m6.366    \u001b[0m | \u001b[0m0.4659   \u001b[0m | \u001b[0m7.328    \u001b[0m | \u001b[0m0.876    \u001b[0m |\n",
            "| \u001b[0m618      \u001b[0m | \u001b[0m1.78     \u001b[0m | \u001b[0m0.6739   \u001b[0m | \u001b[0m7.221    \u001b[0m | \u001b[0m0.144    \u001b[0m | \u001b[0m19.73    \u001b[0m | \u001b[0m45.87    \u001b[0m | \u001b[0m63.41    \u001b[0m | \u001b[0m4.646    \u001b[0m | \u001b[0m0.5838   \u001b[0m | \u001b[0m0.9857   \u001b[0m |\n",
            "| \u001b[0m619      \u001b[0m | \u001b[0m1.78     \u001b[0m | \u001b[0m0.5063   \u001b[0m | \u001b[0m9.066    \u001b[0m | \u001b[0m0.2922   \u001b[0m | \u001b[0m7.064    \u001b[0m | \u001b[0m63.47    \u001b[0m | \u001b[0m18.52    \u001b[0m | \u001b[0m9.841    \u001b[0m | \u001b[0m6.638    \u001b[0m | \u001b[0m0.8841   \u001b[0m |\n",
            "| \u001b[0m620      \u001b[0m | \u001b[0m1.78     \u001b[0m | \u001b[0m0.8428   \u001b[0m | \u001b[0m3.991    \u001b[0m | \u001b[0m0.9659   \u001b[0m | \u001b[0m22.1     \u001b[0m | \u001b[0m9.769    \u001b[0m | \u001b[0m62.49    \u001b[0m | \u001b[0m2.755    \u001b[0m | \u001b[0m9.661    \u001b[0m | \u001b[0m0.6602   \u001b[0m |\n",
            "| \u001b[0m621      \u001b[0m | \u001b[0m1.77     \u001b[0m | \u001b[0m0.8978   \u001b[0m | \u001b[0m3.14     \u001b[0m | \u001b[0m0.107    \u001b[0m | \u001b[0m35.39    \u001b[0m | \u001b[0m5.264    \u001b[0m | \u001b[0m29.06    \u001b[0m | \u001b[0m2.804    \u001b[0m | \u001b[0m2.301    \u001b[0m | \u001b[0m0.8689   \u001b[0m |\n",
            "| \u001b[0m622      \u001b[0m | \u001b[0m1.74     \u001b[0m | \u001b[0m0.7679   \u001b[0m | \u001b[0m8.984    \u001b[0m | \u001b[0m0.2512   \u001b[0m | \u001b[0m6.502    \u001b[0m | \u001b[0m5.802    \u001b[0m | \u001b[0m97.59    \u001b[0m | \u001b[0m2.086    \u001b[0m | \u001b[0m6.694    \u001b[0m | \u001b[0m0.8538   \u001b[0m |\n",
            "| \u001b[0m623      \u001b[0m | \u001b[0m1.78     \u001b[0m | \u001b[0m0.8753   \u001b[0m | \u001b[0m5.441    \u001b[0m | \u001b[0m0.9581   \u001b[0m | \u001b[0m6.906    \u001b[0m | \u001b[0m45.71    \u001b[0m | \u001b[0m53.26    \u001b[0m | \u001b[0m7.671    \u001b[0m | \u001b[0m8.378    \u001b[0m | \u001b[0m0.7524   \u001b[0m |\n",
            "| \u001b[0m624      \u001b[0m | \u001b[0m1.78     \u001b[0m | \u001b[0m0.708    \u001b[0m | \u001b[0m7.069    \u001b[0m | \u001b[0m0.1854   \u001b[0m | \u001b[0m25.81    \u001b[0m | \u001b[0m56.09    \u001b[0m | \u001b[0m41.61    \u001b[0m | \u001b[0m0.3896   \u001b[0m | \u001b[0m7.487    \u001b[0m | \u001b[0m0.8127   \u001b[0m |\n",
            "| \u001b[0m625      \u001b[0m | \u001b[0m1.764    \u001b[0m | \u001b[0m0.7178   \u001b[0m | \u001b[0m5.95     \u001b[0m | \u001b[0m0.7589   \u001b[0m | \u001b[0m6.202    \u001b[0m | \u001b[0m7.239    \u001b[0m | \u001b[0m94.54    \u001b[0m | \u001b[0m1.518    \u001b[0m | \u001b[0m2.714    \u001b[0m | \u001b[0m0.5197   \u001b[0m |\n",
            "| \u001b[0m626      \u001b[0m | \u001b[0m1.78     \u001b[0m | \u001b[0m0.547    \u001b[0m | \u001b[0m1.228    \u001b[0m | \u001b[0m0.6504   \u001b[0m | \u001b[0m4.741    \u001b[0m | \u001b[0m17.83    \u001b[0m | \u001b[0m43.9     \u001b[0m | \u001b[0m0.2586   \u001b[0m | \u001b[0m6.279    \u001b[0m | \u001b[0m0.7617   \u001b[0m |\n",
            "| \u001b[0m627      \u001b[0m | \u001b[0m1.895    \u001b[0m | \u001b[0m0.7957   \u001b[0m | \u001b[0m0.5234   \u001b[0m | \u001b[0m0.2983   \u001b[0m | \u001b[0m47.91    \u001b[0m | \u001b[0m3.853    \u001b[0m | \u001b[0m67.27    \u001b[0m | \u001b[0m0.01212  \u001b[0m | \u001b[0m7.968    \u001b[0m | \u001b[0m0.9515   \u001b[0m |\n",
            "| \u001b[0m628      \u001b[0m | \u001b[0m1.78     \u001b[0m | \u001b[0m0.6147   \u001b[0m | \u001b[0m1.437    \u001b[0m | \u001b[0m0.4884   \u001b[0m | \u001b[0m40.92    \u001b[0m | \u001b[0m79.4     \u001b[0m | \u001b[0m60.18    \u001b[0m | \u001b[0m5.525    \u001b[0m | \u001b[0m7.109    \u001b[0m | \u001b[0m0.8486   \u001b[0m |\n",
            "| \u001b[0m629      \u001b[0m | \u001b[0m1.78     \u001b[0m | \u001b[0m0.8919   \u001b[0m | \u001b[0m3.517    \u001b[0m | \u001b[0m0.5493   \u001b[0m | \u001b[0m36.13    \u001b[0m | \u001b[0m61.53    \u001b[0m | \u001b[0m12.77    \u001b[0m | \u001b[0m5.706    \u001b[0m | \u001b[0m0.4045   \u001b[0m | \u001b[0m0.8526   \u001b[0m |\n",
            "| \u001b[0m630      \u001b[0m | \u001b[0m1.729    \u001b[0m | \u001b[0m0.86     \u001b[0m | \u001b[0m0.6594   \u001b[0m | \u001b[0m0.5517   \u001b[0m | \u001b[0m48.3     \u001b[0m | \u001b[0m3.075    \u001b[0m | \u001b[0m73.06    \u001b[0m | \u001b[0m0.9621   \u001b[0m | \u001b[0m7.999    \u001b[0m | \u001b[0m0.5499   \u001b[0m |\n",
            "| \u001b[0m631      \u001b[0m | \u001b[0m1.78     \u001b[0m | \u001b[0m0.6341   \u001b[0m | \u001b[0m0.5615   \u001b[0m | \u001b[0m0.07557  \u001b[0m | \u001b[0m40.93    \u001b[0m | \u001b[0m32.0     \u001b[0m | \u001b[0m67.78    \u001b[0m | \u001b[0m9.918    \u001b[0m | \u001b[0m7.653    \u001b[0m | \u001b[0m0.579    \u001b[0m |\n",
            "| \u001b[0m632      \u001b[0m | \u001b[0m1.78     \u001b[0m | \u001b[0m0.6448   \u001b[0m | \u001b[0m7.678    \u001b[0m | \u001b[0m0.7386   \u001b[0m | \u001b[0m47.53    \u001b[0m | \u001b[0m2.515    \u001b[0m | \u001b[0m55.24    \u001b[0m | \u001b[0m4.976    \u001b[0m | \u001b[0m2.846    \u001b[0m | \u001b[0m0.9616   \u001b[0m |\n",
            "| \u001b[0m633      \u001b[0m | \u001b[0m1.734    \u001b[0m | \u001b[0m0.9424   \u001b[0m | \u001b[0m2.086    \u001b[0m | \u001b[0m0.4207   \u001b[0m | \u001b[0m49.98    \u001b[0m | \u001b[0m4.769    \u001b[0m | \u001b[0m67.74    \u001b[0m | \u001b[0m1.457    \u001b[0m | \u001b[0m8.301    \u001b[0m | \u001b[0m0.5717   \u001b[0m |\n",
            "| \u001b[0m634      \u001b[0m | \u001b[0m1.78     \u001b[0m | \u001b[0m0.538    \u001b[0m | \u001b[0m6.739    \u001b[0m | \u001b[0m0.5964   \u001b[0m | \u001b[0m27.53    \u001b[0m | \u001b[0m75.51    \u001b[0m | \u001b[0m89.47    \u001b[0m | \u001b[0m1.5      \u001b[0m | \u001b[0m7.396    \u001b[0m | \u001b[0m0.7632   \u001b[0m |\n",
            "| \u001b[0m635      \u001b[0m | \u001b[0m1.78     \u001b[0m | \u001b[0m0.629    \u001b[0m | \u001b[0m2.579    \u001b[0m | \u001b[0m0.8585   \u001b[0m | \u001b[0m47.45    \u001b[0m | \u001b[0m10.85    \u001b[0m | \u001b[0m27.38    \u001b[0m | \u001b[0m2.095    \u001b[0m | \u001b[0m0.01071  \u001b[0m | \u001b[0m0.562    \u001b[0m |\n",
            "| \u001b[0m636      \u001b[0m | \u001b[0m1.746    \u001b[0m | \u001b[0m0.5141   \u001b[0m | \u001b[0m9.852    \u001b[0m | \u001b[0m0.4999   \u001b[0m | \u001b[0m28.41    \u001b[0m | \u001b[0m7.946    \u001b[0m | \u001b[0m80.14    \u001b[0m | \u001b[0m0.5095   \u001b[0m | \u001b[0m8.65     \u001b[0m | \u001b[0m0.9673   \u001b[0m |\n",
            "| \u001b[0m637      \u001b[0m | \u001b[0m1.78     \u001b[0m | \u001b[0m0.7046   \u001b[0m | \u001b[0m1.368    \u001b[0m | \u001b[0m0.6973   \u001b[0m | \u001b[0m3.25     \u001b[0m | \u001b[0m29.92    \u001b[0m | \u001b[0m52.11    \u001b[0m | \u001b[0m4.008    \u001b[0m | \u001b[0m0.5853   \u001b[0m | \u001b[0m0.8624   \u001b[0m |\n",
            "| \u001b[0m638      \u001b[0m | \u001b[0m1.81     \u001b[0m | \u001b[0m0.596    \u001b[0m | \u001b[0m7.876    \u001b[0m | \u001b[0m0.2571   \u001b[0m | \u001b[0m17.89    \u001b[0m | \u001b[0m8.159    \u001b[0m | \u001b[0m60.8     \u001b[0m | \u001b[0m1.087    \u001b[0m | \u001b[0m6.082    \u001b[0m | \u001b[0m0.7156   \u001b[0m |\n",
            "| \u001b[0m639      \u001b[0m | \u001b[0m1.78     \u001b[0m | \u001b[0m0.5169   \u001b[0m | \u001b[0m9.145    \u001b[0m | \u001b[0m0.1472   \u001b[0m | \u001b[0m17.27    \u001b[0m | \u001b[0m10.28    \u001b[0m | \u001b[0m62.87    \u001b[0m | \u001b[0m1.582    \u001b[0m | \u001b[0m8.449    \u001b[0m | \u001b[0m0.8619   \u001b[0m |\n",
            "| \u001b[0m640      \u001b[0m | \u001b[0m1.741    \u001b[0m | \u001b[0m0.5636   \u001b[0m | \u001b[0m7.316    \u001b[0m | \u001b[0m0.2862   \u001b[0m | \u001b[0m25.41    \u001b[0m | \u001b[0m6.298    \u001b[0m | \u001b[0m61.51    \u001b[0m | \u001b[0m1.934    \u001b[0m | \u001b[0m7.546    \u001b[0m | \u001b[0m0.6244   \u001b[0m |\n",
            "| \u001b[0m641      \u001b[0m | \u001b[0m1.78     \u001b[0m | \u001b[0m0.6144   \u001b[0m | \u001b[0m5.225    \u001b[0m | \u001b[0m0.335    \u001b[0m | \u001b[0m13.56    \u001b[0m | \u001b[0m38.73    \u001b[0m | \u001b[0m73.51    \u001b[0m | \u001b[0m9.914    \u001b[0m | \u001b[0m6.278    \u001b[0m | \u001b[0m0.9174   \u001b[0m |\n",
            "| \u001b[0m642      \u001b[0m | \u001b[0m1.769    \u001b[0m | \u001b[0m0.9833   \u001b[0m | \u001b[0m1.558    \u001b[0m | \u001b[0m0.7332   \u001b[0m | \u001b[0m45.78    \u001b[0m | \u001b[0m3.602    \u001b[0m | \u001b[0m67.99    \u001b[0m | \u001b[0m0.2541   \u001b[0m | \u001b[0m9.482    \u001b[0m | \u001b[0m0.9827   \u001b[0m |\n",
            "| \u001b[0m643      \u001b[0m | \u001b[0m1.78     \u001b[0m | \u001b[0m0.6653   \u001b[0m | \u001b[0m1.185    \u001b[0m | \u001b[0m0.6743   \u001b[0m | \u001b[0m26.25    \u001b[0m | \u001b[0m69.17    \u001b[0m | \u001b[0m67.67    \u001b[0m | \u001b[0m4.291    \u001b[0m | \u001b[0m6.46     \u001b[0m | \u001b[0m0.7716   \u001b[0m |\n",
            "| \u001b[0m644      \u001b[0m | \u001b[0m1.78     \u001b[0m | \u001b[0m0.8852   \u001b[0m | \u001b[0m2.941    \u001b[0m | \u001b[0m0.9252   \u001b[0m | \u001b[0m36.3     \u001b[0m | \u001b[0m46.7     \u001b[0m | \u001b[0m81.34    \u001b[0m | \u001b[0m5.057    \u001b[0m | \u001b[0m4.809    \u001b[0m | \u001b[0m0.9851   \u001b[0m |\n",
            "| \u001b[0m645      \u001b[0m | \u001b[0m1.816    \u001b[0m | \u001b[0m0.5297   \u001b[0m | \u001b[0m7.575    \u001b[0m | \u001b[0m0.6676   \u001b[0m | \u001b[0m6.023    \u001b[0m | \u001b[0m5.667    \u001b[0m | \u001b[0m97.18    \u001b[0m | \u001b[0m0.339    \u001b[0m | \u001b[0m5.646    \u001b[0m | \u001b[0m0.8733   \u001b[0m |\n",
            "| \u001b[0m646      \u001b[0m | \u001b[0m1.78     \u001b[0m | \u001b[0m0.5002   \u001b[0m | \u001b[0m7.359    \u001b[0m | \u001b[0m0.4938   \u001b[0m | \u001b[0m40.09    \u001b[0m | \u001b[0m37.45    \u001b[0m | \u001b[0m6.061    \u001b[0m | \u001b[0m1.893    \u001b[0m | \u001b[0m0.6591   \u001b[0m | \u001b[0m0.9543   \u001b[0m |\n",
            "| \u001b[0m647      \u001b[0m | \u001b[0m1.78     \u001b[0m | \u001b[0m0.7166   \u001b[0m | \u001b[0m6.172    \u001b[0m | \u001b[0m0.2964   \u001b[0m | \u001b[0m1.364    \u001b[0m | \u001b[0m9.548    \u001b[0m | \u001b[0m37.05    \u001b[0m | \u001b[0m3.109    \u001b[0m | \u001b[0m7.206    \u001b[0m | \u001b[0m0.6872   \u001b[0m |\n",
            "| \u001b[0m648      \u001b[0m | \u001b[0m1.78     \u001b[0m | \u001b[0m0.7319   \u001b[0m | \u001b[0m6.716    \u001b[0m | \u001b[0m0.1741   \u001b[0m | \u001b[0m42.21    \u001b[0m | \u001b[0m77.67    \u001b[0m | \u001b[0m92.95    \u001b[0m | \u001b[0m3.775    \u001b[0m | \u001b[0m8.984    \u001b[0m | \u001b[0m0.6966   \u001b[0m |\n",
            "| \u001b[0m649      \u001b[0m | \u001b[0m1.78     \u001b[0m | \u001b[0m0.6339   \u001b[0m | \u001b[0m2.038    \u001b[0m | \u001b[0m0.5827   \u001b[0m | \u001b[0m27.56    \u001b[0m | \u001b[0m62.59    \u001b[0m | \u001b[0m61.05    \u001b[0m | \u001b[0m3.052    \u001b[0m | \u001b[0m9.272    \u001b[0m | \u001b[0m0.9965   \u001b[0m |\n",
            "| \u001b[0m650      \u001b[0m | \u001b[0m1.749    \u001b[0m | \u001b[0m0.6149   \u001b[0m | \u001b[0m9.609    \u001b[0m | \u001b[0m0.3501   \u001b[0m | \u001b[0m46.4     \u001b[0m | \u001b[0m1.799    \u001b[0m | \u001b[0m53.26    \u001b[0m | \u001b[0m4.411    \u001b[0m | \u001b[0m0.7229   \u001b[0m | \u001b[0m0.6361   \u001b[0m |\n",
            "| \u001b[0m651      \u001b[0m | \u001b[0m1.825    \u001b[0m | \u001b[0m0.9037   \u001b[0m | \u001b[0m5.327    \u001b[0m | \u001b[0m0.7714   \u001b[0m | \u001b[0m45.2     \u001b[0m | \u001b[0m0.1075   \u001b[0m | \u001b[0m54.89    \u001b[0m | \u001b[0m2.621    \u001b[0m | \u001b[0m1.967    \u001b[0m | \u001b[0m0.6668   \u001b[0m |\n",
            "| \u001b[0m652      \u001b[0m | \u001b[0m1.78     \u001b[0m | \u001b[0m0.8782   \u001b[0m | \u001b[0m6.541    \u001b[0m | \u001b[0m0.8649   \u001b[0m | \u001b[0m43.47    \u001b[0m | \u001b[0m49.63    \u001b[0m | \u001b[0m86.09    \u001b[0m | \u001b[0m1.473    \u001b[0m | \u001b[0m3.705    \u001b[0m | \u001b[0m0.8229   \u001b[0m |\n",
            "| \u001b[0m653      \u001b[0m | \u001b[0m1.78     \u001b[0m | \u001b[0m0.7397   \u001b[0m | \u001b[0m4.374    \u001b[0m | \u001b[0m0.4787   \u001b[0m | \u001b[0m19.86    \u001b[0m | \u001b[0m90.05    \u001b[0m | \u001b[0m75.46    \u001b[0m | \u001b[0m6.992    \u001b[0m | \u001b[0m6.331    \u001b[0m | \u001b[0m0.8708   \u001b[0m |\n",
            "| \u001b[0m654      \u001b[0m | \u001b[0m1.768    \u001b[0m | \u001b[0m0.5649   \u001b[0m | \u001b[0m1.699    \u001b[0m | \u001b[0m0.2264   \u001b[0m | \u001b[0m41.56    \u001b[0m | \u001b[0m8.243    \u001b[0m | \u001b[0m56.11    \u001b[0m | \u001b[0m2.882    \u001b[0m | \u001b[0m2.787    \u001b[0m | \u001b[0m0.9323   \u001b[0m |\n",
            "| \u001b[0m655      \u001b[0m | \u001b[0m1.78     \u001b[0m | \u001b[0m0.7474   \u001b[0m | \u001b[0m2.345    \u001b[0m | \u001b[0m0.298    \u001b[0m | \u001b[0m38.69    \u001b[0m | \u001b[0m3.863    \u001b[0m | \u001b[0m33.65    \u001b[0m | \u001b[0m3.52     \u001b[0m | \u001b[0m1.383    \u001b[0m | \u001b[0m0.9558   \u001b[0m |\n",
            "| \u001b[0m656      \u001b[0m | \u001b[0m1.749    \u001b[0m | \u001b[0m0.7882   \u001b[0m | \u001b[0m5.281    \u001b[0m | \u001b[0m0.853    \u001b[0m | \u001b[0m35.41    \u001b[0m | \u001b[0m6.819    \u001b[0m | \u001b[0m32.94    \u001b[0m | \u001b[0m0.5886   \u001b[0m | \u001b[0m1.632    \u001b[0m | \u001b[0m0.6706   \u001b[0m |\n",
            "| \u001b[0m657      \u001b[0m | \u001b[0m1.78     \u001b[0m | \u001b[0m0.893    \u001b[0m | \u001b[0m6.091    \u001b[0m | \u001b[0m0.786    \u001b[0m | \u001b[0m4.535    \u001b[0m | \u001b[0m93.94    \u001b[0m | \u001b[0m28.6     \u001b[0m | \u001b[0m7.948    \u001b[0m | \u001b[0m5.1      \u001b[0m | \u001b[0m0.941    \u001b[0m |\n",
            "| \u001b[0m658      \u001b[0m | \u001b[0m1.757    \u001b[0m | \u001b[0m0.8512   \u001b[0m | \u001b[0m8.802    \u001b[0m | \u001b[0m0.02006  \u001b[0m | \u001b[0m17.89    \u001b[0m | \u001b[0m6.866    \u001b[0m | \u001b[0m61.61    \u001b[0m | \u001b[0m0.2466   \u001b[0m | \u001b[0m5.384    \u001b[0m | \u001b[0m0.5983   \u001b[0m |\n",
            "| \u001b[0m659      \u001b[0m | \u001b[0m1.78     \u001b[0m | \u001b[0m0.7292   \u001b[0m | \u001b[0m5.552    \u001b[0m | \u001b[0m0.8198   \u001b[0m | \u001b[0m49.36    \u001b[0m | \u001b[0m10.82    \u001b[0m | \u001b[0m33.56    \u001b[0m | \u001b[0m3.368    \u001b[0m | \u001b[0m6.666    \u001b[0m | \u001b[0m0.8656   \u001b[0m |\n",
            "| \u001b[0m660      \u001b[0m | \u001b[0m1.833    \u001b[0m | \u001b[0m0.669    \u001b[0m | \u001b[0m7.799    \u001b[0m | \u001b[0m0.3906   \u001b[0m | \u001b[0m44.42    \u001b[0m | \u001b[0m1.012    \u001b[0m | \u001b[0m52.67    \u001b[0m | \u001b[0m0.4243   \u001b[0m | \u001b[0m1.082    \u001b[0m | \u001b[0m0.6033   \u001b[0m |\n",
            "| \u001b[0m661      \u001b[0m | \u001b[0m1.78     \u001b[0m | \u001b[0m0.9707   \u001b[0m | \u001b[0m2.156    \u001b[0m | \u001b[0m0.6927   \u001b[0m | \u001b[0m9.2      \u001b[0m | \u001b[0m58.56    \u001b[0m | \u001b[0m34.63    \u001b[0m | \u001b[0m5.672    \u001b[0m | \u001b[0m6.618    \u001b[0m | \u001b[0m0.6498   \u001b[0m |\n",
            "| \u001b[0m662      \u001b[0m | \u001b[0m1.78     \u001b[0m | \u001b[0m0.713    \u001b[0m | \u001b[0m8.093    \u001b[0m | \u001b[0m0.6015   \u001b[0m | \u001b[0m36.23    \u001b[0m | \u001b[0m63.31    \u001b[0m | \u001b[0m17.37    \u001b[0m | \u001b[0m3.344    \u001b[0m | \u001b[0m8.064    \u001b[0m | \u001b[0m0.7861   \u001b[0m |\n",
            "| \u001b[0m663      \u001b[0m | \u001b[0m1.78     \u001b[0m | \u001b[0m0.6335   \u001b[0m | \u001b[0m5.097    \u001b[0m | \u001b[0m0.4614   \u001b[0m | \u001b[0m43.39    \u001b[0m | \u001b[0m30.63    \u001b[0m | \u001b[0m27.66    \u001b[0m | \u001b[0m0.6663   \u001b[0m | \u001b[0m6.191    \u001b[0m | \u001b[0m0.5548   \u001b[0m |\n",
            "| \u001b[0m664      \u001b[0m | \u001b[0m1.78     \u001b[0m | \u001b[0m0.6482   \u001b[0m | \u001b[0m6.578    \u001b[0m | \u001b[0m0.08706  \u001b[0m | \u001b[0m13.63    \u001b[0m | \u001b[0m31.69    \u001b[0m | \u001b[0m14.38    \u001b[0m | \u001b[0m7.096    \u001b[0m | \u001b[0m3.08     \u001b[0m | \u001b[0m0.9272   \u001b[0m |\n",
            "| \u001b[0m665      \u001b[0m | \u001b[0m1.78     \u001b[0m | \u001b[0m0.8464   \u001b[0m | \u001b[0m6.93     \u001b[0m | \u001b[0m0.7145   \u001b[0m | \u001b[0m2.495    \u001b[0m | \u001b[0m57.33    \u001b[0m | \u001b[0m24.32    \u001b[0m | \u001b[0m2.294    \u001b[0m | \u001b[0m7.511    \u001b[0m | \u001b[0m0.5103   \u001b[0m |\n",
            "| \u001b[0m666      \u001b[0m | \u001b[0m1.78     \u001b[0m | \u001b[0m0.9958   \u001b[0m | \u001b[0m4.035    \u001b[0m | \u001b[0m0.6323   \u001b[0m | \u001b[0m23.79    \u001b[0m | \u001b[0m99.75    \u001b[0m | \u001b[0m5.137    \u001b[0m | \u001b[0m6.559    \u001b[0m | \u001b[0m8.613    \u001b[0m | \u001b[0m0.6135   \u001b[0m |\n",
            "| \u001b[0m667      \u001b[0m | \u001b[0m1.78     \u001b[0m | \u001b[0m0.9933   \u001b[0m | \u001b[0m8.576    \u001b[0m | \u001b[0m0.1697   \u001b[0m | \u001b[0m3.631    \u001b[0m | \u001b[0m33.12    \u001b[0m | \u001b[0m15.16    \u001b[0m | \u001b[0m3.19     \u001b[0m | \u001b[0m1.952    \u001b[0m | \u001b[0m0.6929   \u001b[0m |\n",
            "| \u001b[0m668      \u001b[0m | \u001b[0m1.78     \u001b[0m | \u001b[0m0.8352   \u001b[0m | \u001b[0m4.553    \u001b[0m | \u001b[0m0.8205   \u001b[0m | \u001b[0m43.44    \u001b[0m | \u001b[0m94.78    \u001b[0m | \u001b[0m89.17    \u001b[0m | \u001b[0m3.587    \u001b[0m | \u001b[0m6.588    \u001b[0m | \u001b[0m0.8628   \u001b[0m |\n",
            "| \u001b[0m669      \u001b[0m | \u001b[0m1.78     \u001b[0m | \u001b[0m0.7648   \u001b[0m | \u001b[0m9.037    \u001b[0m | \u001b[0m0.2452   \u001b[0m | \u001b[0m36.09    \u001b[0m | \u001b[0m45.0     \u001b[0m | \u001b[0m85.97    \u001b[0m | \u001b[0m9.176    \u001b[0m | \u001b[0m2.069    \u001b[0m | \u001b[0m0.8849   \u001b[0m |\n",
            "| \u001b[0m670      \u001b[0m | \u001b[0m1.775    \u001b[0m | \u001b[0m0.5751   \u001b[0m | \u001b[0m4.521    \u001b[0m | \u001b[0m0.5356   \u001b[0m | \u001b[0m21.79    \u001b[0m | \u001b[0m6.007    \u001b[0m | \u001b[0m64.61    \u001b[0m | \u001b[0m1.624    \u001b[0m | \u001b[0m8.727    \u001b[0m | \u001b[0m0.7073   \u001b[0m |\n",
            "| \u001b[0m671      \u001b[0m | \u001b[0m1.78     \u001b[0m | \u001b[0m0.9932   \u001b[0m | \u001b[0m0.9831   \u001b[0m | \u001b[0m0.7704   \u001b[0m | \u001b[0m47.11    \u001b[0m | \u001b[0m99.43    \u001b[0m | \u001b[0m49.06    \u001b[0m | \u001b[0m4.625    \u001b[0m | \u001b[0m0.8336   \u001b[0m | \u001b[0m0.5817   \u001b[0m |\n",
            "| \u001b[0m672      \u001b[0m | \u001b[0m1.928    \u001b[0m | \u001b[0m0.6723   \u001b[0m | \u001b[0m0.1648   \u001b[0m | \u001b[0m0.8829   \u001b[0m | \u001b[0m48.4     \u001b[0m | \u001b[0m2.951    \u001b[0m | \u001b[0m68.7     \u001b[0m | \u001b[0m0.7828   \u001b[0m | \u001b[0m9.996    \u001b[0m | \u001b[0m0.9965   \u001b[0m |\n",
            "| \u001b[0m673      \u001b[0m | \u001b[0m1.772    \u001b[0m | \u001b[0m0.7015   \u001b[0m | \u001b[0m5.92     \u001b[0m | \u001b[0m0.3563   \u001b[0m | \u001b[0m3.415    \u001b[0m | \u001b[0m8.561    \u001b[0m | \u001b[0m37.98    \u001b[0m | \u001b[0m1.615    \u001b[0m | \u001b[0m5.267    \u001b[0m | \u001b[0m0.5245   \u001b[0m |\n",
            "| \u001b[0m674      \u001b[0m | \u001b[0m1.802    \u001b[0m | \u001b[0m0.8131   \u001b[0m | \u001b[0m7.511    \u001b[0m | \u001b[0m0.4743   \u001b[0m | \u001b[0m17.05    \u001b[0m | \u001b[0m9.991    \u001b[0m | \u001b[0m58.66    \u001b[0m | \u001b[0m0.9501   \u001b[0m | \u001b[0m4.037    \u001b[0m | \u001b[0m0.7514   \u001b[0m |\n",
            "| \u001b[0m675      \u001b[0m | \u001b[0m1.8      \u001b[0m | \u001b[0m0.8103   \u001b[0m | \u001b[0m7.345    \u001b[0m | \u001b[0m0.135    \u001b[0m | \u001b[0m4.059    \u001b[0m | \u001b[0m8.332    \u001b[0m | \u001b[0m95.8     \u001b[0m | \u001b[0m1.175    \u001b[0m | \u001b[0m9.359    \u001b[0m | \u001b[0m0.5691   \u001b[0m |\n",
            "| \u001b[0m676      \u001b[0m | \u001b[0m1.78     \u001b[0m | \u001b[0m0.8756   \u001b[0m | \u001b[0m8.993    \u001b[0m | \u001b[0m0.1939   \u001b[0m | \u001b[0m22.52    \u001b[0m | \u001b[0m10.79    \u001b[0m | \u001b[0m63.52    \u001b[0m | \u001b[0m1.712    \u001b[0m | \u001b[0m7.415    \u001b[0m | \u001b[0m0.5579   \u001b[0m |\n",
            "| \u001b[0m677      \u001b[0m | \u001b[0m1.831    \u001b[0m | \u001b[0m0.7571   \u001b[0m | \u001b[0m7.505    \u001b[0m | \u001b[0m0.6566   \u001b[0m | \u001b[0m47.48    \u001b[0m | \u001b[0m0.3771   \u001b[0m | \u001b[0m53.86    \u001b[0m | \u001b[0m0.4195   \u001b[0m | \u001b[0m5.901    \u001b[0m | \u001b[0m0.8545   \u001b[0m |\n",
            "| \u001b[0m678      \u001b[0m | \u001b[0m1.777    \u001b[0m | \u001b[0m0.7324   \u001b[0m | \u001b[0m1.335    \u001b[0m | \u001b[0m0.0206   \u001b[0m | \u001b[0m49.76    \u001b[0m | \u001b[0m1.097    \u001b[0m | \u001b[0m69.93    \u001b[0m | \u001b[0m3.631    \u001b[0m | \u001b[0m9.312    \u001b[0m | \u001b[0m0.6338   \u001b[0m |\n",
            "| \u001b[0m679      \u001b[0m | \u001b[0m1.78     \u001b[0m | \u001b[0m0.5284   \u001b[0m | \u001b[0m8.44     \u001b[0m | \u001b[0m0.06378  \u001b[0m | \u001b[0m17.57    \u001b[0m | \u001b[0m11.03    \u001b[0m | \u001b[0m59.48    \u001b[0m | \u001b[0m0.1233   \u001b[0m | \u001b[0m4.845    \u001b[0m | \u001b[0m0.7      \u001b[0m |\n",
            "| \u001b[0m680      \u001b[0m | \u001b[0m1.733    \u001b[0m | \u001b[0m0.7679   \u001b[0m | \u001b[0m8.018    \u001b[0m | \u001b[0m0.6938   \u001b[0m | \u001b[0m47.76    \u001b[0m | \u001b[0m0.9583   \u001b[0m | \u001b[0m53.57    \u001b[0m | \u001b[0m2.201    \u001b[0m | \u001b[0m0.1894   \u001b[0m | \u001b[0m0.8191   \u001b[0m |\n",
            "| \u001b[0m681      \u001b[0m | \u001b[0m1.83     \u001b[0m | \u001b[0m0.8765   \u001b[0m | \u001b[0m9.33     \u001b[0m | \u001b[0m0.9353   \u001b[0m | \u001b[0m47.05    \u001b[0m | \u001b[0m1.644    \u001b[0m | \u001b[0m54.4     \u001b[0m | \u001b[0m1.349    \u001b[0m | \u001b[0m5.067    \u001b[0m | \u001b[0m0.9172   \u001b[0m |\n",
            "| \u001b[0m682      \u001b[0m | \u001b[0m1.755    \u001b[0m | \u001b[0m0.8087   \u001b[0m | \u001b[0m4.963    \u001b[0m | \u001b[0m0.4204   \u001b[0m | \u001b[0m3.251    \u001b[0m | \u001b[0m8.735    \u001b[0m | \u001b[0m37.76    \u001b[0m | \u001b[0m0.4848   \u001b[0m | \u001b[0m7.098    \u001b[0m | \u001b[0m0.901    \u001b[0m |\n",
            "| \u001b[0m683      \u001b[0m | \u001b[0m1.729    \u001b[0m | \u001b[0m0.6834   \u001b[0m | \u001b[0m3.711    \u001b[0m | \u001b[0m0.5534   \u001b[0m | \u001b[0m37.99    \u001b[0m | \u001b[0m2.745    \u001b[0m | \u001b[0m33.34    \u001b[0m | \u001b[0m2.465    \u001b[0m | \u001b[0m1.375    \u001b[0m | \u001b[0m0.7678   \u001b[0m |\n",
            "| \u001b[0m684      \u001b[0m | \u001b[0m1.783    \u001b[0m | \u001b[0m0.998    \u001b[0m | \u001b[0m5.711    \u001b[0m | \u001b[0m0.3576   \u001b[0m | \u001b[0m17.57    \u001b[0m | \u001b[0m8.666    \u001b[0m | \u001b[0m58.31    \u001b[0m | \u001b[0m1.925    \u001b[0m | \u001b[0m2.627    \u001b[0m | \u001b[0m0.9508   \u001b[0m |\n",
            "| \u001b[0m685      \u001b[0m | \u001b[0m1.81     \u001b[0m | \u001b[0m0.7273   \u001b[0m | \u001b[0m3.856    \u001b[0m | \u001b[0m0.7299   \u001b[0m | \u001b[0m2.678    \u001b[0m | \u001b[0m7.839    \u001b[0m | \u001b[0m41.7     \u001b[0m | \u001b[0m1.409    \u001b[0m | \u001b[0m6.472    \u001b[0m | \u001b[0m0.8273   \u001b[0m |\n",
            "| \u001b[0m686      \u001b[0m | \u001b[0m1.762    \u001b[0m | \u001b[0m0.7724   \u001b[0m | \u001b[0m6.397    \u001b[0m | \u001b[0m0.9785   \u001b[0m | \u001b[0m46.55    \u001b[0m | \u001b[0m0.5688   \u001b[0m | \u001b[0m55.19    \u001b[0m | \u001b[0m3.687    \u001b[0m | \u001b[0m1.461    \u001b[0m | \u001b[0m0.8832   \u001b[0m |\n",
            "| \u001b[0m687      \u001b[0m | \u001b[0m1.796    \u001b[0m | \u001b[0m0.7752   \u001b[0m | \u001b[0m3.977    \u001b[0m | \u001b[0m0.508    \u001b[0m | \u001b[0m33.73    \u001b[0m | \u001b[0m7.388    \u001b[0m | \u001b[0m26.92    \u001b[0m | \u001b[0m0.824    \u001b[0m | \u001b[0m2.033    \u001b[0m | \u001b[0m0.9894   \u001b[0m |\n",
            "| \u001b[0m688      \u001b[0m | \u001b[0m1.801    \u001b[0m | \u001b[0m0.8158   \u001b[0m | \u001b[0m5.917    \u001b[0m | \u001b[0m0.9257   \u001b[0m | \u001b[0m9.509    \u001b[0m | \u001b[0m5.705    \u001b[0m | \u001b[0m94.19    \u001b[0m | \u001b[0m0.8317   \u001b[0m | \u001b[0m1.842    \u001b[0m | \u001b[0m0.8341   \u001b[0m |\n",
            "| \u001b[0m689      \u001b[0m | \u001b[0m1.741    \u001b[0m | \u001b[0m0.9202   \u001b[0m | \u001b[0m0.3704   \u001b[0m | \u001b[0m0.9071   \u001b[0m | \u001b[0m47.92    \u001b[0m | \u001b[0m2.002    \u001b[0m | \u001b[0m68.85    \u001b[0m | \u001b[0m0.3531   \u001b[0m | \u001b[0m9.006    \u001b[0m | \u001b[0m0.5382   \u001b[0m |\n",
            "| \u001b[0m690      \u001b[0m | \u001b[0m1.78     \u001b[0m | \u001b[0m0.8945   \u001b[0m | \u001b[0m5.654    \u001b[0m | \u001b[0m0.5247   \u001b[0m | \u001b[0m4.537    \u001b[0m | \u001b[0m53.18    \u001b[0m | \u001b[0m15.98    \u001b[0m | \u001b[0m4.923    \u001b[0m | \u001b[0m9.488    \u001b[0m | \u001b[0m0.7312   \u001b[0m |\n",
            "| \u001b[0m691      \u001b[0m | \u001b[0m1.78     \u001b[0m | \u001b[0m0.6966   \u001b[0m | \u001b[0m1.773    \u001b[0m | \u001b[0m0.5122   \u001b[0m | \u001b[0m1.945    \u001b[0m | \u001b[0m76.1     \u001b[0m | \u001b[0m55.51    \u001b[0m | \u001b[0m6.231    \u001b[0m | \u001b[0m3.015    \u001b[0m | \u001b[0m0.5921   \u001b[0m |\n",
            "| \u001b[0m692      \u001b[0m | \u001b[0m1.78     \u001b[0m | \u001b[0m0.9083   \u001b[0m | \u001b[0m8.039    \u001b[0m | \u001b[0m0.1336   \u001b[0m | \u001b[0m38.29    \u001b[0m | \u001b[0m48.85    \u001b[0m | \u001b[0m5.845    \u001b[0m | \u001b[0m4.671    \u001b[0m | \u001b[0m9.73     \u001b[0m | \u001b[0m0.6246   \u001b[0m |\n",
            "| \u001b[0m693      \u001b[0m | \u001b[0m1.78     \u001b[0m | \u001b[0m0.5056   \u001b[0m | \u001b[0m0.7263   \u001b[0m | \u001b[0m0.3285   \u001b[0m | \u001b[0m16.8     \u001b[0m | \u001b[0m87.76    \u001b[0m | \u001b[0m13.83    \u001b[0m | \u001b[0m8.557    \u001b[0m | \u001b[0m2.202    \u001b[0m | \u001b[0m0.5139   \u001b[0m |\n",
            "| \u001b[0m694      \u001b[0m | \u001b[0m1.78     \u001b[0m | \u001b[0m0.7124   \u001b[0m | \u001b[0m5.763    \u001b[0m | \u001b[0m0.5569   \u001b[0m | \u001b[0m28.67    \u001b[0m | \u001b[0m79.23    \u001b[0m | \u001b[0m10.26    \u001b[0m | \u001b[0m6.891    \u001b[0m | \u001b[0m7.779    \u001b[0m | \u001b[0m0.5559   \u001b[0m |\n",
            "| \u001b[0m695      \u001b[0m | \u001b[0m1.78     \u001b[0m | \u001b[0m0.7481   \u001b[0m | \u001b[0m8.18     \u001b[0m | \u001b[0m0.758    \u001b[0m | \u001b[0m6.649    \u001b[0m | \u001b[0m38.95    \u001b[0m | \u001b[0m55.64    \u001b[0m | \u001b[0m5.812    \u001b[0m | \u001b[0m2.031    \u001b[0m | \u001b[0m0.863    \u001b[0m |\n",
            "| \u001b[0m696      \u001b[0m | \u001b[0m1.78     \u001b[0m | \u001b[0m0.5879   \u001b[0m | \u001b[0m0.04797  \u001b[0m | \u001b[0m0.8301   \u001b[0m | \u001b[0m33.12    \u001b[0m | \u001b[0m25.46    \u001b[0m | \u001b[0m87.57    \u001b[0m | \u001b[0m9.317    \u001b[0m | \u001b[0m3.85     \u001b[0m | \u001b[0m0.9725   \u001b[0m |\n",
            "| \u001b[0m697      \u001b[0m | \u001b[0m1.78     \u001b[0m | \u001b[0m0.8291   \u001b[0m | \u001b[0m0.1132   \u001b[0m | \u001b[0m0.1229   \u001b[0m | \u001b[0m10.27    \u001b[0m | \u001b[0m19.25    \u001b[0m | \u001b[0m73.6     \u001b[0m | \u001b[0m3.967    \u001b[0m | \u001b[0m2.823    \u001b[0m | \u001b[0m0.7081   \u001b[0m |\n",
            "| \u001b[0m698      \u001b[0m | \u001b[0m1.78     \u001b[0m | \u001b[0m0.8694   \u001b[0m | \u001b[0m8.895    \u001b[0m | \u001b[0m0.6668   \u001b[0m | \u001b[0m4.226    \u001b[0m | \u001b[0m26.13    \u001b[0m | \u001b[0m36.89    \u001b[0m | \u001b[0m2.003    \u001b[0m | \u001b[0m2.776    \u001b[0m | \u001b[0m0.8244   \u001b[0m |\n",
            "| \u001b[0m699      \u001b[0m | \u001b[0m1.78     \u001b[0m | \u001b[0m0.9662   \u001b[0m | \u001b[0m8.918    \u001b[0m | \u001b[0m0.4229   \u001b[0m | \u001b[0m48.17    \u001b[0m | \u001b[0m8.41     \u001b[0m | \u001b[0m46.76    \u001b[0m | \u001b[0m3.348    \u001b[0m | \u001b[0m5.139    \u001b[0m | \u001b[0m0.993    \u001b[0m |\n",
            "| \u001b[0m700      \u001b[0m | \u001b[0m1.78     \u001b[0m | \u001b[0m0.8467   \u001b[0m | \u001b[0m4.778    \u001b[0m | \u001b[0m0.04869  \u001b[0m | \u001b[0m32.41    \u001b[0m | \u001b[0m64.81    \u001b[0m | \u001b[0m44.42    \u001b[0m | \u001b[0m7.562    \u001b[0m | \u001b[0m2.811    \u001b[0m | \u001b[0m0.7186   \u001b[0m |\n",
            "| \u001b[0m701      \u001b[0m | \u001b[0m1.78     \u001b[0m | \u001b[0m0.9153   \u001b[0m | \u001b[0m2.1      \u001b[0m | \u001b[0m0.1441   \u001b[0m | \u001b[0m5.331    \u001b[0m | \u001b[0m26.44    \u001b[0m | \u001b[0m17.9     \u001b[0m | \u001b[0m4.323    \u001b[0m | \u001b[0m6.39     \u001b[0m | \u001b[0m0.7397   \u001b[0m |\n",
            "| \u001b[0m702      \u001b[0m | \u001b[0m1.78     \u001b[0m | \u001b[0m0.8563   \u001b[0m | \u001b[0m4.437    \u001b[0m | \u001b[0m0.1642   \u001b[0m | \u001b[0m24.97    \u001b[0m | \u001b[0m14.72    \u001b[0m | \u001b[0m15.72    \u001b[0m | \u001b[0m5.554    \u001b[0m | \u001b[0m9.733    \u001b[0m | \u001b[0m0.6313   \u001b[0m |\n",
            "| \u001b[0m703      \u001b[0m | \u001b[0m1.78     \u001b[0m | \u001b[0m0.8176   \u001b[0m | \u001b[0m7.123    \u001b[0m | \u001b[0m0.8808   \u001b[0m | \u001b[0m25.57    \u001b[0m | \u001b[0m65.64    \u001b[0m | \u001b[0m47.46    \u001b[0m | \u001b[0m4.39     \u001b[0m | \u001b[0m8.873    \u001b[0m | \u001b[0m0.6448   \u001b[0m |\n",
            "| \u001b[0m704      \u001b[0m | \u001b[0m1.78     \u001b[0m | \u001b[0m0.9347   \u001b[0m | \u001b[0m0.5548   \u001b[0m | \u001b[0m0.116    \u001b[0m | \u001b[0m39.71    \u001b[0m | \u001b[0m88.57    \u001b[0m | \u001b[0m82.77    \u001b[0m | \u001b[0m3.806    \u001b[0m | \u001b[0m8.802    \u001b[0m | \u001b[0m0.8562   \u001b[0m |\n",
            "| \u001b[0m705      \u001b[0m | \u001b[0m1.78     \u001b[0m | \u001b[0m0.5445   \u001b[0m | \u001b[0m5.207    \u001b[0m | \u001b[0m0.1425   \u001b[0m | \u001b[0m38.68    \u001b[0m | \u001b[0m84.94    \u001b[0m | \u001b[0m39.03    \u001b[0m | \u001b[0m2.356    \u001b[0m | \u001b[0m8.259    \u001b[0m | \u001b[0m0.6616   \u001b[0m |\n",
            "| \u001b[0m706      \u001b[0m | \u001b[0m1.78     \u001b[0m | \u001b[0m0.5929   \u001b[0m | \u001b[0m2.255    \u001b[0m | \u001b[0m0.6061   \u001b[0m | \u001b[0m2.613    \u001b[0m | \u001b[0m12.7     \u001b[0m | \u001b[0m21.4     \u001b[0m | \u001b[0m0.4566   \u001b[0m | \u001b[0m0.2123   \u001b[0m | \u001b[0m0.8836   \u001b[0m |\n",
            "| \u001b[0m707      \u001b[0m | \u001b[0m1.78     \u001b[0m | \u001b[0m0.6995   \u001b[0m | \u001b[0m3.059    \u001b[0m | \u001b[0m0.5342   \u001b[0m | \u001b[0m34.31    \u001b[0m | \u001b[0m85.6     \u001b[0m | \u001b[0m41.23    \u001b[0m | \u001b[0m9.938    \u001b[0m | \u001b[0m5.218    \u001b[0m | \u001b[0m0.6792   \u001b[0m |\n",
            "| \u001b[0m708      \u001b[0m | \u001b[0m1.78     \u001b[0m | \u001b[0m0.5927   \u001b[0m | \u001b[0m5.951    \u001b[0m | \u001b[0m0.04665  \u001b[0m | \u001b[0m47.84    \u001b[0m | \u001b[0m61.69    \u001b[0m | \u001b[0m40.63    \u001b[0m | \u001b[0m9.464    \u001b[0m | \u001b[0m4.347    \u001b[0m | \u001b[0m0.9468   \u001b[0m |\n",
            "| \u001b[0m709      \u001b[0m | \u001b[0m1.78     \u001b[0m | \u001b[0m0.5379   \u001b[0m | \u001b[0m1.372    \u001b[0m | \u001b[0m0.8002   \u001b[0m | \u001b[0m36.95    \u001b[0m | \u001b[0m50.41    \u001b[0m | \u001b[0m28.19    \u001b[0m | \u001b[0m9.65     \u001b[0m | \u001b[0m4.681    \u001b[0m | \u001b[0m0.7986   \u001b[0m |\n",
            "| \u001b[0m710      \u001b[0m | \u001b[0m1.78     \u001b[0m | \u001b[0m0.6314   \u001b[0m | \u001b[0m6.404    \u001b[0m | \u001b[0m0.7425   \u001b[0m | \u001b[0m36.37    \u001b[0m | \u001b[0m86.76    \u001b[0m | \u001b[0m48.69    \u001b[0m | \u001b[0m9.519    \u001b[0m | \u001b[0m8.469    \u001b[0m | \u001b[0m0.9319   \u001b[0m |\n",
            "| \u001b[0m711      \u001b[0m | \u001b[0m1.78     \u001b[0m | \u001b[0m0.6941   \u001b[0m | \u001b[0m8.299    \u001b[0m | \u001b[0m0.8545   \u001b[0m | \u001b[0m46.4     \u001b[0m | \u001b[0m63.3     \u001b[0m | \u001b[0m62.13    \u001b[0m | \u001b[0m9.816    \u001b[0m | \u001b[0m9.934    \u001b[0m | \u001b[0m0.6009   \u001b[0m |\n",
            "| \u001b[0m712      \u001b[0m | \u001b[0m1.78     \u001b[0m | \u001b[0m0.6119   \u001b[0m | \u001b[0m2.417    \u001b[0m | \u001b[0m0.7694   \u001b[0m | \u001b[0m12.87    \u001b[0m | \u001b[0m53.41    \u001b[0m | \u001b[0m30.7     \u001b[0m | \u001b[0m5.196    \u001b[0m | \u001b[0m2.44     \u001b[0m | \u001b[0m0.8253   \u001b[0m |\n",
            "| \u001b[0m713      \u001b[0m | \u001b[0m1.78     \u001b[0m | \u001b[0m0.7917   \u001b[0m | \u001b[0m5.989    \u001b[0m | \u001b[0m0.6575   \u001b[0m | \u001b[0m47.05    \u001b[0m | \u001b[0m59.84    \u001b[0m | \u001b[0m13.46    \u001b[0m | \u001b[0m5.076    \u001b[0m | \u001b[0m9.034    \u001b[0m | \u001b[0m0.8571   \u001b[0m |\n",
            "| \u001b[0m714      \u001b[0m | \u001b[0m1.78     \u001b[0m | \u001b[0m0.6665   \u001b[0m | \u001b[0m2.588    \u001b[0m | \u001b[0m0.5219   \u001b[0m | \u001b[0m35.02    \u001b[0m | \u001b[0m94.49    \u001b[0m | \u001b[0m35.46    \u001b[0m | \u001b[0m6.66     \u001b[0m | \u001b[0m6.374    \u001b[0m | \u001b[0m0.8331   \u001b[0m |\n",
            "| \u001b[0m715      \u001b[0m | \u001b[0m1.78     \u001b[0m | \u001b[0m0.6131   \u001b[0m | \u001b[0m0.8747   \u001b[0m | \u001b[0m0.0666   \u001b[0m | \u001b[0m41.12    \u001b[0m | \u001b[0m93.68    \u001b[0m | \u001b[0m83.04    \u001b[0m | \u001b[0m0.8429   \u001b[0m | \u001b[0m7.864    \u001b[0m | \u001b[0m0.6061   \u001b[0m |\n",
            "| \u001b[0m716      \u001b[0m | \u001b[0m1.78     \u001b[0m | \u001b[0m0.7212   \u001b[0m | \u001b[0m7.361    \u001b[0m | \u001b[0m0.5408   \u001b[0m | \u001b[0m41.52    \u001b[0m | \u001b[0m19.11    \u001b[0m | \u001b[0m38.54    \u001b[0m | \u001b[0m1.808    \u001b[0m | \u001b[0m5.3      \u001b[0m | \u001b[0m0.6453   \u001b[0m |\n",
            "| \u001b[0m717      \u001b[0m | \u001b[0m1.78     \u001b[0m | \u001b[0m0.9001   \u001b[0m | \u001b[0m9.171    \u001b[0m | \u001b[0m0.3173   \u001b[0m | \u001b[0m22.19    \u001b[0m | \u001b[0m64.85    \u001b[0m | \u001b[0m40.41    \u001b[0m | \u001b[0m7.628    \u001b[0m | \u001b[0m5.548    \u001b[0m | \u001b[0m0.5252   \u001b[0m |\n",
            "| \u001b[0m718      \u001b[0m | \u001b[0m1.78     \u001b[0m | \u001b[0m0.6492   \u001b[0m | \u001b[0m7.925    \u001b[0m | \u001b[0m0.9645   \u001b[0m | \u001b[0m38.78    \u001b[0m | \u001b[0m20.0     \u001b[0m | \u001b[0m73.77    \u001b[0m | \u001b[0m8.131    \u001b[0m | \u001b[0m8.298    \u001b[0m | \u001b[0m0.8985   \u001b[0m |\n",
            "| \u001b[0m719      \u001b[0m | \u001b[0m1.78     \u001b[0m | \u001b[0m0.6293   \u001b[0m | \u001b[0m9.315    \u001b[0m | \u001b[0m0.1827   \u001b[0m | \u001b[0m26.49    \u001b[0m | \u001b[0m11.8     \u001b[0m | \u001b[0m16.95    \u001b[0m | \u001b[0m6.501    \u001b[0m | \u001b[0m1.582    \u001b[0m | \u001b[0m0.7553   \u001b[0m |\n",
            "| \u001b[0m720      \u001b[0m | \u001b[0m1.78     \u001b[0m | \u001b[0m0.6532   \u001b[0m | \u001b[0m6.428    \u001b[0m | \u001b[0m0.2584   \u001b[0m | \u001b[0m11.03    \u001b[0m | \u001b[0m81.0     \u001b[0m | \u001b[0m50.75    \u001b[0m | \u001b[0m2.913    \u001b[0m | \u001b[0m3.498    \u001b[0m | \u001b[0m0.9846   \u001b[0m |\n",
            "| \u001b[0m721      \u001b[0m | \u001b[0m1.78     \u001b[0m | \u001b[0m0.9281   \u001b[0m | \u001b[0m3.286    \u001b[0m | \u001b[0m0.9252   \u001b[0m | \u001b[0m6.481    \u001b[0m | \u001b[0m85.49    \u001b[0m | \u001b[0m29.99    \u001b[0m | \u001b[0m9.382    \u001b[0m | \u001b[0m2.306    \u001b[0m | \u001b[0m0.6441   \u001b[0m |\n",
            "| \u001b[0m722      \u001b[0m | \u001b[0m1.78     \u001b[0m | \u001b[0m0.9054   \u001b[0m | \u001b[0m0.4681   \u001b[0m | \u001b[0m0.1858   \u001b[0m | \u001b[0m17.16    \u001b[0m | \u001b[0m70.25    \u001b[0m | \u001b[0m69.15    \u001b[0m | \u001b[0m0.02907  \u001b[0m | \u001b[0m1.992    \u001b[0m | \u001b[0m0.7502   \u001b[0m |\n",
            "| \u001b[0m723      \u001b[0m | \u001b[0m1.78     \u001b[0m | \u001b[0m0.8329   \u001b[0m | \u001b[0m5.491    \u001b[0m | \u001b[0m0.2679   \u001b[0m | \u001b[0m15.1     \u001b[0m | \u001b[0m41.29    \u001b[0m | \u001b[0m39.36    \u001b[0m | \u001b[0m6.163    \u001b[0m | \u001b[0m0.5662   \u001b[0m | \u001b[0m0.6444   \u001b[0m |\n",
            "| \u001b[0m724      \u001b[0m | \u001b[0m1.78     \u001b[0m | \u001b[0m0.7833   \u001b[0m | \u001b[0m7.77     \u001b[0m | \u001b[0m0.3071   \u001b[0m | \u001b[0m38.46    \u001b[0m | \u001b[0m66.33    \u001b[0m | \u001b[0m5.659    \u001b[0m | \u001b[0m1.143    \u001b[0m | \u001b[0m4.839    \u001b[0m | \u001b[0m0.6123   \u001b[0m |\n",
            "| \u001b[0m725      \u001b[0m | \u001b[0m1.78     \u001b[0m | \u001b[0m0.7152   \u001b[0m | \u001b[0m9.385    \u001b[0m | \u001b[0m0.4843   \u001b[0m | \u001b[0m9.913    \u001b[0m | \u001b[0m50.19    \u001b[0m | \u001b[0m63.15    \u001b[0m | \u001b[0m4.33     \u001b[0m | \u001b[0m7.253    \u001b[0m | \u001b[0m0.7715   \u001b[0m |\n",
            "| \u001b[0m726      \u001b[0m | \u001b[0m1.78     \u001b[0m | \u001b[0m0.6775   \u001b[0m | \u001b[0m8.643    \u001b[0m | \u001b[0m0.146    \u001b[0m | \u001b[0m8.904    \u001b[0m | \u001b[0m42.24    \u001b[0m | \u001b[0m27.93    \u001b[0m | \u001b[0m5.943    \u001b[0m | \u001b[0m3.727    \u001b[0m | \u001b[0m0.8251   \u001b[0m |\n",
            "| \u001b[0m727      \u001b[0m | \u001b[0m1.78     \u001b[0m | \u001b[0m0.513    \u001b[0m | \u001b[0m1.096    \u001b[0m | \u001b[0m0.8873   \u001b[0m | \u001b[0m8.602    \u001b[0m | \u001b[0m64.74    \u001b[0m | \u001b[0m75.79    \u001b[0m | \u001b[0m5.414    \u001b[0m | \u001b[0m0.6942   \u001b[0m | \u001b[0m0.6143   \u001b[0m |\n",
            "| \u001b[0m728      \u001b[0m | \u001b[0m1.78     \u001b[0m | \u001b[0m0.6417   \u001b[0m | \u001b[0m2.732    \u001b[0m | \u001b[0m0.7099   \u001b[0m | \u001b[0m31.8     \u001b[0m | \u001b[0m96.09    \u001b[0m | \u001b[0m47.36    \u001b[0m | \u001b[0m4.443    \u001b[0m | \u001b[0m3.007    \u001b[0m | \u001b[0m0.9476   \u001b[0m |\n",
            "| \u001b[0m729      \u001b[0m | \u001b[0m1.78     \u001b[0m | \u001b[0m0.7622   \u001b[0m | \u001b[0m9.274    \u001b[0m | \u001b[0m0.285    \u001b[0m | \u001b[0m41.12    \u001b[0m | \u001b[0m60.18    \u001b[0m | \u001b[0m29.16    \u001b[0m | \u001b[0m7.973    \u001b[0m | \u001b[0m4.65     \u001b[0m | \u001b[0m0.6679   \u001b[0m |\n",
            "| \u001b[0m730      \u001b[0m | \u001b[0m1.78     \u001b[0m | \u001b[0m0.6886   \u001b[0m | \u001b[0m5.325    \u001b[0m | \u001b[0m0.1367   \u001b[0m | \u001b[0m45.67    \u001b[0m | \u001b[0m65.74    \u001b[0m | \u001b[0m66.24    \u001b[0m | \u001b[0m8.249    \u001b[0m | \u001b[0m2.731    \u001b[0m | \u001b[0m0.7785   \u001b[0m |\n",
            "| \u001b[0m731      \u001b[0m | \u001b[0m1.78     \u001b[0m | \u001b[0m0.5735   \u001b[0m | \u001b[0m1.782    \u001b[0m | \u001b[0m0.3004   \u001b[0m | \u001b[0m44.72    \u001b[0m | \u001b[0m80.68    \u001b[0m | \u001b[0m90.89    \u001b[0m | \u001b[0m2.104    \u001b[0m | \u001b[0m9.855    \u001b[0m | \u001b[0m0.8884   \u001b[0m |\n",
            "| \u001b[0m732      \u001b[0m | \u001b[0m1.78     \u001b[0m | \u001b[0m0.9313   \u001b[0m | \u001b[0m7.852    \u001b[0m | \u001b[0m0.6049   \u001b[0m | \u001b[0m42.97    \u001b[0m | \u001b[0m52.83    \u001b[0m | \u001b[0m38.19    \u001b[0m | \u001b[0m3.177    \u001b[0m | \u001b[0m5.719    \u001b[0m | \u001b[0m0.8438   \u001b[0m |\n",
            "| \u001b[0m733      \u001b[0m | \u001b[0m1.768    \u001b[0m | \u001b[0m0.6134   \u001b[0m | \u001b[0m6.587    \u001b[0m | \u001b[0m0.284    \u001b[0m | \u001b[0m17.62    \u001b[0m | \u001b[0m7.812    \u001b[0m | \u001b[0m32.52    \u001b[0m | \u001b[0m2.377    \u001b[0m | \u001b[0m9.805    \u001b[0m | \u001b[0m0.5351   \u001b[0m |\n",
            "| \u001b[0m734      \u001b[0m | \u001b[0m1.78     \u001b[0m | \u001b[0m0.7592   \u001b[0m | \u001b[0m1.686    \u001b[0m | \u001b[0m0.5832   \u001b[0m | \u001b[0m36.8     \u001b[0m | \u001b[0m69.04    \u001b[0m | \u001b[0m50.23    \u001b[0m | \u001b[0m2.144    \u001b[0m | \u001b[0m3.118    \u001b[0m | \u001b[0m0.7461   \u001b[0m |\n",
            "| \u001b[0m735      \u001b[0m | \u001b[0m1.78     \u001b[0m | \u001b[0m0.5904   \u001b[0m | \u001b[0m7.398    \u001b[0m | \u001b[0m0.5233   \u001b[0m | \u001b[0m18.77    \u001b[0m | \u001b[0m78.48    \u001b[0m | \u001b[0m38.88    \u001b[0m | \u001b[0m6.879    \u001b[0m | \u001b[0m4.057    \u001b[0m | \u001b[0m0.5858   \u001b[0m |\n",
            "| \u001b[0m736      \u001b[0m | \u001b[0m1.78     \u001b[0m | \u001b[0m0.9299   \u001b[0m | \u001b[0m9.393    \u001b[0m | \u001b[0m0.4072   \u001b[0m | \u001b[0m21.87    \u001b[0m | \u001b[0m80.37    \u001b[0m | \u001b[0m40.38    \u001b[0m | \u001b[0m4.049    \u001b[0m | \u001b[0m5.773    \u001b[0m | \u001b[0m0.5477   \u001b[0m |\n",
            "| \u001b[0m737      \u001b[0m | \u001b[0m1.78     \u001b[0m | \u001b[0m0.705    \u001b[0m | \u001b[0m4.324    \u001b[0m | \u001b[0m0.2794   \u001b[0m | \u001b[0m42.63    \u001b[0m | \u001b[0m28.97    \u001b[0m | \u001b[0m9.122    \u001b[0m | \u001b[0m8.361    \u001b[0m | \u001b[0m4.704    \u001b[0m | \u001b[0m0.9379   \u001b[0m |\n",
            "| \u001b[0m738      \u001b[0m | \u001b[0m1.78     \u001b[0m | \u001b[0m0.8754   \u001b[0m | \u001b[0m9.28     \u001b[0m | \u001b[0m0.4049   \u001b[0m | \u001b[0m5.779    \u001b[0m | \u001b[0m13.03    \u001b[0m | \u001b[0m61.18    \u001b[0m | \u001b[0m8.276    \u001b[0m | \u001b[0m5.97     \u001b[0m | \u001b[0m0.641    \u001b[0m |\n",
            "| \u001b[0m739      \u001b[0m | \u001b[0m1.78     \u001b[0m | \u001b[0m0.7267   \u001b[0m | \u001b[0m6.49     \u001b[0m | \u001b[0m0.3159   \u001b[0m | \u001b[0m6.727    \u001b[0m | \u001b[0m56.33    \u001b[0m | \u001b[0m35.95    \u001b[0m | \u001b[0m3.28     \u001b[0m | \u001b[0m9.545    \u001b[0m | \u001b[0m0.7265   \u001b[0m |\n",
            "| \u001b[0m740      \u001b[0m | \u001b[0m1.78     \u001b[0m | \u001b[0m0.6733   \u001b[0m | \u001b[0m0.8102   \u001b[0m | \u001b[0m0.7574   \u001b[0m | \u001b[0m19.91    \u001b[0m | \u001b[0m57.9     \u001b[0m | \u001b[0m16.54    \u001b[0m | \u001b[0m1.484    \u001b[0m | \u001b[0m1.939    \u001b[0m | \u001b[0m0.736    \u001b[0m |\n",
            "| \u001b[0m741      \u001b[0m | \u001b[0m1.78     \u001b[0m | \u001b[0m0.6132   \u001b[0m | \u001b[0m7.559    \u001b[0m | \u001b[0m0.832    \u001b[0m | \u001b[0m10.8     \u001b[0m | \u001b[0m9.404    \u001b[0m | \u001b[0m52.25    \u001b[0m | \u001b[0m6.345    \u001b[0m | \u001b[0m3.084    \u001b[0m | \u001b[0m0.8555   \u001b[0m |\n",
            "| \u001b[0m742      \u001b[0m | \u001b[0m1.78     \u001b[0m | \u001b[0m0.9887   \u001b[0m | \u001b[0m5.134    \u001b[0m | \u001b[0m0.03     \u001b[0m | \u001b[0m29.38    \u001b[0m | \u001b[0m88.69    \u001b[0m | \u001b[0m16.47    \u001b[0m | \u001b[0m4.754    \u001b[0m | \u001b[0m2.073    \u001b[0m | \u001b[0m0.9546   \u001b[0m |\n",
            "| \u001b[0m743      \u001b[0m | \u001b[0m1.78     \u001b[0m | \u001b[0m0.9847   \u001b[0m | \u001b[0m7.111    \u001b[0m | \u001b[0m0.05571  \u001b[0m | \u001b[0m24.13    \u001b[0m | \u001b[0m60.61    \u001b[0m | \u001b[0m60.73    \u001b[0m | \u001b[0m9.701    \u001b[0m | \u001b[0m8.416    \u001b[0m | \u001b[0m0.6395   \u001b[0m |\n",
            "| \u001b[0m744      \u001b[0m | \u001b[0m1.78     \u001b[0m | \u001b[0m0.8192   \u001b[0m | \u001b[0m0.8295   \u001b[0m | \u001b[0m0.7642   \u001b[0m | \u001b[0m18.23    \u001b[0m | \u001b[0m91.91    \u001b[0m | \u001b[0m21.86    \u001b[0m | \u001b[0m7.879    \u001b[0m | \u001b[0m4.052    \u001b[0m | \u001b[0m0.6288   \u001b[0m |\n",
            "| \u001b[0m745      \u001b[0m | \u001b[0m1.78     \u001b[0m | \u001b[0m0.6869   \u001b[0m | \u001b[0m9.966    \u001b[0m | \u001b[0m0.2346   \u001b[0m | \u001b[0m12.65    \u001b[0m | \u001b[0m84.33    \u001b[0m | \u001b[0m29.18    \u001b[0m | \u001b[0m0.9942   \u001b[0m | \u001b[0m9.223    \u001b[0m | \u001b[0m0.9068   \u001b[0m |\n",
            "| \u001b[0m746      \u001b[0m | \u001b[0m1.78     \u001b[0m | \u001b[0m0.8444   \u001b[0m | \u001b[0m1.397    \u001b[0m | \u001b[0m0.6005   \u001b[0m | \u001b[0m32.62    \u001b[0m | \u001b[0m88.0     \u001b[0m | \u001b[0m28.23    \u001b[0m | \u001b[0m3.872    \u001b[0m | \u001b[0m5.641    \u001b[0m | \u001b[0m0.9721   \u001b[0m |\n",
            "| \u001b[0m747      \u001b[0m | \u001b[0m1.78     \u001b[0m | \u001b[0m0.8054   \u001b[0m | \u001b[0m3.383    \u001b[0m | \u001b[0m0.2552   \u001b[0m | \u001b[0m7.105    \u001b[0m | \u001b[0m13.67    \u001b[0m | \u001b[0m74.02    \u001b[0m | \u001b[0m2.796    \u001b[0m | \u001b[0m0.2799   \u001b[0m | \u001b[0m0.6083   \u001b[0m |\n",
            "| \u001b[0m748      \u001b[0m | \u001b[0m1.78     \u001b[0m | \u001b[0m0.7884   \u001b[0m | \u001b[0m2.463    \u001b[0m | \u001b[0m0.7137   \u001b[0m | \u001b[0m30.16    \u001b[0m | \u001b[0m39.76    \u001b[0m | \u001b[0m99.96    \u001b[0m | \u001b[0m3.612    \u001b[0m | \u001b[0m0.7098   \u001b[0m | \u001b[0m0.7122   \u001b[0m |\n",
            "| \u001b[0m749      \u001b[0m | \u001b[0m1.78     \u001b[0m | \u001b[0m0.7424   \u001b[0m | \u001b[0m0.8584   \u001b[0m | \u001b[0m0.8563   \u001b[0m | \u001b[0m25.22    \u001b[0m | \u001b[0m36.74    \u001b[0m | \u001b[0m55.44    \u001b[0m | \u001b[0m5.501    \u001b[0m | \u001b[0m4.219    \u001b[0m | \u001b[0m0.7778   \u001b[0m |\n",
            "| \u001b[0m750      \u001b[0m | \u001b[0m1.78     \u001b[0m | \u001b[0m0.712    \u001b[0m | \u001b[0m5.289    \u001b[0m | \u001b[0m0.8866   \u001b[0m | \u001b[0m23.04    \u001b[0m | \u001b[0m96.58    \u001b[0m | \u001b[0m73.5     \u001b[0m | \u001b[0m7.394    \u001b[0m | \u001b[0m6.329    \u001b[0m | \u001b[0m0.8798   \u001b[0m |\n",
            "| \u001b[0m751      \u001b[0m | \u001b[0m1.78     \u001b[0m | \u001b[0m0.5263   \u001b[0m | \u001b[0m4.847    \u001b[0m | \u001b[0m0.8175   \u001b[0m | \u001b[0m45.6     \u001b[0m | \u001b[0m40.74    \u001b[0m | \u001b[0m43.98    \u001b[0m | \u001b[0m7.155    \u001b[0m | \u001b[0m0.1933   \u001b[0m | \u001b[0m0.6988   \u001b[0m |\n",
            "| \u001b[0m752      \u001b[0m | \u001b[0m1.78     \u001b[0m | \u001b[0m0.8062   \u001b[0m | \u001b[0m8.847    \u001b[0m | \u001b[0m0.6096   \u001b[0m | \u001b[0m49.88    \u001b[0m | \u001b[0m20.06    \u001b[0m | \u001b[0m94.34    \u001b[0m | \u001b[0m2.391    \u001b[0m | \u001b[0m6.558    \u001b[0m | \u001b[0m0.9585   \u001b[0m |\n",
            "| \u001b[0m753      \u001b[0m | \u001b[0m1.78     \u001b[0m | \u001b[0m0.7739   \u001b[0m | \u001b[0m8.447    \u001b[0m | \u001b[0m0.9772   \u001b[0m | \u001b[0m10.98    \u001b[0m | \u001b[0m53.65    \u001b[0m | \u001b[0m19.31    \u001b[0m | \u001b[0m0.4118   \u001b[0m | \u001b[0m7.123    \u001b[0m | \u001b[0m0.7839   \u001b[0m |\n",
            "| \u001b[0m754      \u001b[0m | \u001b[0m1.78     \u001b[0m | \u001b[0m0.7148   \u001b[0m | \u001b[0m6.325    \u001b[0m | \u001b[0m0.3713   \u001b[0m | \u001b[0m23.51    \u001b[0m | \u001b[0m20.76    \u001b[0m | \u001b[0m51.04    \u001b[0m | \u001b[0m6.563    \u001b[0m | \u001b[0m4.852    \u001b[0m | \u001b[0m0.5375   \u001b[0m |\n",
            "| \u001b[0m755      \u001b[0m | \u001b[0m1.78     \u001b[0m | \u001b[0m0.5808   \u001b[0m | \u001b[0m5.861    \u001b[0m | \u001b[0m0.4694   \u001b[0m | \u001b[0m25.31    \u001b[0m | \u001b[0m34.28    \u001b[0m | \u001b[0m78.01    \u001b[0m | \u001b[0m8.304    \u001b[0m | \u001b[0m9.112    \u001b[0m | \u001b[0m0.8336   \u001b[0m |\n",
            "| \u001b[0m756      \u001b[0m | \u001b[0m1.78     \u001b[0m | \u001b[0m0.5038   \u001b[0m | \u001b[0m2.093    \u001b[0m | \u001b[0m0.2833   \u001b[0m | \u001b[0m8.295    \u001b[0m | \u001b[0m87.83    \u001b[0m | \u001b[0m90.39    \u001b[0m | \u001b[0m7.78     \u001b[0m | \u001b[0m4.165    \u001b[0m | \u001b[0m0.9282   \u001b[0m |\n",
            "| \u001b[0m757      \u001b[0m | \u001b[0m1.78     \u001b[0m | \u001b[0m0.7795   \u001b[0m | \u001b[0m2.158    \u001b[0m | \u001b[0m0.9516   \u001b[0m | \u001b[0m23.38    \u001b[0m | \u001b[0m82.45    \u001b[0m | \u001b[0m43.98    \u001b[0m | \u001b[0m0.01738  \u001b[0m | \u001b[0m1.683    \u001b[0m | \u001b[0m0.8488   \u001b[0m |\n",
            "| \u001b[0m758      \u001b[0m | \u001b[0m1.78     \u001b[0m | \u001b[0m0.8299   \u001b[0m | \u001b[0m6.221    \u001b[0m | \u001b[0m0.4444   \u001b[0m | \u001b[0m20.26    \u001b[0m | \u001b[0m82.52    \u001b[0m | \u001b[0m41.29    \u001b[0m | \u001b[0m2.834    \u001b[0m | \u001b[0m1.559    \u001b[0m | \u001b[0m0.8464   \u001b[0m |\n",
            "| \u001b[0m759      \u001b[0m | \u001b[0m1.78     \u001b[0m | \u001b[0m0.5926   \u001b[0m | \u001b[0m0.2918   \u001b[0m | \u001b[0m0.9009   \u001b[0m | \u001b[0m32.24    \u001b[0m | \u001b[0m87.99    \u001b[0m | \u001b[0m87.76    \u001b[0m | \u001b[0m8.933    \u001b[0m | \u001b[0m4.386    \u001b[0m | \u001b[0m0.7322   \u001b[0m |\n",
            "| \u001b[0m760      \u001b[0m | \u001b[0m1.78     \u001b[0m | \u001b[0m0.8455   \u001b[0m | \u001b[0m1.491    \u001b[0m | \u001b[0m0.7941   \u001b[0m | \u001b[0m24.88    \u001b[0m | \u001b[0m94.39    \u001b[0m | \u001b[0m48.35    \u001b[0m | \u001b[0m9.798    \u001b[0m | \u001b[0m7.939    \u001b[0m | \u001b[0m0.708    \u001b[0m |\n",
            "| \u001b[0m761      \u001b[0m | \u001b[0m1.78     \u001b[0m | \u001b[0m0.5477   \u001b[0m | \u001b[0m5.719    \u001b[0m | \u001b[0m0.1324   \u001b[0m | \u001b[0m6.397    \u001b[0m | \u001b[0m70.94    \u001b[0m | \u001b[0m53.28    \u001b[0m | \u001b[0m6.833    \u001b[0m | \u001b[0m7.746    \u001b[0m | \u001b[0m0.8864   \u001b[0m |\n",
            "| \u001b[0m762      \u001b[0m | \u001b[0m1.78     \u001b[0m | \u001b[0m0.6832   \u001b[0m | \u001b[0m1.324    \u001b[0m | \u001b[0m0.9007   \u001b[0m | \u001b[0m21.91    \u001b[0m | \u001b[0m87.32    \u001b[0m | \u001b[0m99.69    \u001b[0m | \u001b[0m7.032    \u001b[0m | \u001b[0m4.047    \u001b[0m | \u001b[0m0.8404   \u001b[0m |\n",
            "| \u001b[0m763      \u001b[0m | \u001b[0m1.731    \u001b[0m | \u001b[0m0.74     \u001b[0m | \u001b[0m2.825    \u001b[0m | \u001b[0m0.9155   \u001b[0m | \u001b[0m8.286    \u001b[0m | \u001b[0m2.175    \u001b[0m | \u001b[0m42.37    \u001b[0m | \u001b[0m2.009    \u001b[0m | \u001b[0m6.68     \u001b[0m | \u001b[0m0.7982   \u001b[0m |\n",
            "| \u001b[0m764      \u001b[0m | \u001b[0m1.78     \u001b[0m | \u001b[0m0.6991   \u001b[0m | \u001b[0m7.636    \u001b[0m | \u001b[0m0.3836   \u001b[0m | \u001b[0m14.4     \u001b[0m | \u001b[0m56.32    \u001b[0m | \u001b[0m75.74    \u001b[0m | \u001b[0m4.379    \u001b[0m | \u001b[0m7.369    \u001b[0m | \u001b[0m0.9148   \u001b[0m |\n",
            "| \u001b[0m765      \u001b[0m | \u001b[0m1.78     \u001b[0m | \u001b[0m0.9128   \u001b[0m | \u001b[0m8.748    \u001b[0m | \u001b[0m0.7491   \u001b[0m | \u001b[0m29.54    \u001b[0m | \u001b[0m73.66    \u001b[0m | \u001b[0m20.6     \u001b[0m | \u001b[0m3.615    \u001b[0m | \u001b[0m9.003    \u001b[0m | \u001b[0m0.6189   \u001b[0m |\n",
            "| \u001b[0m766      \u001b[0m | \u001b[0m1.78     \u001b[0m | \u001b[0m0.8768   \u001b[0m | \u001b[0m4.849    \u001b[0m | \u001b[0m0.3761   \u001b[0m | \u001b[0m48.32    \u001b[0m | \u001b[0m98.96    \u001b[0m | \u001b[0m23.47    \u001b[0m | \u001b[0m0.8583   \u001b[0m | \u001b[0m3.315    \u001b[0m | \u001b[0m0.559    \u001b[0m |\n",
            "| \u001b[0m767      \u001b[0m | \u001b[0m1.78     \u001b[0m | \u001b[0m0.7636   \u001b[0m | \u001b[0m7.47     \u001b[0m | \u001b[0m0.07071  \u001b[0m | \u001b[0m27.36    \u001b[0m | \u001b[0m52.71    \u001b[0m | \u001b[0m37.41    \u001b[0m | \u001b[0m9.407    \u001b[0m | \u001b[0m9.199    \u001b[0m | \u001b[0m0.9691   \u001b[0m |\n",
            "| \u001b[0m768      \u001b[0m | \u001b[0m1.78     \u001b[0m | \u001b[0m0.5346   \u001b[0m | \u001b[0m2.35     \u001b[0m | \u001b[0m0.2239   \u001b[0m | \u001b[0m36.46    \u001b[0m | \u001b[0m88.73    \u001b[0m | \u001b[0m5.906    \u001b[0m | \u001b[0m1.181    \u001b[0m | \u001b[0m2.451    \u001b[0m | \u001b[0m0.6705   \u001b[0m |\n",
            "| \u001b[0m769      \u001b[0m | \u001b[0m1.78     \u001b[0m | \u001b[0m0.6133   \u001b[0m | \u001b[0m2.355    \u001b[0m | \u001b[0m0.708    \u001b[0m | \u001b[0m21.86    \u001b[0m | \u001b[0m28.88    \u001b[0m | \u001b[0m57.58    \u001b[0m | \u001b[0m4.125    \u001b[0m | \u001b[0m3.059    \u001b[0m | \u001b[0m0.5706   \u001b[0m |\n",
            "| \u001b[0m770      \u001b[0m | \u001b[0m1.78     \u001b[0m | \u001b[0m0.9261   \u001b[0m | \u001b[0m6.257    \u001b[0m | \u001b[0m0.525    \u001b[0m | \u001b[0m8.548    \u001b[0m | \u001b[0m73.82    \u001b[0m | \u001b[0m77.43    \u001b[0m | \u001b[0m5.693    \u001b[0m | \u001b[0m8.759    \u001b[0m | \u001b[0m0.5738   \u001b[0m |\n",
            "| \u001b[0m771      \u001b[0m | \u001b[0m1.78     \u001b[0m | \u001b[0m0.7432   \u001b[0m | \u001b[0m5.64     \u001b[0m | \u001b[0m0.1564   \u001b[0m | \u001b[0m42.04    \u001b[0m | \u001b[0m69.44    \u001b[0m | \u001b[0m56.87    \u001b[0m | \u001b[0m7.054    \u001b[0m | \u001b[0m7.324    \u001b[0m | \u001b[0m0.6511   \u001b[0m |\n",
            "| \u001b[0m772      \u001b[0m | \u001b[0m1.78     \u001b[0m | \u001b[0m0.8878   \u001b[0m | \u001b[0m6.058    \u001b[0m | \u001b[0m0.2067   \u001b[0m | \u001b[0m12.72    \u001b[0m | \u001b[0m49.29    \u001b[0m | \u001b[0m38.94    \u001b[0m | \u001b[0m3.559    \u001b[0m | \u001b[0m4.641    \u001b[0m | \u001b[0m0.7535   \u001b[0m |\n",
            "| \u001b[0m773      \u001b[0m | \u001b[0m1.78     \u001b[0m | \u001b[0m0.9174   \u001b[0m | \u001b[0m6.241    \u001b[0m | \u001b[0m0.7701   \u001b[0m | \u001b[0m10.55    \u001b[0m | \u001b[0m29.3     \u001b[0m | \u001b[0m78.26    \u001b[0m | \u001b[0m9.925    \u001b[0m | \u001b[0m8.837    \u001b[0m | \u001b[0m0.9395   \u001b[0m |\n",
            "| \u001b[0m774      \u001b[0m | \u001b[0m1.78     \u001b[0m | \u001b[0m0.8777   \u001b[0m | \u001b[0m1.812    \u001b[0m | \u001b[0m0.495    \u001b[0m | \u001b[0m47.37    \u001b[0m | \u001b[0m67.76    \u001b[0m | \u001b[0m44.77    \u001b[0m | \u001b[0m1.22     \u001b[0m | \u001b[0m6.756    \u001b[0m | \u001b[0m0.9772   \u001b[0m |\n",
            "| \u001b[0m775      \u001b[0m | \u001b[0m1.78     \u001b[0m | \u001b[0m0.8109   \u001b[0m | \u001b[0m0.168    \u001b[0m | \u001b[0m0.9421   \u001b[0m | \u001b[0m4.201    \u001b[0m | \u001b[0m51.19    \u001b[0m | \u001b[0m78.33    \u001b[0m | \u001b[0m1.3      \u001b[0m | \u001b[0m6.932    \u001b[0m | \u001b[0m0.748    \u001b[0m |\n",
            "| \u001b[0m776      \u001b[0m | \u001b[0m1.78     \u001b[0m | \u001b[0m0.8215   \u001b[0m | \u001b[0m0.7715   \u001b[0m | \u001b[0m0.2368   \u001b[0m | \u001b[0m5.837    \u001b[0m | \u001b[0m83.13    \u001b[0m | \u001b[0m78.19    \u001b[0m | \u001b[0m6.481    \u001b[0m | \u001b[0m1.892    \u001b[0m | \u001b[0m0.5154   \u001b[0m |\n",
            "| \u001b[0m777      \u001b[0m | \u001b[0m1.78     \u001b[0m | \u001b[0m0.9054   \u001b[0m | \u001b[0m1.859    \u001b[0m | \u001b[0m0.8944   \u001b[0m | \u001b[0m30.28    \u001b[0m | \u001b[0m83.76    \u001b[0m | \u001b[0m8.402    \u001b[0m | \u001b[0m9.339    \u001b[0m | \u001b[0m9.955    \u001b[0m | \u001b[0m0.5986   \u001b[0m |\n",
            "| \u001b[0m778      \u001b[0m | \u001b[0m1.78     \u001b[0m | \u001b[0m0.7017   \u001b[0m | \u001b[0m9.692    \u001b[0m | \u001b[0m0.8859   \u001b[0m | \u001b[0m6.893    \u001b[0m | \u001b[0m11.98    \u001b[0m | \u001b[0m41.93    \u001b[0m | \u001b[0m8.206    \u001b[0m | \u001b[0m1.133    \u001b[0m | \u001b[0m0.9737   \u001b[0m |\n",
            "| \u001b[0m779      \u001b[0m | \u001b[0m1.78     \u001b[0m | \u001b[0m0.6188   \u001b[0m | \u001b[0m1.187    \u001b[0m | \u001b[0m0.281    \u001b[0m | \u001b[0m5.707    \u001b[0m | \u001b[0m13.33    \u001b[0m | \u001b[0m12.48    \u001b[0m | \u001b[0m4.917    \u001b[0m | \u001b[0m0.1915   \u001b[0m | \u001b[0m0.5557   \u001b[0m |\n",
            "| \u001b[0m780      \u001b[0m | \u001b[0m1.78     \u001b[0m | \u001b[0m0.9127   \u001b[0m | \u001b[0m2.529    \u001b[0m | \u001b[0m0.7215   \u001b[0m | \u001b[0m44.57    \u001b[0m | \u001b[0m10.6     \u001b[0m | \u001b[0m90.4     \u001b[0m | \u001b[0m6.106    \u001b[0m | \u001b[0m2.085    \u001b[0m | \u001b[0m0.9836   \u001b[0m |\n",
            "| \u001b[0m781      \u001b[0m | \u001b[0m1.78     \u001b[0m | \u001b[0m0.7562   \u001b[0m | \u001b[0m5.646    \u001b[0m | \u001b[0m0.7713   \u001b[0m | \u001b[0m14.64    \u001b[0m | \u001b[0m85.39    \u001b[0m | \u001b[0m40.35    \u001b[0m | \u001b[0m6.517    \u001b[0m | \u001b[0m0.8647   \u001b[0m | \u001b[0m0.5166   \u001b[0m |\n",
            "| \u001b[0m782      \u001b[0m | \u001b[0m1.78     \u001b[0m | \u001b[0m0.6727   \u001b[0m | \u001b[0m3.237    \u001b[0m | \u001b[0m0.07815  \u001b[0m | \u001b[0m45.85    \u001b[0m | \u001b[0m62.23    \u001b[0m | \u001b[0m24.6     \u001b[0m | \u001b[0m8.304    \u001b[0m | \u001b[0m7.313    \u001b[0m | \u001b[0m0.5837   \u001b[0m |\n",
            "| \u001b[0m783      \u001b[0m | \u001b[0m1.78     \u001b[0m | \u001b[0m0.8023   \u001b[0m | \u001b[0m6.247    \u001b[0m | \u001b[0m0.4206   \u001b[0m | \u001b[0m11.37    \u001b[0m | \u001b[0m79.04    \u001b[0m | \u001b[0m61.36    \u001b[0m | \u001b[0m3.919    \u001b[0m | \u001b[0m3.037    \u001b[0m | \u001b[0m0.9157   \u001b[0m |\n",
            "| \u001b[0m784      \u001b[0m | \u001b[0m1.78     \u001b[0m | \u001b[0m0.977    \u001b[0m | \u001b[0m8.771    \u001b[0m | \u001b[0m0.01963  \u001b[0m | \u001b[0m39.03    \u001b[0m | \u001b[0m31.24    \u001b[0m | \u001b[0m99.05    \u001b[0m | \u001b[0m0.8114   \u001b[0m | \u001b[0m8.364    \u001b[0m | \u001b[0m0.8294   \u001b[0m |\n",
            "| \u001b[0m785      \u001b[0m | \u001b[0m1.78     \u001b[0m | \u001b[0m0.8075   \u001b[0m | \u001b[0m8.847    \u001b[0m | \u001b[0m0.05403  \u001b[0m | \u001b[0m40.21    \u001b[0m | \u001b[0m78.45    \u001b[0m | \u001b[0m86.76    \u001b[0m | \u001b[0m5.263    \u001b[0m | \u001b[0m4.582    \u001b[0m | \u001b[0m0.659    \u001b[0m |\n",
            "| \u001b[0m786      \u001b[0m | \u001b[0m1.78     \u001b[0m | \u001b[0m0.6182   \u001b[0m | \u001b[0m1.225    \u001b[0m | \u001b[0m0.3244   \u001b[0m | \u001b[0m46.56    \u001b[0m | \u001b[0m22.35    \u001b[0m | \u001b[0m79.79    \u001b[0m | \u001b[0m7.362    \u001b[0m | \u001b[0m3.407    \u001b[0m | \u001b[0m0.7284   \u001b[0m |\n",
            "| \u001b[0m787      \u001b[0m | \u001b[0m1.78     \u001b[0m | \u001b[0m0.9846   \u001b[0m | \u001b[0m5.099    \u001b[0m | \u001b[0m0.9309   \u001b[0m | \u001b[0m3.99     \u001b[0m | \u001b[0m44.32    \u001b[0m | \u001b[0m83.78    \u001b[0m | \u001b[0m0.8193   \u001b[0m | \u001b[0m3.395    \u001b[0m | \u001b[0m0.6476   \u001b[0m |\n",
            "| \u001b[0m788      \u001b[0m | \u001b[0m1.78     \u001b[0m | \u001b[0m0.7323   \u001b[0m | \u001b[0m9.171    \u001b[0m | \u001b[0m0.7599   \u001b[0m | \u001b[0m43.23    \u001b[0m | \u001b[0m50.93    \u001b[0m | \u001b[0m97.77    \u001b[0m | \u001b[0m0.6924   \u001b[0m | \u001b[0m1.728    \u001b[0m | \u001b[0m0.7259   \u001b[0m |\n",
            "| \u001b[0m789      \u001b[0m | \u001b[0m1.78     \u001b[0m | \u001b[0m0.9195   \u001b[0m | \u001b[0m0.894    \u001b[0m | \u001b[0m0.3834   \u001b[0m | \u001b[0m2.972    \u001b[0m | \u001b[0m6.067    \u001b[0m | \u001b[0m44.75    \u001b[0m | \u001b[0m8.123    \u001b[0m | \u001b[0m9.332    \u001b[0m | \u001b[0m0.956    \u001b[0m |\n",
            "| \u001b[0m790      \u001b[0m | \u001b[0m1.78     \u001b[0m | \u001b[0m0.5274   \u001b[0m | \u001b[0m5.659    \u001b[0m | \u001b[0m0.6649   \u001b[0m | \u001b[0m47.99    \u001b[0m | \u001b[0m94.95    \u001b[0m | \u001b[0m20.77    \u001b[0m | \u001b[0m8.033    \u001b[0m | \u001b[0m9.721    \u001b[0m | \u001b[0m0.7439   \u001b[0m |\n",
            "| \u001b[0m791      \u001b[0m | \u001b[0m1.78     \u001b[0m | \u001b[0m0.56     \u001b[0m | \u001b[0m6.269    \u001b[0m | \u001b[0m0.003539 \u001b[0m | \u001b[0m28.51    \u001b[0m | \u001b[0m0.2587   \u001b[0m | \u001b[0m78.27    \u001b[0m | \u001b[0m5.975    \u001b[0m | \u001b[0m2.82     \u001b[0m | \u001b[0m0.7423   \u001b[0m |\n",
            "| \u001b[0m792      \u001b[0m | \u001b[0m1.738    \u001b[0m | \u001b[0m0.5289   \u001b[0m | \u001b[0m2.517    \u001b[0m | \u001b[0m0.4811   \u001b[0m | \u001b[0m34.59    \u001b[0m | \u001b[0m1.006    \u001b[0m | \u001b[0m48.47    \u001b[0m | \u001b[0m0.4068   \u001b[0m | \u001b[0m3.074    \u001b[0m | \u001b[0m0.9455   \u001b[0m |\n",
            "| \u001b[0m793      \u001b[0m | \u001b[0m1.78     \u001b[0m | \u001b[0m0.9033   \u001b[0m | \u001b[0m8.808    \u001b[0m | \u001b[0m0.9524   \u001b[0m | \u001b[0m14.65    \u001b[0m | \u001b[0m32.12    \u001b[0m | \u001b[0m31.83    \u001b[0m | \u001b[0m0.5163   \u001b[0m | \u001b[0m3.137    \u001b[0m | \u001b[0m0.6934   \u001b[0m |\n",
            "| \u001b[0m794      \u001b[0m | \u001b[0m1.78     \u001b[0m | \u001b[0m0.706    \u001b[0m | \u001b[0m2.365    \u001b[0m | \u001b[0m0.7176   \u001b[0m | \u001b[0m49.19    \u001b[0m | \u001b[0m21.55    \u001b[0m | \u001b[0m33.06    \u001b[0m | \u001b[0m8.705    \u001b[0m | \u001b[0m2.762    \u001b[0m | \u001b[0m0.5788   \u001b[0m |\n",
            "| \u001b[0m795      \u001b[0m | \u001b[0m1.78     \u001b[0m | \u001b[0m0.7941   \u001b[0m | \u001b[0m5.481    \u001b[0m | \u001b[0m0.6544   \u001b[0m | \u001b[0m9.114    \u001b[0m | \u001b[0m91.12    \u001b[0m | \u001b[0m76.33    \u001b[0m | \u001b[0m3.993    \u001b[0m | \u001b[0m1.306    \u001b[0m | \u001b[0m0.7005   \u001b[0m |\n",
            "| \u001b[0m796      \u001b[0m | \u001b[0m1.78     \u001b[0m | \u001b[0m0.7589   \u001b[0m | \u001b[0m5.403    \u001b[0m | \u001b[0m0.2839   \u001b[0m | \u001b[0m22.85    \u001b[0m | \u001b[0m89.59    \u001b[0m | \u001b[0m36.13    \u001b[0m | \u001b[0m9.314    \u001b[0m | \u001b[0m9.539    \u001b[0m | \u001b[0m0.8223   \u001b[0m |\n",
            "| \u001b[0m797      \u001b[0m | \u001b[0m1.78     \u001b[0m | \u001b[0m0.9374   \u001b[0m | \u001b[0m1.153    \u001b[0m | \u001b[0m0.3452   \u001b[0m | \u001b[0m12.29    \u001b[0m | \u001b[0m24.99    \u001b[0m | \u001b[0m76.04    \u001b[0m | \u001b[0m0.8194   \u001b[0m | \u001b[0m8.116    \u001b[0m | \u001b[0m0.9653   \u001b[0m |\n",
            "| \u001b[0m798      \u001b[0m | \u001b[0m1.78     \u001b[0m | \u001b[0m0.9486   \u001b[0m | \u001b[0m6.093    \u001b[0m | \u001b[0m0.3725   \u001b[0m | \u001b[0m16.35    \u001b[0m | \u001b[0m42.9     \u001b[0m | \u001b[0m15.39    \u001b[0m | \u001b[0m4.644    \u001b[0m | \u001b[0m3.278    \u001b[0m | \u001b[0m0.8872   \u001b[0m |\n",
            "| \u001b[0m799      \u001b[0m | \u001b[0m1.78     \u001b[0m | \u001b[0m0.7229   \u001b[0m | \u001b[0m4.335    \u001b[0m | \u001b[0m0.1419   \u001b[0m | \u001b[0m37.5     \u001b[0m | \u001b[0m38.82    \u001b[0m | \u001b[0m58.78    \u001b[0m | \u001b[0m1.11     \u001b[0m | \u001b[0m5.821    \u001b[0m | \u001b[0m0.5592   \u001b[0m |\n",
            "| \u001b[0m800      \u001b[0m | \u001b[0m1.78     \u001b[0m | \u001b[0m0.5216   \u001b[0m | \u001b[0m1.638    \u001b[0m | \u001b[0m0.1267   \u001b[0m | \u001b[0m20.7     \u001b[0m | \u001b[0m72.82    \u001b[0m | \u001b[0m52.46    \u001b[0m | \u001b[0m8.409    \u001b[0m | \u001b[0m9.255    \u001b[0m | \u001b[0m0.6687   \u001b[0m |\n",
            "| \u001b[0m801      \u001b[0m | \u001b[0m1.78     \u001b[0m | \u001b[0m0.8139   \u001b[0m | \u001b[0m7.781    \u001b[0m | \u001b[0m0.6538   \u001b[0m | \u001b[0m49.57    \u001b[0m | \u001b[0m68.62    \u001b[0m | \u001b[0m17.5     \u001b[0m | \u001b[0m0.0979   \u001b[0m | \u001b[0m3.858    \u001b[0m | \u001b[0m0.8935   \u001b[0m |\n",
            "| \u001b[0m802      \u001b[0m | \u001b[0m1.78     \u001b[0m | \u001b[0m0.5827   \u001b[0m | \u001b[0m3.166    \u001b[0m | \u001b[0m0.7201   \u001b[0m | \u001b[0m18.33    \u001b[0m | \u001b[0m65.28    \u001b[0m | \u001b[0m76.82    \u001b[0m | \u001b[0m6.592    \u001b[0m | \u001b[0m8.38     \u001b[0m | \u001b[0m0.9507   \u001b[0m |\n",
            "| \u001b[0m803      \u001b[0m | \u001b[0m1.78     \u001b[0m | \u001b[0m0.6312   \u001b[0m | \u001b[0m5.86     \u001b[0m | \u001b[0m0.6187   \u001b[0m | \u001b[0m31.21    \u001b[0m | \u001b[0m73.5     \u001b[0m | \u001b[0m74.87    \u001b[0m | \u001b[0m7.458    \u001b[0m | \u001b[0m8.405    \u001b[0m | \u001b[0m0.7396   \u001b[0m |\n",
            "| \u001b[0m804      \u001b[0m | \u001b[0m1.78     \u001b[0m | \u001b[0m0.9988   \u001b[0m | \u001b[0m7.697    \u001b[0m | \u001b[0m0.6045   \u001b[0m | \u001b[0m14.1     \u001b[0m | \u001b[0m59.55    \u001b[0m | \u001b[0m65.87    \u001b[0m | \u001b[0m6.525    \u001b[0m | \u001b[0m9.093    \u001b[0m | \u001b[0m0.7914   \u001b[0m |\n",
            "| \u001b[0m805      \u001b[0m | \u001b[0m1.78     \u001b[0m | \u001b[0m0.5715   \u001b[0m | \u001b[0m1.582    \u001b[0m | \u001b[0m0.828    \u001b[0m | \u001b[0m35.41    \u001b[0m | \u001b[0m1.047    \u001b[0m | \u001b[0m22.6     \u001b[0m | \u001b[0m6.615    \u001b[0m | \u001b[0m8.554    \u001b[0m | \u001b[0m0.9533   \u001b[0m |\n",
            "| \u001b[0m806      \u001b[0m | \u001b[0m1.78     \u001b[0m | \u001b[0m0.5665   \u001b[0m | \u001b[0m3.323    \u001b[0m | \u001b[0m0.1366   \u001b[0m | \u001b[0m43.67    \u001b[0m | \u001b[0m65.68    \u001b[0m | \u001b[0m8.329    \u001b[0m | \u001b[0m2.454    \u001b[0m | \u001b[0m3.237    \u001b[0m | \u001b[0m0.6916   \u001b[0m |\n",
            "| \u001b[0m807      \u001b[0m | \u001b[0m1.78     \u001b[0m | \u001b[0m0.8448   \u001b[0m | \u001b[0m9.437    \u001b[0m | \u001b[0m0.9497   \u001b[0m | \u001b[0m33.73    \u001b[0m | \u001b[0m54.83    \u001b[0m | \u001b[0m55.97    \u001b[0m | \u001b[0m1.472    \u001b[0m | \u001b[0m9.775    \u001b[0m | \u001b[0m0.7371   \u001b[0m |\n",
            "| \u001b[0m808      \u001b[0m | \u001b[0m1.78     \u001b[0m | \u001b[0m0.8727   \u001b[0m | \u001b[0m7.475    \u001b[0m | \u001b[0m0.5254   \u001b[0m | \u001b[0m31.56    \u001b[0m | \u001b[0m98.69    \u001b[0m | \u001b[0m87.43    \u001b[0m | \u001b[0m2.343    \u001b[0m | \u001b[0m4.223    \u001b[0m | \u001b[0m0.7983   \u001b[0m |\n",
            "| \u001b[0m809      \u001b[0m | \u001b[0m1.78     \u001b[0m | \u001b[0m0.5657   \u001b[0m | \u001b[0m1.268    \u001b[0m | \u001b[0m0.02647  \u001b[0m | \u001b[0m30.4     \u001b[0m | \u001b[0m19.68    \u001b[0m | \u001b[0m22.31    \u001b[0m | \u001b[0m4.618    \u001b[0m | \u001b[0m9.447    \u001b[0m | \u001b[0m0.5389   \u001b[0m |\n",
            "| \u001b[0m810      \u001b[0m | \u001b[0m1.78     \u001b[0m | \u001b[0m0.9892   \u001b[0m | \u001b[0m9.075    \u001b[0m | \u001b[0m0.6987   \u001b[0m | \u001b[0m39.07    \u001b[0m | \u001b[0m31.49    \u001b[0m | \u001b[0m15.04    \u001b[0m | \u001b[0m4.954    \u001b[0m | \u001b[0m6.497    \u001b[0m | \u001b[0m0.8      \u001b[0m |\n",
            "| \u001b[0m811      \u001b[0m | \u001b[0m1.78     \u001b[0m | \u001b[0m0.8222   \u001b[0m | \u001b[0m0.1152   \u001b[0m | \u001b[0m0.2738   \u001b[0m | \u001b[0m8.151    \u001b[0m | \u001b[0m43.45    \u001b[0m | \u001b[0m25.06    \u001b[0m | \u001b[0m4.039    \u001b[0m | \u001b[0m0.04984  \u001b[0m | \u001b[0m0.526    \u001b[0m |\n",
            "| \u001b[0m812      \u001b[0m | \u001b[0m1.78     \u001b[0m | \u001b[0m0.9076   \u001b[0m | \u001b[0m2.177    \u001b[0m | \u001b[0m0.2606   \u001b[0m | \u001b[0m49.81    \u001b[0m | \u001b[0m96.76    \u001b[0m | \u001b[0m96.33    \u001b[0m | \u001b[0m8.336    \u001b[0m | \u001b[0m2.96     \u001b[0m | \u001b[0m0.7867   \u001b[0m |\n",
            "| \u001b[0m813      \u001b[0m | \u001b[0m1.78     \u001b[0m | \u001b[0m0.7958   \u001b[0m | \u001b[0m5.375    \u001b[0m | \u001b[0m0.2375   \u001b[0m | \u001b[0m40.95    \u001b[0m | \u001b[0m46.56    \u001b[0m | \u001b[0m95.58    \u001b[0m | \u001b[0m6.891    \u001b[0m | \u001b[0m9.892    \u001b[0m | \u001b[0m0.5329   \u001b[0m |\n",
            "| \u001b[0m814      \u001b[0m | \u001b[0m1.78     \u001b[0m | \u001b[0m0.5088   \u001b[0m | \u001b[0m8.009    \u001b[0m | \u001b[0m0.5413   \u001b[0m | \u001b[0m38.95    \u001b[0m | \u001b[0m68.14    \u001b[0m | \u001b[0m19.02    \u001b[0m | \u001b[0m5.742    \u001b[0m | \u001b[0m0.2924   \u001b[0m | \u001b[0m0.9256   \u001b[0m |\n",
            "| \u001b[0m815      \u001b[0m | \u001b[0m1.78     \u001b[0m | \u001b[0m0.8153   \u001b[0m | \u001b[0m1.121    \u001b[0m | \u001b[0m0.1911   \u001b[0m | \u001b[0m15.7     \u001b[0m | \u001b[0m49.11    \u001b[0m | \u001b[0m80.27    \u001b[0m | \u001b[0m2.186    \u001b[0m | \u001b[0m7.485    \u001b[0m | \u001b[0m0.6745   \u001b[0m |\n",
            "| \u001b[0m816      \u001b[0m | \u001b[0m1.78     \u001b[0m | \u001b[0m0.675    \u001b[0m | \u001b[0m0.2794   \u001b[0m | \u001b[0m0.2344   \u001b[0m | \u001b[0m29.88    \u001b[0m | \u001b[0m24.98    \u001b[0m | \u001b[0m56.61    \u001b[0m | \u001b[0m0.9287   \u001b[0m | \u001b[0m4.932    \u001b[0m | \u001b[0m0.9559   \u001b[0m |\n",
            "| \u001b[0m817      \u001b[0m | \u001b[0m1.78     \u001b[0m | \u001b[0m0.8247   \u001b[0m | \u001b[0m8.019    \u001b[0m | \u001b[0m0.09581  \u001b[0m | \u001b[0m39.06    \u001b[0m | \u001b[0m23.12    \u001b[0m | \u001b[0m78.02    \u001b[0m | \u001b[0m4.28     \u001b[0m | \u001b[0m6.262    \u001b[0m | \u001b[0m0.8576   \u001b[0m |\n",
            "| \u001b[0m818      \u001b[0m | \u001b[0m1.78     \u001b[0m | \u001b[0m0.5721   \u001b[0m | \u001b[0m2.507    \u001b[0m | \u001b[0m0.9482   \u001b[0m | \u001b[0m21.62    \u001b[0m | \u001b[0m85.85    \u001b[0m | \u001b[0m19.1     \u001b[0m | \u001b[0m7.354    \u001b[0m | \u001b[0m1.175    \u001b[0m | \u001b[0m0.7005   \u001b[0m |\n",
            "| \u001b[0m819      \u001b[0m | \u001b[0m1.78     \u001b[0m | \u001b[0m0.8515   \u001b[0m | \u001b[0m6.066    \u001b[0m | \u001b[0m0.9061   \u001b[0m | \u001b[0m37.37    \u001b[0m | \u001b[0m30.99    \u001b[0m | \u001b[0m11.93    \u001b[0m | \u001b[0m7.957    \u001b[0m | \u001b[0m8.783    \u001b[0m | \u001b[0m0.5856   \u001b[0m |\n",
            "| \u001b[0m820      \u001b[0m | \u001b[0m1.776    \u001b[0m | \u001b[0m0.5281   \u001b[0m | \u001b[0m4.861    \u001b[0m | \u001b[0m0.03418  \u001b[0m | \u001b[0m22.26    \u001b[0m | \u001b[0m7.509    \u001b[0m | \u001b[0m44.97    \u001b[0m | \u001b[0m0.1646   \u001b[0m | \u001b[0m9.042    \u001b[0m | \u001b[0m0.9412   \u001b[0m |\n",
            "| \u001b[0m821      \u001b[0m | \u001b[0m1.78     \u001b[0m | \u001b[0m0.9771   \u001b[0m | \u001b[0m4.187    \u001b[0m | \u001b[0m0.4567   \u001b[0m | \u001b[0m37.92    \u001b[0m | \u001b[0m87.8     \u001b[0m | \u001b[0m55.1     \u001b[0m | \u001b[0m0.876    \u001b[0m | \u001b[0m8.773    \u001b[0m | \u001b[0m0.8763   \u001b[0m |\n",
            "| \u001b[0m822      \u001b[0m | \u001b[0m1.78     \u001b[0m | \u001b[0m0.7987   \u001b[0m | \u001b[0m4.133    \u001b[0m | \u001b[0m0.4074   \u001b[0m | \u001b[0m26.75    \u001b[0m | \u001b[0m19.77    \u001b[0m | \u001b[0m55.8     \u001b[0m | \u001b[0m7.935    \u001b[0m | \u001b[0m9.667    \u001b[0m | \u001b[0m0.7667   \u001b[0m |\n",
            "| \u001b[0m823      \u001b[0m | \u001b[0m1.78     \u001b[0m | \u001b[0m0.6244   \u001b[0m | \u001b[0m3.583    \u001b[0m | \u001b[0m0.2411   \u001b[0m | \u001b[0m21.96    \u001b[0m | \u001b[0m10.85    \u001b[0m | \u001b[0m41.36    \u001b[0m | \u001b[0m2.388    \u001b[0m | \u001b[0m7.311    \u001b[0m | \u001b[0m0.5286   \u001b[0m |\n",
            "| \u001b[0m824      \u001b[0m | \u001b[0m1.78     \u001b[0m | \u001b[0m0.6832   \u001b[0m | \u001b[0m5.818    \u001b[0m | \u001b[0m0.4275   \u001b[0m | \u001b[0m18.43    \u001b[0m | \u001b[0m36.87    \u001b[0m | \u001b[0m83.54    \u001b[0m | \u001b[0m7.41     \u001b[0m | \u001b[0m1.01     \u001b[0m | \u001b[0m0.9645   \u001b[0m |\n",
            "| \u001b[0m825      \u001b[0m | \u001b[0m1.78     \u001b[0m | \u001b[0m0.7762   \u001b[0m | \u001b[0m2.75     \u001b[0m | \u001b[0m0.913    \u001b[0m | \u001b[0m24.99    \u001b[0m | \u001b[0m98.89    \u001b[0m | \u001b[0m92.64    \u001b[0m | \u001b[0m5.11     \u001b[0m | \u001b[0m3.829    \u001b[0m | \u001b[0m0.5606   \u001b[0m |\n",
            "| \u001b[0m826      \u001b[0m | \u001b[0m1.78     \u001b[0m | \u001b[0m0.5739   \u001b[0m | \u001b[0m7.898    \u001b[0m | \u001b[0m0.6901   \u001b[0m | \u001b[0m28.75    \u001b[0m | \u001b[0m14.85    \u001b[0m | \u001b[0m97.34    \u001b[0m | \u001b[0m8.169    \u001b[0m | \u001b[0m4.861    \u001b[0m | \u001b[0m0.542    \u001b[0m |\n",
            "| \u001b[0m827      \u001b[0m | \u001b[0m1.78     \u001b[0m | \u001b[0m0.5715   \u001b[0m | \u001b[0m1.648    \u001b[0m | \u001b[0m0.5558   \u001b[0m | \u001b[0m32.51    \u001b[0m | \u001b[0m66.21    \u001b[0m | \u001b[0m60.23    \u001b[0m | \u001b[0m8.511    \u001b[0m | \u001b[0m2.158    \u001b[0m | \u001b[0m0.733    \u001b[0m |\n",
            "| \u001b[0m828      \u001b[0m | \u001b[0m1.78     \u001b[0m | \u001b[0m0.6634   \u001b[0m | \u001b[0m3.396    \u001b[0m | \u001b[0m0.6992   \u001b[0m | \u001b[0m48.43    \u001b[0m | \u001b[0m28.93    \u001b[0m | \u001b[0m97.69    \u001b[0m | \u001b[0m6.512    \u001b[0m | \u001b[0m1.171    \u001b[0m | \u001b[0m0.6663   \u001b[0m |\n",
            "| \u001b[0m829      \u001b[0m | \u001b[0m1.78     \u001b[0m | \u001b[0m0.5633   \u001b[0m | \u001b[0m5.693    \u001b[0m | \u001b[0m0.1824   \u001b[0m | \u001b[0m46.68    \u001b[0m | \u001b[0m46.98    \u001b[0m | \u001b[0m11.62    \u001b[0m | \u001b[0m3.996    \u001b[0m | \u001b[0m2.624    \u001b[0m | \u001b[0m0.7921   \u001b[0m |\n",
            "| \u001b[0m830      \u001b[0m | \u001b[0m1.78     \u001b[0m | \u001b[0m0.5297   \u001b[0m | \u001b[0m6.907    \u001b[0m | \u001b[0m0.2531   \u001b[0m | \u001b[0m15.83    \u001b[0m | \u001b[0m71.73    \u001b[0m | \u001b[0m38.96    \u001b[0m | \u001b[0m3.134    \u001b[0m | \u001b[0m7.112    \u001b[0m | \u001b[0m0.9907   \u001b[0m |\n",
            "| \u001b[0m831      \u001b[0m | \u001b[0m1.78     \u001b[0m | \u001b[0m0.7899   \u001b[0m | \u001b[0m6.907    \u001b[0m | \u001b[0m0.7036   \u001b[0m | \u001b[0m23.04    \u001b[0m | \u001b[0m79.46    \u001b[0m | \u001b[0m31.24    \u001b[0m | \u001b[0m8.774    \u001b[0m | \u001b[0m4.089    \u001b[0m | \u001b[0m0.6077   \u001b[0m |\n",
            "| \u001b[0m832      \u001b[0m | \u001b[0m1.78     \u001b[0m | \u001b[0m0.631    \u001b[0m | \u001b[0m6.285    \u001b[0m | \u001b[0m0.6464   \u001b[0m | \u001b[0m44.56    \u001b[0m | \u001b[0m13.75    \u001b[0m | \u001b[0m16.2     \u001b[0m | \u001b[0m8.287    \u001b[0m | \u001b[0m6.473    \u001b[0m | \u001b[0m0.7501   \u001b[0m |\n",
            "| \u001b[0m833      \u001b[0m | \u001b[0m1.78     \u001b[0m | \u001b[0m0.5775   \u001b[0m | \u001b[0m3.658    \u001b[0m | \u001b[0m0.6083   \u001b[0m | \u001b[0m38.46    \u001b[0m | \u001b[0m5.848    \u001b[0m | \u001b[0m96.89    \u001b[0m | \u001b[0m9.508    \u001b[0m | \u001b[0m9.933    \u001b[0m | \u001b[0m0.743    \u001b[0m |\n",
            "| \u001b[0m834      \u001b[0m | \u001b[0m1.78     \u001b[0m | \u001b[0m0.6489   \u001b[0m | \u001b[0m3.025    \u001b[0m | \u001b[0m0.2477   \u001b[0m | \u001b[0m29.8     \u001b[0m | \u001b[0m39.77    \u001b[0m | \u001b[0m15.45    \u001b[0m | \u001b[0m1.989    \u001b[0m | \u001b[0m3.823    \u001b[0m | \u001b[0m0.96     \u001b[0m |\n",
            "| \u001b[0m835      \u001b[0m | \u001b[0m1.78     \u001b[0m | \u001b[0m0.923    \u001b[0m | \u001b[0m3.417    \u001b[0m | \u001b[0m0.6389   \u001b[0m | \u001b[0m26.36    \u001b[0m | \u001b[0m22.58    \u001b[0m | \u001b[0m47.62    \u001b[0m | \u001b[0m8.087    \u001b[0m | \u001b[0m7.207    \u001b[0m | \u001b[0m0.8524   \u001b[0m |\n",
            "| \u001b[0m836      \u001b[0m | \u001b[0m1.78     \u001b[0m | \u001b[0m0.5669   \u001b[0m | \u001b[0m2.853    \u001b[0m | \u001b[0m0.9086   \u001b[0m | \u001b[0m9.38     \u001b[0m | \u001b[0m98.99    \u001b[0m | \u001b[0m92.33    \u001b[0m | \u001b[0m4.795    \u001b[0m | \u001b[0m8.904    \u001b[0m | \u001b[0m0.7948   \u001b[0m |\n",
            "| \u001b[0m837      \u001b[0m | \u001b[0m1.78     \u001b[0m | \u001b[0m0.5249   \u001b[0m | \u001b[0m8.817    \u001b[0m | \u001b[0m0.04197  \u001b[0m | \u001b[0m26.14    \u001b[0m | \u001b[0m65.49    \u001b[0m | \u001b[0m61.74    \u001b[0m | \u001b[0m9.58     \u001b[0m | \u001b[0m8.389    \u001b[0m | \u001b[0m0.921    \u001b[0m |\n",
            "| \u001b[0m838      \u001b[0m | \u001b[0m1.78     \u001b[0m | \u001b[0m0.5421   \u001b[0m | \u001b[0m0.6019   \u001b[0m | \u001b[0m0.3161   \u001b[0m | \u001b[0m1.705    \u001b[0m | \u001b[0m77.74    \u001b[0m | \u001b[0m25.36    \u001b[0m | \u001b[0m7.915    \u001b[0m | \u001b[0m1.101    \u001b[0m | \u001b[0m0.5547   \u001b[0m |\n",
            "| \u001b[0m839      \u001b[0m | \u001b[0m1.78     \u001b[0m | \u001b[0m0.8643   \u001b[0m | \u001b[0m3.235    \u001b[0m | \u001b[0m0.9761   \u001b[0m | \u001b[0m18.87    \u001b[0m | \u001b[0m34.8     \u001b[0m | \u001b[0m59.86    \u001b[0m | \u001b[0m2.017    \u001b[0m | \u001b[0m3.83     \u001b[0m | \u001b[0m0.5989   \u001b[0m |\n",
            "| \u001b[0m840      \u001b[0m | \u001b[0m1.78     \u001b[0m | \u001b[0m0.7739   \u001b[0m | \u001b[0m8.707    \u001b[0m | \u001b[0m0.5656   \u001b[0m | \u001b[0m45.57    \u001b[0m | \u001b[0m20.94    \u001b[0m | \u001b[0m41.86    \u001b[0m | \u001b[0m9.2      \u001b[0m | \u001b[0m5.381    \u001b[0m | \u001b[0m0.5073   \u001b[0m |\n",
            "| \u001b[0m841      \u001b[0m | \u001b[0m1.78     \u001b[0m | \u001b[0m0.9547   \u001b[0m | \u001b[0m4.735    \u001b[0m | \u001b[0m0.8571   \u001b[0m | \u001b[0m42.37    \u001b[0m | \u001b[0m51.15    \u001b[0m | \u001b[0m94.09    \u001b[0m | \u001b[0m3.722    \u001b[0m | \u001b[0m8.529    \u001b[0m | \u001b[0m0.6192   \u001b[0m |\n",
            "| \u001b[0m842      \u001b[0m | \u001b[0m1.78     \u001b[0m | \u001b[0m0.7382   \u001b[0m | \u001b[0m4.484    \u001b[0m | \u001b[0m0.6954   \u001b[0m | \u001b[0m42.69    \u001b[0m | \u001b[0m3.627    \u001b[0m | \u001b[0m44.66    \u001b[0m | \u001b[0m6.393    \u001b[0m | \u001b[0m3.384    \u001b[0m | \u001b[0m0.74     \u001b[0m |\n",
            "| \u001b[0m843      \u001b[0m | \u001b[0m1.78     \u001b[0m | \u001b[0m0.8905   \u001b[0m | \u001b[0m0.9642   \u001b[0m | \u001b[0m0.7261   \u001b[0m | \u001b[0m1.217    \u001b[0m | \u001b[0m25.66    \u001b[0m | \u001b[0m73.81    \u001b[0m | \u001b[0m1.067    \u001b[0m | \u001b[0m5.828    \u001b[0m | \u001b[0m0.5264   \u001b[0m |\n",
            "| \u001b[0m844      \u001b[0m | \u001b[0m1.78     \u001b[0m | \u001b[0m0.5392   \u001b[0m | \u001b[0m5.63     \u001b[0m | \u001b[0m0.151    \u001b[0m | \u001b[0m24.13    \u001b[0m | \u001b[0m11.44    \u001b[0m | \u001b[0m64.03    \u001b[0m | \u001b[0m1.886    \u001b[0m | \u001b[0m6.861    \u001b[0m | \u001b[0m0.5566   \u001b[0m |\n",
            "| \u001b[0m845      \u001b[0m | \u001b[0m1.78     \u001b[0m | \u001b[0m0.614    \u001b[0m | \u001b[0m1.425    \u001b[0m | \u001b[0m0.7131   \u001b[0m | \u001b[0m6.755    \u001b[0m | \u001b[0m99.7     \u001b[0m | \u001b[0m28.24    \u001b[0m | \u001b[0m9.051    \u001b[0m | \u001b[0m2.82     \u001b[0m | \u001b[0m0.9945   \u001b[0m |\n",
            "| \u001b[0m846      \u001b[0m | \u001b[0m1.78     \u001b[0m | \u001b[0m0.8791   \u001b[0m | \u001b[0m9.772    \u001b[0m | \u001b[0m0.3499   \u001b[0m | \u001b[0m38.86    \u001b[0m | \u001b[0m40.98    \u001b[0m | \u001b[0m39.84    \u001b[0m | \u001b[0m3.379    \u001b[0m | \u001b[0m6.127    \u001b[0m | \u001b[0m0.8029   \u001b[0m |\n",
            "| \u001b[0m847      \u001b[0m | \u001b[0m1.78     \u001b[0m | \u001b[0m0.6229   \u001b[0m | \u001b[0m0.2957   \u001b[0m | \u001b[0m0.4897   \u001b[0m | \u001b[0m25.2     \u001b[0m | \u001b[0m98.41    \u001b[0m | \u001b[0m87.52    \u001b[0m | \u001b[0m7.796    \u001b[0m | \u001b[0m8.871    \u001b[0m | \u001b[0m0.9449   \u001b[0m |\n",
            "| \u001b[0m848      \u001b[0m | \u001b[0m1.78     \u001b[0m | \u001b[0m0.6067   \u001b[0m | \u001b[0m3.757    \u001b[0m | \u001b[0m0.2483   \u001b[0m | \u001b[0m49.35    \u001b[0m | \u001b[0m16.32    \u001b[0m | \u001b[0m60.52    \u001b[0m | \u001b[0m9.94     \u001b[0m | \u001b[0m7.553    \u001b[0m | \u001b[0m0.8122   \u001b[0m |\n",
            "| \u001b[0m849      \u001b[0m | \u001b[0m1.78     \u001b[0m | \u001b[0m0.5846   \u001b[0m | \u001b[0m1.846    \u001b[0m | \u001b[0m0.9801   \u001b[0m | \u001b[0m34.8     \u001b[0m | \u001b[0m81.9     \u001b[0m | \u001b[0m21.24    \u001b[0m | \u001b[0m6.702    \u001b[0m | \u001b[0m1.626    \u001b[0m | \u001b[0m0.9185   \u001b[0m |\n",
            "| \u001b[0m850      \u001b[0m | \u001b[0m1.78     \u001b[0m | \u001b[0m0.7037   \u001b[0m | \u001b[0m3.71     \u001b[0m | \u001b[0m0.9484   \u001b[0m | \u001b[0m42.37    \u001b[0m | \u001b[0m46.12    \u001b[0m | \u001b[0m49.72    \u001b[0m | \u001b[0m4.262    \u001b[0m | \u001b[0m8.305    \u001b[0m | \u001b[0m0.6929   \u001b[0m |\n",
            "| \u001b[0m851      \u001b[0m | \u001b[0m1.78     \u001b[0m | \u001b[0m0.7081   \u001b[0m | \u001b[0m4.887    \u001b[0m | \u001b[0m0.7485   \u001b[0m | \u001b[0m47.43    \u001b[0m | \u001b[0m72.66    \u001b[0m | \u001b[0m39.54    \u001b[0m | \u001b[0m4.26     \u001b[0m | \u001b[0m5.973    \u001b[0m | \u001b[0m0.6308   \u001b[0m |\n",
            "| \u001b[0m852      \u001b[0m | \u001b[0m1.78     \u001b[0m | \u001b[0m0.9514   \u001b[0m | \u001b[0m8.896    \u001b[0m | \u001b[0m0.9373   \u001b[0m | \u001b[0m31.34    \u001b[0m | \u001b[0m29.88    \u001b[0m | \u001b[0m69.43    \u001b[0m | \u001b[0m2.9      \u001b[0m | \u001b[0m4.355    \u001b[0m | \u001b[0m0.9823   \u001b[0m |\n",
            "| \u001b[0m853      \u001b[0m | \u001b[0m1.78     \u001b[0m | \u001b[0m0.9016   \u001b[0m | \u001b[0m8.333    \u001b[0m | \u001b[0m0.2646   \u001b[0m | \u001b[0m34.23    \u001b[0m | \u001b[0m77.11    \u001b[0m | \u001b[0m53.14    \u001b[0m | \u001b[0m0.9202   \u001b[0m | \u001b[0m8.016    \u001b[0m | \u001b[0m0.621    \u001b[0m |\n",
            "| \u001b[0m854      \u001b[0m | \u001b[0m1.78     \u001b[0m | \u001b[0m0.7833   \u001b[0m | \u001b[0m9.999    \u001b[0m | \u001b[0m0.7234   \u001b[0m | \u001b[0m33.92    \u001b[0m | \u001b[0m48.93    \u001b[0m | \u001b[0m24.56    \u001b[0m | \u001b[0m5.093    \u001b[0m | \u001b[0m3.108    \u001b[0m | \u001b[0m0.6228   \u001b[0m |\n",
            "| \u001b[0m855      \u001b[0m | \u001b[0m1.78     \u001b[0m | \u001b[0m0.7508   \u001b[0m | \u001b[0m7.199    \u001b[0m | \u001b[0m0.3074   \u001b[0m | \u001b[0m20.69    \u001b[0m | \u001b[0m94.8     \u001b[0m | \u001b[0m9.419    \u001b[0m | \u001b[0m8.415    \u001b[0m | \u001b[0m1.88     \u001b[0m | \u001b[0m0.6264   \u001b[0m |\n",
            "| \u001b[0m856      \u001b[0m | \u001b[0m1.78     \u001b[0m | \u001b[0m0.9637   \u001b[0m | \u001b[0m1.422    \u001b[0m | \u001b[0m0.09461  \u001b[0m | \u001b[0m24.84    \u001b[0m | \u001b[0m31.92    \u001b[0m | \u001b[0m83.98    \u001b[0m | \u001b[0m2.561    \u001b[0m | \u001b[0m4.255    \u001b[0m | \u001b[0m0.8603   \u001b[0m |\n",
            "| \u001b[0m857      \u001b[0m | \u001b[0m1.78     \u001b[0m | \u001b[0m0.6907   \u001b[0m | \u001b[0m5.913    \u001b[0m | \u001b[0m0.3955   \u001b[0m | \u001b[0m44.78    \u001b[0m | \u001b[0m70.94    \u001b[0m | \u001b[0m30.3     \u001b[0m | \u001b[0m3.024    \u001b[0m | \u001b[0m0.4304   \u001b[0m | \u001b[0m0.8823   \u001b[0m |\n",
            "| \u001b[0m858      \u001b[0m | \u001b[0m1.78     \u001b[0m | \u001b[0m0.5121   \u001b[0m | \u001b[0m2.581    \u001b[0m | \u001b[0m0.1991   \u001b[0m | \u001b[0m25.45    \u001b[0m | \u001b[0m80.58    \u001b[0m | \u001b[0m15.03    \u001b[0m | \u001b[0m9.926    \u001b[0m | \u001b[0m9.282    \u001b[0m | \u001b[0m0.6101   \u001b[0m |\n",
            "| \u001b[0m859      \u001b[0m | \u001b[0m1.78     \u001b[0m | \u001b[0m0.5331   \u001b[0m | \u001b[0m8.489    \u001b[0m | \u001b[0m0.6463   \u001b[0m | \u001b[0m21.21    \u001b[0m | \u001b[0m49.75    \u001b[0m | \u001b[0m40.44    \u001b[0m | \u001b[0m1.166    \u001b[0m | \u001b[0m7.613    \u001b[0m | \u001b[0m0.9151   \u001b[0m |\n",
            "| \u001b[0m860      \u001b[0m | \u001b[0m1.78     \u001b[0m | \u001b[0m0.8304   \u001b[0m | \u001b[0m8.932    \u001b[0m | \u001b[0m0.2797   \u001b[0m | \u001b[0m25.25    \u001b[0m | \u001b[0m49.3     \u001b[0m | \u001b[0m46.5     \u001b[0m | \u001b[0m3.838    \u001b[0m | \u001b[0m9.183    \u001b[0m | \u001b[0m0.8351   \u001b[0m |\n",
            "| \u001b[0m861      \u001b[0m | \u001b[0m1.78     \u001b[0m | \u001b[0m0.5947   \u001b[0m | \u001b[0m5.364    \u001b[0m | \u001b[0m0.003375 \u001b[0m | \u001b[0m9.202    \u001b[0m | \u001b[0m24.21    \u001b[0m | \u001b[0m53.65    \u001b[0m | \u001b[0m1.911    \u001b[0m | \u001b[0m0.7675   \u001b[0m | \u001b[0m0.7693   \u001b[0m |\n",
            "| \u001b[0m862      \u001b[0m | \u001b[0m1.78     \u001b[0m | \u001b[0m0.6664   \u001b[0m | \u001b[0m2.281    \u001b[0m | \u001b[0m0.2575   \u001b[0m | \u001b[0m46.06    \u001b[0m | \u001b[0m38.48    \u001b[0m | \u001b[0m75.53    \u001b[0m | \u001b[0m3.623    \u001b[0m | \u001b[0m7.002    \u001b[0m | \u001b[0m0.912    \u001b[0m |\n",
            "| \u001b[0m863      \u001b[0m | \u001b[0m1.78     \u001b[0m | \u001b[0m0.722    \u001b[0m | \u001b[0m0.09899  \u001b[0m | \u001b[0m0.8999   \u001b[0m | \u001b[0m15.33    \u001b[0m | \u001b[0m4.333    \u001b[0m | \u001b[0m84.3     \u001b[0m | \u001b[0m8.172    \u001b[0m | \u001b[0m8.724    \u001b[0m | \u001b[0m0.5608   \u001b[0m |\n",
            "| \u001b[0m864      \u001b[0m | \u001b[0m1.78     \u001b[0m | \u001b[0m0.9746   \u001b[0m | \u001b[0m8.895    \u001b[0m | \u001b[0m0.926    \u001b[0m | \u001b[0m20.4     \u001b[0m | \u001b[0m44.98    \u001b[0m | \u001b[0m14.74    \u001b[0m | \u001b[0m0.1469   \u001b[0m | \u001b[0m4.936    \u001b[0m | \u001b[0m0.7316   \u001b[0m |\n",
            "| \u001b[0m865      \u001b[0m | \u001b[0m1.78     \u001b[0m | \u001b[0m0.8202   \u001b[0m | \u001b[0m9.724    \u001b[0m | \u001b[0m0.4849   \u001b[0m | \u001b[0m21.66    \u001b[0m | \u001b[0m13.33    \u001b[0m | \u001b[0m60.54    \u001b[0m | \u001b[0m9.142    \u001b[0m | \u001b[0m7.779    \u001b[0m | \u001b[0m0.9758   \u001b[0m |\n",
            "| \u001b[0m866      \u001b[0m | \u001b[0m1.78     \u001b[0m | \u001b[0m0.7234   \u001b[0m | \u001b[0m7.448    \u001b[0m | \u001b[0m0.237    \u001b[0m | \u001b[0m30.8     \u001b[0m | \u001b[0m8.312    \u001b[0m | \u001b[0m55.26    \u001b[0m | \u001b[0m7.44     \u001b[0m | \u001b[0m3.381    \u001b[0m | \u001b[0m0.856    \u001b[0m |\n",
            "| \u001b[0m867      \u001b[0m | \u001b[0m1.78     \u001b[0m | \u001b[0m0.885    \u001b[0m | \u001b[0m6.226    \u001b[0m | \u001b[0m0.25     \u001b[0m | \u001b[0m17.44    \u001b[0m | \u001b[0m92.48    \u001b[0m | \u001b[0m56.02    \u001b[0m | \u001b[0m7.346    \u001b[0m | \u001b[0m7.571    \u001b[0m | \u001b[0m0.6901   \u001b[0m |\n",
            "| \u001b[0m868      \u001b[0m | \u001b[0m1.78     \u001b[0m | \u001b[0m0.8806   \u001b[0m | \u001b[0m8.009    \u001b[0m | \u001b[0m0.7829   \u001b[0m | \u001b[0m37.0     \u001b[0m | \u001b[0m4.749    \u001b[0m | \u001b[0m56.81    \u001b[0m | \u001b[0m6.377    \u001b[0m | \u001b[0m2.959    \u001b[0m | \u001b[0m0.6776   \u001b[0m |\n",
            "| \u001b[0m869      \u001b[0m | \u001b[0m1.78     \u001b[0m | \u001b[0m0.7627   \u001b[0m | \u001b[0m3.947    \u001b[0m | \u001b[0m0.07037  \u001b[0m | \u001b[0m8.773    \u001b[0m | \u001b[0m82.13    \u001b[0m | \u001b[0m35.33    \u001b[0m | \u001b[0m1.887    \u001b[0m | \u001b[0m0.69     \u001b[0m | \u001b[0m0.907    \u001b[0m |\n",
            "| \u001b[0m870      \u001b[0m | \u001b[0m1.78     \u001b[0m | \u001b[0m0.5243   \u001b[0m | \u001b[0m1.925    \u001b[0m | \u001b[0m0.8896   \u001b[0m | \u001b[0m10.48    \u001b[0m | \u001b[0m5.9      \u001b[0m | \u001b[0m37.75    \u001b[0m | \u001b[0m6.496    \u001b[0m | \u001b[0m8.05     \u001b[0m | \u001b[0m0.9951   \u001b[0m |\n",
            "| \u001b[0m871      \u001b[0m | \u001b[0m1.78     \u001b[0m | \u001b[0m0.7934   \u001b[0m | \u001b[0m2.227    \u001b[0m | \u001b[0m0.8586   \u001b[0m | \u001b[0m28.38    \u001b[0m | \u001b[0m67.34    \u001b[0m | \u001b[0m47.2     \u001b[0m | \u001b[0m8.961    \u001b[0m | \u001b[0m3.614    \u001b[0m | \u001b[0m0.5473   \u001b[0m |\n",
            "| \u001b[0m872      \u001b[0m | \u001b[0m1.78     \u001b[0m | \u001b[0m0.6195   \u001b[0m | \u001b[0m5.308    \u001b[0m | \u001b[0m0.02298  \u001b[0m | \u001b[0m32.03    \u001b[0m | \u001b[0m45.51    \u001b[0m | \u001b[0m7.233    \u001b[0m | \u001b[0m5.601    \u001b[0m | \u001b[0m4.592    \u001b[0m | \u001b[0m0.7719   \u001b[0m |\n",
            "| \u001b[0m873      \u001b[0m | \u001b[0m1.78     \u001b[0m | \u001b[0m0.5038   \u001b[0m | \u001b[0m9.025    \u001b[0m | \u001b[0m0.4069   \u001b[0m | \u001b[0m47.03    \u001b[0m | \u001b[0m7.303    \u001b[0m | \u001b[0m57.0     \u001b[0m | \u001b[0m6.998    \u001b[0m | \u001b[0m9.573    \u001b[0m | \u001b[0m0.8767   \u001b[0m |\n",
            "| \u001b[0m874      \u001b[0m | \u001b[0m1.78     \u001b[0m | \u001b[0m0.584    \u001b[0m | \u001b[0m6.461    \u001b[0m | \u001b[0m0.7119   \u001b[0m | \u001b[0m26.52    \u001b[0m | \u001b[0m97.06    \u001b[0m | \u001b[0m49.05    \u001b[0m | \u001b[0m4.181    \u001b[0m | \u001b[0m3.136    \u001b[0m | \u001b[0m0.5857   \u001b[0m |\n",
            "| \u001b[0m875      \u001b[0m | \u001b[0m1.78     \u001b[0m | \u001b[0m0.5008   \u001b[0m | \u001b[0m2.354    \u001b[0m | \u001b[0m0.8968   \u001b[0m | \u001b[0m3.3      \u001b[0m | \u001b[0m79.16    \u001b[0m | \u001b[0m91.07    \u001b[0m | \u001b[0m0.7334   \u001b[0m | \u001b[0m5.728    \u001b[0m | \u001b[0m0.9912   \u001b[0m |\n",
            "| \u001b[0m876      \u001b[0m | \u001b[0m1.776    \u001b[0m | \u001b[0m0.5168   \u001b[0m | \u001b[0m6.836    \u001b[0m | \u001b[0m0.8561   \u001b[0m | \u001b[0m27.5     \u001b[0m | \u001b[0m2.098    \u001b[0m | \u001b[0m35.4     \u001b[0m | \u001b[0m2.754    \u001b[0m | \u001b[0m8.54     \u001b[0m | \u001b[0m0.9612   \u001b[0m |\n",
            "| \u001b[0m877      \u001b[0m | \u001b[0m1.78     \u001b[0m | \u001b[0m0.5763   \u001b[0m | \u001b[0m3.395    \u001b[0m | \u001b[0m0.4555   \u001b[0m | \u001b[0m21.63    \u001b[0m | \u001b[0m32.64    \u001b[0m | \u001b[0m76.21    \u001b[0m | \u001b[0m2.713    \u001b[0m | \u001b[0m5.55     \u001b[0m | \u001b[0m0.6923   \u001b[0m |\n",
            "| \u001b[0m878      \u001b[0m | \u001b[0m1.78     \u001b[0m | \u001b[0m0.8714   \u001b[0m | \u001b[0m0.393    \u001b[0m | \u001b[0m0.9555   \u001b[0m | \u001b[0m24.51    \u001b[0m | \u001b[0m24.86    \u001b[0m | \u001b[0m10.86    \u001b[0m | \u001b[0m3.907    \u001b[0m | \u001b[0m2.92     \u001b[0m | \u001b[0m0.8904   \u001b[0m |\n",
            "| \u001b[0m879      \u001b[0m | \u001b[0m1.78     \u001b[0m | \u001b[0m0.5216   \u001b[0m | \u001b[0m6.186    \u001b[0m | \u001b[0m0.08572  \u001b[0m | \u001b[0m44.87    \u001b[0m | \u001b[0m61.6     \u001b[0m | \u001b[0m77.65    \u001b[0m | \u001b[0m1.309    \u001b[0m | \u001b[0m0.8834   \u001b[0m | \u001b[0m0.8824   \u001b[0m |\n",
            "| \u001b[0m880      \u001b[0m | \u001b[0m1.78     \u001b[0m | \u001b[0m0.7272   \u001b[0m | \u001b[0m3.355    \u001b[0m | \u001b[0m0.3814   \u001b[0m | \u001b[0m12.65    \u001b[0m | \u001b[0m9.029    \u001b[0m | \u001b[0m99.55    \u001b[0m | \u001b[0m3.921    \u001b[0m | \u001b[0m4.827    \u001b[0m | \u001b[0m0.8523   \u001b[0m |\n",
            "| \u001b[0m881      \u001b[0m | \u001b[0m1.78     \u001b[0m | \u001b[0m0.5661   \u001b[0m | \u001b[0m6.938    \u001b[0m | \u001b[0m0.3393   \u001b[0m | \u001b[0m43.99    \u001b[0m | \u001b[0m7.484    \u001b[0m | \u001b[0m72.57    \u001b[0m | \u001b[0m4.654    \u001b[0m | \u001b[0m6.524    \u001b[0m | \u001b[0m0.7982   \u001b[0m |\n",
            "| \u001b[0m882      \u001b[0m | \u001b[0m1.78     \u001b[0m | \u001b[0m0.7096   \u001b[0m | \u001b[0m9.733    \u001b[0m | \u001b[0m0.8273   \u001b[0m | \u001b[0m12.66    \u001b[0m | \u001b[0m70.45    \u001b[0m | \u001b[0m47.85    \u001b[0m | \u001b[0m4.677    \u001b[0m | \u001b[0m5.038    \u001b[0m | \u001b[0m0.7309   \u001b[0m |\n",
            "| \u001b[0m883      \u001b[0m | \u001b[0m1.78     \u001b[0m | \u001b[0m0.6093   \u001b[0m | \u001b[0m1.563    \u001b[0m | \u001b[0m0.3873   \u001b[0m | \u001b[0m24.56    \u001b[0m | \u001b[0m31.9     \u001b[0m | \u001b[0m26.72    \u001b[0m | \u001b[0m5.504    \u001b[0m | \u001b[0m8.693    \u001b[0m | \u001b[0m0.8532   \u001b[0m |\n",
            "| \u001b[0m884      \u001b[0m | \u001b[0m1.78     \u001b[0m | \u001b[0m0.779    \u001b[0m | \u001b[0m0.7269   \u001b[0m | \u001b[0m0.1994   \u001b[0m | \u001b[0m25.92    \u001b[0m | \u001b[0m31.42    \u001b[0m | \u001b[0m74.84    \u001b[0m | \u001b[0m4.39     \u001b[0m | \u001b[0m9.111    \u001b[0m | \u001b[0m0.9832   \u001b[0m |\n",
            "| \u001b[0m885      \u001b[0m | \u001b[0m1.78     \u001b[0m | \u001b[0m0.8262   \u001b[0m | \u001b[0m1.547    \u001b[0m | \u001b[0m0.02792  \u001b[0m | \u001b[0m4.262    \u001b[0m | \u001b[0m53.52    \u001b[0m | \u001b[0m82.94    \u001b[0m | \u001b[0m6.847    \u001b[0m | \u001b[0m3.798    \u001b[0m | \u001b[0m0.669    \u001b[0m |\n",
            "| \u001b[0m886      \u001b[0m | \u001b[0m1.78     \u001b[0m | \u001b[0m0.5987   \u001b[0m | \u001b[0m9.817    \u001b[0m | \u001b[0m0.9705   \u001b[0m | \u001b[0m49.13    \u001b[0m | \u001b[0m83.23    \u001b[0m | \u001b[0m22.66    \u001b[0m | \u001b[0m3.826    \u001b[0m | \u001b[0m1.988    \u001b[0m | \u001b[0m0.9974   \u001b[0m |\n",
            "| \u001b[0m887      \u001b[0m | \u001b[0m1.78     \u001b[0m | \u001b[0m0.6755   \u001b[0m | \u001b[0m4.359    \u001b[0m | \u001b[0m0.8195   \u001b[0m | \u001b[0m11.85    \u001b[0m | \u001b[0m74.1     \u001b[0m | \u001b[0m61.8     \u001b[0m | \u001b[0m4.82     \u001b[0m | \u001b[0m7.417    \u001b[0m | \u001b[0m0.9488   \u001b[0m |\n",
            "| \u001b[0m888      \u001b[0m | \u001b[0m1.78     \u001b[0m | \u001b[0m0.6024   \u001b[0m | \u001b[0m9.778    \u001b[0m | \u001b[0m0.6603   \u001b[0m | \u001b[0m29.11    \u001b[0m | \u001b[0m54.98    \u001b[0m | \u001b[0m21.65    \u001b[0m | \u001b[0m5.56     \u001b[0m | \u001b[0m3.412    \u001b[0m | \u001b[0m0.9015   \u001b[0m |\n",
            "| \u001b[0m889      \u001b[0m | \u001b[0m1.78     \u001b[0m | \u001b[0m0.6075   \u001b[0m | \u001b[0m0.1703   \u001b[0m | \u001b[0m0.6903   \u001b[0m | \u001b[0m12.43    \u001b[0m | \u001b[0m93.12    \u001b[0m | \u001b[0m47.76    \u001b[0m | \u001b[0m7.552    \u001b[0m | \u001b[0m1.991    \u001b[0m | \u001b[0m0.5998   \u001b[0m |\n",
            "| \u001b[0m890      \u001b[0m | \u001b[0m1.78     \u001b[0m | \u001b[0m0.9261   \u001b[0m | \u001b[0m6.175    \u001b[0m | \u001b[0m0.3771   \u001b[0m | \u001b[0m26.25    \u001b[0m | \u001b[0m71.62    \u001b[0m | \u001b[0m32.76    \u001b[0m | \u001b[0m0.9702   \u001b[0m | \u001b[0m4.569    \u001b[0m | \u001b[0m0.5168   \u001b[0m |\n",
            "| \u001b[0m891      \u001b[0m | \u001b[0m1.78     \u001b[0m | \u001b[0m0.798    \u001b[0m | \u001b[0m9.399    \u001b[0m | \u001b[0m0.5416   \u001b[0m | \u001b[0m46.47    \u001b[0m | \u001b[0m41.82    \u001b[0m | \u001b[0m93.74    \u001b[0m | \u001b[0m0.3389   \u001b[0m | \u001b[0m5.257    \u001b[0m | \u001b[0m0.5407   \u001b[0m |\n",
            "| \u001b[0m892      \u001b[0m | \u001b[0m1.78     \u001b[0m | \u001b[0m0.6418   \u001b[0m | \u001b[0m8.172    \u001b[0m | \u001b[0m0.4527   \u001b[0m | \u001b[0m26.2     \u001b[0m | \u001b[0m42.92    \u001b[0m | \u001b[0m73.89    \u001b[0m | \u001b[0m9.949    \u001b[0m | \u001b[0m1.284    \u001b[0m | \u001b[0m0.5371   \u001b[0m |\n",
            "| \u001b[0m893      \u001b[0m | \u001b[0m1.78     \u001b[0m | \u001b[0m0.789    \u001b[0m | \u001b[0m7.599    \u001b[0m | \u001b[0m0.8588   \u001b[0m | \u001b[0m19.26    \u001b[0m | \u001b[0m98.76    \u001b[0m | \u001b[0m28.64    \u001b[0m | \u001b[0m7.63     \u001b[0m | \u001b[0m6.327    \u001b[0m | \u001b[0m0.5224   \u001b[0m |\n",
            "| \u001b[0m894      \u001b[0m | \u001b[0m1.78     \u001b[0m | \u001b[0m0.8597   \u001b[0m | \u001b[0m5.807    \u001b[0m | \u001b[0m0.8388   \u001b[0m | \u001b[0m37.61    \u001b[0m | \u001b[0m25.0     \u001b[0m | \u001b[0m80.49    \u001b[0m | \u001b[0m9.226    \u001b[0m | \u001b[0m3.418    \u001b[0m | \u001b[0m0.506    \u001b[0m |\n",
            "| \u001b[0m895      \u001b[0m | \u001b[0m1.78     \u001b[0m | \u001b[0m0.8559   \u001b[0m | \u001b[0m0.09401  \u001b[0m | \u001b[0m0.01107  \u001b[0m | \u001b[0m4.968    \u001b[0m | \u001b[0m67.57    \u001b[0m | \u001b[0m27.65    \u001b[0m | \u001b[0m7.122    \u001b[0m | \u001b[0m4.166    \u001b[0m | \u001b[0m0.6211   \u001b[0m |\n",
            "| \u001b[0m896      \u001b[0m | \u001b[0m1.78     \u001b[0m | \u001b[0m0.9167   \u001b[0m | \u001b[0m8.84     \u001b[0m | \u001b[0m0.1188   \u001b[0m | \u001b[0m17.93    \u001b[0m | \u001b[0m33.61    \u001b[0m | \u001b[0m15.8     \u001b[0m | \u001b[0m0.1765   \u001b[0m | \u001b[0m1.55     \u001b[0m | \u001b[0m0.6688   \u001b[0m |\n",
            "| \u001b[0m897      \u001b[0m | \u001b[0m1.78     \u001b[0m | \u001b[0m0.5721   \u001b[0m | \u001b[0m8.27     \u001b[0m | \u001b[0m0.09713  \u001b[0m | \u001b[0m22.0     \u001b[0m | \u001b[0m44.73    \u001b[0m | \u001b[0m6.764    \u001b[0m | \u001b[0m5.709    \u001b[0m | \u001b[0m2.492    \u001b[0m | \u001b[0m0.5868   \u001b[0m |\n",
            "| \u001b[0m898      \u001b[0m | \u001b[0m1.78     \u001b[0m | \u001b[0m0.9089   \u001b[0m | \u001b[0m4.375    \u001b[0m | \u001b[0m0.2874   \u001b[0m | \u001b[0m13.92    \u001b[0m | \u001b[0m38.11    \u001b[0m | \u001b[0m34.2     \u001b[0m | \u001b[0m9.785    \u001b[0m | \u001b[0m0.3912   \u001b[0m | \u001b[0m0.7916   \u001b[0m |\n",
            "| \u001b[0m899      \u001b[0m | \u001b[0m1.78     \u001b[0m | \u001b[0m0.6399   \u001b[0m | \u001b[0m0.8643   \u001b[0m | \u001b[0m0.6114   \u001b[0m | \u001b[0m25.27    \u001b[0m | \u001b[0m6.341    \u001b[0m | \u001b[0m80.67    \u001b[0m | \u001b[0m6.57     \u001b[0m | \u001b[0m4.886    \u001b[0m | \u001b[0m0.991    \u001b[0m |\n",
            "| \u001b[0m900      \u001b[0m | \u001b[0m1.78     \u001b[0m | \u001b[0m0.6253   \u001b[0m | \u001b[0m6.148    \u001b[0m | \u001b[0m0.3828   \u001b[0m | \u001b[0m28.88    \u001b[0m | \u001b[0m14.65    \u001b[0m | \u001b[0m62.21    \u001b[0m | \u001b[0m4.863    \u001b[0m | \u001b[0m7.93     \u001b[0m | \u001b[0m0.6733   \u001b[0m |\n",
            "| \u001b[0m901      \u001b[0m | \u001b[0m1.78     \u001b[0m | \u001b[0m0.5123   \u001b[0m | \u001b[0m8.574    \u001b[0m | \u001b[0m0.3869   \u001b[0m | \u001b[0m22.66    \u001b[0m | \u001b[0m66.35    \u001b[0m | \u001b[0m10.72    \u001b[0m | \u001b[0m8.181    \u001b[0m | \u001b[0m1.86     \u001b[0m | \u001b[0m0.5123   \u001b[0m |\n",
            "| \u001b[0m902      \u001b[0m | \u001b[0m1.78     \u001b[0m | \u001b[0m0.649    \u001b[0m | \u001b[0m9.607    \u001b[0m | \u001b[0m0.3813   \u001b[0m | \u001b[0m11.26    \u001b[0m | \u001b[0m59.34    \u001b[0m | \u001b[0m20.34    \u001b[0m | \u001b[0m3.852    \u001b[0m | \u001b[0m8.98     \u001b[0m | \u001b[0m0.8071   \u001b[0m |\n",
            "| \u001b[0m903      \u001b[0m | \u001b[0m1.78     \u001b[0m | \u001b[0m0.5253   \u001b[0m | \u001b[0m0.8751   \u001b[0m | \u001b[0m0.76     \u001b[0m | \u001b[0m48.09    \u001b[0m | \u001b[0m58.84    \u001b[0m | \u001b[0m41.25    \u001b[0m | \u001b[0m7.705    \u001b[0m | \u001b[0m6.116    \u001b[0m | \u001b[0m0.6812   \u001b[0m |\n",
            "| \u001b[0m904      \u001b[0m | \u001b[0m1.78     \u001b[0m | \u001b[0m0.9475   \u001b[0m | \u001b[0m3.734    \u001b[0m | \u001b[0m0.6666   \u001b[0m | \u001b[0m32.24    \u001b[0m | \u001b[0m89.34    \u001b[0m | \u001b[0m32.59    \u001b[0m | \u001b[0m1.829    \u001b[0m | \u001b[0m6.099    \u001b[0m | \u001b[0m0.5902   \u001b[0m |\n",
            "| \u001b[0m905      \u001b[0m | \u001b[0m1.78     \u001b[0m | \u001b[0m0.9685   \u001b[0m | \u001b[0m2.721    \u001b[0m | \u001b[0m0.8208   \u001b[0m | \u001b[0m23.79    \u001b[0m | \u001b[0m21.2     \u001b[0m | \u001b[0m76.77    \u001b[0m | \u001b[0m3.688    \u001b[0m | \u001b[0m9.906    \u001b[0m | \u001b[0m0.8899   \u001b[0m |\n",
            "| \u001b[0m906      \u001b[0m | \u001b[0m1.78     \u001b[0m | \u001b[0m0.893    \u001b[0m | \u001b[0m7.806    \u001b[0m | \u001b[0m0.4792   \u001b[0m | \u001b[0m37.91    \u001b[0m | \u001b[0m72.86    \u001b[0m | \u001b[0m70.77    \u001b[0m | \u001b[0m7.871    \u001b[0m | \u001b[0m8.777    \u001b[0m | \u001b[0m0.8373   \u001b[0m |\n",
            "| \u001b[0m907      \u001b[0m | \u001b[0m1.78     \u001b[0m | \u001b[0m0.6694   \u001b[0m | \u001b[0m3.043    \u001b[0m | \u001b[0m0.5957   \u001b[0m | \u001b[0m17.32    \u001b[0m | \u001b[0m35.87    \u001b[0m | \u001b[0m68.3     \u001b[0m | \u001b[0m7.107    \u001b[0m | \u001b[0m7.248    \u001b[0m | \u001b[0m0.5217   \u001b[0m |\n",
            "| \u001b[0m908      \u001b[0m | \u001b[0m1.78     \u001b[0m | \u001b[0m0.7488   \u001b[0m | \u001b[0m3.722    \u001b[0m | \u001b[0m0.7902   \u001b[0m | \u001b[0m43.16    \u001b[0m | \u001b[0m42.24    \u001b[0m | \u001b[0m44.76    \u001b[0m | \u001b[0m7.843    \u001b[0m | \u001b[0m2.047    \u001b[0m | \u001b[0m0.9713   \u001b[0m |\n",
            "| \u001b[0m909      \u001b[0m | \u001b[0m1.78     \u001b[0m | \u001b[0m0.8639   \u001b[0m | \u001b[0m0.03336  \u001b[0m | \u001b[0m0.4509   \u001b[0m | \u001b[0m11.46    \u001b[0m | \u001b[0m15.44    \u001b[0m | \u001b[0m39.18    \u001b[0m | \u001b[0m7.513    \u001b[0m | \u001b[0m3.284    \u001b[0m | \u001b[0m0.9316   \u001b[0m |\n",
            "| \u001b[0m910      \u001b[0m | \u001b[0m1.78     \u001b[0m | \u001b[0m0.9935   \u001b[0m | \u001b[0m9.265    \u001b[0m | \u001b[0m0.7135   \u001b[0m | \u001b[0m3.759    \u001b[0m | \u001b[0m68.44    \u001b[0m | \u001b[0m68.27    \u001b[0m | \u001b[0m7.802    \u001b[0m | \u001b[0m2.193    \u001b[0m | \u001b[0m0.579    \u001b[0m |\n",
            "| \u001b[0m911      \u001b[0m | \u001b[0m1.78     \u001b[0m | \u001b[0m0.7572   \u001b[0m | \u001b[0m7.337    \u001b[0m | \u001b[0m0.5065   \u001b[0m | \u001b[0m36.6     \u001b[0m | \u001b[0m48.56    \u001b[0m | \u001b[0m41.25    \u001b[0m | \u001b[0m0.7181   \u001b[0m | \u001b[0m6.592    \u001b[0m | \u001b[0m0.5044   \u001b[0m |\n",
            "| \u001b[0m912      \u001b[0m | \u001b[0m1.78     \u001b[0m | \u001b[0m0.9666   \u001b[0m | \u001b[0m4.362    \u001b[0m | \u001b[0m0.6807   \u001b[0m | \u001b[0m30.61    \u001b[0m | \u001b[0m8.342    \u001b[0m | \u001b[0m32.11    \u001b[0m | \u001b[0m9.386    \u001b[0m | \u001b[0m8.079    \u001b[0m | \u001b[0m0.9278   \u001b[0m |\n",
            "| \u001b[0m913      \u001b[0m | \u001b[0m1.78     \u001b[0m | \u001b[0m0.9901   \u001b[0m | \u001b[0m9.314    \u001b[0m | \u001b[0m0.6048   \u001b[0m | \u001b[0m5.318    \u001b[0m | \u001b[0m6.119    \u001b[0m | \u001b[0m98.31    \u001b[0m | \u001b[0m6.514    \u001b[0m | \u001b[0m4.968    \u001b[0m | \u001b[0m0.7634   \u001b[0m |\n",
            "| \u001b[0m914      \u001b[0m | \u001b[0m1.78     \u001b[0m | \u001b[0m0.9977   \u001b[0m | \u001b[0m4.055    \u001b[0m | \u001b[0m0.2175   \u001b[0m | \u001b[0m34.36    \u001b[0m | \u001b[0m25.76    \u001b[0m | \u001b[0m72.51    \u001b[0m | \u001b[0m8.442    \u001b[0m | \u001b[0m3.335    \u001b[0m | \u001b[0m0.828    \u001b[0m |\n",
            "| \u001b[0m915      \u001b[0m | \u001b[0m1.78     \u001b[0m | \u001b[0m0.5818   \u001b[0m | \u001b[0m6.564    \u001b[0m | \u001b[0m0.9358   \u001b[0m | \u001b[0m4.136    \u001b[0m | \u001b[0m8.018    \u001b[0m | \u001b[0m13.51    \u001b[0m | \u001b[0m2.503    \u001b[0m | \u001b[0m4.862    \u001b[0m | \u001b[0m0.8542   \u001b[0m |\n",
            "| \u001b[0m916      \u001b[0m | \u001b[0m1.78     \u001b[0m | \u001b[0m0.7964   \u001b[0m | \u001b[0m2.425    \u001b[0m | \u001b[0m0.07032  \u001b[0m | \u001b[0m26.91    \u001b[0m | \u001b[0m10.4     \u001b[0m | \u001b[0m91.82    \u001b[0m | \u001b[0m5.558    \u001b[0m | \u001b[0m5.615    \u001b[0m | \u001b[0m0.8375   \u001b[0m |\n",
            "| \u001b[0m917      \u001b[0m | \u001b[0m1.78     \u001b[0m | \u001b[0m0.5463   \u001b[0m | \u001b[0m9.282    \u001b[0m | \u001b[0m0.8056   \u001b[0m | \u001b[0m35.3     \u001b[0m | \u001b[0m67.0     \u001b[0m | \u001b[0m52.7     \u001b[0m | \u001b[0m9.424    \u001b[0m | \u001b[0m5.988    \u001b[0m | \u001b[0m0.6421   \u001b[0m |\n",
            "| \u001b[0m918      \u001b[0m | \u001b[0m1.78     \u001b[0m | \u001b[0m0.9921   \u001b[0m | \u001b[0m0.46     \u001b[0m | \u001b[0m0.9261   \u001b[0m | \u001b[0m23.4     \u001b[0m | \u001b[0m20.53    \u001b[0m | \u001b[0m33.81    \u001b[0m | \u001b[0m8.079    \u001b[0m | \u001b[0m3.108    \u001b[0m | \u001b[0m0.5264   \u001b[0m |\n",
            "| \u001b[0m919      \u001b[0m | \u001b[0m1.78     \u001b[0m | \u001b[0m0.9937   \u001b[0m | \u001b[0m5.074    \u001b[0m | \u001b[0m0.771    \u001b[0m | \u001b[0m33.85    \u001b[0m | \u001b[0m92.56    \u001b[0m | \u001b[0m15.91    \u001b[0m | \u001b[0m3.914    \u001b[0m | \u001b[0m8.007    \u001b[0m | \u001b[0m0.5408   \u001b[0m |\n",
            "| \u001b[0m920      \u001b[0m | \u001b[0m1.78     \u001b[0m | \u001b[0m0.6152   \u001b[0m | \u001b[0m0.07252  \u001b[0m | \u001b[0m0.9103   \u001b[0m | \u001b[0m13.12    \u001b[0m | \u001b[0m94.24    \u001b[0m | \u001b[0m68.05    \u001b[0m | \u001b[0m5.036    \u001b[0m | \u001b[0m1.16     \u001b[0m | \u001b[0m0.7545   \u001b[0m |\n",
            "| \u001b[0m921      \u001b[0m | \u001b[0m1.78     \u001b[0m | \u001b[0m0.8626   \u001b[0m | \u001b[0m3.849    \u001b[0m | \u001b[0m0.5275   \u001b[0m | \u001b[0m44.12    \u001b[0m | \u001b[0m44.38    \u001b[0m | \u001b[0m17.47    \u001b[0m | \u001b[0m1.427    \u001b[0m | \u001b[0m4.408    \u001b[0m | \u001b[0m0.7094   \u001b[0m |\n",
            "| \u001b[0m922      \u001b[0m | \u001b[0m1.78     \u001b[0m | \u001b[0m0.9608   \u001b[0m | \u001b[0m9.711    \u001b[0m | \u001b[0m0.6611   \u001b[0m | \u001b[0m41.32    \u001b[0m | \u001b[0m56.97    \u001b[0m | \u001b[0m56.26    \u001b[0m | \u001b[0m4.031    \u001b[0m | \u001b[0m7.832    \u001b[0m | \u001b[0m0.6027   \u001b[0m |\n",
            "| \u001b[0m923      \u001b[0m | \u001b[0m1.78     \u001b[0m | \u001b[0m0.5279   \u001b[0m | \u001b[0m7.856    \u001b[0m | \u001b[0m0.3846   \u001b[0m | \u001b[0m28.66    \u001b[0m | \u001b[0m59.19    \u001b[0m | \u001b[0m68.01    \u001b[0m | \u001b[0m7.326    \u001b[0m | \u001b[0m9.706    \u001b[0m | \u001b[0m0.9538   \u001b[0m |\n",
            "| \u001b[0m924      \u001b[0m | \u001b[0m1.78     \u001b[0m | \u001b[0m0.5095   \u001b[0m | \u001b[0m4.44     \u001b[0m | \u001b[0m0.5484   \u001b[0m | \u001b[0m26.34    \u001b[0m | \u001b[0m74.08    \u001b[0m | \u001b[0m65.64    \u001b[0m | \u001b[0m9.831    \u001b[0m | \u001b[0m1.026    \u001b[0m | \u001b[0m0.9548   \u001b[0m |\n",
            "| \u001b[0m925      \u001b[0m | \u001b[0m1.78     \u001b[0m | \u001b[0m0.5888   \u001b[0m | \u001b[0m6.618    \u001b[0m | \u001b[0m0.5385   \u001b[0m | \u001b[0m41.97    \u001b[0m | \u001b[0m50.75    \u001b[0m | \u001b[0m17.54    \u001b[0m | \u001b[0m0.9856   \u001b[0m | \u001b[0m0.4137   \u001b[0m | \u001b[0m0.9423   \u001b[0m |\n",
            "| \u001b[0m926      \u001b[0m | \u001b[0m1.78     \u001b[0m | \u001b[0m0.8279   \u001b[0m | \u001b[0m6.69     \u001b[0m | \u001b[0m0.3465   \u001b[0m | \u001b[0m31.91    \u001b[0m | \u001b[0m34.15    \u001b[0m | \u001b[0m56.17    \u001b[0m | \u001b[0m5.919    \u001b[0m | \u001b[0m6.592    \u001b[0m | \u001b[0m0.5304   \u001b[0m |\n",
            "| \u001b[0m927      \u001b[0m | \u001b[0m1.78     \u001b[0m | \u001b[0m0.9855   \u001b[0m | \u001b[0m4.831    \u001b[0m | \u001b[0m0.5112   \u001b[0m | \u001b[0m21.47    \u001b[0m | \u001b[0m12.41    \u001b[0m | \u001b[0m53.94    \u001b[0m | \u001b[0m2.85     \u001b[0m | \u001b[0m0.3126   \u001b[0m | \u001b[0m0.7334   \u001b[0m |\n",
            "| \u001b[0m928      \u001b[0m | \u001b[0m1.78     \u001b[0m | \u001b[0m0.5247   \u001b[0m | \u001b[0m3.372    \u001b[0m | \u001b[0m0.5126   \u001b[0m | \u001b[0m31.49    \u001b[0m | \u001b[0m31.06    \u001b[0m | \u001b[0m98.3     \u001b[0m | \u001b[0m3.785    \u001b[0m | \u001b[0m6.172    \u001b[0m | \u001b[0m0.9429   \u001b[0m |\n",
            "| \u001b[0m929      \u001b[0m | \u001b[0m1.78     \u001b[0m | \u001b[0m0.5145   \u001b[0m | \u001b[0m3.174    \u001b[0m | \u001b[0m0.7742   \u001b[0m | \u001b[0m28.88    \u001b[0m | \u001b[0m76.02    \u001b[0m | \u001b[0m17.2     \u001b[0m | \u001b[0m9.701    \u001b[0m | \u001b[0m5.197    \u001b[0m | \u001b[0m0.5897   \u001b[0m |\n",
            "| \u001b[0m930      \u001b[0m | \u001b[0m1.78     \u001b[0m | \u001b[0m0.9501   \u001b[0m | \u001b[0m8.614    \u001b[0m | \u001b[0m0.1518   \u001b[0m | \u001b[0m36.43    \u001b[0m | \u001b[0m85.52    \u001b[0m | \u001b[0m17.0     \u001b[0m | \u001b[0m4.88     \u001b[0m | \u001b[0m5.519    \u001b[0m | \u001b[0m0.7447   \u001b[0m |\n",
            "| \u001b[0m931      \u001b[0m | \u001b[0m1.78     \u001b[0m | \u001b[0m0.7089   \u001b[0m | \u001b[0m6.109    \u001b[0m | \u001b[0m0.6876   \u001b[0m | \u001b[0m35.97    \u001b[0m | \u001b[0m97.42    \u001b[0m | \u001b[0m33.91    \u001b[0m | \u001b[0m0.9671   \u001b[0m | \u001b[0m6.166    \u001b[0m | \u001b[0m0.9854   \u001b[0m |\n",
            "| \u001b[0m932      \u001b[0m | \u001b[0m1.78     \u001b[0m | \u001b[0m0.5399   \u001b[0m | \u001b[0m5.031    \u001b[0m | \u001b[0m0.2857   \u001b[0m | \u001b[0m20.37    \u001b[0m | \u001b[0m35.82    \u001b[0m | \u001b[0m95.87    \u001b[0m | \u001b[0m8.053    \u001b[0m | \u001b[0m0.1257   \u001b[0m | \u001b[0m0.8966   \u001b[0m |\n",
            "| \u001b[0m933      \u001b[0m | \u001b[0m1.78     \u001b[0m | \u001b[0m0.633    \u001b[0m | \u001b[0m1.682    \u001b[0m | \u001b[0m0.3643   \u001b[0m | \u001b[0m40.26    \u001b[0m | \u001b[0m18.67    \u001b[0m | \u001b[0m97.31    \u001b[0m | \u001b[0m9.299    \u001b[0m | \u001b[0m8.362    \u001b[0m | \u001b[0m0.7849   \u001b[0m |\n",
            "| \u001b[0m934      \u001b[0m | \u001b[0m1.78     \u001b[0m | \u001b[0m0.7743   \u001b[0m | \u001b[0m2.35     \u001b[0m | \u001b[0m0.1788   \u001b[0m | \u001b[0m47.63    \u001b[0m | \u001b[0m2.401    \u001b[0m | \u001b[0m60.18    \u001b[0m | \u001b[0m9.586    \u001b[0m | \u001b[0m5.116    \u001b[0m | \u001b[0m0.8986   \u001b[0m |\n",
            "| \u001b[0m935      \u001b[0m | \u001b[0m1.78     \u001b[0m | \u001b[0m0.8496   \u001b[0m | \u001b[0m3.32     \u001b[0m | \u001b[0m0.6119   \u001b[0m | \u001b[0m41.39    \u001b[0m | \u001b[0m61.37    \u001b[0m | \u001b[0m37.79    \u001b[0m | \u001b[0m7.817    \u001b[0m | \u001b[0m5.875    \u001b[0m | \u001b[0m0.6557   \u001b[0m |\n",
            "| \u001b[0m936      \u001b[0m | \u001b[0m1.78     \u001b[0m | \u001b[0m0.78     \u001b[0m | \u001b[0m7.172    \u001b[0m | \u001b[0m0.3334   \u001b[0m | \u001b[0m5.731    \u001b[0m | \u001b[0m20.84    \u001b[0m | \u001b[0m88.39    \u001b[0m | \u001b[0m7.592    \u001b[0m | \u001b[0m2.271    \u001b[0m | \u001b[0m0.8911   \u001b[0m |\n",
            "| \u001b[0m937      \u001b[0m | \u001b[0m1.78     \u001b[0m | \u001b[0m0.6251   \u001b[0m | \u001b[0m6.533    \u001b[0m | \u001b[0m0.8475   \u001b[0m | \u001b[0m29.86    \u001b[0m | \u001b[0m14.1     \u001b[0m | \u001b[0m50.36    \u001b[0m | \u001b[0m7.356    \u001b[0m | \u001b[0m1.296    \u001b[0m | \u001b[0m0.5026   \u001b[0m |\n",
            "| \u001b[0m938      \u001b[0m | \u001b[0m1.78     \u001b[0m | \u001b[0m0.5802   \u001b[0m | \u001b[0m7.299    \u001b[0m | \u001b[0m0.9357   \u001b[0m | \u001b[0m11.16    \u001b[0m | \u001b[0m97.65    \u001b[0m | \u001b[0m98.56    \u001b[0m | \u001b[0m3.753    \u001b[0m | \u001b[0m2.291    \u001b[0m | \u001b[0m0.8155   \u001b[0m |\n",
            "| \u001b[0m939      \u001b[0m | \u001b[0m1.78     \u001b[0m | \u001b[0m0.5275   \u001b[0m | \u001b[0m3.372    \u001b[0m | \u001b[0m0.4318   \u001b[0m | \u001b[0m7.911    \u001b[0m | \u001b[0m55.72    \u001b[0m | \u001b[0m68.71    \u001b[0m | \u001b[0m7.4      \u001b[0m | \u001b[0m5.475    \u001b[0m | \u001b[0m0.7849   \u001b[0m |\n",
            "| \u001b[0m940      \u001b[0m | \u001b[0m1.78     \u001b[0m | \u001b[0m0.995    \u001b[0m | \u001b[0m1.548    \u001b[0m | \u001b[0m0.1706   \u001b[0m | \u001b[0m30.46    \u001b[0m | \u001b[0m80.05    \u001b[0m | \u001b[0m41.49    \u001b[0m | \u001b[0m1.376    \u001b[0m | \u001b[0m2.503    \u001b[0m | \u001b[0m0.6247   \u001b[0m |\n",
            "| \u001b[0m941      \u001b[0m | \u001b[0m1.78     \u001b[0m | \u001b[0m0.5816   \u001b[0m | \u001b[0m1.803    \u001b[0m | \u001b[0m0.04491  \u001b[0m | \u001b[0m7.657    \u001b[0m | \u001b[0m26.93    \u001b[0m | \u001b[0m81.14    \u001b[0m | \u001b[0m6.454    \u001b[0m | \u001b[0m1.423    \u001b[0m | \u001b[0m0.7533   \u001b[0m |\n",
            "| \u001b[0m942      \u001b[0m | \u001b[0m1.78     \u001b[0m | \u001b[0m0.9666   \u001b[0m | \u001b[0m9.516    \u001b[0m | \u001b[0m0.2506   \u001b[0m | \u001b[0m16.63    \u001b[0m | \u001b[0m63.75    \u001b[0m | \u001b[0m51.22    \u001b[0m | \u001b[0m3.408    \u001b[0m | \u001b[0m9.442    \u001b[0m | \u001b[0m0.6564   \u001b[0m |\n",
            "| \u001b[0m943      \u001b[0m | \u001b[0m1.78     \u001b[0m | \u001b[0m0.944    \u001b[0m | \u001b[0m4.671    \u001b[0m | \u001b[0m0.9031   \u001b[0m | \u001b[0m26.28    \u001b[0m | \u001b[0m70.4     \u001b[0m | \u001b[0m68.73    \u001b[0m | \u001b[0m1.998    \u001b[0m | \u001b[0m9.705    \u001b[0m | \u001b[0m0.7835   \u001b[0m |\n",
            "| \u001b[0m944      \u001b[0m | \u001b[0m1.78     \u001b[0m | \u001b[0m0.5696   \u001b[0m | \u001b[0m0.1107   \u001b[0m | \u001b[0m0.6413   \u001b[0m | \u001b[0m16.45    \u001b[0m | \u001b[0m72.99    \u001b[0m | \u001b[0m99.8     \u001b[0m | \u001b[0m0.5123   \u001b[0m | \u001b[0m1.068    \u001b[0m | \u001b[0m0.8399   \u001b[0m |\n",
            "| \u001b[0m945      \u001b[0m | \u001b[0m1.78     \u001b[0m | \u001b[0m0.6822   \u001b[0m | \u001b[0m0.7164   \u001b[0m | \u001b[0m0.7616   \u001b[0m | \u001b[0m22.54    \u001b[0m | \u001b[0m8.508    \u001b[0m | \u001b[0m68.56    \u001b[0m | \u001b[0m5.723    \u001b[0m | \u001b[0m6.175    \u001b[0m | \u001b[0m0.7919   \u001b[0m |\n",
            "| \u001b[0m946      \u001b[0m | \u001b[0m1.78     \u001b[0m | \u001b[0m0.647    \u001b[0m | \u001b[0m7.603    \u001b[0m | \u001b[0m0.6002   \u001b[0m | \u001b[0m22.24    \u001b[0m | \u001b[0m87.55    \u001b[0m | \u001b[0m56.93    \u001b[0m | \u001b[0m7.27     \u001b[0m | \u001b[0m6.545    \u001b[0m | \u001b[0m0.9457   \u001b[0m |\n",
            "| \u001b[0m947      \u001b[0m | \u001b[0m1.801    \u001b[0m | \u001b[0m0.6604   \u001b[0m | \u001b[0m6.462    \u001b[0m | \u001b[0m0.9469   \u001b[0m | \u001b[0m13.22    \u001b[0m | \u001b[0m9.522    \u001b[0m | \u001b[0m49.62    \u001b[0m | \u001b[0m0.03775  \u001b[0m | \u001b[0m7.778    \u001b[0m | \u001b[0m0.8666   \u001b[0m |\n",
            "| \u001b[0m948      \u001b[0m | \u001b[0m1.78     \u001b[0m | \u001b[0m0.5816   \u001b[0m | \u001b[0m3.513    \u001b[0m | \u001b[0m0.2491   \u001b[0m | \u001b[0m39.65    \u001b[0m | \u001b[0m80.96    \u001b[0m | \u001b[0m87.73    \u001b[0m | \u001b[0m9.959    \u001b[0m | \u001b[0m3.38     \u001b[0m | \u001b[0m0.7348   \u001b[0m |\n",
            "| \u001b[0m949      \u001b[0m | \u001b[0m1.78     \u001b[0m | \u001b[0m0.7279   \u001b[0m | \u001b[0m4.323    \u001b[0m | \u001b[0m0.01505  \u001b[0m | \u001b[0m25.6     \u001b[0m | \u001b[0m81.89    \u001b[0m | \u001b[0m6.779    \u001b[0m | \u001b[0m5.782    \u001b[0m | \u001b[0m9.3      \u001b[0m | \u001b[0m0.683    \u001b[0m |\n",
            "| \u001b[0m950      \u001b[0m | \u001b[0m1.78     \u001b[0m | \u001b[0m0.6521   \u001b[0m | \u001b[0m9.866    \u001b[0m | \u001b[0m0.8437   \u001b[0m | \u001b[0m1.609    \u001b[0m | \u001b[0m25.64    \u001b[0m | \u001b[0m46.93    \u001b[0m | \u001b[0m3.327    \u001b[0m | \u001b[0m4.13     \u001b[0m | \u001b[0m0.6986   \u001b[0m |\n",
            "| \u001b[0m951      \u001b[0m | \u001b[0m1.78     \u001b[0m | \u001b[0m0.573    \u001b[0m | \u001b[0m6.979    \u001b[0m | \u001b[0m0.536    \u001b[0m | \u001b[0m34.89    \u001b[0m | \u001b[0m72.68    \u001b[0m | \u001b[0m55.99    \u001b[0m | \u001b[0m1.618    \u001b[0m | \u001b[0m3.235    \u001b[0m | \u001b[0m0.7784   \u001b[0m |\n",
            "| \u001b[0m952      \u001b[0m | \u001b[0m1.78     \u001b[0m | \u001b[0m0.7686   \u001b[0m | \u001b[0m9.201    \u001b[0m | \u001b[0m0.07016  \u001b[0m | \u001b[0m10.8     \u001b[0m | \u001b[0m54.16    \u001b[0m | \u001b[0m48.81    \u001b[0m | \u001b[0m0.803    \u001b[0m | \u001b[0m3.943    \u001b[0m | \u001b[0m0.9888   \u001b[0m |\n",
            "| \u001b[0m953      \u001b[0m | \u001b[0m1.78     \u001b[0m | \u001b[0m0.8783   \u001b[0m | \u001b[0m9.461    \u001b[0m | \u001b[0m0.0264   \u001b[0m | \u001b[0m14.77    \u001b[0m | \u001b[0m44.67    \u001b[0m | \u001b[0m91.63    \u001b[0m | \u001b[0m3.816    \u001b[0m | \u001b[0m0.1642   \u001b[0m | \u001b[0m0.5712   \u001b[0m |\n",
            "| \u001b[0m954      \u001b[0m | \u001b[0m1.78     \u001b[0m | \u001b[0m0.6857   \u001b[0m | \u001b[0m7.284    \u001b[0m | \u001b[0m0.886    \u001b[0m | \u001b[0m22.38    \u001b[0m | \u001b[0m98.51    \u001b[0m | \u001b[0m29.63    \u001b[0m | \u001b[0m7.51     \u001b[0m | \u001b[0m8.48     \u001b[0m | \u001b[0m0.5252   \u001b[0m |\n",
            "| \u001b[0m955      \u001b[0m | \u001b[0m1.78     \u001b[0m | \u001b[0m0.679    \u001b[0m | \u001b[0m8.504    \u001b[0m | \u001b[0m0.9009   \u001b[0m | \u001b[0m14.83    \u001b[0m | \u001b[0m20.5     \u001b[0m | \u001b[0m73.32    \u001b[0m | \u001b[0m5.036    \u001b[0m | \u001b[0m4.352    \u001b[0m | \u001b[0m0.6169   \u001b[0m |\n",
            "| \u001b[0m956      \u001b[0m | \u001b[0m1.78     \u001b[0m | \u001b[0m0.7781   \u001b[0m | \u001b[0m5.682    \u001b[0m | \u001b[0m0.6811   \u001b[0m | \u001b[0m48.59    \u001b[0m | \u001b[0m41.0     \u001b[0m | \u001b[0m18.52    \u001b[0m | \u001b[0m9.037    \u001b[0m | \u001b[0m5.963    \u001b[0m | \u001b[0m0.9246   \u001b[0m |\n",
            "| \u001b[0m957      \u001b[0m | \u001b[0m1.765    \u001b[0m | \u001b[0m0.5488   \u001b[0m | \u001b[0m2.96     \u001b[0m | \u001b[0m0.3531   \u001b[0m | \u001b[0m9.934    \u001b[0m | \u001b[0m2.691    \u001b[0m | \u001b[0m87.32    \u001b[0m | \u001b[0m4.411    \u001b[0m | \u001b[0m8.117    \u001b[0m | \u001b[0m0.6562   \u001b[0m |\n",
            "| \u001b[0m958      \u001b[0m | \u001b[0m1.78     \u001b[0m | \u001b[0m0.8609   \u001b[0m | \u001b[0m8.511    \u001b[0m | \u001b[0m0.6061   \u001b[0m | \u001b[0m15.91    \u001b[0m | \u001b[0m56.88    \u001b[0m | \u001b[0m97.19    \u001b[0m | \u001b[0m9.949    \u001b[0m | \u001b[0m3.978    \u001b[0m | \u001b[0m0.7391   \u001b[0m |\n",
            "| \u001b[0m959      \u001b[0m | \u001b[0m1.78     \u001b[0m | \u001b[0m0.5603   \u001b[0m | \u001b[0m5.057    \u001b[0m | \u001b[0m0.2632   \u001b[0m | \u001b[0m3.639    \u001b[0m | \u001b[0m79.45    \u001b[0m | \u001b[0m49.51    \u001b[0m | \u001b[0m3.455    \u001b[0m | \u001b[0m6.77     \u001b[0m | \u001b[0m0.6287   \u001b[0m |\n",
            "| \u001b[0m960      \u001b[0m | \u001b[0m1.78     \u001b[0m | \u001b[0m0.9228   \u001b[0m | \u001b[0m3.345    \u001b[0m | \u001b[0m0.4148   \u001b[0m | \u001b[0m37.5     \u001b[0m | \u001b[0m92.25    \u001b[0m | \u001b[0m40.13    \u001b[0m | \u001b[0m9.735    \u001b[0m | \u001b[0m8.252    \u001b[0m | \u001b[0m0.7278   \u001b[0m |\n",
            "| \u001b[0m961      \u001b[0m | \u001b[0m1.78     \u001b[0m | \u001b[0m0.6908   \u001b[0m | \u001b[0m4.392    \u001b[0m | \u001b[0m0.3749   \u001b[0m | \u001b[0m28.45    \u001b[0m | \u001b[0m67.2     \u001b[0m | \u001b[0m18.23    \u001b[0m | \u001b[0m0.003949 \u001b[0m | \u001b[0m3.871    \u001b[0m | \u001b[0m0.8589   \u001b[0m |\n",
            "| \u001b[0m962      \u001b[0m | \u001b[0m1.78     \u001b[0m | \u001b[0m0.5214   \u001b[0m | \u001b[0m0.2293   \u001b[0m | \u001b[0m0.01938  \u001b[0m | \u001b[0m25.12    \u001b[0m | \u001b[0m1.588    \u001b[0m | \u001b[0m48.55    \u001b[0m | \u001b[0m6.825    \u001b[0m | \u001b[0m8.935    \u001b[0m | \u001b[0m0.6833   \u001b[0m |\n",
            "| \u001b[0m963      \u001b[0m | \u001b[0m1.78     \u001b[0m | \u001b[0m0.6249   \u001b[0m | \u001b[0m3.707    \u001b[0m | \u001b[0m0.2049   \u001b[0m | \u001b[0m2.321    \u001b[0m | \u001b[0m3.268    \u001b[0m | \u001b[0m67.76    \u001b[0m | \u001b[0m5.671    \u001b[0m | \u001b[0m5.42     \u001b[0m | \u001b[0m0.596    \u001b[0m |\n",
            "| \u001b[0m964      \u001b[0m | \u001b[0m1.78     \u001b[0m | \u001b[0m0.9868   \u001b[0m | \u001b[0m6.754    \u001b[0m | \u001b[0m0.599    \u001b[0m | \u001b[0m4.538    \u001b[0m | \u001b[0m77.36    \u001b[0m | \u001b[0m16.48    \u001b[0m | \u001b[0m8.635    \u001b[0m | \u001b[0m5.287    \u001b[0m | \u001b[0m0.7947   \u001b[0m |\n",
            "| \u001b[0m965      \u001b[0m | \u001b[0m1.78     \u001b[0m | \u001b[0m0.9595   \u001b[0m | \u001b[0m4.826    \u001b[0m | \u001b[0m0.234    \u001b[0m | \u001b[0m7.174    \u001b[0m | \u001b[0m67.05    \u001b[0m | \u001b[0m28.76    \u001b[0m | \u001b[0m5.342    \u001b[0m | \u001b[0m8.133    \u001b[0m | \u001b[0m0.7068   \u001b[0m |\n",
            "| \u001b[0m966      \u001b[0m | \u001b[0m1.78     \u001b[0m | \u001b[0m0.828    \u001b[0m | \u001b[0m9.345    \u001b[0m | \u001b[0m0.4561   \u001b[0m | \u001b[0m35.24    \u001b[0m | \u001b[0m96.44    \u001b[0m | \u001b[0m70.04    \u001b[0m | \u001b[0m7.36     \u001b[0m | \u001b[0m1.961    \u001b[0m | \u001b[0m0.7769   \u001b[0m |\n",
            "| \u001b[0m967      \u001b[0m | \u001b[0m1.78     \u001b[0m | \u001b[0m0.6197   \u001b[0m | \u001b[0m3.782    \u001b[0m | \u001b[0m0.2951   \u001b[0m | \u001b[0m42.01    \u001b[0m | \u001b[0m73.35    \u001b[0m | \u001b[0m93.06    \u001b[0m | \u001b[0m3.294    \u001b[0m | \u001b[0m0.9886   \u001b[0m | \u001b[0m0.9178   \u001b[0m |\n",
            "| \u001b[0m968      \u001b[0m | \u001b[0m1.78     \u001b[0m | \u001b[0m0.9563   \u001b[0m | \u001b[0m5.653    \u001b[0m | \u001b[0m0.7543   \u001b[0m | \u001b[0m8.425    \u001b[0m | \u001b[0m70.29    \u001b[0m | \u001b[0m6.048    \u001b[0m | \u001b[0m5.0      \u001b[0m | \u001b[0m3.559    \u001b[0m | \u001b[0m0.8435   \u001b[0m |\n",
            "| \u001b[0m969      \u001b[0m | \u001b[0m1.78     \u001b[0m | \u001b[0m0.5736   \u001b[0m | \u001b[0m5.687    \u001b[0m | \u001b[0m0.2236   \u001b[0m | \u001b[0m49.46    \u001b[0m | \u001b[0m66.7     \u001b[0m | \u001b[0m43.81    \u001b[0m | \u001b[0m9.577    \u001b[0m | \u001b[0m9.118    \u001b[0m | \u001b[0m0.7892   \u001b[0m |\n",
            "| \u001b[0m970      \u001b[0m | \u001b[0m1.78     \u001b[0m | \u001b[0m0.913    \u001b[0m | \u001b[0m6.745    \u001b[0m | \u001b[0m0.9861   \u001b[0m | \u001b[0m30.33    \u001b[0m | \u001b[0m44.29    \u001b[0m | \u001b[0m32.35    \u001b[0m | \u001b[0m6.06     \u001b[0m | \u001b[0m4.467    \u001b[0m | \u001b[0m0.5537   \u001b[0m |\n",
            "| \u001b[0m971      \u001b[0m | \u001b[0m1.78     \u001b[0m | \u001b[0m0.7106   \u001b[0m | \u001b[0m9.656    \u001b[0m | \u001b[0m0.7369   \u001b[0m | \u001b[0m48.06    \u001b[0m | \u001b[0m53.52    \u001b[0m | \u001b[0m12.75    \u001b[0m | \u001b[0m7.302    \u001b[0m | \u001b[0m5.042    \u001b[0m | \u001b[0m0.5199   \u001b[0m |\n",
            "| \u001b[0m972      \u001b[0m | \u001b[0m1.78     \u001b[0m | \u001b[0m0.5277   \u001b[0m | \u001b[0m2.509    \u001b[0m | \u001b[0m0.1887   \u001b[0m | \u001b[0m45.41    \u001b[0m | \u001b[0m44.56    \u001b[0m | \u001b[0m89.98    \u001b[0m | \u001b[0m5.203    \u001b[0m | \u001b[0m9.021    \u001b[0m | \u001b[0m0.7418   \u001b[0m |\n",
            "| \u001b[0m973      \u001b[0m | \u001b[0m1.78     \u001b[0m | \u001b[0m0.8538   \u001b[0m | \u001b[0m0.5297   \u001b[0m | \u001b[0m0.4689   \u001b[0m | \u001b[0m21.3     \u001b[0m | \u001b[0m33.61    \u001b[0m | \u001b[0m53.27    \u001b[0m | \u001b[0m1.111    \u001b[0m | \u001b[0m5.534    \u001b[0m | \u001b[0m0.9696   \u001b[0m |\n",
            "| \u001b[0m974      \u001b[0m | \u001b[0m1.78     \u001b[0m | \u001b[0m0.7098   \u001b[0m | \u001b[0m1.934    \u001b[0m | \u001b[0m0.2297   \u001b[0m | \u001b[0m13.24    \u001b[0m | \u001b[0m96.51    \u001b[0m | \u001b[0m84.4     \u001b[0m | \u001b[0m8.732    \u001b[0m | \u001b[0m9.522    \u001b[0m | \u001b[0m0.7062   \u001b[0m |\n",
            "| \u001b[0m975      \u001b[0m | \u001b[0m1.78     \u001b[0m | \u001b[0m0.7368   \u001b[0m | \u001b[0m6.303    \u001b[0m | \u001b[0m0.495    \u001b[0m | \u001b[0m12.75    \u001b[0m | \u001b[0m45.47    \u001b[0m | \u001b[0m27.41    \u001b[0m | \u001b[0m4.882    \u001b[0m | \u001b[0m5.361    \u001b[0m | \u001b[0m0.5809   \u001b[0m |\n",
            "| \u001b[0m976      \u001b[0m | \u001b[0m1.78     \u001b[0m | \u001b[0m0.9131   \u001b[0m | \u001b[0m6.937    \u001b[0m | \u001b[0m0.5663   \u001b[0m | \u001b[0m26.0     \u001b[0m | \u001b[0m82.51    \u001b[0m | \u001b[0m92.49    \u001b[0m | \u001b[0m4.587    \u001b[0m | \u001b[0m5.019    \u001b[0m | \u001b[0m0.639    \u001b[0m |\n",
            "| \u001b[0m977      \u001b[0m | \u001b[0m1.78     \u001b[0m | \u001b[0m0.6092   \u001b[0m | \u001b[0m9.618    \u001b[0m | \u001b[0m0.3169   \u001b[0m | \u001b[0m47.22    \u001b[0m | \u001b[0m3.743    \u001b[0m | \u001b[0m66.0     \u001b[0m | \u001b[0m6.845    \u001b[0m | \u001b[0m3.849    \u001b[0m | \u001b[0m0.9713   \u001b[0m |\n",
            "| \u001b[0m978      \u001b[0m | \u001b[0m1.78     \u001b[0m | \u001b[0m0.6657   \u001b[0m | \u001b[0m0.7466   \u001b[0m | \u001b[0m0.7699   \u001b[0m | \u001b[0m2.902    \u001b[0m | \u001b[0m98.65    \u001b[0m | \u001b[0m9.912    \u001b[0m | \u001b[0m3.672    \u001b[0m | \u001b[0m6.009    \u001b[0m | \u001b[0m0.8274   \u001b[0m |\n",
            "| \u001b[0m979      \u001b[0m | \u001b[0m1.78     \u001b[0m | \u001b[0m0.9696   \u001b[0m | \u001b[0m6.67     \u001b[0m | \u001b[0m0.9831   \u001b[0m | \u001b[0m20.25    \u001b[0m | \u001b[0m30.5     \u001b[0m | \u001b[0m60.87    \u001b[0m | \u001b[0m8.144    \u001b[0m | \u001b[0m4.944    \u001b[0m | \u001b[0m0.5689   \u001b[0m |\n",
            "| \u001b[0m980      \u001b[0m | \u001b[0m1.78     \u001b[0m | \u001b[0m0.5138   \u001b[0m | \u001b[0m9.865    \u001b[0m | \u001b[0m0.5368   \u001b[0m | \u001b[0m32.92    \u001b[0m | \u001b[0m12.65    \u001b[0m | \u001b[0m91.57    \u001b[0m | \u001b[0m8.206    \u001b[0m | \u001b[0m5.847    \u001b[0m | \u001b[0m0.7583   \u001b[0m |\n",
            "| \u001b[0m981      \u001b[0m | \u001b[0m1.78     \u001b[0m | \u001b[0m0.7795   \u001b[0m | \u001b[0m7.067    \u001b[0m | \u001b[0m0.6461   \u001b[0m | \u001b[0m9.76     \u001b[0m | \u001b[0m85.91    \u001b[0m | \u001b[0m27.08    \u001b[0m | \u001b[0m5.186    \u001b[0m | \u001b[0m2.445    \u001b[0m | \u001b[0m0.9771   \u001b[0m |\n",
            "| \u001b[0m982      \u001b[0m | \u001b[0m1.78     \u001b[0m | \u001b[0m0.8383   \u001b[0m | \u001b[0m0.6697   \u001b[0m | \u001b[0m0.8244   \u001b[0m | \u001b[0m38.78    \u001b[0m | \u001b[0m11.33    \u001b[0m | \u001b[0m76.17    \u001b[0m | \u001b[0m0.7309   \u001b[0m | \u001b[0m7.367    \u001b[0m | \u001b[0m0.6928   \u001b[0m |\n",
            "| \u001b[0m983      \u001b[0m | \u001b[0m1.78     \u001b[0m | \u001b[0m0.931    \u001b[0m | \u001b[0m9.615    \u001b[0m | \u001b[0m0.282    \u001b[0m | \u001b[0m43.56    \u001b[0m | \u001b[0m85.91    \u001b[0m | \u001b[0m41.36    \u001b[0m | \u001b[0m9.284    \u001b[0m | \u001b[0m4.21     \u001b[0m | \u001b[0m0.6037   \u001b[0m |\n",
            "| \u001b[0m984      \u001b[0m | \u001b[0m1.78     \u001b[0m | \u001b[0m0.8384   \u001b[0m | \u001b[0m1.181    \u001b[0m | \u001b[0m0.6747   \u001b[0m | \u001b[0m46.48    \u001b[0m | \u001b[0m32.13    \u001b[0m | \u001b[0m72.15    \u001b[0m | \u001b[0m9.471    \u001b[0m | \u001b[0m8.745    \u001b[0m | \u001b[0m0.8794   \u001b[0m |\n",
            "| \u001b[0m985      \u001b[0m | \u001b[0m1.726    \u001b[0m | \u001b[0m0.9982   \u001b[0m | \u001b[0m2.142    \u001b[0m | \u001b[0m0.2419   \u001b[0m | \u001b[0m1.18     \u001b[0m | \u001b[0m6.361    \u001b[0m | \u001b[0m98.04    \u001b[0m | \u001b[0m2.564    \u001b[0m | \u001b[0m6.487    \u001b[0m | \u001b[0m0.5016   \u001b[0m |\n",
            "| \u001b[0m986      \u001b[0m | \u001b[0m1.78     \u001b[0m | \u001b[0m0.8946   \u001b[0m | \u001b[0m0.2009   \u001b[0m | \u001b[0m0.9128   \u001b[0m | \u001b[0m29.28    \u001b[0m | \u001b[0m8.861    \u001b[0m | \u001b[0m18.16    \u001b[0m | \u001b[0m8.228    \u001b[0m | \u001b[0m6.891    \u001b[0m | \u001b[0m0.5205   \u001b[0m |\n",
            "| \u001b[0m987      \u001b[0m | \u001b[0m1.78     \u001b[0m | \u001b[0m0.737    \u001b[0m | \u001b[0m9.681    \u001b[0m | \u001b[0m0.8965   \u001b[0m | \u001b[0m17.89    \u001b[0m | \u001b[0m47.38    \u001b[0m | \u001b[0m25.55    \u001b[0m | \u001b[0m2.054    \u001b[0m | \u001b[0m1.134    \u001b[0m | \u001b[0m0.7478   \u001b[0m |\n",
            "| \u001b[0m988      \u001b[0m | \u001b[0m1.78     \u001b[0m | \u001b[0m0.5767   \u001b[0m | \u001b[0m8.188    \u001b[0m | \u001b[0m0.708    \u001b[0m | \u001b[0m7.145    \u001b[0m | \u001b[0m28.24    \u001b[0m | \u001b[0m81.58    \u001b[0m | \u001b[0m9.568    \u001b[0m | \u001b[0m5.284    \u001b[0m | \u001b[0m0.8074   \u001b[0m |\n",
            "| \u001b[0m989      \u001b[0m | \u001b[0m1.78     \u001b[0m | \u001b[0m0.9421   \u001b[0m | \u001b[0m0.7273   \u001b[0m | \u001b[0m0.6357   \u001b[0m | \u001b[0m5.523    \u001b[0m | \u001b[0m37.57    \u001b[0m | \u001b[0m78.14    \u001b[0m | \u001b[0m5.028    \u001b[0m | \u001b[0m1.091    \u001b[0m | \u001b[0m0.8994   \u001b[0m |\n",
            "| \u001b[0m990      \u001b[0m | \u001b[0m1.78     \u001b[0m | \u001b[0m0.712    \u001b[0m | \u001b[0m9.536    \u001b[0m | \u001b[0m0.9209   \u001b[0m | \u001b[0m48.4     \u001b[0m | \u001b[0m54.96    \u001b[0m | \u001b[0m38.44    \u001b[0m | \u001b[0m8.33     \u001b[0m | \u001b[0m3.485    \u001b[0m | \u001b[0m0.5215   \u001b[0m |\n",
            "| \u001b[0m991      \u001b[0m | \u001b[0m1.78     \u001b[0m | \u001b[0m0.859    \u001b[0m | \u001b[0m9.179    \u001b[0m | \u001b[0m0.8383   \u001b[0m | \u001b[0m35.34    \u001b[0m | \u001b[0m89.49    \u001b[0m | \u001b[0m10.09    \u001b[0m | \u001b[0m6.25     \u001b[0m | \u001b[0m2.485    \u001b[0m | \u001b[0m0.6927   \u001b[0m |\n",
            "| \u001b[0m992      \u001b[0m | \u001b[0m1.78     \u001b[0m | \u001b[0m0.6779   \u001b[0m | \u001b[0m9.272    \u001b[0m | \u001b[0m0.2618   \u001b[0m | \u001b[0m31.65    \u001b[0m | \u001b[0m54.91    \u001b[0m | \u001b[0m42.99    \u001b[0m | \u001b[0m2.3      \u001b[0m | \u001b[0m5.908    \u001b[0m | \u001b[0m0.7464   \u001b[0m |\n",
            "| \u001b[0m993      \u001b[0m | \u001b[0m1.78     \u001b[0m | \u001b[0m0.5223   \u001b[0m | \u001b[0m4.241    \u001b[0m | \u001b[0m0.5183   \u001b[0m | \u001b[0m11.45    \u001b[0m | \u001b[0m50.49    \u001b[0m | \u001b[0m85.03    \u001b[0m | \u001b[0m8.106    \u001b[0m | \u001b[0m9.012    \u001b[0m | \u001b[0m0.7837   \u001b[0m |\n",
            "| \u001b[0m994      \u001b[0m | \u001b[0m1.78     \u001b[0m | \u001b[0m0.9813   \u001b[0m | \u001b[0m9.793    \u001b[0m | \u001b[0m0.6359   \u001b[0m | \u001b[0m35.8     \u001b[0m | \u001b[0m70.02    \u001b[0m | \u001b[0m26.26    \u001b[0m | \u001b[0m8.158    \u001b[0m | \u001b[0m4.615    \u001b[0m | \u001b[0m0.8708   \u001b[0m |\n",
            "| \u001b[0m995      \u001b[0m | \u001b[0m1.78     \u001b[0m | \u001b[0m0.6324   \u001b[0m | \u001b[0m9.544    \u001b[0m | \u001b[0m0.7401   \u001b[0m | \u001b[0m17.9     \u001b[0m | \u001b[0m36.98    \u001b[0m | \u001b[0m89.16    \u001b[0m | \u001b[0m6.881    \u001b[0m | \u001b[0m9.561    \u001b[0m | \u001b[0m0.8676   \u001b[0m |\n",
            "| \u001b[0m996      \u001b[0m | \u001b[0m1.78     \u001b[0m | \u001b[0m0.7086   \u001b[0m | \u001b[0m5.229    \u001b[0m | \u001b[0m0.6278   \u001b[0m | \u001b[0m29.81    \u001b[0m | \u001b[0m31.68    \u001b[0m | \u001b[0m8.87     \u001b[0m | \u001b[0m0.7863   \u001b[0m | \u001b[0m9.28     \u001b[0m | \u001b[0m0.6601   \u001b[0m |\n",
            "| \u001b[0m997      \u001b[0m | \u001b[0m1.78     \u001b[0m | \u001b[0m0.9239   \u001b[0m | \u001b[0m1.215    \u001b[0m | \u001b[0m0.001837 \u001b[0m | \u001b[0m12.3     \u001b[0m | \u001b[0m54.49    \u001b[0m | \u001b[0m97.3     \u001b[0m | \u001b[0m6.566    \u001b[0m | \u001b[0m4.701    \u001b[0m | \u001b[0m0.691    \u001b[0m |\n",
            "| \u001b[0m998      \u001b[0m | \u001b[0m1.78     \u001b[0m | \u001b[0m0.7808   \u001b[0m | \u001b[0m1.43     \u001b[0m | \u001b[0m0.7087   \u001b[0m | \u001b[0m16.63    \u001b[0m | \u001b[0m64.36    \u001b[0m | \u001b[0m21.86    \u001b[0m | \u001b[0m5.623    \u001b[0m | \u001b[0m6.962    \u001b[0m | \u001b[0m0.5844   \u001b[0m |\n",
            "| \u001b[0m999      \u001b[0m | \u001b[0m1.78     \u001b[0m | \u001b[0m0.636    \u001b[0m | \u001b[0m1.831    \u001b[0m | \u001b[0m0.8398   \u001b[0m | \u001b[0m8.876    \u001b[0m | \u001b[0m61.22    \u001b[0m | \u001b[0m23.7     \u001b[0m | \u001b[0m0.3946   \u001b[0m | \u001b[0m1.15     \u001b[0m | \u001b[0m0.896    \u001b[0m |\n",
            "| \u001b[0m1000     \u001b[0m | \u001b[0m1.78     \u001b[0m | \u001b[0m0.8479   \u001b[0m | \u001b[0m7.967    \u001b[0m | \u001b[0m0.5398   \u001b[0m | \u001b[0m16.38    \u001b[0m | \u001b[0m95.79    \u001b[0m | \u001b[0m46.7     \u001b[0m | \u001b[0m9.913    \u001b[0m | \u001b[0m5.538    \u001b[0m | \u001b[0m0.6803   \u001b[0m |\n",
            "| \u001b[0m1001     \u001b[0m | \u001b[0m1.78     \u001b[0m | \u001b[0m0.5728   \u001b[0m | \u001b[0m4.259    \u001b[0m | \u001b[0m0.4073   \u001b[0m | \u001b[0m9.19     \u001b[0m | \u001b[0m53.3     \u001b[0m | \u001b[0m91.63    \u001b[0m | \u001b[0m7.447    \u001b[0m | \u001b[0m5.528    \u001b[0m | \u001b[0m0.9403   \u001b[0m |\n",
            "| \u001b[0m1002     \u001b[0m | \u001b[0m1.78     \u001b[0m | \u001b[0m0.6573   \u001b[0m | \u001b[0m2.508    \u001b[0m | \u001b[0m0.3785   \u001b[0m | \u001b[0m31.61    \u001b[0m | \u001b[0m99.34    \u001b[0m | \u001b[0m52.66    \u001b[0m | \u001b[0m1.595    \u001b[0m | \u001b[0m6.15     \u001b[0m | \u001b[0m0.6887   \u001b[0m |\n",
            "| \u001b[0m1003     \u001b[0m | \u001b[0m1.78     \u001b[0m | \u001b[0m0.7846   \u001b[0m | \u001b[0m5.588    \u001b[0m | \u001b[0m0.1789   \u001b[0m | \u001b[0m47.48    \u001b[0m | \u001b[0m79.61    \u001b[0m | \u001b[0m25.03    \u001b[0m | \u001b[0m6.904    \u001b[0m | \u001b[0m5.553    \u001b[0m | \u001b[0m0.6866   \u001b[0m |\n",
            "| \u001b[0m1004     \u001b[0m | \u001b[0m1.78     \u001b[0m | \u001b[0m0.8163   \u001b[0m | \u001b[0m9.877    \u001b[0m | \u001b[0m0.7223   \u001b[0m | \u001b[0m49.37    \u001b[0m | \u001b[0m65.43    \u001b[0m | \u001b[0m69.8     \u001b[0m | \u001b[0m6.627    \u001b[0m | \u001b[0m1.595    \u001b[0m | \u001b[0m0.7759   \u001b[0m |\n",
            "| \u001b[0m1005     \u001b[0m | \u001b[0m1.78     \u001b[0m | \u001b[0m0.6374   \u001b[0m | \u001b[0m4.119    \u001b[0m | \u001b[0m0.3509   \u001b[0m | \u001b[0m38.63    \u001b[0m | \u001b[0m64.28    \u001b[0m | \u001b[0m27.13    \u001b[0m | \u001b[0m0.2295   \u001b[0m | \u001b[0m7.257    \u001b[0m | \u001b[0m0.8414   \u001b[0m |\n",
            "=====================================================================================================================================\n"
          ]
        }
      ],
      "source": [
        "# Bounds for hyperparameters\n",
        "param_bounds = {\n",
        "    'colsample_bytree':(0.5, 1.0),\n",
        "    'learning_rate': (0.0001, 1.0),\n",
        "    'max_depth': (1,50),\n",
        "    'min_child_weight':(0,100),\n",
        "    'subsample':(0.5, 1.0),\n",
        "    'reg_alpha':(0, 10),\n",
        "    'reg_lambda': (0, 10),\n",
        "    'n_estimators': (5,100),\n",
        "    'gamma' : (0, 10)\n",
        "     }\n",
        "\n",
        "optimizer = BayesianOptimization(f=objective, pbounds=param_bounds, random_state=random)\n",
        "optimizer.maximize(init_points=5, n_iter=1000)"
      ]
    },
    {
      "cell_type": "code",
      "execution_count": null,
      "metadata": {
        "id": "2f6KcK2f4yJN"
      },
      "outputs": [],
      "source": [
        "best_params = optimizer.max['params']"
      ]
    },
    {
      "cell_type": "code",
      "execution_count": null,
      "metadata": {
        "colab": {
          "base_uri": "https://localhost:8080/"
        },
        "id": "QlmR9iGgTPKb",
        "outputId": "2a86f799-11a1-4377-af63-3cc8971f9db4"
      },
      "outputs": [
        {
          "output_type": "stream",
          "name": "stdout",
          "text": [
            "{'colsample_bytree': 0.863075932557523, 'gamma': 0.02028717778047806, 'learning_rate': 0.5544660070790586, 'max_depth': 48.38614748228336, 'min_child_weight': 2.7540288996320994, 'n_estimators': 69.2328134672334, 'reg_alpha': 0.24206907421395862, 'reg_lambda': 8.276135654588547, 'subsample': 0.669123288757751}\n"
          ]
        }
      ],
      "source": [
        "print(best_params)"
      ]
    },
    {
      "cell_type": "code",
      "execution_count": null,
      "metadata": {
        "id": "Y4cbwzUA3eW7"
      },
      "outputs": [],
      "source": [
        "# Convert specific values to integers\n",
        "# Round specific values and convert to integers\n",
        "best_params['max_depth'] = int(round(best_params['max_depth']))\n",
        "best_params['n_estimators'] = int(round(best_params['n_estimators']))\n",
        "best_params['min_child_weight'] = int(round(best_params['min_child_weight']))\n",
        "\n",
        "# Round other values to 2 decimal places\n",
        "best_params['colsample_bytree'] = round(best_params['colsample_bytree'], 2)\n",
        "best_params['learning_rate'] = round(best_params['learning_rate'], 2)\n",
        "best_params['reg_alpha'] = round(best_params['reg_alpha'], 2)\n",
        "best_params['reg_lambda'] = round(best_params['reg_lambda'], 2)\n",
        "best_params['subsample'] = round(best_params['subsample'], 2)\n",
        "best_params['gamma'] = round(best_params['gamma'], 2)\n"
      ]
    },
    {
      "cell_type": "code",
      "source": [
        "print(best_params)"
      ],
      "metadata": {
        "colab": {
          "base_uri": "https://localhost:8080/"
        },
        "id": "pxTn7DJJxJ2_",
        "outputId": "56aa5e08-a094-4250-eefa-f83b8f33eb61"
      },
      "execution_count": null,
      "outputs": [
        {
          "output_type": "stream",
          "name": "stdout",
          "text": [
            "{'colsample_bytree': 0.86, 'gamma': 0.02, 'learning_rate': 0.55, 'max_depth': 48, 'min_child_weight': 3, 'n_estimators': 69, 'reg_alpha': 0.24, 'reg_lambda': 8.28, 'subsample': 0.67}\n"
          ]
        }
      ]
    },
    {
      "cell_type": "code",
      "execution_count": null,
      "metadata": {
        "colab": {
          "base_uri": "https://localhost:8080/",
          "height": 248
        },
        "id": "5-47d27i42LE",
        "outputId": "31481717-55ed-46bb-ac19-c42822f36772"
      },
      "outputs": [
        {
          "output_type": "execute_result",
          "data": {
            "text/plain": [
              "XGBRegressor(base_score=None, booster='gbtree', callbacks=None,\n",
              "             colsample_bylevel=None, colsample_bynode=None,\n",
              "             colsample_bytree=0.86, device=None, early_stopping_rounds=None,\n",
              "             enable_categorical=False, eval_metric=None, feature_types=None,\n",
              "             gamma=0.02, grow_policy=None, importance_type=None,\n",
              "             interaction_constraints=None, learning_rate=0.55, max_bin=None,\n",
              "             max_cat_threshold=None, max_cat_to_onehot=None,\n",
              "             max_delta_step=None, max_depth=48, max_leaves=None,\n",
              "             min_child_weight=3, missing=nan, monotone_constraints=None,\n",
              "             multi_strategy=None, n_estimators=69, n_jobs=None,\n",
              "             num_parallel_tree=None, random_state=30139, ...)"
            ],
            "text/html": [
              "<style>#sk-container-id-1 {color: black;background-color: white;}#sk-container-id-1 pre{padding: 0;}#sk-container-id-1 div.sk-toggleable {background-color: white;}#sk-container-id-1 label.sk-toggleable__label {cursor: pointer;display: block;width: 100%;margin-bottom: 0;padding: 0.3em;box-sizing: border-box;text-align: center;}#sk-container-id-1 label.sk-toggleable__label-arrow:before {content: \"▸\";float: left;margin-right: 0.25em;color: #696969;}#sk-container-id-1 label.sk-toggleable__label-arrow:hover:before {color: black;}#sk-container-id-1 div.sk-estimator:hover label.sk-toggleable__label-arrow:before {color: black;}#sk-container-id-1 div.sk-toggleable__content {max-height: 0;max-width: 0;overflow: hidden;text-align: left;background-color: #f0f8ff;}#sk-container-id-1 div.sk-toggleable__content pre {margin: 0.2em;color: black;border-radius: 0.25em;background-color: #f0f8ff;}#sk-container-id-1 input.sk-toggleable__control:checked~div.sk-toggleable__content {max-height: 200px;max-width: 100%;overflow: auto;}#sk-container-id-1 input.sk-toggleable__control:checked~label.sk-toggleable__label-arrow:before {content: \"▾\";}#sk-container-id-1 div.sk-estimator input.sk-toggleable__control:checked~label.sk-toggleable__label {background-color: #d4ebff;}#sk-container-id-1 div.sk-label input.sk-toggleable__control:checked~label.sk-toggleable__label {background-color: #d4ebff;}#sk-container-id-1 input.sk-hidden--visually {border: 0;clip: rect(1px 1px 1px 1px);clip: rect(1px, 1px, 1px, 1px);height: 1px;margin: -1px;overflow: hidden;padding: 0;position: absolute;width: 1px;}#sk-container-id-1 div.sk-estimator {font-family: monospace;background-color: #f0f8ff;border: 1px dotted black;border-radius: 0.25em;box-sizing: border-box;margin-bottom: 0.5em;}#sk-container-id-1 div.sk-estimator:hover {background-color: #d4ebff;}#sk-container-id-1 div.sk-parallel-item::after {content: \"\";width: 100%;border-bottom: 1px solid gray;flex-grow: 1;}#sk-container-id-1 div.sk-label:hover label.sk-toggleable__label {background-color: #d4ebff;}#sk-container-id-1 div.sk-serial::before {content: \"\";position: absolute;border-left: 1px solid gray;box-sizing: border-box;top: 0;bottom: 0;left: 50%;z-index: 0;}#sk-container-id-1 div.sk-serial {display: flex;flex-direction: column;align-items: center;background-color: white;padding-right: 0.2em;padding-left: 0.2em;position: relative;}#sk-container-id-1 div.sk-item {position: relative;z-index: 1;}#sk-container-id-1 div.sk-parallel {display: flex;align-items: stretch;justify-content: center;background-color: white;position: relative;}#sk-container-id-1 div.sk-item::before, #sk-container-id-1 div.sk-parallel-item::before {content: \"\";position: absolute;border-left: 1px solid gray;box-sizing: border-box;top: 0;bottom: 0;left: 50%;z-index: -1;}#sk-container-id-1 div.sk-parallel-item {display: flex;flex-direction: column;z-index: 1;position: relative;background-color: white;}#sk-container-id-1 div.sk-parallel-item:first-child::after {align-self: flex-end;width: 50%;}#sk-container-id-1 div.sk-parallel-item:last-child::after {align-self: flex-start;width: 50%;}#sk-container-id-1 div.sk-parallel-item:only-child::after {width: 0;}#sk-container-id-1 div.sk-dashed-wrapped {border: 1px dashed gray;margin: 0 0.4em 0.5em 0.4em;box-sizing: border-box;padding-bottom: 0.4em;background-color: white;}#sk-container-id-1 div.sk-label label {font-family: monospace;font-weight: bold;display: inline-block;line-height: 1.2em;}#sk-container-id-1 div.sk-label-container {text-align: center;}#sk-container-id-1 div.sk-container {/* jupyter's `normalize.less` sets `[hidden] { display: none; }` but bootstrap.min.css set `[hidden] { display: none !important; }` so we also need the `!important` here to be able to override the default hidden behavior on the sphinx rendered scikit-learn.org. See: https://github.com/scikit-learn/scikit-learn/issues/21755 */display: inline-block !important;position: relative;}#sk-container-id-1 div.sk-text-repr-fallback {display: none;}</style><div id=\"sk-container-id-1\" class=\"sk-top-container\"><div class=\"sk-text-repr-fallback\"><pre>XGBRegressor(base_score=None, booster=&#x27;gbtree&#x27;, callbacks=None,\n",
              "             colsample_bylevel=None, colsample_bynode=None,\n",
              "             colsample_bytree=0.86, device=None, early_stopping_rounds=None,\n",
              "             enable_categorical=False, eval_metric=None, feature_types=None,\n",
              "             gamma=0.02, grow_policy=None, importance_type=None,\n",
              "             interaction_constraints=None, learning_rate=0.55, max_bin=None,\n",
              "             max_cat_threshold=None, max_cat_to_onehot=None,\n",
              "             max_delta_step=None, max_depth=48, max_leaves=None,\n",
              "             min_child_weight=3, missing=nan, monotone_constraints=None,\n",
              "             multi_strategy=None, n_estimators=69, n_jobs=None,\n",
              "             num_parallel_tree=None, random_state=30139, ...)</pre><b>In a Jupyter environment, please rerun this cell to show the HTML representation or trust the notebook. <br />On GitHub, the HTML representation is unable to render, please try loading this page with nbviewer.org.</b></div><div class=\"sk-container\" hidden><div class=\"sk-item\"><div class=\"sk-estimator sk-toggleable\"><input class=\"sk-toggleable__control sk-hidden--visually\" id=\"sk-estimator-id-1\" type=\"checkbox\" checked><label for=\"sk-estimator-id-1\" class=\"sk-toggleable__label sk-toggleable__label-arrow\">XGBRegressor</label><div class=\"sk-toggleable__content\"><pre>XGBRegressor(base_score=None, booster=&#x27;gbtree&#x27;, callbacks=None,\n",
              "             colsample_bylevel=None, colsample_bynode=None,\n",
              "             colsample_bytree=0.86, device=None, early_stopping_rounds=None,\n",
              "             enable_categorical=False, eval_metric=None, feature_types=None,\n",
              "             gamma=0.02, grow_policy=None, importance_type=None,\n",
              "             interaction_constraints=None, learning_rate=0.55, max_bin=None,\n",
              "             max_cat_threshold=None, max_cat_to_onehot=None,\n",
              "             max_delta_step=None, max_depth=48, max_leaves=None,\n",
              "             min_child_weight=3, missing=nan, monotone_constraints=None,\n",
              "             multi_strategy=None, n_estimators=69, n_jobs=None,\n",
              "             num_parallel_tree=None, random_state=30139, ...)</pre></div></div></div></div></div>"
            ]
          },
          "metadata": {},
          "execution_count": 14
        }
      ],
      "source": [
        "optimized_xgb = XGBRegressor(**best_params, random_state=random, booster='gbtree', objective='reg:squarederror', verbosity=2, tree_method='auto') #fitting the best hyperparams\n",
        "optimized_xgb.fit(X_train2, y_train)"
      ]
    },
    {
      "cell_type": "code",
      "execution_count": null,
      "metadata": {
        "colab": {
          "base_uri": "https://localhost:8080/"
        },
        "id": "nOYNg7rD47KQ",
        "outputId": "07920ba4-2582-4332-e8a7-d9d615ed2657"
      },
      "outputs": [
        {
          "output_type": "stream",
          "name": "stdout",
          "text": [
            "Model Performance\n",
            "Average Error: 1.2801.\n",
            "Accuracy = 82.40%.\n",
            "Model Performance\n",
            "Average Error: 1.3049.\n",
            "Accuracy = 79.07%.\n",
            "Improvement of -4.04%.\n"
          ]
        }
      ],
      "source": [
        "def evaluate(model, test_features, test_labels):\n",
        "    predictions = model.predict(test_features)\n",
        "    errors = abs(predictions - test_labels)\n",
        "    mape = 100 * np.mean(errors / test_labels)\n",
        "    accuracy = 100 - mape\n",
        "    print('Model Performance')\n",
        "    print('Average Error: {:0.4f}.'.format(np.mean(errors)))\n",
        "    print('Accuracy = {:0.2f}%.'.format(accuracy))\n",
        "\n",
        "    return accuracy\n",
        "base_model = XGBRegressor(booster='gbtree', objective='reg:squarederror', verbosity=2, tree_method='auto')\n",
        "base_model.fit(X_train2, y_train)\n",
        "base_accuracy = evaluate(base_model, X_test2, y_test)\n",
        "bayesian_accuracy = evaluate(optimized_xgb, X_test2, y_test)\n",
        "\n",
        "\n",
        "print('Improvement of {:0.2f}%.'.format( 100 * (bayesian_accuracy - base_accuracy) / base_accuracy))"
      ]
    },
    {
      "cell_type": "markdown",
      "source": [
        "#LINEAR REGRESSION HP TUNING"
      ],
      "metadata": {
        "id": "r37Wiwvsoxy9"
      }
    },
    {
      "cell_type": "code",
      "source": [
        "from sklearn.model_selection import GridSearchCV\n",
        "from sklearn import linear_model\n",
        "from sklearn.linear_model import ElasticNet\n",
        "# Create the parameter grid based on the results of random search\n",
        "param_grid = [{'alpha' : [0.1, 0.2, 0.3, 0.4, 0.5, 0.6, 0.7, 0.8, 0.9, 1, 10, 50, 100],\n",
        "              'l1_ratio':[0, 0.1, 0.2, 0.3, 0.4, 0.5, 0.6, 0.7, 0.8, 0.9, 1.0]}\n",
        "                ]\n",
        "# Create a based model\n",
        "lr = linear_model.ElasticNet()\n",
        "# Instantiate the grid search model\n",
        "grid_search = GridSearchCV(estimator = lr, param_grid = param_grid,\n",
        "                          cv = 4, n_jobs = -1, verbose = 2, scoring=['r2', 'neg_mean_squared_error'], refit = 'neg_mean_squared_error')"
      ],
      "metadata": {
        "id": "LSqTw7I3or4l"
      },
      "execution_count": null,
      "outputs": []
    },
    {
      "cell_type": "code",
      "source": [
        "# Fit the grid search to the data\n",
        "grid_search.fit(X_train, y_train)\n",
        "grid_search.best_params_"
      ],
      "metadata": {
        "id": "V1db7WDpqON5"
      },
      "execution_count": null,
      "outputs": []
    },
    {
      "cell_type": "code",
      "source": [
        "def evaluate(model, test_features, test_labels):\n",
        "    predictions = model.predict(test_features)\n",
        "    errors = abs(predictions - test_labels)\n",
        "    mape = 100 * np.mean(errors / test_labels)\n",
        "    accuracy = 100 - mape\n",
        "    print('Model Performance')\n",
        "    print('Average Error: {:0.4f}.'.format(np.mean(errors)))\n",
        "    print('Accuracy = {:0.2f}%.'.format(accuracy))\n",
        "\n",
        "    return accuracy\n",
        "base_model = linear_model.LinearRegression()\n",
        "base_model.fit(X_train, y_train)\n",
        "base_accuracy = evaluate(base_model, X_test, y_test)\n",
        "best_grid = grid_search.best_estimator_\n",
        "grid_accuracy = evaluate(best_grid, X_test, y_test)\n",
        "\n",
        "\n",
        "print('Improvement of {:0.2f}%.'.format( 100 * (grid_accuracy - base_accuracy) / base_accuracy))\n",
        "results = grid_search.cv_results_"
      ],
      "metadata": {
        "id": "XFyTgdj9qTtu"
      },
      "execution_count": null,
      "outputs": []
    },
    {
      "cell_type": "code",
      "source": [
        "#prediction on the training dataset\n",
        "ytrain_pred = base_model.predict(X_train)\n",
        "#training model evaluation\n",
        "#training r-sq\n",
        "print('The training r_sq is: %.3f'% base_model.score(X_train, y_train))\n",
        "#OOB training\n",
        "#print('The OOB score is: %.3f'% rf_base.oob_score_)\n",
        "#RMSE\n",
        "print('The RMSE is: %.3f'% np.sqrt(mean_squared_error(y_train, ytrain_pred)))"
      ],
      "metadata": {
        "id": "511wvZisqdI2"
      },
      "execution_count": null,
      "outputs": []
    },
    {
      "cell_type": "code",
      "source": [
        "#prediction on the testing data\n",
        "ytest_pred = base_model.predict(X_test)\n",
        "\n",
        "#testing coef. of determination\n",
        "print('The testing r_sq is: %.3f'% r2_score(y_test, ytest_pred))\n",
        "#model evaluation metrics on test set\n",
        "#RMSE\n",
        "print('The RMSE is: %.3f'% np.sqrt(mean_squared_error(y_test, ytest_pred)))"
      ],
      "metadata": {
        "id": "z7p2tKg4qpDk"
      },
      "execution_count": null,
      "outputs": []
    }
  ],
  "metadata": {
    "colab": {
      "provenance": [],
      "authorship_tag": "ABX9TyM68G8eIjELUlIpu9rwRNBu",
      "include_colab_link": true
    },
    "kernelspec": {
      "display_name": "Python 3",
      "name": "python3"
    },
    "language_info": {
      "name": "python"
    }
  },
  "nbformat": 4,
  "nbformat_minor": 0
}